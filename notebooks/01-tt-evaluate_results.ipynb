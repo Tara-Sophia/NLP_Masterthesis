{
 "cells": [
  {
   "cell_type": "code",
   "execution_count": 4,
   "metadata": {},
   "outputs": [
    {
     "data": {
      "text/html": [
       "<div>\n",
       "<style scoped>\n",
       "    .dataframe tbody tr th:only-of-type {\n",
       "        vertical-align: middle;\n",
       "    }\n",
       "\n",
       "    .dataframe tbody tr th {\n",
       "        vertical-align: top;\n",
       "    }\n",
       "\n",
       "    .dataframe thead th {\n",
       "        text-align: right;\n",
       "    }\n",
       "</style>\n",
       "<table border=\"1\" class=\"dataframe\">\n",
       "  <thead>\n",
       "    <tr style=\"text-align: right;\">\n",
       "      <th></th>\n",
       "      <th>Unnamed: 0</th>\n",
       "      <th>description</th>\n",
       "      <th>medical_specialty</th>\n",
       "      <th>sample_name</th>\n",
       "      <th>transcription</th>\n",
       "      <th>keywords</th>\n",
       "      <th>keywords_list</th>\n",
       "      <th>location</th>\n",
       "      <th>keywords_outcome_weights</th>\n",
       "      <th>transcription_f</th>\n",
       "    </tr>\n",
       "  </thead>\n",
       "  <tbody>\n",
       "    <tr>\n",
       "      <th>0</th>\n",
       "      <td>3</td>\n",
       "      <td>2-D M-Mode. Doppler.</td>\n",
       "      <td>Cardiovascular / Pulmonary</td>\n",
       "      <td>2-D Echocardiogram - 1</td>\n",
       "      <td>mmode leave atrial enlargement leave atrial di...</td>\n",
       "      <td>cardiovascular / pulmonary, 2-d m-mode, dopple...</td>\n",
       "      <td>['cardiovascular / pulmonary', ' 2-d m-mode', ...</td>\n",
       "      <td>dict_values([[221, 233], [11, 29], [163, 181],...</td>\n",
       "      <td>[('lv diastolic', 0.7221), ('ventricular eject...</td>\n",
       "      <td>['lv diastolic', 'ventricular ejection', 'effu...</td>\n",
       "    </tr>\n",
       "  </tbody>\n",
       "</table>\n",
       "</div>"
      ],
      "text/plain": [
       "   Unnamed: 0              description            medical_specialty  \\\n",
       "0           3   2-D M-Mode. Doppler.     Cardiovascular / Pulmonary   \n",
       "\n",
       "                sample_name  \\\n",
       "0   2-D Echocardiogram - 1    \n",
       "\n",
       "                                       transcription  \\\n",
       "0  mmode leave atrial enlargement leave atrial di...   \n",
       "\n",
       "                                            keywords  \\\n",
       "0  cardiovascular / pulmonary, 2-d m-mode, dopple...   \n",
       "\n",
       "                                       keywords_list  \\\n",
       "0  ['cardiovascular / pulmonary', ' 2-d m-mode', ...   \n",
       "\n",
       "                                            location  \\\n",
       "0  dict_values([[221, 233], [11, 29], [163, 181],...   \n",
       "\n",
       "                            keywords_outcome_weights  \\\n",
       "0  [('lv diastolic', 0.7221), ('ventricular eject...   \n",
       "\n",
       "                                     transcription_f  \n",
       "0  ['lv diastolic', 'ventricular ejection', 'effu...  "
      ]
     },
     "execution_count": 4,
     "metadata": {},
     "output_type": "execute_result"
    }
   ],
   "source": [
    "#imports\n",
    "import pandas as pd\n",
    "df = pd.read_csv(\"../data/processed/nlp/mtsamples/mtsamples_semisupervised.csv\")\n",
    "df.head(1)"
   ]
  },
  {
   "cell_type": "code",
   "execution_count": 6,
   "metadata": {},
   "outputs": [
    {
     "data": {
      "text/html": [
       "<div>\n",
       "<style scoped>\n",
       "    .dataframe tbody tr th:only-of-type {\n",
       "        vertical-align: middle;\n",
       "    }\n",
       "\n",
       "    .dataframe tbody tr th {\n",
       "        vertical-align: top;\n",
       "    }\n",
       "\n",
       "    .dataframe thead th {\n",
       "        text-align: right;\n",
       "    }\n",
       "</style>\n",
       "<table border=\"1\" class=\"dataframe\">\n",
       "  <thead>\n",
       "    <tr style=\"text-align: right;\">\n",
       "      <th></th>\n",
       "      <th>Unnamed: 0</th>\n",
       "      <th>description</th>\n",
       "      <th>medical_specialty</th>\n",
       "      <th>sample_name</th>\n",
       "      <th>transcription</th>\n",
       "      <th>keywords</th>\n",
       "      <th>keywords_list</th>\n",
       "      <th>location</th>\n",
       "      <th>keywords_outcome_weights</th>\n",
       "      <th>transcription_f</th>\n",
       "    </tr>\n",
       "  </thead>\n",
       "  <tbody>\n",
       "    <tr>\n",
       "      <th>0</th>\n",
       "      <td>3</td>\n",
       "      <td>2-D M-Mode. Doppler.</td>\n",
       "      <td>Cardiovascular / Pulmonary</td>\n",
       "      <td>2-D Echocardiogram - 1</td>\n",
       "      <td>mmode leave atrial enlargement leave atrial diameter cm normal size right leave ventricle normal lv systolic function leave ventricular ejection fraction normal lv diastolic function pericardial effusion normal morphology aortic valve mitral valve tricuspid valve pulmonary valve pa systolic pressure mmhgdoppler mild mitral tricuspid regurgitation trace aortic pulmonary regurgitation</td>\n",
       "      <td>cardiovascular / pulmonary, 2-d m-mode, doppler, aortic valve, atrial enlargement, diastolic function, ejection fraction, mitral, mitral valve, pericardial effusion, pulmonary valve, regurgitation, systolic function, tricuspid, tricuspid valve, normal lv</td>\n",
       "      <td>['cardiovascular / pulmonary', ' 2-d m-mode', ' doppler', ' aortic valve', ' atrial enlargement', ' diastolic function', ' ejection fraction', ' mitral', ' mitral valve', ' pericardial effusion', ' pulmonary valve', ' regurgitation', ' systolic function', ' tricuspid', ' tricuspid valve', ' normal lv ']</td>\n",
       "      <td>dict_values([[221, 233], [11, 29], [163, 181], [135, 152], [234, 240], [234, 246], [182, 202], [263, 278], [334, 347], [99, 116], [247, 256], [247, 262], [89, 99]])</td>\n",
       "      <td>[('lv diastolic', 0.7221), ('ventricular ejection', 0.7035), ('effusion normal', 0.5309), ('valve pulmonary', 0.5128), ('mild', 0.5039)]</td>\n",
       "      <td>['lv diastolic', 'ventricular ejection', 'effusion normal', 'valve pulmonary', 'mild']</td>\n",
       "    </tr>\n",
       "    <tr>\n",
       "      <th>1</th>\n",
       "      <td>9</td>\n",
       "      <td>Echocardiogram and Doppler</td>\n",
       "      <td>Cardiovascular / Pulmonary</td>\n",
       "      <td>2-D Echocardiogram - 4</td>\n",
       "      <td>description normal cardiac chamber size normal leave ventricular size normal lv systolic function ejection fraction estimate around aortic valve see good motion mitral valve see good motion tricuspid valve see good motion pericardial effusion intracardiac massesdoppler trace mitral regurgitation trace tricuspid regurgitationimpression normal lv systolic function ejection fraction estimate around</td>\n",
       "      <td>cardiovascular / pulmonary, ejection fraction, lv systolic function, cardiac chambers, regurgitation, tricuspid, normal lv systolic function, normal lv systolic, ejection fraction estimated, normal lv, lv systolic, systolic function, function ejection, echocardiogram, doppler, lv, systolic, ejection, mitral, valve</td>\n",
       "      <td>['cardiovascular / pulmonary', ' ejection fraction', ' lv systolic function', ' cardiac chambers', ' regurgitation', ' tricuspid', ' normal lv systolic function', ' normal lv systolic', ' ejection fraction estimated', ' normal lv', ' lv systolic', ' systolic function', ' function ejection', ' echocardiogram', ' doppler', ' lv', ' systolic', ' ejection', ' mitral', ' valve']</td>\n",
       "      <td>dict_values([[97, 114], [76, 96], [282, 295], [189, 198], [69, 96], [69, 87], [69, 78], [76, 87], [79, 96], [88, 105], [76, 78], [79, 87], [97, 105], [160, 166], [138, 143]])</td>\n",
       "      <td>[('regurgitationimpression normal', 0.6944), ('good motion', 0.66), ('lv systolic', 0.6105), ('ejection fraction', 0.6057), ('effusion intracardiac', 0.5385)]</td>\n",
       "      <td>['regurgitationimpression normal', 'good motion', 'lv systolic', 'ejection fraction', 'effusion intracardiac']</td>\n",
       "    </tr>\n",
       "  </tbody>\n",
       "</table>\n",
       "</div>"
      ],
      "text/plain": [
       "   Unnamed: 0                  description            medical_specialty  \\\n",
       "0           3       2-D M-Mode. Doppler.     Cardiovascular / Pulmonary   \n",
       "1           9   Echocardiogram and Doppler   Cardiovascular / Pulmonary   \n",
       "\n",
       "                sample_name  \\\n",
       "0   2-D Echocardiogram - 1    \n",
       "1   2-D Echocardiogram - 4    \n",
       "\n",
       "                                                                                                                                                                                                                                                                                                                                                                                                    transcription  \\\n",
       "0               mmode leave atrial enlargement leave atrial diameter cm normal size right leave ventricle normal lv systolic function leave ventricular ejection fraction normal lv diastolic function pericardial effusion normal morphology aortic valve mitral valve tricuspid valve pulmonary valve pa systolic pressure mmhgdoppler mild mitral tricuspid regurgitation trace aortic pulmonary regurgitation   \n",
       "1  description normal cardiac chamber size normal leave ventricular size normal lv systolic function ejection fraction estimate around aortic valve see good motion mitral valve see good motion tricuspid valve see good motion pericardial effusion intracardiac massesdoppler trace mitral regurgitation trace tricuspid regurgitationimpression normal lv systolic function ejection fraction estimate around   \n",
       "\n",
       "                                                                                                                                                                                                                                                                                                                      keywords  \\\n",
       "0                                                              cardiovascular / pulmonary, 2-d m-mode, doppler, aortic valve, atrial enlargement, diastolic function, ejection fraction, mitral, mitral valve, pericardial effusion, pulmonary valve, regurgitation, systolic function, tricuspid, tricuspid valve, normal lv    \n",
       "1  cardiovascular / pulmonary, ejection fraction, lv systolic function, cardiac chambers, regurgitation, tricuspid, normal lv systolic function, normal lv systolic, ejection fraction estimated, normal lv, lv systolic, systolic function, function ejection, echocardiogram, doppler, lv, systolic, ejection, mitral, valve   \n",
       "\n",
       "                                                                                                                                                                                                                                                                                                                                                                              keywords_list  \\\n",
       "0                                                                          ['cardiovascular / pulmonary', ' 2-d m-mode', ' doppler', ' aortic valve', ' atrial enlargement', ' diastolic function', ' ejection fraction', ' mitral', ' mitral valve', ' pericardial effusion', ' pulmonary valve', ' regurgitation', ' systolic function', ' tricuspid', ' tricuspid valve', ' normal lv ']   \n",
       "1  ['cardiovascular / pulmonary', ' ejection fraction', ' lv systolic function', ' cardiac chambers', ' regurgitation', ' tricuspid', ' normal lv systolic function', ' normal lv systolic', ' ejection fraction estimated', ' normal lv', ' lv systolic', ' systolic function', ' function ejection', ' echocardiogram', ' doppler', ' lv', ' systolic', ' ejection', ' mitral', ' valve']   \n",
       "\n",
       "                                                                                                                                                                         location  \\\n",
       "0            dict_values([[221, 233], [11, 29], [163, 181], [135, 152], [234, 240], [234, 246], [182, 202], [263, 278], [334, 347], [99, 116], [247, 256], [247, 262], [89, 99]])   \n",
       "1  dict_values([[97, 114], [76, 96], [282, 295], [189, 198], [69, 96], [69, 87], [69, 78], [76, 87], [79, 96], [88, 105], [76, 78], [79, 87], [97, 105], [160, 166], [138, 143]])   \n",
       "\n",
       "                                                                                                                                         keywords_outcome_weights  \\\n",
       "0                        [('lv diastolic', 0.7221), ('ventricular ejection', 0.7035), ('effusion normal', 0.5309), ('valve pulmonary', 0.5128), ('mild', 0.5039)]   \n",
       "1  [('regurgitationimpression normal', 0.6944), ('good motion', 0.66), ('lv systolic', 0.6105), ('ejection fraction', 0.6057), ('effusion intracardiac', 0.5385)]   \n",
       "\n",
       "                                                                                                  transcription_f  \n",
       "0                          ['lv diastolic', 'ventricular ejection', 'effusion normal', 'valve pulmonary', 'mild']  \n",
       "1  ['regurgitationimpression normal', 'good motion', 'lv systolic', 'ejection fraction', 'effusion intracardiac']  "
      ]
     },
     "execution_count": 6,
     "metadata": {},
     "output_type": "execute_result"
    }
   ],
   "source": [
    "#show max width of column\n",
    "pd.set_option('display.max_colwidth', None)\n",
    "df.head(2)"
   ]
  },
  {
   "cell_type": "code",
   "execution_count": 2,
   "metadata": {},
   "outputs": [
    {
     "name": "stdout",
     "output_type": "stream",
     "text": [
      "Collecting rouge\n",
      "  Downloading rouge-1.0.1-py3-none-any.whl (13 kB)\n",
      "Requirement already satisfied: six in /opt/anaconda3/envs/nlp_masterthesis/lib/python3.10/site-packages (from rouge) (1.16.0)\n",
      "Installing collected packages: rouge\n",
      "Successfully installed rouge-1.0.1\n"
     ]
    }
   ],
   "source": [
    "!pip install rouge\n",
    "#https://medium.com/nlplanet/two-minutes-nlp-learn-the-rouge-metric-by-examples-f179cc285499\n",
    "#https://towardsdatascience.com/the-ultimate-performance-metric-in-nlp-111df6c64460"
   ]
  },
  {
   "cell_type": "code",
   "execution_count": 5,
   "metadata": {},
   "outputs": [
    {
     "data": {
      "text/plain": [
       "{'rouge-1': {'r': 0.03714991938138654,\n",
       "  'p': 0.07804165659495599,\n",
       "  'f': 0.046505657374657075},\n",
       " 'rouge-2': {'r': 0.0, 'p': 0.0, 'f': 0.0},\n",
       " 'rouge-l': {'r': 0.03234478889221495,\n",
       "  'p': 0.07044154379179748,\n",
       "  'f': 0.04098945770385966}}"
      ]
     },
     "execution_count": 5,
     "metadata": {},
     "output_type": "execute_result"
    }
   ],
   "source": [
    "from rouge import Rouge\n",
    "\n",
    "rouge = Rouge()\n",
    "rouge.get_scores(df.transcription_f, df.keywords_list, avg=True)"
   ]
  },
  {
   "cell_type": "code",
   "execution_count": null,
   "metadata": {},
   "outputs": [],
   "source": []
  }
 ],
 "metadata": {
  "kernelspec": {
   "display_name": "Python 3.10.4 ('nlp_masterthesis')",
   "language": "python",
   "name": "python3"
  },
  "language_info": {
   "codemirror_mode": {
    "name": "ipython",
    "version": 3
   },
   "file_extension": ".py",
   "mimetype": "text/x-python",
   "name": "python",
   "nbconvert_exporter": "python",
   "pygments_lexer": "ipython3",
   "version": "3.10.4"
  },
  "orig_nbformat": 4,
  "vscode": {
   "interpreter": {
    "hash": "e008ba518fc94ce1407a9eb93057d27eeafd2dad53a3852a13fd11c85bd39236"
   }
  }
 },
 "nbformat": 4,
 "nbformat_minor": 2
}
