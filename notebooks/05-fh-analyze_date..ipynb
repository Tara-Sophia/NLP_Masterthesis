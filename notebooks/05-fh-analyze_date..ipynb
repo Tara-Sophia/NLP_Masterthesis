{
 "cells": [
  {
   "cell_type": "markdown",
   "metadata": {},
   "source": [
    "Move up to parent dir"
   ]
  },
  {
   "cell_type": "code",
   "execution_count": 3,
   "metadata": {},
   "outputs": [],
   "source": [
    "import os\n",
    "\n",
    "import librosa\n",
    "import numpy as np\n",
    "import pandas as pd\n",
    "import matplotlib.pyplot as plt \n",
    "\n",
    "from pandas_profiling import ProfileReport"
   ]
  },
  {
   "cell_type": "code",
   "execution_count": 4,
   "metadata": {},
   "outputs": [],
   "source": [
    "RAW_DATA_DIR = os.path.join(\"data\", \"raw\", \"stt\")\n",
    "RAW_RECORDINGS_DIR = os.path.join(RAW_DATA_DIR, \"recordings\")\n",
    "RECORDINGS_FILE = os.path.join(\n",
    "    RAW_DATA_DIR, \"overview-of-recordings.csv\"\n",
    ")\n",
    "STT_REPORT = os.path.join(\"reports\", \"stt\")\n"
   ]
  },
  {
   "cell_type": "code",
   "execution_count": 5,
   "metadata": {},
   "outputs": [],
   "source": [
    "def get_librosa_features(\n",
    "    row: pd.Series,\n",
    ") -> tuple[np.ndarray, int, float]:\n",
    "    file_path = row.path\n",
    "    audio, sr = librosa.load(file_path, sr=None)\n",
    "    duration = librosa.get_duration(filename=file_path)\n",
    "    return audio, sr, np.round(duration, 3)\n",
    "\n",
    "def load_dataframe(filename: str, columns: list[str]) -> pd.DataFrame:\n",
    "    df = pd.read_csv(filename, usecols=columns)\n",
    "    df[\"path\"] = df[\"file_name\"].apply(\n",
    "        lambda x: os.path.join(RAW_RECORDINGS_DIR, x)\n",
    "    )\n",
    "    return df\n",
    "\n",
    "def transform_dataframe(df: pd.DataFrame) -> pd.DataFrame:\n",
    "    df[[\"audio\", \"sr\", \"duration\"]] = df.apply(\n",
    "        lambda x: get_librosa_features(x),\n",
    "        result_type=\"expand\",\n",
    "        axis=1,\n",
    "    )\n",
    "    return df\n",
    "\n",
    "\n",
    "def load_train_val_test_data(folder_path: str) -> pd.DataFrame:\n",
    "    train_df = pd.read_csv(os.path.join(folder_path, \"train.csv\"))\n",
    "    val_df = pd.read_csv(os.path.join(folder_path, \"val.csv\"))\n",
    "    test_df = pd.read_csv(os.path.join(folder_path, \"test.csv\"))\n",
    "\n",
    "    train_df[\"split_type\"] = \"train\"\n",
    "    val_df[\"split_type\"] = \"val\"\n",
    "    test_df[\"split_type\"] = \"test\"\n",
    "\n",
    "    df = pd.concat([train_df, val_df, test_df], axis=0).reset_index(\n",
    "        drop=True\n",
    "    )\n",
    "    df = transform_dataframe(df)\n",
    "    return df\n",
    "\n",
    "def evaluate_audio_sample(row: pd.Series) -> None:\n",
    "    fig, ax = plt.subplots(2, 1, sharex=True, figsize=(12, 8))\n",
    "    librosa.display.waveshow(row.audio, sr=row.sr, ax=ax[0])\n",
    "    ax[0].set(title=\"Waveplot\")\n",
    "    ax[1].specgram(row.audio, Fs=row.sr)\n",
    "    ax[0].set(ylabel=\"Amplitude\", title=\"Waveplot\")\n",
    "    ax[1].set(\n",
    "        xlabel=\"Time (seconds)\",\n",
    "        ylabel=\"Frequency (HZ)\",\n",
    "        title=\"Spectogram\",\n",
    "    )\n",
    "    fig.suptitle(f\"Text: {row.phrase}\")\n",
    "    plt.savefig(os.path.join(STT_REPORT, \"audio_sample.png\"))\n",
    "\n",
    "\n",
    "def create_dir(file_path: str) -> None:\n",
    "    os.makedirs(file_path, exist_ok=True)\n",
    "\n",
    "def make_report(df: pd.DataFrame) -> ProfileReport:\n",
    "    report = ProfileReport(df, title=\"STT Report\", explorative=True)\n",
    "    return report\n",
    "\n",
    "\n",
    "def save_report(report: ProfileReport, file_path: str) -> None:\n",
    "    report.to_file(os.path.join(file_path, \"report.html\"))"
   ]
  },
  {
   "cell_type": "code",
   "execution_count": 8,
   "metadata": {},
   "outputs": [
    {
     "name": "stdout",
     "output_type": "stream",
     "text": [
      "(6661, 9)\n"
     ]
    },
    {
     "data": {
      "text/html": [
       "<div>\n",
       "<style scoped>\n",
       "    .dataframe tbody tr th:only-of-type {\n",
       "        vertical-align: middle;\n",
       "    }\n",
       "\n",
       "    .dataframe tbody tr th {\n",
       "        vertical-align: top;\n",
       "    }\n",
       "\n",
       "    .dataframe thead th {\n",
       "        text-align: right;\n",
       "    }\n",
       "</style>\n",
       "<table border=\"1\" class=\"dataframe\">\n",
       "  <thead>\n",
       "    <tr style=\"text-align: right;\">\n",
       "      <th></th>\n",
       "      <th>audio_clipping</th>\n",
       "      <th>overall_quality_of_the_audio</th>\n",
       "      <th>quiet_speaker</th>\n",
       "      <th>speaker_id</th>\n",
       "      <th>file_name</th>\n",
       "      <th>phrase</th>\n",
       "      <th>prompt</th>\n",
       "      <th>writer_id</th>\n",
       "      <th>path</th>\n",
       "    </tr>\n",
       "  </thead>\n",
       "  <tbody>\n",
       "    <tr>\n",
       "      <th>0</th>\n",
       "      <td>no_clipping</td>\n",
       "      <td>3.33</td>\n",
       "      <td>audible_speaker</td>\n",
       "      <td>43453425</td>\n",
       "      <td>1249120_43453425_58166571.wav</td>\n",
       "      <td>When I remember her I feel down</td>\n",
       "      <td>Emotional pain</td>\n",
       "      <td>21665495</td>\n",
       "      <td>data\\raw\\stt\\recordings\\1249120_43453425_58166...</td>\n",
       "    </tr>\n",
       "    <tr>\n",
       "      <th>1</th>\n",
       "      <td>light_clipping</td>\n",
       "      <td>3.33</td>\n",
       "      <td>audible_speaker</td>\n",
       "      <td>43719934</td>\n",
       "      <td>1249120_43719934_43347848.wav</td>\n",
       "      <td>When I carry heavy things I feel like breaking...</td>\n",
       "      <td>Hair falling out</td>\n",
       "      <td>44088126</td>\n",
       "      <td>data\\raw\\stt\\recordings\\1249120_43719934_43347...</td>\n",
       "    </tr>\n",
       "    <tr>\n",
       "      <th>2</th>\n",
       "      <td>no_clipping</td>\n",
       "      <td>3.33</td>\n",
       "      <td>audible_speaker</td>\n",
       "      <td>43719934</td>\n",
       "      <td>1249120_43719934_53187202.wav</td>\n",
       "      <td>there is too much pain when i move my arm</td>\n",
       "      <td>Heart hurts</td>\n",
       "      <td>44292353</td>\n",
       "      <td>data\\raw\\stt\\recordings\\1249120_43719934_53187...</td>\n",
       "    </tr>\n",
       "    <tr>\n",
       "      <th>3</th>\n",
       "      <td>no_clipping</td>\n",
       "      <td>3.33</td>\n",
       "      <td>audible_speaker</td>\n",
       "      <td>31349958</td>\n",
       "      <td>1249120_31349958_55816195.wav</td>\n",
       "      <td>My son had his lip pierced and it is swollen a...</td>\n",
       "      <td>Infected wound</td>\n",
       "      <td>43755034</td>\n",
       "      <td>data\\raw\\stt\\recordings\\1249120_31349958_55816...</td>\n",
       "    </tr>\n",
       "    <tr>\n",
       "      <th>4</th>\n",
       "      <td>no_clipping</td>\n",
       "      <td>4.67</td>\n",
       "      <td>audible_speaker</td>\n",
       "      <td>43719934</td>\n",
       "      <td>1249120_43719934_82524191.wav</td>\n",
       "      <td>My muscles in my lower back are aching</td>\n",
       "      <td>Infected wound</td>\n",
       "      <td>21665495</td>\n",
       "      <td>data\\raw\\stt\\recordings\\1249120_43719934_82524...</td>\n",
       "    </tr>\n",
       "  </tbody>\n",
       "</table>\n",
       "</div>"
      ],
      "text/plain": [
       "   audio_clipping  overall_quality_of_the_audio    quiet_speaker  speaker_id  \\\n",
       "0     no_clipping                          3.33  audible_speaker    43453425   \n",
       "1  light_clipping                          3.33  audible_speaker    43719934   \n",
       "2     no_clipping                          3.33  audible_speaker    43719934   \n",
       "3     no_clipping                          3.33  audible_speaker    31349958   \n",
       "4     no_clipping                          4.67  audible_speaker    43719934   \n",
       "\n",
       "                       file_name  \\\n",
       "0  1249120_43453425_58166571.wav   \n",
       "1  1249120_43719934_43347848.wav   \n",
       "2  1249120_43719934_53187202.wav   \n",
       "3  1249120_31349958_55816195.wav   \n",
       "4  1249120_43719934_82524191.wav   \n",
       "\n",
       "                                              phrase            prompt  \\\n",
       "0                    When I remember her I feel down    Emotional pain   \n",
       "1  When I carry heavy things I feel like breaking...  Hair falling out   \n",
       "2          there is too much pain when i move my arm       Heart hurts   \n",
       "3  My son had his lip pierced and it is swollen a...    Infected wound   \n",
       "4             My muscles in my lower back are aching    Infected wound   \n",
       "\n",
       "   writer_id                                               path  \n",
       "0   21665495  data\\raw\\stt\\recordings\\1249120_43453425_58166...  \n",
       "1   44088126  data\\raw\\stt\\recordings\\1249120_43719934_43347...  \n",
       "2   44292353  data\\raw\\stt\\recordings\\1249120_43719934_53187...  \n",
       "3   43755034  data\\raw\\stt\\recordings\\1249120_31349958_55816...  \n",
       "4   21665495  data\\raw\\stt\\recordings\\1249120_43719934_82524...  "
      ]
     },
     "execution_count": 8,
     "metadata": {},
     "output_type": "execute_result"
    }
   ],
   "source": [
    "important_columns = [\n",
    "    \"audio_clipping\",\n",
    "    \"overall_quality_of_the_audio\",\n",
    "    \"quiet_speaker\",\n",
    "    \"speaker_id\",\n",
    "    \"file_name\",\n",
    "    \"phrase\",\n",
    "    \"prompt\",\n",
    "    \"writer_id\",\n",
    "]\n",
    "# Load main dataframe\n",
    "df_full = load_dataframe(RECORDINGS_FILE, important_columns)\n",
    "print(df_full.shape)\n",
    "df_full.head()"
   ]
  },
  {
   "cell_type": "code",
   "execution_count": 20,
   "metadata": {},
   "outputs": [
    {
     "name": "stdout",
     "output_type": "stream",
     "text": [
      "(6524, 6)\n"
     ]
    }
   ],
   "source": [
    "# Train, val, test evaulation\n",
    "df_train_val_test = load_train_val_test_data(RAW_DATA_DIR)\n",
    "print(df_train_val_test.shape)"
   ]
  },
  {
   "cell_type": "code",
   "execution_count": 23,
   "metadata": {},
   "outputs": [
    {
     "data": {
      "text/html": [
       "<div>\n",
       "<style scoped>\n",
       "    .dataframe tbody tr th:only-of-type {\n",
       "        vertical-align: middle;\n",
       "    }\n",
       "\n",
       "    .dataframe tbody tr th {\n",
       "        vertical-align: top;\n",
       "    }\n",
       "\n",
       "    .dataframe thead th {\n",
       "        text-align: right;\n",
       "    }\n",
       "</style>\n",
       "<table border=\"1\" class=\"dataframe\">\n",
       "  <thead>\n",
       "    <tr style=\"text-align: right;\">\n",
       "      <th></th>\n",
       "      <th>audio</th>\n",
       "      <th>sentence</th>\n",
       "      <th>path</th>\n",
       "      <th>split_type</th>\n",
       "      <th>sr</th>\n",
       "      <th>duration</th>\n",
       "      <th>path1</th>\n",
       "      <th>file_name</th>\n",
       "    </tr>\n",
       "  </thead>\n",
       "  <tbody>\n",
       "    <tr>\n",
       "      <th>0</th>\n",
       "      <td>[0.027893066, 0.028167725, 0.030944824, 0.0314...</td>\n",
       "      <td>My heart is pumping fast and I'm having a hard...</td>\n",
       "      <td>data\\raw\\stt\\train\\1249120_41150153_26529048.wav</td>\n",
       "      <td>train</td>\n",
       "      <td>48000</td>\n",
       "      <td>3.584</td>\n",
       "      <td>1249120_41150153_26529048.wav</td>\n",
       "      <td>1249120_41150153_26529048.wav</td>\n",
       "    </tr>\n",
       "    <tr>\n",
       "      <th>1</th>\n",
       "      <td>[-0.0016784668, -0.0010375977, -3.0517578e-05,...</td>\n",
       "      <td>My shoulder hurts me so much</td>\n",
       "      <td>data\\raw\\stt\\train\\1249120_39740177_23857907.wav</td>\n",
       "      <td>train</td>\n",
       "      <td>48000</td>\n",
       "      <td>3.328</td>\n",
       "      <td>1249120_39740177_23857907.wav</td>\n",
       "      <td>1249120_39740177_23857907.wav</td>\n",
       "    </tr>\n",
       "    <tr>\n",
       "      <th>2</th>\n",
       "      <td>[0.0011901855, 0.0014343262, 0.0010986328, 0.0...</td>\n",
       "      <td>I feel a bone-on-bone pain in my knees when I ...</td>\n",
       "      <td>data\\raw\\stt\\train\\1249120_39154234_92913190.wav</td>\n",
       "      <td>train</td>\n",
       "      <td>48000</td>\n",
       "      <td>7.936</td>\n",
       "      <td>1249120_39154234_92913190.wav</td>\n",
       "      <td>1249120_39154234_92913190.wav</td>\n",
       "    </tr>\n",
       "    <tr>\n",
       "      <th>3</th>\n",
       "      <td>[0.0048828125, 0.0053100586, 0.0059509277, 0.0...</td>\n",
       "      <td>i have a great pain in my foot like thrombing ...</td>\n",
       "      <td>data\\raw\\stt\\train\\1249120_35197064_83362445.wav</td>\n",
       "      <td>train</td>\n",
       "      <td>48000</td>\n",
       "      <td>5.973</td>\n",
       "      <td>1249120_35197064_83362445.wav</td>\n",
       "      <td>1249120_35197064_83362445.wav</td>\n",
       "    </tr>\n",
       "    <tr>\n",
       "      <th>4</th>\n",
       "      <td>[6.1035156e-05, 0.00012207031, 6.1035156e-05, ...</td>\n",
       "      <td>I have a sharp pain in my lower stomach.</td>\n",
       "      <td>data\\raw\\stt\\train\\1249120_20518958_80630181.wav</td>\n",
       "      <td>train</td>\n",
       "      <td>48000</td>\n",
       "      <td>4.779</td>\n",
       "      <td>1249120_20518958_80630181.wav</td>\n",
       "      <td>1249120_20518958_80630181.wav</td>\n",
       "    </tr>\n",
       "  </tbody>\n",
       "</table>\n",
       "</div>"
      ],
      "text/plain": [
       "                                               audio  \\\n",
       "0  [0.027893066, 0.028167725, 0.030944824, 0.0314...   \n",
       "1  [-0.0016784668, -0.0010375977, -3.0517578e-05,...   \n",
       "2  [0.0011901855, 0.0014343262, 0.0010986328, 0.0...   \n",
       "3  [0.0048828125, 0.0053100586, 0.0059509277, 0.0...   \n",
       "4  [6.1035156e-05, 0.00012207031, 6.1035156e-05, ...   \n",
       "\n",
       "                                            sentence  \\\n",
       "0  My heart is pumping fast and I'm having a hard...   \n",
       "1                       My shoulder hurts me so much   \n",
       "2  I feel a bone-on-bone pain in my knees when I ...   \n",
       "3  i have a great pain in my foot like thrombing ...   \n",
       "4           I have a sharp pain in my lower stomach.   \n",
       "\n",
       "                                               path split_type     sr  \\\n",
       "0  data\\raw\\stt\\train\\1249120_41150153_26529048.wav      train  48000   \n",
       "1  data\\raw\\stt\\train\\1249120_39740177_23857907.wav      train  48000   \n",
       "2  data\\raw\\stt\\train\\1249120_39154234_92913190.wav      train  48000   \n",
       "3  data\\raw\\stt\\train\\1249120_35197064_83362445.wav      train  48000   \n",
       "4  data\\raw\\stt\\train\\1249120_20518958_80630181.wav      train  48000   \n",
       "\n",
       "   duration                          path1                      file_name  \n",
       "0     3.584  1249120_41150153_26529048.wav  1249120_41150153_26529048.wav  \n",
       "1     3.328  1249120_39740177_23857907.wav  1249120_39740177_23857907.wav  \n",
       "2     7.936  1249120_39154234_92913190.wav  1249120_39154234_92913190.wav  \n",
       "3     5.973  1249120_35197064_83362445.wav  1249120_35197064_83362445.wav  \n",
       "4     4.779  1249120_20518958_80630181.wav  1249120_20518958_80630181.wav  "
      ]
     },
     "execution_count": 23,
     "metadata": {},
     "output_type": "execute_result"
    }
   ],
   "source": [
    "split_to_recordings = {\"train\": \"recordings\", \"val\": \"recordings\", \"test\": \"recordings\"}\n",
    "df_train_val_test[\"file_name\"] = df_train_val_test[\"path\"].apply(lambda x: os.path.split(x)[1])\n",
    "df_train_val_test.head()"
   ]
  },
  {
   "cell_type": "code",
   "execution_count": 25,
   "metadata": {},
   "outputs": [
    {
     "name": "stdout",
     "output_type": "stream",
     "text": [
      "(6524, 16)\n"
     ]
    }
   ],
   "source": [
    "\n",
    "# Merge dataframes\n",
    "df = pd.merge(df_full, df_train_val_test, on=\"file_name\", how=\"inner\")\n",
    "print(df.shape)\n"
   ]
  },
  {
   "cell_type": "code",
   "execution_count": 39,
   "metadata": {},
   "outputs": [],
   "source": [
    "# Merge dataframe on path column"
   ]
  },
  {
   "cell_type": "code",
   "execution_count": 113,
   "metadata": {},
   "outputs": [
    {
     "data": {
      "image/png": "[encoded data removed]",
      "text/plain": [
       "<Figure size 1200x800 with 1 Axes>"
      ]
     },
     "metadata": {},
     "output_type": "display_data"
    },
    {
     "data": {
      "image/png": "[encoded data removed]",
      "text/plain": [
       "<Figure size 1200x800 with 1 Axes>"
      ]
     },
     "metadata": {},
     "output_type": "display_data"
    },
    {
     "data": {
      "image/png": "[encoded data removed]",
      "text/plain": [
       "<Figure size 1200x800 with 1 Axes>"
      ]
     },
     "metadata": {},
     "output_type": "display_data"
    }
   ],
   "source": [
    "def create_charts(col_use: str, title: str, xlabel: str, ylabel: str, hist:bool) -> None:\n",
    "    train = df.loc[df[\"split_type\"] == \"train\", col_use]\n",
    "    val = df.loc[df[\"split_type\"] == \"val\", col_use]\n",
    "    test = df.loc[df[\"split_type\"] == \"test\", col_use]\n",
    "    \n",
    "    plt.figure(figsize=(12,8))\n",
    "    \n",
    "    if hist:\n",
    "        # Add three histograms to one plot\n",
    "        plt.hist(train, alpha=0.3, label='train', color='blue')\n",
    "        plt.hist(val, alpha=0.3, label='val', color=\"orange\")\n",
    "        plt.hist(test, alpha=0.3, label='test', color=\"green\")\n",
    "        \n",
    "        # Add legend\n",
    "        plt.legend(title='Split Type')\n",
    "    else:\n",
    "        plt.bar(df[\"split_type\"].unique(),\n",
    "    height=df[\"split_type\"].value_counts(),\n",
    "    alpha=0.3,\n",
    "    color=[\n",
    "        \"blue\",\n",
    "        \"orange\",\n",
    "        \"green\",\n",
    "    ],)\n",
    "        \n",
    "    # Add plot title and axis labels\n",
    "    plt.title(title)\n",
    "    plt.xlabel(xlabel)\n",
    "    plt.ylabel(ylabel)\n",
    "\n",
    "    plt.show()\n",
    "    \n",
    "create_charts(\"sr\", \"Original Sample Rate by Split\", \"Sample Rate\", \"Frequency\", True)\n",
    "create_charts(\"duration\", \"Duration by Split\", \"Duration in seconds\", \"Frequency\", True)\n",
    "create_charts(\"split_type\", \"Split Type\", \"Split Type\", \"Frequency\", False)\n",
    "    "
   ]
  },
  {
   "cell_type": "code",
   "execution_count": null,
   "metadata": {},
   "outputs": [],
   "source": []
  }
 ],
 "metadata": {
  "kernelspec": {
   "display_name": "Python 3.10.6 ('nlp_masterthesis')",
   "language": "python",
   "name": "python3"
  },
  "language_info": {
   "codemirror_mode": {
    "name": "ipython",
    "version": 3
   },
   "file_extension": ".py",
   "mimetype": "text/x-python",
   "name": "python",
   "nbconvert_exporter": "python",
   "pygments_lexer": "ipython3",
   "version": "3.10.6"
  },
  "orig_nbformat": 4,
  "vscode": {
   "interpreter": {
    "hash": "40268d9a6ead8a84520c08d0b901e046bd2176336d854cc732bdbdbf7245879e"
   }
  }
 },
 "nbformat": 4,
 "nbformat_minor": 2
}
