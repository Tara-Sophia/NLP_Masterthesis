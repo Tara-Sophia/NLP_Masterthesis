{
 "cells": [
  {
   "cell_type": "code",
   "execution_count": 42,
   "metadata": {},
   "outputs": [],
   "source": [
    "## Import Libraries\n",
    "\n",
    "import pandas as pd\n",
    "import numpy as np\n",
    "import string\n",
    "import re\n",
    "import nltk\n",
    "import imblearn\n",
    "\n",
    "from sklearn.linear_model import LogisticRegression\n",
    "from sklearn.model_selection import train_test_split, cross_validate\n",
    "from sklearn.model_selection import GridSearchCV\n",
    "\n",
    "\n",
    "from sklearn.feature_extraction.text import CountVectorizer\n",
    "\n",
    "from sklearn.metrics import confusion_matrix\n",
    "from sklearn.metrics import classification_report\n",
    "from sklearn.metrics import roc_auc_score\n",
    "from sklearn.metrics import cohen_kappa_score\n",
    "from sklearn.manifold import TSNE    \n",
    "\n",
    "from imblearn.over_sampling import SMOTE"
   ]
  },
  {
   "cell_type": "code",
   "execution_count": 43,
   "metadata": {},
   "outputs": [],
   "source": [
    "# load data\n",
    "df_test = pd.read_csv('../data/processed/mtsamples_nlp.csv')\n",
    "df_test.transcription=df_test.transcription.astype(str)"
   ]
  },
  {
   "cell_type": "code",
   "execution_count": 44,
   "metadata": {},
   "outputs": [],
   "source": [
    "# retrieve labels as function\n",
    "def get_labels(data):\n",
    "    return data['medical_specialty'].tolist()\n",
    "\n",
    "df_test_label = get_labels(df_test)\n",
    "df_test_X = df_test['transcription_f'].astype(str)"
   ]
  },
  {
   "cell_type": "code",
   "execution_count": 45,
   "metadata": {},
   "outputs": [
    {
     "data": {
      "text/plain": [
       "1557    {'pulmonary', 'ventricular', 'left', 'valve', ...\n",
       "509     {'skin', 'urethral', 'patient', 'corpus', 'bov...\n",
       "2044    {'nucleus', 'corneal', 'smooth', 'edema', 'pat...\n",
       "1847    {'needle', 'body', 'graft', 'c5c7,trimline', '...\n",
       "2097    {'skin', 'edema', 'patient', 'cell', 'intraven...\n",
       "                              ...                        \n",
       "1638                            {'patient', 'bacitracin'}\n",
       "1095    {'coronary', 'patient', 'snuffbox', 'intraveno...\n",
       "1130    {'abdominal', 'cecum', 'transversalis', 'patie...\n",
       "1294    {'scleral', 'optic', 'lid', 'sectoral', 'indoc...\n",
       "860     {'x1,dose', 'patient', 'vancomycin', 'lithotri...\n",
       "Name: transcription_f, Length: 2380, dtype: object"
      ]
     },
     "execution_count": 45,
     "metadata": {},
     "output_type": "execute_result"
    }
   ],
   "source": [
    "# split data into train and test set (first split data into train and test set to only transform the train set)\n",
    "def split_data(X, y):\n",
    "    X_train, X_test, y_train, y_test = train_test_split(X, y, test_size=0.2, random_state=42)\n",
    "    return X_train, X_test, y_train, y_test\n",
    "\n",
    "X_train, X_test, y_train, y_test = split_data(df_test_X, df_test_label)\n",
    "X_train"
   ]
  },
  {
   "cell_type": "code",
   "execution_count": 46,
   "metadata": {},
   "outputs": [],
   "source": [
    "# vectorize df_test_X \n",
    "vectorizer = CountVectorizer()\n",
    "X_train_vec = vectorizer.fit_transform(X_train)"
   ]
  },
  {
   "cell_type": "code",
   "execution_count": 47,
   "metadata": {},
   "outputs": [
    {
     "data": {
      "text/plain": [
       "<8921x2574 sparse matrix of type '<class 'numpy.int64'>'\n",
       "\twith 163353 stored elements in Compressed Sparse Row format>"
      ]
     },
     "execution_count": 47,
     "metadata": {},
     "output_type": "execute_result"
    }
   ],
   "source": [
    "# smote oversampling\n",
    "sm = SMOTE(random_state=42)\n",
    "X_train_vec, y_train = sm.fit_resample(X_train_vec, y_train)\n",
    "X_train_vec"
   ]
  },
  {
   "cell_type": "code",
   "execution_count": 48,
   "metadata": {},
   "outputs": [
    {
     "name": "stderr",
     "output_type": "stream",
     "text": [
      "/Users/hannahpetry/opt/anaconda3/envs/nlp_masterthesis/lib/python3.10/site-packages/sklearn/utils/deprecation.py:87: FutureWarning: Function get_feature_names is deprecated; get_feature_names is deprecated in 1.0 and will be removed in 1.2. Please use get_feature_names_out instead.\n",
      "  warnings.warn(msg, category=FutureWarning)\n"
     ]
    },
    {
     "data": {
      "text/plain": [
       "2574"
      ]
     },
     "execution_count": 48,
     "metadata": {},
     "output_type": "execute_result"
    }
   ],
   "source": [
    "# get feature names\n",
    "feat = vectorizer.get_feature_names()\n",
    "len(feat)"
   ]
  },
  {
   "cell_type": "code",
   "execution_count": 55,
   "metadata": {},
   "outputs": [],
   "source": [
    "lr = LogisticRegression(random_state=42, multi_class='multinomial', solver='saga', max_iter=1000).fit(X_train_vec, y_train)"
   ]
  },
  {
   "cell_type": "code",
   "execution_count": 56,
   "metadata": {},
   "outputs": [
    {
     "name": "stdout",
     "output_type": "stream",
     "text": [
      "[[-1.43561893e-05 -7.04327218e-04  4.17241151e-01 ... -2.63416027e-03\n",
      "  -2.61572851e-04 -6.67696284e-02]\n",
      " [-2.88187314e-02 -1.56686365e-04 -3.96545879e-01 ... -3.12268661e-03\n",
      "  -3.88925003e-02  2.81028974e-01]\n",
      " [-5.53674311e-06 -9.95565944e-05 -1.22317729e-05 ... -6.24630273e-04\n",
      "  -3.61176745e-04 -3.82257788e-02]\n",
      " ...\n",
      " [-9.95346443e-04 -1.66224313e-05  1.49674829e-01 ... -4.21871862e-05\n",
      "  -3.79624747e-03 -1.52100961e-01]\n",
      " [-4.96729195e-03  3.90521017e-02 -4.22263196e-04 ...  6.21400008e-01\n",
      "  -6.00990278e-04 -1.44042760e-02]\n",
      " [-1.50394853e-05 -2.62157636e-04  1.75215232e-03 ... -2.23751379e-04\n",
      "  -7.50833764e-04 -8.32465714e-02]]\n"
     ]
    },
    {
     "data": {
      "text/plain": [
       "2574"
      ]
     },
     "execution_count": 56,
     "metadata": {},
     "output_type": "execute_result"
    }
   ],
   "source": [
    "print(lr.coef_)\n",
    "len(lr.coef_[0])"
   ]
  },
  {
   "cell_type": "code",
   "execution_count": 57,
   "metadata": {},
   "outputs": [
    {
     "data": {
      "text/plain": [
       "(11, 2574)"
      ]
     },
     "execution_count": 57,
     "metadata": {},
     "output_type": "execute_result"
    }
   ],
   "source": [
    "lr.coef_.shape"
   ]
  },
  {
   "cell_type": "code",
   "execution_count": 80,
   "metadata": {},
   "outputs": [
    {
     "data": {
      "text/html": [
       "<div>\n",
       "<style scoped>\n",
       "    .dataframe tbody tr th:only-of-type {\n",
       "        vertical-align: middle;\n",
       "    }\n",
       "\n",
       "    .dataframe tbody tr th {\n",
       "        vertical-align: top;\n",
       "    }\n",
       "\n",
       "    .dataframe thead th {\n",
       "        text-align: right;\n",
       "    }\n",
       "</style>\n",
       "<table border=\"1\" class=\"dataframe\">\n",
       "  <thead>\n",
       "    <tr style=\"text-align: right;\">\n",
       "      <th></th>\n",
       "      <th>0007</th>\n",
       "      <th>005</th>\n",
       "      <th>01</th>\n",
       "      <th>0125</th>\n",
       "      <th>020</th>\n",
       "      <th>025</th>\n",
       "      <th>03</th>\n",
       "      <th>0395</th>\n",
       "      <th>05</th>\n",
       "      <th>050</th>\n",
       "      <th>...</th>\n",
       "      <th>zithromax</th>\n",
       "      <th>zocor</th>\n",
       "      <th>zofran</th>\n",
       "      <th>zoladex</th>\n",
       "      <th>zoloft</th>\n",
       "      <th>zometa</th>\n",
       "      <th>zone</th>\n",
       "      <th>zygoma</th>\n",
       "      <th>zygomatic</th>\n",
       "      <th>zyprexa</th>\n",
       "    </tr>\n",
       "  </thead>\n",
       "  <tbody>\n",
       "    <tr>\n",
       "      <th>Cardiovascular / Pulmonary</th>\n",
       "      <td>0.000014</td>\n",
       "      <td>0.000704</td>\n",
       "      <td>0.417241</td>\n",
       "      <td>4.852642e-06</td>\n",
       "      <td>0.029673</td>\n",
       "      <td>0.048249</td>\n",
       "      <td>0.000043</td>\n",
       "      <td>0.000140</td>\n",
       "      <td>0.061810</td>\n",
       "      <td>0.000230</td>\n",
       "      <td>...</td>\n",
       "      <td>0.484058</td>\n",
       "      <td>0.320839</td>\n",
       "      <td>0.001733</td>\n",
       "      <td>0.000089</td>\n",
       "      <td>0.189057</td>\n",
       "      <td>0.000296</td>\n",
       "      <td>0.043677</td>\n",
       "      <td>0.002634</td>\n",
       "      <td>0.000262</td>\n",
       "      <td>0.066770</td>\n",
       "    </tr>\n",
       "    <tr>\n",
       "      <th>Consult - History and Phy.</th>\n",
       "      <td>0.028819</td>\n",
       "      <td>0.000157</td>\n",
       "      <td>0.396546</td>\n",
       "      <td>1.162737e-01</td>\n",
       "      <td>0.000001</td>\n",
       "      <td>0.027705</td>\n",
       "      <td>0.000777</td>\n",
       "      <td>0.324558</td>\n",
       "      <td>0.074425</td>\n",
       "      <td>0.001599</td>\n",
       "      <td>...</td>\n",
       "      <td>0.071422</td>\n",
       "      <td>0.570299</td>\n",
       "      <td>0.201178</td>\n",
       "      <td>0.007334</td>\n",
       "      <td>0.159728</td>\n",
       "      <td>0.098247</td>\n",
       "      <td>0.132916</td>\n",
       "      <td>0.003123</td>\n",
       "      <td>0.038893</td>\n",
       "      <td>0.281029</td>\n",
       "    </tr>\n",
       "    <tr>\n",
       "      <th>Gastroenterology</th>\n",
       "      <td>0.000006</td>\n",
       "      <td>0.000100</td>\n",
       "      <td>0.000012</td>\n",
       "      <td>6.543443e-05</td>\n",
       "      <td>0.000079</td>\n",
       "      <td>0.034500</td>\n",
       "      <td>0.000451</td>\n",
       "      <td>0.003479</td>\n",
       "      <td>0.033917</td>\n",
       "      <td>0.000074</td>\n",
       "      <td>...</td>\n",
       "      <td>0.011515</td>\n",
       "      <td>0.048431</td>\n",
       "      <td>0.180420</td>\n",
       "      <td>0.004135</td>\n",
       "      <td>0.038479</td>\n",
       "      <td>0.002175</td>\n",
       "      <td>0.018603</td>\n",
       "      <td>0.000625</td>\n",
       "      <td>0.000361</td>\n",
       "      <td>0.038226</td>\n",
       "    </tr>\n",
       "    <tr>\n",
       "      <th>General Medicine</th>\n",
       "      <td>0.000004</td>\n",
       "      <td>0.000014</td>\n",
       "      <td>0.140618</td>\n",
       "      <td>2.916331e-02</td>\n",
       "      <td>0.000012</td>\n",
       "      <td>0.047054</td>\n",
       "      <td>0.008323</td>\n",
       "      <td>0.003221</td>\n",
       "      <td>0.035610</td>\n",
       "      <td>0.000089</td>\n",
       "      <td>...</td>\n",
       "      <td>0.116335</td>\n",
       "      <td>0.071549</td>\n",
       "      <td>0.292481</td>\n",
       "      <td>0.000021</td>\n",
       "      <td>0.112280</td>\n",
       "      <td>0.032801</td>\n",
       "      <td>0.197806</td>\n",
       "      <td>0.000083</td>\n",
       "      <td>0.008061</td>\n",
       "      <td>0.087992</td>\n",
       "    </tr>\n",
       "    <tr>\n",
       "      <th>Neurology</th>\n",
       "      <td>0.361522</td>\n",
       "      <td>0.032976</td>\n",
       "      <td>0.000404</td>\n",
       "      <td>6.127213e-07</td>\n",
       "      <td>0.000449</td>\n",
       "      <td>0.089461</td>\n",
       "      <td>0.000002</td>\n",
       "      <td>0.022969</td>\n",
       "      <td>0.056554</td>\n",
       "      <td>0.000046</td>\n",
       "      <td>...</td>\n",
       "      <td>0.479507</td>\n",
       "      <td>0.162520</td>\n",
       "      <td>0.011434</td>\n",
       "      <td>0.000085</td>\n",
       "      <td>0.079888</td>\n",
       "      <td>0.000075</td>\n",
       "      <td>0.000024</td>\n",
       "      <td>0.473784</td>\n",
       "      <td>0.005603</td>\n",
       "      <td>0.361210</td>\n",
       "    </tr>\n",
       "    <tr>\n",
       "      <th>Obstetrics / Gynecology</th>\n",
       "      <td>0.000002</td>\n",
       "      <td>0.000167</td>\n",
       "      <td>0.000004</td>\n",
       "      <td>4.231289e-05</td>\n",
       "      <td>0.000035</td>\n",
       "      <td>0.093060</td>\n",
       "      <td>0.000004</td>\n",
       "      <td>0.006111</td>\n",
       "      <td>0.256421</td>\n",
       "      <td>0.000081</td>\n",
       "      <td>...</td>\n",
       "      <td>0.008419</td>\n",
       "      <td>0.001243</td>\n",
       "      <td>0.014701</td>\n",
       "      <td>0.000456</td>\n",
       "      <td>0.040449</td>\n",
       "      <td>0.007961</td>\n",
       "      <td>0.111604</td>\n",
       "      <td>0.000364</td>\n",
       "      <td>0.001532</td>\n",
       "      <td>0.043544</td>\n",
       "    </tr>\n",
       "    <tr>\n",
       "      <th>Orthopedic</th>\n",
       "      <td>0.278616</td>\n",
       "      <td>0.003198</td>\n",
       "      <td>0.012818</td>\n",
       "      <td>1.041212e-04</td>\n",
       "      <td>0.000261</td>\n",
       "      <td>0.036944</td>\n",
       "      <td>0.000003</td>\n",
       "      <td>0.060040</td>\n",
       "      <td>0.604129</td>\n",
       "      <td>0.059944</td>\n",
       "      <td>...</td>\n",
       "      <td>0.654480</td>\n",
       "      <td>0.339100</td>\n",
       "      <td>0.015708</td>\n",
       "      <td>0.000139</td>\n",
       "      <td>0.063220</td>\n",
       "      <td>0.000014</td>\n",
       "      <td>0.000666</td>\n",
       "      <td>0.127884</td>\n",
       "      <td>0.034822</td>\n",
       "      <td>0.056204</td>\n",
       "    </tr>\n",
       "    <tr>\n",
       "      <th>Radiology</th>\n",
       "      <td>0.117728</td>\n",
       "      <td>0.001458</td>\n",
       "      <td>0.017844</td>\n",
       "      <td>1.318807e-06</td>\n",
       "      <td>0.000004</td>\n",
       "      <td>0.162195</td>\n",
       "      <td>0.001658</td>\n",
       "      <td>0.025445</td>\n",
       "      <td>0.651179</td>\n",
       "      <td>0.000099</td>\n",
       "      <td>...</td>\n",
       "      <td>0.142879</td>\n",
       "      <td>0.086619</td>\n",
       "      <td>0.002061</td>\n",
       "      <td>0.000847</td>\n",
       "      <td>0.080413</td>\n",
       "      <td>0.002811</td>\n",
       "      <td>0.000276</td>\n",
       "      <td>0.012637</td>\n",
       "      <td>0.094681</td>\n",
       "      <td>0.099753</td>\n",
       "    </tr>\n",
       "    <tr>\n",
       "      <th>SOAP / Chart / Progress Notes</th>\n",
       "      <td>0.000995</td>\n",
       "      <td>0.000017</td>\n",
       "      <td>0.149675</td>\n",
       "      <td>7.820323e-02</td>\n",
       "      <td>0.000001</td>\n",
       "      <td>0.038913</td>\n",
       "      <td>0.011950</td>\n",
       "      <td>0.031163</td>\n",
       "      <td>0.345322</td>\n",
       "      <td>0.000008</td>\n",
       "      <td>...</td>\n",
       "      <td>0.459482</td>\n",
       "      <td>0.113093</td>\n",
       "      <td>0.071483</td>\n",
       "      <td>0.000060</td>\n",
       "      <td>0.573081</td>\n",
       "      <td>0.145100</td>\n",
       "      <td>0.136477</td>\n",
       "      <td>0.000042</td>\n",
       "      <td>0.003796</td>\n",
       "      <td>0.152101</td>\n",
       "    </tr>\n",
       "    <tr>\n",
       "      <th>Surgery</th>\n",
       "      <td>0.004967</td>\n",
       "      <td>0.039052</td>\n",
       "      <td>0.000422</td>\n",
       "      <td>8.687883e-03</td>\n",
       "      <td>0.030530</td>\n",
       "      <td>0.630763</td>\n",
       "      <td>0.000687</td>\n",
       "      <td>0.065517</td>\n",
       "      <td>0.366101</td>\n",
       "      <td>0.062205</td>\n",
       "      <td>...</td>\n",
       "      <td>0.053211</td>\n",
       "      <td>0.283892</td>\n",
       "      <td>0.005001</td>\n",
       "      <td>0.134015</td>\n",
       "      <td>0.004096</td>\n",
       "      <td>0.000570</td>\n",
       "      <td>0.019190</td>\n",
       "      <td>0.621400</td>\n",
       "      <td>0.000601</td>\n",
       "      <td>0.014404</td>\n",
       "    </tr>\n",
       "    <tr>\n",
       "      <th>Urology</th>\n",
       "      <td>0.000015</td>\n",
       "      <td>0.000262</td>\n",
       "      <td>0.001752</td>\n",
       "      <td>6.161307e-07</td>\n",
       "      <td>0.000013</td>\n",
       "      <td>0.126569</td>\n",
       "      <td>0.000002</td>\n",
       "      <td>0.168798</td>\n",
       "      <td>0.020378</td>\n",
       "      <td>0.000033</td>\n",
       "      <td>...</td>\n",
       "      <td>0.019336</td>\n",
       "      <td>0.630802</td>\n",
       "      <td>0.149601</td>\n",
       "      <td>0.120848</td>\n",
       "      <td>0.030032</td>\n",
       "      <td>0.000148</td>\n",
       "      <td>0.000205</td>\n",
       "      <td>0.000224</td>\n",
       "      <td>0.000751</td>\n",
       "      <td>0.083247</td>\n",
       "    </tr>\n",
       "  </tbody>\n",
       "</table>\n",
       "<p>11 rows × 2574 columns</p>\n",
       "</div>"
      ],
      "text/plain": [
       "                                    0007       005        01          0125  \\\n",
       " Cardiovascular / Pulmonary     0.000014  0.000704  0.417241  4.852642e-06   \n",
       " Consult - History and Phy.     0.028819  0.000157  0.396546  1.162737e-01   \n",
       " Gastroenterology               0.000006  0.000100  0.000012  6.543443e-05   \n",
       " General Medicine               0.000004  0.000014  0.140618  2.916331e-02   \n",
       " Neurology                      0.361522  0.032976  0.000404  6.127213e-07   \n",
       " Obstetrics / Gynecology        0.000002  0.000167  0.000004  4.231289e-05   \n",
       " Orthopedic                     0.278616  0.003198  0.012818  1.041212e-04   \n",
       " Radiology                      0.117728  0.001458  0.017844  1.318807e-06   \n",
       " SOAP / Chart / Progress Notes  0.000995  0.000017  0.149675  7.820323e-02   \n",
       " Surgery                        0.004967  0.039052  0.000422  8.687883e-03   \n",
       " Urology                        0.000015  0.000262  0.001752  6.161307e-07   \n",
       "\n",
       "                                     020       025        03      0395  \\\n",
       " Cardiovascular / Pulmonary     0.029673  0.048249  0.000043  0.000140   \n",
       " Consult - History and Phy.     0.000001  0.027705  0.000777  0.324558   \n",
       " Gastroenterology               0.000079  0.034500  0.000451  0.003479   \n",
       " General Medicine               0.000012  0.047054  0.008323  0.003221   \n",
       " Neurology                      0.000449  0.089461  0.000002  0.022969   \n",
       " Obstetrics / Gynecology        0.000035  0.093060  0.000004  0.006111   \n",
       " Orthopedic                     0.000261  0.036944  0.000003  0.060040   \n",
       " Radiology                      0.000004  0.162195  0.001658  0.025445   \n",
       " SOAP / Chart / Progress Notes  0.000001  0.038913  0.011950  0.031163   \n",
       " Surgery                        0.030530  0.630763  0.000687  0.065517   \n",
       " Urology                        0.000013  0.126569  0.000002  0.168798   \n",
       "\n",
       "                                      05       050  ...  zithromax     zocor  \\\n",
       " Cardiovascular / Pulmonary     0.061810  0.000230  ...   0.484058  0.320839   \n",
       " Consult - History and Phy.     0.074425  0.001599  ...   0.071422  0.570299   \n",
       " Gastroenterology               0.033917  0.000074  ...   0.011515  0.048431   \n",
       " General Medicine               0.035610  0.000089  ...   0.116335  0.071549   \n",
       " Neurology                      0.056554  0.000046  ...   0.479507  0.162520   \n",
       " Obstetrics / Gynecology        0.256421  0.000081  ...   0.008419  0.001243   \n",
       " Orthopedic                     0.604129  0.059944  ...   0.654480  0.339100   \n",
       " Radiology                      0.651179  0.000099  ...   0.142879  0.086619   \n",
       " SOAP / Chart / Progress Notes  0.345322  0.000008  ...   0.459482  0.113093   \n",
       " Surgery                        0.366101  0.062205  ...   0.053211  0.283892   \n",
       " Urology                        0.020378  0.000033  ...   0.019336  0.630802   \n",
       "\n",
       "                                  zofran   zoladex    zoloft    zometa  \\\n",
       " Cardiovascular / Pulmonary     0.001733  0.000089  0.189057  0.000296   \n",
       " Consult - History and Phy.     0.201178  0.007334  0.159728  0.098247   \n",
       " Gastroenterology               0.180420  0.004135  0.038479  0.002175   \n",
       " General Medicine               0.292481  0.000021  0.112280  0.032801   \n",
       " Neurology                      0.011434  0.000085  0.079888  0.000075   \n",
       " Obstetrics / Gynecology        0.014701  0.000456  0.040449  0.007961   \n",
       " Orthopedic                     0.015708  0.000139  0.063220  0.000014   \n",
       " Radiology                      0.002061  0.000847  0.080413  0.002811   \n",
       " SOAP / Chart / Progress Notes  0.071483  0.000060  0.573081  0.145100   \n",
       " Surgery                        0.005001  0.134015  0.004096  0.000570   \n",
       " Urology                        0.149601  0.120848  0.030032  0.000148   \n",
       "\n",
       "                                    zone    zygoma  zygomatic   zyprexa  \n",
       " Cardiovascular / Pulmonary     0.043677  0.002634   0.000262  0.066770  \n",
       " Consult - History and Phy.     0.132916  0.003123   0.038893  0.281029  \n",
       " Gastroenterology               0.018603  0.000625   0.000361  0.038226  \n",
       " General Medicine               0.197806  0.000083   0.008061  0.087992  \n",
       " Neurology                      0.000024  0.473784   0.005603  0.361210  \n",
       " Obstetrics / Gynecology        0.111604  0.000364   0.001532  0.043544  \n",
       " Orthopedic                     0.000666  0.127884   0.034822  0.056204  \n",
       " Radiology                      0.000276  0.012637   0.094681  0.099753  \n",
       " SOAP / Chart / Progress Notes  0.136477  0.000042   0.003796  0.152101  \n",
       " Surgery                        0.019190  0.621400   0.000601  0.014404  \n",
       " Urology                        0.000205  0.000224   0.000751  0.083247  \n",
       "\n",
       "[11 rows x 2574 columns]"
      ]
     },
     "execution_count": 80,
     "metadata": {},
     "output_type": "execute_result"
    }
   ],
   "source": [
    "# array to dataframe\n",
    "coef_df = pd.DataFrame(lr.coef_, columns=feat, index=lr.classes_)\n",
    "coef_df = coef_df.abs()\n",
    "coef_df"
   ]
  },
  {
   "cell_type": "code",
   "execution_count": 98,
   "metadata": {},
   "outputs": [
    {
     "data": {
      "text/plain": [
       " Cardiovascular / Pulmonary               [subclavian, lung, heart, tracheal, wall]\n",
       " Consult - History and Phy.                  [sugar, alcohol, cancer, joint, liver]\n",
       " Gastroenterology                     [esophagus, rectal, duodenum, abdomen, colon]\n",
       " General Medicine                             [nose, insulin, mucosa, naris, edema]\n",
       " Neurology                               [focal, beta, spindle, dilantin, lamictal]\n",
       " Obstetrics / Gynecology             [breast, vagina, placenta, uterus, peritoneum]\n",
       " Orthopedic                                  [cervical, joint, tendon, wound, foot]\n",
       " Radiology                        [fibroglandular, tumor, tissue, frontal, pancr...\n",
       " SOAP / Chart / Progress Notes    [adenocarcinoma, hydroxychloroquine, wall, prn...\n",
       " Surgery                                 [set, foreskin, biliary, rectal, duodenum]\n",
       " Urology                               [bladder, scrotal, inguinal, seminal, penis]\n",
       "dtype: object"
      ]
     },
     "execution_count": 98,
     "metadata": {},
     "output_type": "execute_result"
    }
   ],
   "source": [
    "# per row get column names with top 5 highest value\n",
    "top_symptoms = coef_df.apply(lambda x: x.nlargest(5).index.tolist(), axis=1)\n",
    "top_symptoms"
   ]
  },
  {
   "cell_type": "code",
   "execution_count": 86,
   "metadata": {},
   "outputs": [
    {
     "data": {
      "image/png": "[encoded data removed]",
      "text/plain": [
       "<Figure size 800x950 with 1 Axes>"
      ]
     },
     "metadata": {},
     "output_type": "display_data"
    }
   ],
   "source": [
    "import shap\n",
    "from pydoc import classname\n",
    "# transform test data\n",
    "X_test_vec = vectorizer.transform(X_test)\n",
    "# explain the model's predictions using SHAP values\n",
    "explainer = shap.LinearExplainer(lr, X_train_vec, feature_perturbation=\"interventional\")\n",
    "shap_values = explainer.shap_values(X_test_vec)\n",
    "shap.summary_plot(shap_values, X_test_vec, class_names= lr.classes_, feature_names=vectorizer.get_feature_names_out ())"
   ]
  },
  {
   "cell_type": "code",
   "execution_count": 89,
   "metadata": {},
   "outputs": [
    {
     "ename": "TypeError",
     "evalue": "expected string or bytes-like object",
     "output_type": "error",
     "traceback": [
      "\u001b[0;31m---------------------------------------------------------------------------\u001b[0m",
      "\u001b[0;31mTypeError\u001b[0m                                 Traceback (most recent call last)",
      "Cell \u001b[0;32mIn [89], line 7\u001b[0m\n\u001b[1;32m      4\u001b[0m explainer \u001b[39m=\u001b[39m lime\u001b[39m.\u001b[39mlime_text\u001b[39m.\u001b[39mLimeTextExplainer(X_train_vec, class_names\u001b[39m=\u001b[39mlr\u001b[39m.\u001b[39mclasses_)\n\u001b[1;32m      5\u001b[0m \u001b[39m# num features is the number of features to be shown\u001b[39;00m\n\u001b[1;32m      6\u001b[0m \u001b[39m# top labels is the number of labels with the highest probability to be shown\u001b[39;00m\n\u001b[0;32m----> 7\u001b[0m exp \u001b[39m=\u001b[39m explainer\u001b[39m.\u001b[39mexplain_instance(X_test_vec[\u001b[39m4\u001b[39m], lr\u001b[39m.\u001b[39mpredict_proba, num_features\u001b[39m=\u001b[39m\u001b[39m5\u001b[39m, top_labels\u001b[39m=\u001b[39m\u001b[39m2\u001b[39m)\n\u001b[1;32m      8\u001b[0m exp\u001b[39m.\u001b[39mshow_in_notebook(show_table\u001b[39m=\u001b[39m\u001b[39mTrue\u001b[39;00m, show_all\u001b[39m=\u001b[39m\u001b[39mFalse\u001b[39;00m)\n",
      "File \u001b[0;32m~/opt/anaconda3/envs/nlp_masterthesis/lib/python3.10/site-packages/lime/lime_text.py:409\u001b[0m, in \u001b[0;36mLimeTextExplainer.explain_instance\u001b[0;34m(self, text_instance, classifier_fn, labels, top_labels, num_features, num_samples, distance_metric, model_regressor)\u001b[0m\n\u001b[1;32m    368\u001b[0m \u001b[39mdef\u001b[39;00m \u001b[39mexplain_instance\u001b[39m(\u001b[39mself\u001b[39m,\n\u001b[1;32m    369\u001b[0m                      text_instance,\n\u001b[1;32m    370\u001b[0m                      classifier_fn,\n\u001b[0;32m   (...)\u001b[0m\n\u001b[1;32m    375\u001b[0m                      distance_metric\u001b[39m=\u001b[39m\u001b[39m'\u001b[39m\u001b[39mcosine\u001b[39m\u001b[39m'\u001b[39m,\n\u001b[1;32m    376\u001b[0m                      model_regressor\u001b[39m=\u001b[39m\u001b[39mNone\u001b[39;00m):\n\u001b[1;32m    377\u001b[0m     \u001b[39m\"\"\"Generates explanations for a prediction.\u001b[39;00m\n\u001b[1;32m    378\u001b[0m \n\u001b[1;32m    379\u001b[0m \u001b[39m    First, we generate neighborhood data by randomly hiding features from\u001b[39;00m\n\u001b[0;32m   (...)\u001b[0m\n\u001b[1;32m    403\u001b[0m \u001b[39m        explanations.\u001b[39;00m\n\u001b[1;32m    404\u001b[0m \u001b[39m    \"\"\"\u001b[39;00m\n\u001b[1;32m    406\u001b[0m     indexed_string \u001b[39m=\u001b[39m (IndexedCharacters(\n\u001b[1;32m    407\u001b[0m         text_instance, bow\u001b[39m=\u001b[39m\u001b[39mself\u001b[39m\u001b[39m.\u001b[39mbow, mask_string\u001b[39m=\u001b[39m\u001b[39mself\u001b[39m\u001b[39m.\u001b[39mmask_string)\n\u001b[1;32m    408\u001b[0m                       \u001b[39mif\u001b[39;00m \u001b[39mself\u001b[39m\u001b[39m.\u001b[39mchar_level \u001b[39melse\u001b[39;00m\n\u001b[0;32m--> 409\u001b[0m                       IndexedString(text_instance, bow\u001b[39m=\u001b[39;49m\u001b[39mself\u001b[39;49m\u001b[39m.\u001b[39;49mbow,\n\u001b[1;32m    410\u001b[0m                                     split_expression\u001b[39m=\u001b[39;49m\u001b[39mself\u001b[39;49m\u001b[39m.\u001b[39;49msplit_expression,\n\u001b[1;32m    411\u001b[0m                                     mask_string\u001b[39m=\u001b[39;49m\u001b[39mself\u001b[39;49m\u001b[39m.\u001b[39;49mmask_string))\n\u001b[1;32m    412\u001b[0m     domain_mapper \u001b[39m=\u001b[39m TextDomainMapper(indexed_string)\n\u001b[1;32m    413\u001b[0m     data, yss, distances \u001b[39m=\u001b[39m \u001b[39mself\u001b[39m\u001b[39m.\u001b[39m__data_labels_distances(\n\u001b[1;32m    414\u001b[0m         indexed_string, classifier_fn, num_samples,\n\u001b[1;32m    415\u001b[0m         distance_metric\u001b[39m=\u001b[39mdistance_metric)\n",
      "File \u001b[0;32m~/opt/anaconda3/envs/nlp_masterthesis/lib/python3.10/site-packages/lime/lime_text.py:114\u001b[0m, in \u001b[0;36mIndexedString.__init__\u001b[0;34m(self, raw_string, split_expression, bow, mask_string)\u001b[0m\n\u001b[1;32m    110\u001b[0m \u001b[39melse\u001b[39;00m:\n\u001b[1;32m    111\u001b[0m     \u001b[39m# with the split_expression as a non-capturing group (?:), we don't need to filter out\u001b[39;00m\n\u001b[1;32m    112\u001b[0m     \u001b[39m# the separator character from the split results.\u001b[39;00m\n\u001b[1;32m    113\u001b[0m     splitter \u001b[39m=\u001b[39m re\u001b[39m.\u001b[39mcompile(\u001b[39mr\u001b[39m\u001b[39m'\u001b[39m\u001b[39m(\u001b[39m\u001b[39m%s\u001b[39;00m\u001b[39m)|$\u001b[39m\u001b[39m'\u001b[39m \u001b[39m%\u001b[39m split_expression)\n\u001b[0;32m--> 114\u001b[0m     \u001b[39mself\u001b[39m\u001b[39m.\u001b[39mas_list \u001b[39m=\u001b[39m [s \u001b[39mfor\u001b[39;00m s \u001b[39min\u001b[39;00m splitter\u001b[39m.\u001b[39;49msplit(\u001b[39mself\u001b[39;49m\u001b[39m.\u001b[39;49mraw) \u001b[39mif\u001b[39;00m s]\n\u001b[1;32m    115\u001b[0m     non_word \u001b[39m=\u001b[39m splitter\u001b[39m.\u001b[39mmatch\n\u001b[1;32m    117\u001b[0m \u001b[39mself\u001b[39m\u001b[39m.\u001b[39mas_np \u001b[39m=\u001b[39m np\u001b[39m.\u001b[39marray(\u001b[39mself\u001b[39m\u001b[39m.\u001b[39mas_list)\n",
      "\u001b[0;31mTypeError\u001b[0m: expected string or bytes-like object"
     ]
    }
   ],
   "source": [
    "import lime\n",
    "from lime.lime_text import LimeTextExplainer\n",
    "\n",
    "explainer = lime.lime_text.LimeTextExplainer(X_train_vec, class_names=lr.classes_)\n",
    "# num features is the number of features to be shown\n",
    "# top labels is the number of labels with the highest probability to be shown\n",
    "exp = explainer.explain_instance(X_test_vec[4], lr.predict_proba, num_features=5, top_labels=2)\n",
    "exp.show_in_notebook(show_table=True, show_all=False)"
   ]
  }
 ],
 "metadata": {
  "kernelspec": {
   "display_name": "nlp_masterthesis",
   "language": "python",
   "name": "python3"
  },
  "language_info": {
   "codemirror_mode": {
    "name": "ipython",
    "version": 3
   },
   "file_extension": ".py",
   "mimetype": "text/x-python",
   "name": "python",
   "nbconvert_exporter": "python",
   "pygments_lexer": "ipython3",
   "version": "3.10.6"
  },
  "orig_nbformat": 4,
  "vscode": {
   "interpreter": {
    "hash": "6b1167c26af54c6340f890887cef801dce27ac37ff6fc6a99bb1eb896d088a43"
   }
  }
 },
 "nbformat": 4,
 "nbformat_minor": 2
}
