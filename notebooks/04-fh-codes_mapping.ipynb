{
 "cells": [
  {
   "cell_type": "code",
   "execution_count": 212,
   "metadata": {},
   "outputs": [],
   "source": [
    "import requests\n",
    "import pandas as pd\n",
    "import numpy as np\n",
    "from bs4 import BeautifulSoup, SoupStrainer\n",
    "from urllib.parse import urljoin"
   ]
  },
  {
   "cell_type": "code",
   "execution_count": 4,
   "metadata": {},
   "outputs": [],
   "source": [
    "codes_website = \"https://icdcodelookup.com/icd-10/common-codes\""
   ]
  },
  {
   "cell_type": "code",
   "execution_count": 1,
   "metadata": {},
   "outputs": [
    {
     "name": "stdout",
     "output_type": "stream",
     "text": [
      "Hello\n"
     ]
    }
   ],
   "source": [
    "print(\"Hello\")"
   ]
  },
  {
   "cell_type": "code",
   "execution_count": 5,
   "metadata": {},
   "outputs": [
    {
     "name": "stdout",
     "output_type": "stream",
     "text": [
      "Anesthesiology\n",
      "Audiology\n",
      "Cardiology\n",
      "Cardiothoracic & Vascular\n",
      "Chiropractic\n",
      "Dermatology\n",
      "Emergency Medicine\n",
      "Endocrinology\n",
      "Family Practice\n",
      "Gastroenterology\n",
      "General Surgery\n",
      "Hematology\n",
      "Infectious Disease\n",
      "Internal Medicine\n",
      "Mental & Behavioral Health\n",
      "Nephrology\n",
      "Neurology\n",
      "Obstetrics & Gynaecology\n",
      "Oncology\n",
      "Ophthalmology\n",
      "Orthopedics - Lower\n",
      "Orthopedics - Upper\n",
      "Otolaryngology\n",
      "Pain Management\n",
      "Pathology\n",
      "Pediatrics\n",
      "Physical Therapy\n",
      "Plastic Surgery\n",
      "Podiatry\n",
      "Primary Care\n",
      "Pulmonology\n",
      "Radiology\n",
      "Speech Pathology\n",
      "Urology\n"
     ]
    },
    {
     "data": {
      "text/html": [
       "<div>\n",
       "<style scoped>\n",
       "    .dataframe tbody tr th:only-of-type {\n",
       "        vertical-align: middle;\n",
       "    }\n",
       "\n",
       "    .dataframe tbody tr th {\n",
       "        vertical-align: top;\n",
       "    }\n",
       "\n",
       "    .dataframe thead th {\n",
       "        text-align: right;\n",
       "    }\n",
       "</style>\n",
       "<table border=\"1\" class=\"dataframe\">\n",
       "  <thead>\n",
       "    <tr style=\"text-align: right;\">\n",
       "      <th></th>\n",
       "      <th>specialty</th>\n",
       "      <th>codes</th>\n",
       "    </tr>\n",
       "  </thead>\n",
       "  <tbody>\n",
       "    <tr>\n",
       "      <th>7371</th>\n",
       "      <td>Urology</td>\n",
       "      <td>R10.32</td>\n",
       "    </tr>\n",
       "    <tr>\n",
       "      <th>7372</th>\n",
       "      <td>Urology</td>\n",
       "      <td>R10.33</td>\n",
       "    </tr>\n",
       "    <tr>\n",
       "      <th>7373</th>\n",
       "      <td>Urology</td>\n",
       "      <td>R10.84</td>\n",
       "    </tr>\n",
       "    <tr>\n",
       "      <th>7374</th>\n",
       "      <td>Urology</td>\n",
       "      <td>R10.9</td>\n",
       "    </tr>\n",
       "    <tr>\n",
       "      <th>7375</th>\n",
       "      <td>Urology</td>\n",
       "      <td>R97.2</td>\n",
       "    </tr>\n",
       "  </tbody>\n",
       "</table>\n",
       "</div>"
      ],
      "text/plain": [
       "     specialty   codes\n",
       "7371   Urology  R10.32\n",
       "7372   Urology  R10.33\n",
       "7373   Urology  R10.84\n",
       "7374   Urology   R10.9\n",
       "7375   Urology   R97.2"
      ]
     },
     "execution_count": 5,
     "metadata": {},
     "output_type": "execute_result"
    }
   ],
   "source": [
    "def get_medical_specialties(url: str) -> str | None:\n",
    "    res = requests.get(url)\n",
    "    if res.status_code in range(200, 300):\n",
    "        soup = BeautifulSoup(\n",
    "            res.content,\n",
    "            \"lxml\",\n",
    "            parse_only=SoupStrainer(\"ul\", class_=\"specialtyList\"),\n",
    "        )\n",
    "        specialties = soup.findAll(\"li\")\n",
    "        specialty_dict = {specialty.a.text: specialty.a[\"href\"] for specialty in specialties}\n",
    "        return specialty_dict\n",
    "    return None\n",
    "\n",
    "def get_icd10_codes(url: str) -> str | None:\n",
    "    res = requests.get(url)\n",
    "    if res.status_code in range(200, 300):\n",
    "        soup = BeautifulSoup(\n",
    "            res.content,\n",
    "            \"lxml\",\n",
    "            parse_only=SoupStrainer(\"ul\", class_=\"chapterList\"),\n",
    "        )\n",
    "        codes = soup.findAll(\"div\", class_=\"code\")\n",
    "        codes_list = [code.span.text for code in codes]\n",
    "        return codes_list\n",
    "    else:\n",
    "        return None\n",
    "\n",
    "\n",
    "specialty_dict = get_medical_specialties(codes_website)\n",
    "specialty_codes_dict = {}\n",
    "for key, value in specialty_dict.items():\n",
    "    print(key)\n",
    "    webpage_specialty = urljoin(codes_website, value)\n",
    "    specialty_codes_dict[key] = get_icd10_codes(webpage_specialty)\n",
    "\n",
    "df = pd.DataFrame([[key,value] for key, value in specialty_codes_dict.items()], columns=[\"specialty\", \"codes\"])\n",
    "df = df.explode(\"codes\").reset_index(drop=True)\n",
    "df.head()\n",
    "df.tail()"
   ]
  },
  {
   "cell_type": "code",
   "execution_count": 237,
   "metadata": {},
   "outputs": [
    {
     "name": "stdout",
     "output_type": "stream",
     "text": [
      "(24860, 2)\n"
     ]
    },
    {
     "data": {
      "text/html": [
       "<div>\n",
       "<style scoped>\n",
       "    .dataframe tbody tr th:only-of-type {\n",
       "        vertical-align: middle;\n",
       "    }\n",
       "\n",
       "    .dataframe tbody tr th {\n",
       "        vertical-align: top;\n",
       "    }\n",
       "\n",
       "    .dataframe thead th {\n",
       "        text-align: right;\n",
       "    }\n",
       "</style>\n",
       "<table border=\"1\" class=\"dataframe\">\n",
       "  <thead>\n",
       "    <tr style=\"text-align: right;\">\n",
       "      <th></th>\n",
       "      <th>icd9</th>\n",
       "      <th>icd10</th>\n",
       "    </tr>\n",
       "  </thead>\n",
       "  <tbody>\n",
       "    <tr>\n",
       "      <th>0</th>\n",
       "      <td>0010</td>\n",
       "      <td>A000</td>\n",
       "    </tr>\n",
       "    <tr>\n",
       "      <th>1</th>\n",
       "      <td>0011</td>\n",
       "      <td>A001</td>\n",
       "    </tr>\n",
       "    <tr>\n",
       "      <th>2</th>\n",
       "      <td>0019</td>\n",
       "      <td>A009</td>\n",
       "    </tr>\n",
       "    <tr>\n",
       "      <th>3</th>\n",
       "      <td>0020</td>\n",
       "      <td>A0100</td>\n",
       "    </tr>\n",
       "    <tr>\n",
       "      <th>4</th>\n",
       "      <td>0021</td>\n",
       "      <td>A011</td>\n",
       "    </tr>\n",
       "  </tbody>\n",
       "</table>\n",
       "</div>"
      ],
      "text/plain": [
       "   icd9  icd10\n",
       "0  0010   A000\n",
       "1  0011   A001\n",
       "2  0019   A009\n",
       "3  0020  A0100\n",
       "4  0021   A011"
      ]
     },
     "execution_count": 237,
     "metadata": {},
     "output_type": "execute_result"
    }
   ],
   "source": [
    "df_mapping_icd9_icd10 = pd.read_csv(\"../data/raw/icd_mapping/icd9to10.txt\", sep=\"\\s+\", header=None, usecols=[0,1], names=[\"icd9\", \"icd10\"])\n",
    "\n",
    "print(df_mapping_icd9_icd10.shape)\n",
    "df_mapping_icd9_icd10.head()\n"
   ]
  },
  {
   "cell_type": "code",
   "execution_count": 240,
   "metadata": {},
   "outputs": [
    {
     "name": "stdout",
     "output_type": "stream",
     "text": [
      "(24438, 2)\n"
     ]
    },
    {
     "data": {
      "text/html": [
       "<div>\n",
       "<style scoped>\n",
       "    .dataframe tbody tr th:only-of-type {\n",
       "        vertical-align: middle;\n",
       "    }\n",
       "\n",
       "    .dataframe tbody tr th {\n",
       "        vertical-align: top;\n",
       "    }\n",
       "\n",
       "    .dataframe thead th {\n",
       "        text-align: right;\n",
       "    }\n",
       "</style>\n",
       "<table border=\"1\" class=\"dataframe\">\n",
       "  <thead>\n",
       "    <tr style=\"text-align: right;\">\n",
       "      <th></th>\n",
       "      <th>icd9</th>\n",
       "      <th>icd10</th>\n",
       "    </tr>\n",
       "  </thead>\n",
       "  <tbody>\n",
       "    <tr>\n",
       "      <th>0</th>\n",
       "      <td>001</td>\n",
       "      <td>A00</td>\n",
       "    </tr>\n",
       "    <tr>\n",
       "      <th>1</th>\n",
       "      <td>001</td>\n",
       "      <td>A00</td>\n",
       "    </tr>\n",
       "    <tr>\n",
       "      <th>2</th>\n",
       "      <td>001</td>\n",
       "      <td>A00</td>\n",
       "    </tr>\n",
       "    <tr>\n",
       "      <th>3</th>\n",
       "      <td>002</td>\n",
       "      <td>A01</td>\n",
       "    </tr>\n",
       "    <tr>\n",
       "      <th>4</th>\n",
       "      <td>002</td>\n",
       "      <td>A01</td>\n",
       "    </tr>\n",
       "  </tbody>\n",
       "</table>\n",
       "</div>"
      ],
      "text/plain": [
       "  icd9 icd10\n",
       "0  001   A00\n",
       "1  001   A00\n",
       "2  001   A00\n",
       "3  002   A01\n",
       "4  002   A01"
      ]
     },
     "execution_count": 240,
     "metadata": {},
     "output_type": "execute_result"
    }
   ],
   "source": [
    "df_mapping_icd9_icd10[\"icd9\"] = df_mapping_icd9_icd10[\"icd9\"].str[:3]\n",
    "df_mapping_icd9_icd10[\"icd10\"] = df_mapping_icd9_icd10[\"icd10\"].str[:3]\n",
    "df_mapping_icd9_icd10 = df_mapping_icd9_icd10[df_mapping_icd9_icd10[\"icd10\"] != \"NoD\"].copy()\n",
    "\n",
    "print(df_mapping_icd9_icd10.shape)\n",
    "df_mapping_icd9_icd10.head()\n"
   ]
  },
  {
   "cell_type": "code",
   "execution_count": 241,
   "metadata": {},
   "outputs": [
    {
     "data": {
      "text/html": [
       "<div>\n",
       "<style scoped>\n",
       "    .dataframe tbody tr th:only-of-type {\n",
       "        vertical-align: middle;\n",
       "    }\n",
       "\n",
       "    .dataframe tbody tr th {\n",
       "        vertical-align: top;\n",
       "    }\n",
       "\n",
       "    .dataframe thead th {\n",
       "        text-align: right;\n",
       "    }\n",
       "</style>\n",
       "<table border=\"1\" class=\"dataframe\">\n",
       "  <thead>\n",
       "    <tr style=\"text-align: right;\">\n",
       "      <th></th>\n",
       "      <th>icd9</th>\n",
       "      <th>icd10</th>\n",
       "    </tr>\n",
       "  </thead>\n",
       "  <tbody>\n",
       "  </tbody>\n",
       "</table>\n",
       "</div>"
      ],
      "text/plain": [
       "Empty DataFrame\n",
       "Columns: [icd9, icd10]\n",
       "Index: []"
      ]
     },
     "execution_count": 241,
     "metadata": {},
     "output_type": "execute_result"
    }
   ],
   "source": [
    "df_mapping_icd9_icd10[df_mapping_icd9_icd10[\"icd9\"] == \"E86\"]"
   ]
  },
  {
   "cell_type": "code",
   "execution_count": 227,
   "metadata": {},
   "outputs": [
    {
     "name": "stdout",
     "output_type": "stream",
     "text": [
      "(1038, 2)\n"
     ]
    },
    {
     "data": {
      "text/html": [
       "<div>\n",
       "<style scoped>\n",
       "    .dataframe tbody tr th:only-of-type {\n",
       "        vertical-align: middle;\n",
       "    }\n",
       "\n",
       "    .dataframe tbody tr th {\n",
       "        vertical-align: top;\n",
       "    }\n",
       "\n",
       "    .dataframe thead th {\n",
       "        text-align: right;\n",
       "    }\n",
       "</style>\n",
       "<table border=\"1\" class=\"dataframe\">\n",
       "  <thead>\n",
       "    <tr style=\"text-align: right;\">\n",
       "      <th></th>\n",
       "      <th>icd9</th>\n",
       "      <th>icd10</th>\n",
       "    </tr>\n",
       "  </thead>\n",
       "  <tbody>\n",
       "    <tr>\n",
       "      <th>0</th>\n",
       "      <td>001</td>\n",
       "      <td>A00</td>\n",
       "    </tr>\n",
       "    <tr>\n",
       "      <th>1</th>\n",
       "      <td>002</td>\n",
       "      <td>A01</td>\n",
       "    </tr>\n",
       "    <tr>\n",
       "      <th>2</th>\n",
       "      <td>003</td>\n",
       "      <td>A02</td>\n",
       "    </tr>\n",
       "    <tr>\n",
       "      <th>3</th>\n",
       "      <td>004</td>\n",
       "      <td>A03</td>\n",
       "    </tr>\n",
       "    <tr>\n",
       "      <th>4</th>\n",
       "      <td>005</td>\n",
       "      <td>A05</td>\n",
       "    </tr>\n",
       "  </tbody>\n",
       "</table>\n",
       "</div>"
      ],
      "text/plain": [
       "  icd9 icd10\n",
       "0  001   A00\n",
       "1  002   A01\n",
       "2  003   A02\n",
       "3  004   A03\n",
       "4  005   A05"
      ]
     },
     "execution_count": 227,
     "metadata": {},
     "output_type": "execute_result"
    }
   ],
   "source": [
    "df_mapping_grouped = df_mapping_icd9_icd10.groupby('icd9', as_index=False).icd10.agg(lambda x: x.mode()[0])\n",
    "print(df_mapping_grouped.shape)\n",
    "df_mapping_grouped.head()"
   ]
  },
  {
   "cell_type": "code",
   "execution_count": 228,
   "metadata": {},
   "outputs": [
    {
     "data": {
      "text/html": [
       "<div>\n",
       "<style scoped>\n",
       "    .dataframe tbody tr th:only-of-type {\n",
       "        vertical-align: middle;\n",
       "    }\n",
       "\n",
       "    .dataframe tbody tr th {\n",
       "        vertical-align: top;\n",
       "    }\n",
       "\n",
       "    .dataframe thead th {\n",
       "        text-align: right;\n",
       "    }\n",
       "</style>\n",
       "<table border=\"1\" class=\"dataframe\">\n",
       "  <thead>\n",
       "    <tr style=\"text-align: right;\">\n",
       "      <th></th>\n",
       "      <th>icd9</th>\n",
       "      <th>icd10</th>\n",
       "    </tr>\n",
       "  </thead>\n",
       "  <tbody>\n",
       "  </tbody>\n",
       "</table>\n",
       "</div>"
      ],
      "text/plain": [
       "Empty DataFrame\n",
       "Columns: [icd9, icd10]\n",
       "Index: []"
      ]
     },
     "execution_count": 228,
     "metadata": {},
     "output_type": "execute_result"
    }
   ],
   "source": [
    "df_mapping_grouped[df_mapping_grouped[\"icd9\"] == \"365\"]\n",
    "df_mapping_grouped[df_mapping_grouped[\"icd10\"] == \"NoD\"]"
   ]
  },
  {
   "cell_type": "code",
   "execution_count": 230,
   "metadata": {},
   "outputs": [
    {
     "data": {
      "text/html": [
       "<div>\n",
       "<style scoped>\n",
       "    .dataframe tbody tr th:only-of-type {\n",
       "        vertical-align: middle;\n",
       "    }\n",
       "\n",
       "    .dataframe tbody tr th {\n",
       "        vertical-align: top;\n",
       "    }\n",
       "\n",
       "    .dataframe thead th {\n",
       "        text-align: right;\n",
       "    }\n",
       "</style>\n",
       "<table border=\"1\" class=\"dataframe\">\n",
       "  <thead>\n",
       "    <tr style=\"text-align: right;\">\n",
       "      <th></th>\n",
       "      <th>ROW_ID</th>\n",
       "      <th>SUBJECT_ID</th>\n",
       "      <th>HADM_ID</th>\n",
       "      <th>SEQ_NUM</th>\n",
       "      <th>ICD9_CODE</th>\n",
       "    </tr>\n",
       "  </thead>\n",
       "  <tbody>\n",
       "    <tr>\n",
       "      <th>0</th>\n",
       "      <td>1297</td>\n",
       "      <td>109</td>\n",
       "      <td>172335</td>\n",
       "      <td>1.0</td>\n",
       "      <td>403</td>\n",
       "    </tr>\n",
       "    <tr>\n",
       "      <th>1</th>\n",
       "      <td>1298</td>\n",
       "      <td>109</td>\n",
       "      <td>172335</td>\n",
       "      <td>2.0</td>\n",
       "      <td>486</td>\n",
       "    </tr>\n",
       "    <tr>\n",
       "      <th>2</th>\n",
       "      <td>1299</td>\n",
       "      <td>109</td>\n",
       "      <td>172335</td>\n",
       "      <td>3.0</td>\n",
       "      <td>582</td>\n",
       "    </tr>\n",
       "    <tr>\n",
       "      <th>3</th>\n",
       "      <td>1300</td>\n",
       "      <td>109</td>\n",
       "      <td>172335</td>\n",
       "      <td>4.0</td>\n",
       "      <td>585</td>\n",
       "    </tr>\n",
       "    <tr>\n",
       "      <th>4</th>\n",
       "      <td>1301</td>\n",
       "      <td>109</td>\n",
       "      <td>172335</td>\n",
       "      <td>5.0</td>\n",
       "      <td>425</td>\n",
       "    </tr>\n",
       "  </tbody>\n",
       "</table>\n",
       "</div>"
      ],
      "text/plain": [
       "   ROW_ID  SUBJECT_ID  HADM_ID  SEQ_NUM ICD9_CODE\n",
       "0    1297         109   172335      1.0       403\n",
       "1    1298         109   172335      2.0       486\n",
       "2    1299         109   172335      3.0       582\n",
       "3    1300         109   172335      4.0       585\n",
       "4    1301         109   172335      5.0       425"
      ]
     },
     "execution_count": 230,
     "metadata": {},
     "output_type": "execute_result"
    }
   ],
   "source": [
    "df_mimic = pd.read_csv(\"../data/raw/mimic_iii/DIAGNOSES_ICD.csv\")\n",
    "df_mimic = df_mimic.dropna(subset=[\"ICD9_CODE\"], axis=0)\n",
    "df_mimic[\"ICD9_CODE\"] = df_mimic[\"ICD9_CODE\"].str[:3]\n",
    "df_mimic.head()"
   ]
  },
  {
   "cell_type": "code",
   "execution_count": 231,
   "metadata": {},
   "outputs": [
    {
     "data": {
      "text/plain": [
       "(651000, 5)"
      ]
     },
     "execution_count": 231,
     "metadata": {},
     "output_type": "execute_result"
    }
   ],
   "source": [
    "df_mimic.shape"
   ]
  },
  {
   "cell_type": "code",
   "execution_count": 232,
   "metadata": {},
   "outputs": [
    {
     "data": {
      "text/plain": [
       "651000"
      ]
     },
     "execution_count": 232,
     "metadata": {},
     "output_type": "execute_result"
    }
   ],
   "source": [
    "df_mimic[\"ROW_ID\"].nunique()"
   ]
  },
  {
   "cell_type": "code",
   "execution_count": 190,
   "metadata": {},
   "outputs": [
    {
     "data": {
      "text/html": [
       "<div>\n",
       "<style scoped>\n",
       "    .dataframe tbody tr th:only-of-type {\n",
       "        vertical-align: middle;\n",
       "    }\n",
       "\n",
       "    .dataframe tbody tr th {\n",
       "        vertical-align: top;\n",
       "    }\n",
       "\n",
       "    .dataframe thead th {\n",
       "        text-align: right;\n",
       "    }\n",
       "</style>\n",
       "<table border=\"1\" class=\"dataframe\">\n",
       "  <thead>\n",
       "    <tr style=\"text-align: right;\">\n",
       "      <th></th>\n",
       "      <th>icd9</th>\n",
       "      <th>icd10</th>\n",
       "    </tr>\n",
       "  </thead>\n",
       "  <tbody>\n",
       "    <tr>\n",
       "      <th>0</th>\n",
       "      <td>001</td>\n",
       "      <td>A00</td>\n",
       "    </tr>\n",
       "    <tr>\n",
       "      <th>1</th>\n",
       "      <td>002</td>\n",
       "      <td>A01</td>\n",
       "    </tr>\n",
       "    <tr>\n",
       "      <th>2</th>\n",
       "      <td>003</td>\n",
       "      <td>A02</td>\n",
       "    </tr>\n",
       "    <tr>\n",
       "      <th>3</th>\n",
       "      <td>004</td>\n",
       "      <td>A03</td>\n",
       "    </tr>\n",
       "    <tr>\n",
       "      <th>4</th>\n",
       "      <td>005</td>\n",
       "      <td>A05</td>\n",
       "    </tr>\n",
       "  </tbody>\n",
       "</table>\n",
       "</div>"
      ],
      "text/plain": [
       "  icd9 icd10\n",
       "0  001   A00\n",
       "1  002   A01\n",
       "2  003   A02\n",
       "3  004   A03\n",
       "4  005   A05"
      ]
     },
     "execution_count": 190,
     "metadata": {},
     "output_type": "execute_result"
    }
   ],
   "source": [
    "df_mapping_grouped.head()"
   ]
  },
  {
   "cell_type": "code",
   "execution_count": 235,
   "metadata": {},
   "outputs": [
    {
     "name": "stdout",
     "output_type": "stream",
     "text": [
      "(651000, 7)\n"
     ]
    },
    {
     "data": {
      "text/plain": [
       "array(['E93', 'E85', 'E94', 'E86'], dtype=object)"
      ]
     },
     "execution_count": 235,
     "metadata": {},
     "output_type": "execute_result"
    }
   ],
   "source": [
    "df_test = pd.merge(df_mimic, df_mapping_grouped, left_on=\"ICD9_CODE\", right_on=\"icd9\", how=\"left\")\n",
    "print(df_test.shape)\n",
    "df_test.head()\n",
    "\n",
    "df_test[df_test[\"icd10\"].isna()][\"ICD9_CODE\"].unique()"
   ]
  },
  {
   "cell_type": "code",
   "execution_count": 192,
   "metadata": {},
   "outputs": [
    {
     "data": {
      "text/plain": [
       "815"
      ]
     },
     "execution_count": 192,
     "metadata": {},
     "output_type": "execute_result"
    }
   ],
   "source": [
    "df_test.icd10.nunique()"
   ]
  },
  {
   "cell_type": "code",
   "execution_count": 193,
   "metadata": {},
   "outputs": [
    {
     "data": {
      "text/plain": [
       "ROW_ID          int64\n",
       "SUBJECT_ID      int64\n",
       "HADM_ID         int64\n",
       "SEQ_NUM       float64\n",
       "ICD9_CODE      object\n",
       "icd9           object\n",
       "icd10          object\n",
       "dtype: object"
      ]
     },
     "execution_count": 193,
     "metadata": {},
     "output_type": "execute_result"
    }
   ],
   "source": [
    "df_test.dtypes"
   ]
  },
  {
   "cell_type": "code",
   "execution_count": 194,
   "metadata": {},
   "outputs": [],
   "source": [
    "# Apply custom mapping\n",
    "# merge first part of the dataframe with the rest\n",
    "# split into two parts\n",
    "# drop rows for na df\n",
    "# add +1 to them\n",
    "# merge again\n",
    "# combine both dataframes\n",
    "# check for duplicates in row id\n",
    "# only take first 3 digits of icd9 code"
   ]
  },
  {
   "cell_type": "code",
   "execution_count": 195,
   "metadata": {},
   "outputs": [
    {
     "data": {
      "text/html": [
       "<div>\n",
       "<style scoped>\n",
       "    .dataframe tbody tr th:only-of-type {\n",
       "        vertical-align: middle;\n",
       "    }\n",
       "\n",
       "    .dataframe tbody tr th {\n",
       "        vertical-align: top;\n",
       "    }\n",
       "\n",
       "    .dataframe thead th {\n",
       "        text-align: right;\n",
       "    }\n",
       "</style>\n",
       "<table border=\"1\" class=\"dataframe\">\n",
       "  <thead>\n",
       "    <tr style=\"text-align: right;\">\n",
       "      <th></th>\n",
       "      <th>category_codes</th>\n",
       "      <th>category_codes_des</th>\n",
       "      <th>block_codes</th>\n",
       "      <th>block_codes_des</th>\n",
       "      <th>chapter_codes</th>\n",
       "      <th>chapter_codes_des</th>\n",
       "    </tr>\n",
       "  </thead>\n",
       "  <tbody>\n",
       "    <tr>\n",
       "      <th>0</th>\n",
       "      <td>A00</td>\n",
       "      <td>Cholera</td>\n",
       "      <td>A00-A09</td>\n",
       "      <td>Intestinal infectious diseases (A00-A09)</td>\n",
       "      <td>1</td>\n",
       "      <td>Certain infectious and parasitic diseases (A00...</td>\n",
       "    </tr>\n",
       "    <tr>\n",
       "      <th>1</th>\n",
       "      <td>A01</td>\n",
       "      <td>Typhoid and paratyphoid fevers</td>\n",
       "      <td>A00-A09</td>\n",
       "      <td>Intestinal infectious diseases (A00-A09)</td>\n",
       "      <td>1</td>\n",
       "      <td>Certain infectious and parasitic diseases (A00...</td>\n",
       "    </tr>\n",
       "    <tr>\n",
       "      <th>2</th>\n",
       "      <td>A02</td>\n",
       "      <td>Other salmonella infections</td>\n",
       "      <td>A00-A09</td>\n",
       "      <td>Intestinal infectious diseases (A00-A09)</td>\n",
       "      <td>1</td>\n",
       "      <td>Certain infectious and parasitic diseases (A00...</td>\n",
       "    </tr>\n",
       "    <tr>\n",
       "      <th>3</th>\n",
       "      <td>A03</td>\n",
       "      <td>Shigellosis</td>\n",
       "      <td>A00-A09</td>\n",
       "      <td>Intestinal infectious diseases (A00-A09)</td>\n",
       "      <td>1</td>\n",
       "      <td>Certain infectious and parasitic diseases (A00...</td>\n",
       "    </tr>\n",
       "    <tr>\n",
       "      <th>4</th>\n",
       "      <td>A04</td>\n",
       "      <td>Other bacterial intestinal infections</td>\n",
       "      <td>A00-A09</td>\n",
       "      <td>Intestinal infectious diseases (A00-A09)</td>\n",
       "      <td>1</td>\n",
       "      <td>Certain infectious and parasitic diseases (A00...</td>\n",
       "    </tr>\n",
       "  </tbody>\n",
       "</table>\n",
       "</div>"
      ],
      "text/plain": [
       "  category_codes                     category_codes_des block_codes  \\\n",
       "0            A00                                Cholera     A00-A09   \n",
       "1            A01         Typhoid and paratyphoid fevers     A00-A09   \n",
       "2            A02            Other salmonella infections     A00-A09   \n",
       "3            A03                            Shigellosis     A00-A09   \n",
       "4            A04  Other bacterial intestinal infections     A00-A09   \n",
       "\n",
       "                            block_codes_des  chapter_codes  \\\n",
       "0  Intestinal infectious diseases (A00-A09)              1   \n",
       "1  Intestinal infectious diseases (A00-A09)              1   \n",
       "2  Intestinal infectious diseases (A00-A09)              1   \n",
       "3  Intestinal infectious diseases (A00-A09)              1   \n",
       "4  Intestinal infectious diseases (A00-A09)              1   \n",
       "\n",
       "                                   chapter_codes_des  \n",
       "0  Certain infectious and parasitic diseases (A00...  \n",
       "1  Certain infectious and parasitic diseases (A00...  \n",
       "2  Certain infectious and parasitic diseases (A00...  \n",
       "3  Certain infectious and parasitic diseases (A00...  \n",
       "4  Certain infectious and parasitic diseases (A00...  "
      ]
     },
     "execution_count": 195,
     "metadata": {},
     "output_type": "execute_result"
    }
   ],
   "source": [
    "df_10 = pd.read_csv(\"../data/interim/icd10_codes_and_des.csv\")\n",
    "df_10.head()"
   ]
  },
  {
   "cell_type": "code",
   "execution_count": 204,
   "metadata": {},
   "outputs": [
    {
     "data": {
      "text/plain": [
       "array(['NoD'], dtype=object)"
      ]
     },
     "execution_count": 204,
     "metadata": {},
     "output_type": "execute_result"
    }
   ],
   "source": [
    "df_results = pd.merge(df_test, df_10, left_on=\"icd10\", right_on=\"category_codes\", how=\"left\")\n",
    "df_results.head()\n",
    "\n",
    "df_results[df_results[\"block_codes\"].isna()][\"icd10\"].unique()"
   ]
  },
  {
   "cell_type": "code",
   "execution_count": 125,
   "metadata": {},
   "outputs": [
    {
     "data": {
      "text/plain": [
       "(21173212, 13)"
      ]
     },
     "execution_count": 125,
     "metadata": {},
     "output_type": "execute_result"
    }
   ],
   "source": [
    "df_results.shape"
   ]
  },
  {
   "cell_type": "code",
   "execution_count": 85,
   "metadata": {},
   "outputs": [
    {
     "data": {
      "text/html": [
       "<div>\n",
       "<style scoped>\n",
       "    .dataframe tbody tr th:only-of-type {\n",
       "        vertical-align: middle;\n",
       "    }\n",
       "\n",
       "    .dataframe tbody tr th {\n",
       "        vertical-align: top;\n",
       "    }\n",
       "\n",
       "    .dataframe thead th {\n",
       "        text-align: right;\n",
       "    }\n",
       "</style>\n",
       "<table border=\"1\" class=\"dataframe\">\n",
       "  <thead>\n",
       "    <tr style=\"text-align: right;\">\n",
       "      <th></th>\n",
       "      <th>category_codes</th>\n",
       "      <th>category_codes_des</th>\n",
       "      <th>block_codes</th>\n",
       "      <th>block_codes_des</th>\n",
       "      <th>chapter_codes</th>\n",
       "      <th>chapter_codes_des</th>\n",
       "    </tr>\n",
       "  </thead>\n",
       "  <tbody>\n",
       "    <tr>\n",
       "      <th>1229</th>\n",
       "      <td>V87</td>\n",
       "      <td>Other specified personal exposures and history...</td>\n",
       "      <td>V87-V87</td>\n",
       "      <td>Other Specified Personal Exposures And History...</td>\n",
       "      <td>V01-V91</td>\n",
       "      <td>Supplementary Classification Of Factors Influe...</td>\n",
       "    </tr>\n",
       "    <tr>\n",
       "      <th>1230</th>\n",
       "      <td>V88</td>\n",
       "      <td>Acquired absence of other organs and tissue</td>\n",
       "      <td>V88-V88</td>\n",
       "      <td>Acquired Absence Of Other Organs And Tissue</td>\n",
       "      <td>V01-V91</td>\n",
       "      <td>Supplementary Classification Of Factors Influe...</td>\n",
       "    </tr>\n",
       "    <tr>\n",
       "      <th>1231</th>\n",
       "      <td>V89</td>\n",
       "      <td>Other suspected conditions not found</td>\n",
       "      <td>V89-V89</td>\n",
       "      <td>Other Suspected Conditions Not Found</td>\n",
       "      <td>V01-V91</td>\n",
       "      <td>Supplementary Classification Of Factors Influe...</td>\n",
       "    </tr>\n",
       "    <tr>\n",
       "      <th>1232</th>\n",
       "      <td>V90</td>\n",
       "      <td>Retained foreign body</td>\n",
       "      <td>V90-V90</td>\n",
       "      <td>Retained Foreign Body</td>\n",
       "      <td>V01-V91</td>\n",
       "      <td>Supplementary Classification Of Factors Influe...</td>\n",
       "    </tr>\n",
       "    <tr>\n",
       "      <th>1233</th>\n",
       "      <td>V91</td>\n",
       "      <td>Multiple gestation placenta status</td>\n",
       "      <td>V91-V91</td>\n",
       "      <td>Multiple Gestation Placenta Status</td>\n",
       "      <td>V01-V91</td>\n",
       "      <td>Supplementary Classification Of Factors Influe...</td>\n",
       "    </tr>\n",
       "  </tbody>\n",
       "</table>\n",
       "</div>"
      ],
      "text/plain": [
       "     category_codes                                 category_codes_des  \\\n",
       "1229            V87  Other specified personal exposures and history...   \n",
       "1230            V88        Acquired absence of other organs and tissue   \n",
       "1231            V89               Other suspected conditions not found   \n",
       "1232            V90                              Retained foreign body   \n",
       "1233            V91                 Multiple gestation placenta status   \n",
       "\n",
       "     block_codes                                    block_codes_des  \\\n",
       "1229     V87-V87  Other Specified Personal Exposures And History...   \n",
       "1230     V88-V88        Acquired Absence Of Other Organs And Tissue   \n",
       "1231     V89-V89               Other Suspected Conditions Not Found   \n",
       "1232     V90-V90                              Retained Foreign Body   \n",
       "1233     V91-V91                 Multiple Gestation Placenta Status   \n",
       "\n",
       "     chapter_codes                                  chapter_codes_des  \n",
       "1229       V01-V91  Supplementary Classification Of Factors Influe...  \n",
       "1230       V01-V91  Supplementary Classification Of Factors Influe...  \n",
       "1231       V01-V91  Supplementary Classification Of Factors Influe...  \n",
       "1232       V01-V91  Supplementary Classification Of Factors Influe...  \n",
       "1233       V01-V91  Supplementary Classification Of Factors Influe...  "
      ]
     },
     "execution_count": 85,
     "metadata": {},
     "output_type": "execute_result"
    }
   ],
   "source": [
    "df_9 = pd.read_csv(\"../data/interim/icd9_codes_and_des.csv\")\n",
    "df_9.tail()"
   ]
  },
  {
   "cell_type": "code",
   "execution_count": 86,
   "metadata": {},
   "outputs": [
    {
     "ename": "TypeError",
     "evalue": "'int' object is not subscriptable",
     "output_type": "error",
     "traceback": [
      "\u001b[1;31m---------------------------------------------------------------------------\u001b[0m",
      "\u001b[1;31mTypeError\u001b[0m                                 Traceback (most recent call last)",
      "Cell \u001b[1;32mIn [86], line 1\u001b[0m\n\u001b[1;32m----> 1\u001b[0m \u001b[39mlen\u001b[39m(df_9)[\u001b[39m\"\u001b[39m\u001b[39mcategory_codes\u001b[39m\u001b[39m\"\u001b[39m]\u001b[39m.\u001b[39munique()\n",
      "\u001b[1;31mTypeError\u001b[0m: 'int' object is not subscriptable"
     ]
    }
   ],
   "source": []
  },
  {
   "cell_type": "code",
   "execution_count": null,
   "metadata": {},
   "outputs": [],
   "source": []
  }
 ],
 "metadata": {
  "kernelspec": {
   "display_name": "Python 3.10.6 ('nlp_masterthesis')",
   "language": "python",
   "name": "python3"
  },
  "language_info": {
   "codemirror_mode": {
    "name": "ipython",
    "version": 3
   },
   "file_extension": ".py",
   "mimetype": "text/x-python",
   "name": "python",
   "nbconvert_exporter": "python",
   "pygments_lexer": "ipython3",
   "version": "3.10.6"
  },
  "orig_nbformat": 4,
  "vscode": {
   "interpreter": {
    "hash": "40268d9a6ead8a84520c08d0b901e046bd2176336d854cc732bdbdbf7245879e"
   }
  }
 },
 "nbformat": 4,
 "nbformat_minor": 2
}
