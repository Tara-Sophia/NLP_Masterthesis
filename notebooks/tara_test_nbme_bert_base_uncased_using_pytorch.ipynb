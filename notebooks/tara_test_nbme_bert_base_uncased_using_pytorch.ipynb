{
  "cells": [
    {
      "cell_type": "code",
      "execution_count": null,
      "id": "5b965fe3",
      "metadata": {
        "_cell_guid": "b1076dfc-b9ad-4769-8c92-a6c4dae69d19",
        "_uuid": "8f2839f25d086af736a60e9eeb907d3b93b6e0e5",
        "papermill": {
          "duration": 0.041318,
          "end_time": "2022-05-04T23:55:08.091827",
          "exception": false,
          "start_time": "2022-05-04T23:55:08.050509",
          "status": "completed"
        },
        "tags": [],
        "id": "5b965fe3"
      },
      "outputs": [],
      "source": []
    },
    {
      "cell_type": "code",
      "execution_count": 3,
      "id": "ac2341e9",
      "metadata": {
        "papermill": {
          "duration": 0.039419,
          "end_time": "2022-05-04T23:55:08.172207",
          "exception": false,
          "start_time": "2022-05-04T23:55:08.132788",
          "status": "completed"
        },
        "tags": [],
        "colab": {
          "base_uri": "https://localhost:8080/"
        },
        "id": "ac2341e9",
        "outputId": "fd2f8c9c-4792-436b-8205-a84cb6471133"
      },
      "outputs": [
        {
          "output_type": "stream",
          "name": "stdout",
          "text": [
            "Looking in indexes: https://pypi.org/simple, https://us-python.pkg.dev/colab-wheels/public/simple/\n",
            "Collecting transformers\n",
            "  Downloading transformers-4.23.1-py3-none-any.whl (5.3 MB)\n",
            "\u001b[K     |████████████████████████████████| 5.3 MB 26.2 MB/s \n",
            "\u001b[?25hRequirement already satisfied: importlib-metadata in /usr/local/lib/python3.7/dist-packages (from transformers) (4.13.0)\n",
            "Requirement already satisfied: pyyaml>=5.1 in /usr/local/lib/python3.7/dist-packages (from transformers) (6.0)\n",
            "Requirement already satisfied: regex!=2019.12.17 in /usr/local/lib/python3.7/dist-packages (from transformers) (2022.6.2)\n",
            "Collecting tokenizers!=0.11.3,<0.14,>=0.11.1\n",
            "  Downloading tokenizers-0.13.1-cp37-cp37m-manylinux_2_17_x86_64.manylinux2014_x86_64.whl (7.6 MB)\n",
            "\u001b[K     |████████████████████████████████| 7.6 MB 55.4 MB/s \n",
            "\u001b[?25hRequirement already satisfied: filelock in /usr/local/lib/python3.7/dist-packages (from transformers) (3.8.0)\n",
            "Requirement already satisfied: numpy>=1.17 in /usr/local/lib/python3.7/dist-packages (from transformers) (1.21.6)\n",
            "Requirement already satisfied: requests in /usr/local/lib/python3.7/dist-packages (from transformers) (2.23.0)\n",
            "Collecting huggingface-hub<1.0,>=0.10.0\n",
            "  Downloading huggingface_hub-0.10.1-py3-none-any.whl (163 kB)\n",
            "\u001b[K     |████████████████████████████████| 163 kB 74.6 MB/s \n",
            "\u001b[?25hRequirement already satisfied: packaging>=20.0 in /usr/local/lib/python3.7/dist-packages (from transformers) (21.3)\n",
            "Requirement already satisfied: tqdm>=4.27 in /usr/local/lib/python3.7/dist-packages (from transformers) (4.64.1)\n",
            "Requirement already satisfied: typing-extensions>=3.7.4.3 in /usr/local/lib/python3.7/dist-packages (from huggingface-hub<1.0,>=0.10.0->transformers) (4.1.1)\n",
            "Requirement already satisfied: pyparsing!=3.0.5,>=2.0.2 in /usr/local/lib/python3.7/dist-packages (from packaging>=20.0->transformers) (3.0.9)\n",
            "Requirement already satisfied: zipp>=0.5 in /usr/local/lib/python3.7/dist-packages (from importlib-metadata->transformers) (3.9.0)\n",
            "Requirement already satisfied: urllib3!=1.25.0,!=1.25.1,<1.26,>=1.21.1 in /usr/local/lib/python3.7/dist-packages (from requests->transformers) (1.24.3)\n",
            "Requirement already satisfied: chardet<4,>=3.0.2 in /usr/local/lib/python3.7/dist-packages (from requests->transformers) (3.0.4)\n",
            "Requirement already satisfied: idna<3,>=2.5 in /usr/local/lib/python3.7/dist-packages (from requests->transformers) (2.10)\n",
            "Requirement already satisfied: certifi>=2017.4.17 in /usr/local/lib/python3.7/dist-packages (from requests->transformers) (2022.9.24)\n",
            "Installing collected packages: tokenizers, huggingface-hub, transformers\n",
            "Successfully installed huggingface-hub-0.10.1 tokenizers-0.13.1 transformers-4.23.1\n"
          ]
        }
      ],
      "source": [
        "!pip install transformers"
      ]
    },
    {
      "cell_type": "markdown",
      "id": "959cd199",
      "metadata": {
        "papermill": {
          "duration": 0.039858,
          "end_time": "2022-05-04T23:55:08.253717",
          "exception": false,
          "start_time": "2022-05-04T23:55:08.213859",
          "status": "completed"
        },
        "tags": [],
        "id": "959cd199"
      },
      "source": [
        "# All the important imports"
      ]
    },
    {
      "cell_type": "code",
      "execution_count": 4,
      "id": "a28fa4c7",
      "metadata": {
        "papermill": {
          "duration": 6.285754,
          "end_time": "2022-05-04T23:55:14.579251",
          "exception": false,
          "start_time": "2022-05-04T23:55:08.293497",
          "status": "completed"
        },
        "tags": [],
        "id": "a28fa4c7"
      },
      "outputs": [],
      "source": [
        "import numpy as np\n",
        "import pandas as pd\n",
        "\n",
        "import transformers\n",
        "import tokenizers\n",
        "import torch\n",
        "from transformers import AdamW\n",
        "from transformers import get_linear_schedule_with_warmup\n",
        "from tqdm.autonotebook import tqdm\n",
        "\n",
        "from ast import literal_eval\n",
        "import time"
      ]
    },
    {
      "cell_type": "code",
      "execution_count": 5,
      "id": "43037d34",
      "metadata": {
        "papermill": {
          "duration": 0.048861,
          "end_time": "2022-05-04T23:55:14.668470",
          "exception": false,
          "start_time": "2022-05-04T23:55:14.619609",
          "status": "completed"
        },
        "tags": [],
        "id": "43037d34"
      },
      "outputs": [],
      "source": [
        "torch.cuda.empty_cache()\n",
        "\n",
        "import os\n",
        "os.environ[\"TOKENIZERS_PARALLELISM\"] = \"false\"\n",
        "\n",
        "import warnings\n",
        "warnings.filterwarnings(\"ignore\", category=DeprecationWarning) "
      ]
    },
    {
      "cell_type": "code",
      "execution_count": 6,
      "id": "d06ead00",
      "metadata": {
        "papermill": {
          "duration": 0.757553,
          "end_time": "2022-05-04T23:55:15.466056",
          "exception": false,
          "start_time": "2022-05-04T23:55:14.708503",
          "status": "completed"
        },
        "tags": [],
        "id": "d06ead00"
      },
      "outputs": [],
      "source": [
        "#BASE_PATH = \"../data/\"\n",
        "features_df = pd.read_csv(\"features.csv\")\n",
        "patient_notes_df = pd.read_csv(\"patient_notes.csv\")\n",
        "train_df = pd.read_csv(\"train.csv\")\n",
        "test_df = pd.read_csv(\"test.csv\")\n",
        "submission_df = pd.read_csv(\"sample_submission.csv\")"
      ]
    },
    {
      "cell_type": "code",
      "execution_count": null,
      "id": "9aa440c4",
      "metadata": {
        "execution": {
          "iopub.execute_input": "2022-05-04T23:55:15.554642Z",
          "iopub.status.busy": "2022-05-04T23:55:15.553935Z",
          "iopub.status.idle": "2022-05-04T23:55:15.557260Z",
          "shell.execute_reply": "2022-05-04T23:55:15.557689Z",
          "shell.execute_reply.started": "2022-05-04T22:11:45.027155Z"
        },
        "papermill": {
          "duration": 0.050615,
          "end_time": "2022-05-04T23:55:15.557832",
          "exception": false,
          "start_time": "2022-05-04T23:55:15.507217",
          "status": "completed"
        },
        "tags": [],
        "id": "9aa440c4",
        "outputId": "9e37298e-8612-4adb-d94e-73130aae110f"
      },
      "outputs": [
        {
          "data": {
            "text/plain": [
              "(5, 4)"
            ]
          },
          "execution_count": 4,
          "metadata": {},
          "output_type": "execute_result"
        }
      ],
      "source": [
        "test_df.shape"
      ]
    },
    {
      "cell_type": "code",
      "execution_count": 7,
      "id": "50ef1401",
      "metadata": {
        "execution": {
          "iopub.execute_input": "2022-05-04T23:55:15.645799Z",
          "iopub.status.busy": "2022-05-04T23:55:15.644860Z",
          "iopub.status.idle": "2022-05-04T23:55:15.656014Z",
          "shell.execute_reply": "2022-05-04T23:55:15.656445Z",
          "shell.execute_reply.started": "2022-05-04T22:11:45.077083Z"
        },
        "papermill": {
          "duration": 0.057711,
          "end_time": "2022-05-04T23:55:15.656568",
          "exception": false,
          "start_time": "2022-05-04T23:55:15.598857",
          "status": "completed"
        },
        "tags": [],
        "colab": {
          "base_uri": "https://localhost:8080/",
          "height": 206
        },
        "id": "50ef1401",
        "outputId": "ddeb74a5-391f-4872-b172-ca6ec49d993a"
      },
      "outputs": [
        {
          "output_type": "execute_result",
          "data": {
            "text/plain": [
              "     feature_num  case_num                 feature_text\n",
              "138          912         9  Family-history-of-migraines\n",
              "139          913         9                       Female\n",
              "140          914         9                  Photophobia\n",
              "141          915         9    No-known-illness-contacts\n",
              "142          916         9             Subjective-fever"
            ],
            "text/html": [
              "\n",
              "  <div id=\"df-061d9e73-fd11-4ae4-be4f-b0bed1c906f0\">\n",
              "    <div class=\"colab-df-container\">\n",
              "      <div>\n",
              "<style scoped>\n",
              "    .dataframe tbody tr th:only-of-type {\n",
              "        vertical-align: middle;\n",
              "    }\n",
              "\n",
              "    .dataframe tbody tr th {\n",
              "        vertical-align: top;\n",
              "    }\n",
              "\n",
              "    .dataframe thead th {\n",
              "        text-align: right;\n",
              "    }\n",
              "</style>\n",
              "<table border=\"1\" class=\"dataframe\">\n",
              "  <thead>\n",
              "    <tr style=\"text-align: right;\">\n",
              "      <th></th>\n",
              "      <th>feature_num</th>\n",
              "      <th>case_num</th>\n",
              "      <th>feature_text</th>\n",
              "    </tr>\n",
              "  </thead>\n",
              "  <tbody>\n",
              "    <tr>\n",
              "      <th>138</th>\n",
              "      <td>912</td>\n",
              "      <td>9</td>\n",
              "      <td>Family-history-of-migraines</td>\n",
              "    </tr>\n",
              "    <tr>\n",
              "      <th>139</th>\n",
              "      <td>913</td>\n",
              "      <td>9</td>\n",
              "      <td>Female</td>\n",
              "    </tr>\n",
              "    <tr>\n",
              "      <th>140</th>\n",
              "      <td>914</td>\n",
              "      <td>9</td>\n",
              "      <td>Photophobia</td>\n",
              "    </tr>\n",
              "    <tr>\n",
              "      <th>141</th>\n",
              "      <td>915</td>\n",
              "      <td>9</td>\n",
              "      <td>No-known-illness-contacts</td>\n",
              "    </tr>\n",
              "    <tr>\n",
              "      <th>142</th>\n",
              "      <td>916</td>\n",
              "      <td>9</td>\n",
              "      <td>Subjective-fever</td>\n",
              "    </tr>\n",
              "  </tbody>\n",
              "</table>\n",
              "</div>\n",
              "      <button class=\"colab-df-convert\" onclick=\"convertToInteractive('df-061d9e73-fd11-4ae4-be4f-b0bed1c906f0')\"\n",
              "              title=\"Convert this dataframe to an interactive table.\"\n",
              "              style=\"display:none;\">\n",
              "        \n",
              "  <svg xmlns=\"http://www.w3.org/2000/svg\" height=\"24px\"viewBox=\"0 0 24 24\"\n",
              "       width=\"24px\">\n",
              "    <path d=\"M0 0h24v24H0V0z\" fill=\"none\"/>\n",
              "    <path d=\"M18.56 5.44l.94 2.06.94-2.06 2.06-.94-2.06-.94-.94-2.06-.94 2.06-2.06.94zm-11 1L8.5 8.5l.94-2.06 2.06-.94-2.06-.94L8.5 2.5l-.94 2.06-2.06.94zm10 10l.94 2.06.94-2.06 2.06-.94-2.06-.94-.94-2.06-.94 2.06-2.06.94z\"/><path d=\"M17.41 7.96l-1.37-1.37c-.4-.4-.92-.59-1.43-.59-.52 0-1.04.2-1.43.59L10.3 9.45l-7.72 7.72c-.78.78-.78 2.05 0 2.83L4 21.41c.39.39.9.59 1.41.59.51 0 1.02-.2 1.41-.59l7.78-7.78 2.81-2.81c.8-.78.8-2.07 0-2.86zM5.41 20L4 18.59l7.72-7.72 1.47 1.35L5.41 20z\"/>\n",
              "  </svg>\n",
              "      </button>\n",
              "      \n",
              "  <style>\n",
              "    .colab-df-container {\n",
              "      display:flex;\n",
              "      flex-wrap:wrap;\n",
              "      gap: 12px;\n",
              "    }\n",
              "\n",
              "    .colab-df-convert {\n",
              "      background-color: #E8F0FE;\n",
              "      border: none;\n",
              "      border-radius: 50%;\n",
              "      cursor: pointer;\n",
              "      display: none;\n",
              "      fill: #1967D2;\n",
              "      height: 32px;\n",
              "      padding: 0 0 0 0;\n",
              "      width: 32px;\n",
              "    }\n",
              "\n",
              "    .colab-df-convert:hover {\n",
              "      background-color: #E2EBFA;\n",
              "      box-shadow: 0px 1px 2px rgba(60, 64, 67, 0.3), 0px 1px 3px 1px rgba(60, 64, 67, 0.15);\n",
              "      fill: #174EA6;\n",
              "    }\n",
              "\n",
              "    [theme=dark] .colab-df-convert {\n",
              "      background-color: #3B4455;\n",
              "      fill: #D2E3FC;\n",
              "    }\n",
              "\n",
              "    [theme=dark] .colab-df-convert:hover {\n",
              "      background-color: #434B5C;\n",
              "      box-shadow: 0px 1px 3px 1px rgba(0, 0, 0, 0.15);\n",
              "      filter: drop-shadow(0px 1px 2px rgba(0, 0, 0, 0.3));\n",
              "      fill: #FFFFFF;\n",
              "    }\n",
              "  </style>\n",
              "\n",
              "      <script>\n",
              "        const buttonEl =\n",
              "          document.querySelector('#df-061d9e73-fd11-4ae4-be4f-b0bed1c906f0 button.colab-df-convert');\n",
              "        buttonEl.style.display =\n",
              "          google.colab.kernel.accessAllowed ? 'block' : 'none';\n",
              "\n",
              "        async function convertToInteractive(key) {\n",
              "          const element = document.querySelector('#df-061d9e73-fd11-4ae4-be4f-b0bed1c906f0');\n",
              "          const dataTable =\n",
              "            await google.colab.kernel.invokeFunction('convertToInteractive',\n",
              "                                                     [key], {});\n",
              "          if (!dataTable) return;\n",
              "\n",
              "          const docLinkHtml = 'Like what you see? Visit the ' +\n",
              "            '<a target=\"_blank\" href=https://colab.research.google.com/notebooks/data_table.ipynb>data table notebook</a>'\n",
              "            + ' to learn more about interactive tables.';\n",
              "          element.innerHTML = '';\n",
              "          dataTable['output_type'] = 'display_data';\n",
              "          await google.colab.output.renderOutput(dataTable, element);\n",
              "          const docLink = document.createElement('div');\n",
              "          docLink.innerHTML = docLinkHtml;\n",
              "          element.appendChild(docLink);\n",
              "        }\n",
              "      </script>\n",
              "    </div>\n",
              "  </div>\n",
              "  "
            ]
          },
          "metadata": {},
          "execution_count": 7
        }
      ],
      "source": [
        "features_df.tail()"
      ]
    },
    {
      "cell_type": "code",
      "execution_count": null,
      "id": "5cb79dba",
      "metadata": {
        "execution": {
          "iopub.execute_input": "2022-05-04T23:55:15.748175Z",
          "iopub.status.busy": "2022-05-04T23:55:15.747193Z",
          "iopub.status.idle": "2022-05-04T23:55:15.751063Z",
          "shell.execute_reply": "2022-05-04T23:55:15.750626Z",
          "shell.execute_reply.started": "2022-05-04T22:11:45.364566Z"
        },
        "papermill": {
          "duration": 0.053058,
          "end_time": "2022-05-04T23:55:15.751215",
          "exception": false,
          "start_time": "2022-05-04T23:55:15.698157",
          "status": "completed"
        },
        "tags": [],
        "id": "5cb79dba",
        "outputId": "a389a6a2-2dc6-464a-a4b9-64ff7e249404"
      },
      "outputs": [
        {
          "data": {
            "text/plain": [
              "feature_num     143\n",
              "case_num         10\n",
              "feature_text    131\n",
              "dtype: int64"
            ]
          },
          "execution_count": 6,
          "metadata": {},
          "output_type": "execute_result"
        }
      ],
      "source": [
        "features_df.nunique()"
      ]
    },
    {
      "cell_type": "code",
      "execution_count": 8,
      "id": "2ec4552e",
      "metadata": {
        "execution": {
          "iopub.execute_input": "2022-05-04T23:55:15.842352Z",
          "iopub.status.busy": "2022-05-04T23:55:15.841641Z",
          "iopub.status.idle": "2022-05-04T23:55:15.844847Z",
          "shell.execute_reply": "2022-05-04T23:55:15.845266Z",
          "shell.execute_reply.started": "2022-05-04T22:11:45.617631Z"
        },
        "papermill": {
          "duration": 0.053159,
          "end_time": "2022-05-04T23:55:15.845390",
          "exception": false,
          "start_time": "2022-05-04T23:55:15.792231",
          "status": "completed"
        },
        "tags": [],
        "colab": {
          "base_uri": "https://localhost:8080/",
          "height": 719
        },
        "id": "2ec4552e",
        "outputId": "6cd46212-509b-46e1-d73a-86723b5ea68f"
      },
      "outputs": [
        {
          "output_type": "execute_result",
          "data": {
            "text/plain": [
              "   pn_num  case_num  \\\n",
              "0       0         0   \n",
              "1       1         0   \n",
              "2       2         0   \n",
              "3       3         0   \n",
              "4       4         0   \n",
              "\n",
              "                                                                                                                                                                                                                                                                                                                                                                                                                                                                                                                                                                                                                                                                                                                                                                                                                                                                                                                                                                             pn_history  \n",
              "0                                                                                                                                                                                                                                               17-year-old male, has come to the student health clinic complaining of heart pounding. Mr. Cleveland's mother has given verbal consent for a history, physical examination, and treatment\\r\\n-began 2-3 months ago,sudden,intermittent for 2 days(lasting 3-4 min),worsening,non-allev/aggrav\\r\\n-associated with dispnea on exersion and rest,stressed out about school\\r\\n-reports fe feels like his heart is jumping out of his chest\\r\\n-ros:denies chest pain,dyaphoresis,wt loss,chills,fever,nausea,vomiting,pedal edeam\\r\\n-pmh:non,meds :aderol (from a friend),nkda\\r\\n-fh:father had MI recently,mother has thyroid dz\\r\\n-sh:non-smoker,mariguana 5-6 months ago,3 beers on the weekend, basketball at school\\r\\n-sh:no std  \n",
              "1                                                                                                                                                                                                                                                                                                                                                                                                                                                                                                                                              17 yo male with recurrent palpitations for the past 3 mo lasting about 3 - 4 min, it happened about 5 - 6 times since the beginning. One time durign a baskeball game two days ago light headedness, pressure in the chest, catching breath, but no fainting. During teh episodes no sweating. No diarrhea, no heat intolerance, no weight loss. Has tried aterol to be able to better concentrate, has received it from his roommate. .  \n",
              "2                                                                                                       Dillon Cleveland is a 17 y.o. male patient with no significant PMH who presents with complaints of heart pounding. This has been going on for a few months and happens once or twice a month. He cannot think of any triggers, and it has occurred both with activity and at rest. Occasionally, it is accompanied by chest pressure but not pain that is located at the center of his chest. On one instance, he experienced chest pressure, lightheadedness and shortness of breath for 10 minutes with the heart pounding. \\r\\n\\r\\nOtherwise, he has not had shortness of breath, chest pain, anxiety, \\r\\n\\r\\nMedication: adderall twice a week as study aid (not prescribed)\\r\\nFH: mother - thyroid disease, father - heart attack at age 52, both living\\r\\nSH: no smoking; 3-4 drinks on the weekend per sitting; marijuanna once recently, no other recreational drugs  \n",
              "3                                                                                                                                                                                                                                  a 17 yo m c/o palpitation started 3 mos ago; \\r\\nNOTHING IMPROVES OR EXACERBATES THE SYMPTOMS ACCORDING TO HIM; IT CAN HAPPEN ANY TIME; MAY TAKE A FEW MINUTES; LAST TIME HAPPENED 2 DAYS AGO DURING PLAYING A GAME AND IT WAS ASSOCIATED WITH RETROSTERNAL PRESSURE LIKE DISCOMFORT; AND HE FELT LIGHTHEADED. BUT HE DID NOT LOSE CONCIOUSNESS AND DID NOT FALL. \\r\\nNOT ASSOCIATED WITH NAUSEA VOMITING; HEADACHE; ABDOMINAL PAIN; CHANGES IN URINATION OR BOWEL HABITS, OR TREMOR OR SKIN OR HAIR CHANGE OR INTOLERABC\\r\\n\\r\\nPMH NONE\\r\\nPSHH: NONE\\r\\nMEDS: ADEROL TO STAY AWAKE\\r\\nHOSP: NONE\\r\\nFH: MOTHER HAS THYROID DISEASE; FATHER HAS CAD X 1 YR\\r\\nSH: NO SMOKING; DRINKING ON WEEKENDS CAGE 0/4; ONE TIME USE OF MARIJUANA\\r\\n\\r\\n\\r\\n  \n",
              "4  17yo male with no pmh here for evaluation of palpitations. States for the last 3-4mo he has felt that his heart with intermittently \"beat out of his chest,\" with some associated difficulty catching his breath. States that the most recent event was 2 days ago, and during activity at a soccer game. He does not seem to note any specific precipitatinig factors at this time. He also states that he feels as if he will faint during these events, but has not lost consciousness at any point. Furthermore, he does endorse theses attacks occuring 1-2 times a month and peak at 4 mins. He denies any stressors at home. ROS: denies weight loss, fevers, recnet illness, change in bowel habits. PMH: negative, PSH negative, FHX mom with thyroid disorder, dad with heart condition and MI at 52yo. SHX no tobacco, ETOH on weekends, Marijuana tried a month ago. Med: is taking some of roommates Adderoll intermittently (last was 2 days ago prior to event). KNDA  "
            ],
            "text/html": [
              "\n",
              "  <div id=\"df-7877f8ea-c26b-41ea-b32d-d06c72e6b69e\">\n",
              "    <div class=\"colab-df-container\">\n",
              "      <div>\n",
              "<style scoped>\n",
              "    .dataframe tbody tr th:only-of-type {\n",
              "        vertical-align: middle;\n",
              "    }\n",
              "\n",
              "    .dataframe tbody tr th {\n",
              "        vertical-align: top;\n",
              "    }\n",
              "\n",
              "    .dataframe thead th {\n",
              "        text-align: right;\n",
              "    }\n",
              "</style>\n",
              "<table border=\"1\" class=\"dataframe\">\n",
              "  <thead>\n",
              "    <tr style=\"text-align: right;\">\n",
              "      <th></th>\n",
              "      <th>pn_num</th>\n",
              "      <th>case_num</th>\n",
              "      <th>pn_history</th>\n",
              "    </tr>\n",
              "  </thead>\n",
              "  <tbody>\n",
              "    <tr>\n",
              "      <th>0</th>\n",
              "      <td>0</td>\n",
              "      <td>0</td>\n",
              "      <td>17-year-old male, has come to the student health clinic complaining of heart pounding. Mr. Cleveland's mother has given verbal consent for a history, physical examination, and treatment\\r\\n-began 2-3 months ago,sudden,intermittent for 2 days(lasting 3-4 min),worsening,non-allev/aggrav\\r\\n-associated with dispnea on exersion and rest,stressed out about school\\r\\n-reports fe feels like his heart is jumping out of his chest\\r\\n-ros:denies chest pain,dyaphoresis,wt loss,chills,fever,nausea,vomiting,pedal edeam\\r\\n-pmh:non,meds :aderol (from a friend),nkda\\r\\n-fh:father had MI recently,mother has thyroid dz\\r\\n-sh:non-smoker,mariguana 5-6 months ago,3 beers on the weekend, basketball at school\\r\\n-sh:no std</td>\n",
              "    </tr>\n",
              "    <tr>\n",
              "      <th>1</th>\n",
              "      <td>1</td>\n",
              "      <td>0</td>\n",
              "      <td>17 yo male with recurrent palpitations for the past 3 mo lasting about 3 - 4 min, it happened about 5 - 6 times since the beginning. One time durign a baskeball game two days ago light headedness, pressure in the chest, catching breath, but no fainting. During teh episodes no sweating. No diarrhea, no heat intolerance, no weight loss. Has tried aterol to be able to better concentrate, has received it from his roommate. .</td>\n",
              "    </tr>\n",
              "    <tr>\n",
              "      <th>2</th>\n",
              "      <td>2</td>\n",
              "      <td>0</td>\n",
              "      <td>Dillon Cleveland is a 17 y.o. male patient with no significant PMH who presents with complaints of heart pounding. This has been going on for a few months and happens once or twice a month. He cannot think of any triggers, and it has occurred both with activity and at rest. Occasionally, it is accompanied by chest pressure but not pain that is located at the center of his chest. On one instance, he experienced chest pressure, lightheadedness and shortness of breath for 10 minutes with the heart pounding. \\r\\n\\r\\nOtherwise, he has not had shortness of breath, chest pain, anxiety, \\r\\n\\r\\nMedication: adderall twice a week as study aid (not prescribed)\\r\\nFH: mother - thyroid disease, father - heart attack at age 52, both living\\r\\nSH: no smoking; 3-4 drinks on the weekend per sitting; marijuanna once recently, no other recreational drugs</td>\n",
              "    </tr>\n",
              "    <tr>\n",
              "      <th>3</th>\n",
              "      <td>3</td>\n",
              "      <td>0</td>\n",
              "      <td>a 17 yo m c/o palpitation started 3 mos ago; \\r\\nNOTHING IMPROVES OR EXACERBATES THE SYMPTOMS ACCORDING TO HIM; IT CAN HAPPEN ANY TIME; MAY TAKE A FEW MINUTES; LAST TIME HAPPENED 2 DAYS AGO DURING PLAYING A GAME AND IT WAS ASSOCIATED WITH RETROSTERNAL PRESSURE LIKE DISCOMFORT; AND HE FELT LIGHTHEADED. BUT HE DID NOT LOSE CONCIOUSNESS AND DID NOT FALL. \\r\\nNOT ASSOCIATED WITH NAUSEA VOMITING; HEADACHE; ABDOMINAL PAIN; CHANGES IN URINATION OR BOWEL HABITS, OR TREMOR OR SKIN OR HAIR CHANGE OR INTOLERABC\\r\\n\\r\\nPMH NONE\\r\\nPSHH: NONE\\r\\nMEDS: ADEROL TO STAY AWAKE\\r\\nHOSP: NONE\\r\\nFH: MOTHER HAS THYROID DISEASE; FATHER HAS CAD X 1 YR\\r\\nSH: NO SMOKING; DRINKING ON WEEKENDS CAGE 0/4; ONE TIME USE OF MARIJUANA\\r\\n\\r\\n\\r\\n</td>\n",
              "    </tr>\n",
              "    <tr>\n",
              "      <th>4</th>\n",
              "      <td>4</td>\n",
              "      <td>0</td>\n",
              "      <td>17yo male with no pmh here for evaluation of palpitations. States for the last 3-4mo he has felt that his heart with intermittently \"beat out of his chest,\" with some associated difficulty catching his breath. States that the most recent event was 2 days ago, and during activity at a soccer game. He does not seem to note any specific precipitatinig factors at this time. He also states that he feels as if he will faint during these events, but has not lost consciousness at any point. Furthermore, he does endorse theses attacks occuring 1-2 times a month and peak at 4 mins. He denies any stressors at home. ROS: denies weight loss, fevers, recnet illness, change in bowel habits. PMH: negative, PSH negative, FHX mom with thyroid disorder, dad with heart condition and MI at 52yo. SHX no tobacco, ETOH on weekends, Marijuana tried a month ago. Med: is taking some of roommates Adderoll intermittently (last was 2 days ago prior to event). KNDA</td>\n",
              "    </tr>\n",
              "  </tbody>\n",
              "</table>\n",
              "</div>\n",
              "      <button class=\"colab-df-convert\" onclick=\"convertToInteractive('df-7877f8ea-c26b-41ea-b32d-d06c72e6b69e')\"\n",
              "              title=\"Convert this dataframe to an interactive table.\"\n",
              "              style=\"display:none;\">\n",
              "        \n",
              "  <svg xmlns=\"http://www.w3.org/2000/svg\" height=\"24px\"viewBox=\"0 0 24 24\"\n",
              "       width=\"24px\">\n",
              "    <path d=\"M0 0h24v24H0V0z\" fill=\"none\"/>\n",
              "    <path d=\"M18.56 5.44l.94 2.06.94-2.06 2.06-.94-2.06-.94-.94-2.06-.94 2.06-2.06.94zm-11 1L8.5 8.5l.94-2.06 2.06-.94-2.06-.94L8.5 2.5l-.94 2.06-2.06.94zm10 10l.94 2.06.94-2.06 2.06-.94-2.06-.94-.94-2.06-.94 2.06-2.06.94z\"/><path d=\"M17.41 7.96l-1.37-1.37c-.4-.4-.92-.59-1.43-.59-.52 0-1.04.2-1.43.59L10.3 9.45l-7.72 7.72c-.78.78-.78 2.05 0 2.83L4 21.41c.39.39.9.59 1.41.59.51 0 1.02-.2 1.41-.59l7.78-7.78 2.81-2.81c.8-.78.8-2.07 0-2.86zM5.41 20L4 18.59l7.72-7.72 1.47 1.35L5.41 20z\"/>\n",
              "  </svg>\n",
              "      </button>\n",
              "      \n",
              "  <style>\n",
              "    .colab-df-container {\n",
              "      display:flex;\n",
              "      flex-wrap:wrap;\n",
              "      gap: 12px;\n",
              "    }\n",
              "\n",
              "    .colab-df-convert {\n",
              "      background-color: #E8F0FE;\n",
              "      border: none;\n",
              "      border-radius: 50%;\n",
              "      cursor: pointer;\n",
              "      display: none;\n",
              "      fill: #1967D2;\n",
              "      height: 32px;\n",
              "      padding: 0 0 0 0;\n",
              "      width: 32px;\n",
              "    }\n",
              "\n",
              "    .colab-df-convert:hover {\n",
              "      background-color: #E2EBFA;\n",
              "      box-shadow: 0px 1px 2px rgba(60, 64, 67, 0.3), 0px 1px 3px 1px rgba(60, 64, 67, 0.15);\n",
              "      fill: #174EA6;\n",
              "    }\n",
              "\n",
              "    [theme=dark] .colab-df-convert {\n",
              "      background-color: #3B4455;\n",
              "      fill: #D2E3FC;\n",
              "    }\n",
              "\n",
              "    [theme=dark] .colab-df-convert:hover {\n",
              "      background-color: #434B5C;\n",
              "      box-shadow: 0px 1px 3px 1px rgba(0, 0, 0, 0.15);\n",
              "      filter: drop-shadow(0px 1px 2px rgba(0, 0, 0, 0.3));\n",
              "      fill: #FFFFFF;\n",
              "    }\n",
              "  </style>\n",
              "\n",
              "      <script>\n",
              "        const buttonEl =\n",
              "          document.querySelector('#df-7877f8ea-c26b-41ea-b32d-d06c72e6b69e button.colab-df-convert');\n",
              "        buttonEl.style.display =\n",
              "          google.colab.kernel.accessAllowed ? 'block' : 'none';\n",
              "\n",
              "        async function convertToInteractive(key) {\n",
              "          const element = document.querySelector('#df-7877f8ea-c26b-41ea-b32d-d06c72e6b69e');\n",
              "          const dataTable =\n",
              "            await google.colab.kernel.invokeFunction('convertToInteractive',\n",
              "                                                     [key], {});\n",
              "          if (!dataTable) return;\n",
              "\n",
              "          const docLinkHtml = 'Like what you see? Visit the ' +\n",
              "            '<a target=\"_blank\" href=https://colab.research.google.com/notebooks/data_table.ipynb>data table notebook</a>'\n",
              "            + ' to learn more about interactive tables.';\n",
              "          element.innerHTML = '';\n",
              "          dataTable['output_type'] = 'display_data';\n",
              "          await google.colab.output.renderOutput(dataTable, element);\n",
              "          const docLink = document.createElement('div');\n",
              "          docLink.innerHTML = docLinkHtml;\n",
              "          element.appendChild(docLink);\n",
              "        }\n",
              "      </script>\n",
              "    </div>\n",
              "  </div>\n",
              "  "
            ]
          },
          "metadata": {},
          "execution_count": 8
        }
      ],
      "source": [
        "pd.set_option('max_colwidth', None)\n",
        "patient_notes_df.head()"
      ]
    },
    {
      "cell_type": "code",
      "execution_count": null,
      "id": "57f9fdd0",
      "metadata": {
        "execution": {
          "iopub.execute_input": "2022-05-04T23:55:15.932940Z",
          "iopub.status.busy": "2022-05-04T23:55:15.932053Z",
          "iopub.status.idle": "2022-05-04T23:55:16.026262Z",
          "shell.execute_reply": "2022-05-04T23:55:16.026692Z",
          "shell.execute_reply.started": "2022-05-04T22:11:45.864251Z"
        },
        "papermill": {
          "duration": 0.14034,
          "end_time": "2022-05-04T23:55:16.026837",
          "exception": false,
          "start_time": "2022-05-04T23:55:15.886497",
          "status": "completed"
        },
        "tags": [],
        "id": "57f9fdd0",
        "outputId": "03574567-1abc-48f1-c668-4182223cdc85"
      },
      "outputs": [
        {
          "data": {
            "text/plain": [
              "pn_num        42146\n",
              "case_num         10\n",
              "pn_history    42146\n",
              "dtype: int64"
            ]
          },
          "execution_count": 8,
          "metadata": {},
          "output_type": "execute_result"
        }
      ],
      "source": [
        "patient_notes_df.nunique()"
      ]
    },
    {
      "cell_type": "code",
      "execution_count": null,
      "id": "03506a95",
      "metadata": {
        "execution": {
          "iopub.execute_input": "2022-05-04T23:55:16.129502Z",
          "iopub.status.busy": "2022-05-04T23:55:16.127948Z",
          "iopub.status.idle": "2022-05-04T23:55:16.131905Z",
          "shell.execute_reply": "2022-05-04T23:55:16.131486Z",
          "shell.execute_reply.started": "2022-05-04T22:11:46.121203Z"
        },
        "papermill": {
          "duration": 0.062349,
          "end_time": "2022-05-04T23:55:16.132044",
          "exception": false,
          "start_time": "2022-05-04T23:55:16.069695",
          "status": "completed"
        },
        "tags": [],
        "id": "03506a95",
        "outputId": "9108abf1-fc7c-49d0-808f-b375731d606a"
      },
      "outputs": [
        {
          "data": {
            "text/html": [
              "<div>\n",
              "<style scoped>\n",
              "    .dataframe tbody tr th:only-of-type {\n",
              "        vertical-align: middle;\n",
              "    }\n",
              "\n",
              "    .dataframe tbody tr th {\n",
              "        vertical-align: top;\n",
              "    }\n",
              "\n",
              "    .dataframe thead th {\n",
              "        text-align: right;\n",
              "    }\n",
              "</style>\n",
              "<table border=\"1\" class=\"dataframe\">\n",
              "  <thead>\n",
              "    <tr style=\"text-align: right;\">\n",
              "      <th></th>\n",
              "      <th>id</th>\n",
              "      <th>case_num</th>\n",
              "      <th>pn_num</th>\n",
              "      <th>feature_num</th>\n",
              "      <th>annotation</th>\n",
              "      <th>location</th>\n",
              "    </tr>\n",
              "  </thead>\n",
              "  <tbody>\n",
              "    <tr>\n",
              "      <th>0</th>\n",
              "      <td>00016_000</td>\n",
              "      <td>0</td>\n",
              "      <td>16</td>\n",
              "      <td>0</td>\n",
              "      <td>['dad with recent heart attcak']</td>\n",
              "      <td>['696 724']</td>\n",
              "    </tr>\n",
              "    <tr>\n",
              "      <th>1</th>\n",
              "      <td>00016_001</td>\n",
              "      <td>0</td>\n",
              "      <td>16</td>\n",
              "      <td>1</td>\n",
              "      <td>['mom with \"thyroid disease']</td>\n",
              "      <td>['668 693']</td>\n",
              "    </tr>\n",
              "    <tr>\n",
              "      <th>2</th>\n",
              "      <td>00016_002</td>\n",
              "      <td>0</td>\n",
              "      <td>16</td>\n",
              "      <td>2</td>\n",
              "      <td>['chest pressure']</td>\n",
              "      <td>['203 217']</td>\n",
              "    </tr>\n",
              "    <tr>\n",
              "      <th>3</th>\n",
              "      <td>00016_003</td>\n",
              "      <td>0</td>\n",
              "      <td>16</td>\n",
              "      <td>3</td>\n",
              "      <td>['intermittent episodes', 'episode']</td>\n",
              "      <td>['70 91', '176 183']</td>\n",
              "    </tr>\n",
              "    <tr>\n",
              "      <th>4</th>\n",
              "      <td>00016_004</td>\n",
              "      <td>0</td>\n",
              "      <td>16</td>\n",
              "      <td>4</td>\n",
              "      <td>['felt as if he were going to pass out']</td>\n",
              "      <td>['222 258']</td>\n",
              "    </tr>\n",
              "    <tr>\n",
              "      <th>...</th>\n",
              "      <td>...</td>\n",
              "      <td>...</td>\n",
              "      <td>...</td>\n",
              "      <td>...</td>\n",
              "      <td>...</td>\n",
              "      <td>...</td>\n",
              "    </tr>\n",
              "    <tr>\n",
              "      <th>14295</th>\n",
              "      <td>95333_912</td>\n",
              "      <td>9</td>\n",
              "      <td>95333</td>\n",
              "      <td>912</td>\n",
              "      <td>[]</td>\n",
              "      <td>[]</td>\n",
              "    </tr>\n",
              "    <tr>\n",
              "      <th>14296</th>\n",
              "      <td>95333_913</td>\n",
              "      <td>9</td>\n",
              "      <td>95333</td>\n",
              "      <td>913</td>\n",
              "      <td>[]</td>\n",
              "      <td>[]</td>\n",
              "    </tr>\n",
              "    <tr>\n",
              "      <th>14297</th>\n",
              "      <td>95333_914</td>\n",
              "      <td>9</td>\n",
              "      <td>95333</td>\n",
              "      <td>914</td>\n",
              "      <td>['photobia']</td>\n",
              "      <td>['274 282']</td>\n",
              "    </tr>\n",
              "    <tr>\n",
              "      <th>14298</th>\n",
              "      <td>95333_915</td>\n",
              "      <td>9</td>\n",
              "      <td>95333</td>\n",
              "      <td>915</td>\n",
              "      <td>['no sick contacts']</td>\n",
              "      <td>['421 437']</td>\n",
              "    </tr>\n",
              "    <tr>\n",
              "      <th>14299</th>\n",
              "      <td>95333_916</td>\n",
              "      <td>9</td>\n",
              "      <td>95333</td>\n",
              "      <td>916</td>\n",
              "      <td>['Subjective fever']</td>\n",
              "      <td>['314 330']</td>\n",
              "    </tr>\n",
              "  </tbody>\n",
              "</table>\n",
              "<p>14300 rows × 6 columns</p>\n",
              "</div>"
            ],
            "text/plain": [
              "              id  case_num  pn_num  feature_num  \\\n",
              "0      00016_000         0      16            0   \n",
              "1      00016_001         0      16            1   \n",
              "2      00016_002         0      16            2   \n",
              "3      00016_003         0      16            3   \n",
              "4      00016_004         0      16            4   \n",
              "...          ...       ...     ...          ...   \n",
              "14295  95333_912         9   95333          912   \n",
              "14296  95333_913         9   95333          913   \n",
              "14297  95333_914         9   95333          914   \n",
              "14298  95333_915         9   95333          915   \n",
              "14299  95333_916         9   95333          916   \n",
              "\n",
              "                                     annotation              location  \n",
              "0              ['dad with recent heart attcak']           ['696 724']  \n",
              "1                 ['mom with \"thyroid disease']           ['668 693']  \n",
              "2                            ['chest pressure']           ['203 217']  \n",
              "3          ['intermittent episodes', 'episode']  ['70 91', '176 183']  \n",
              "4      ['felt as if he were going to pass out']           ['222 258']  \n",
              "...                                         ...                   ...  \n",
              "14295                                        []                    []  \n",
              "14296                                        []                    []  \n",
              "14297                              ['photobia']           ['274 282']  \n",
              "14298                      ['no sick contacts']           ['421 437']  \n",
              "14299                      ['Subjective fever']           ['314 330']  \n",
              "\n",
              "[14300 rows x 6 columns]"
            ]
          },
          "execution_count": 9,
          "metadata": {},
          "output_type": "execute_result"
        }
      ],
      "source": [
        "train_df"
      ]
    },
    {
      "cell_type": "code",
      "execution_count": null,
      "id": "967515bd",
      "metadata": {
        "execution": {
          "iopub.execute_input": "2022-05-04T23:55:16.222157Z",
          "iopub.status.busy": "2022-05-04T23:55:16.221615Z",
          "iopub.status.idle": "2022-05-04T23:55:16.235258Z",
          "shell.execute_reply": "2022-05-04T23:55:16.235663Z",
          "shell.execute_reply.started": "2022-05-04T22:11:46.360152Z"
        },
        "papermill": {
          "duration": 0.061313,
          "end_time": "2022-05-04T23:55:16.235790",
          "exception": false,
          "start_time": "2022-05-04T23:55:16.174477",
          "status": "completed"
        },
        "tags": [],
        "id": "967515bd",
        "outputId": "de88b1d1-20fa-4892-8bce-fa3de38ac63c"
      },
      "outputs": [
        {
          "data": {
            "text/plain": [
              "id             14300\n",
              "case_num          10\n",
              "pn_num          1000\n",
              "feature_num      143\n",
              "annotation      5201\n",
              "location        7534\n",
              "dtype: int64"
            ]
          },
          "execution_count": 10,
          "metadata": {},
          "output_type": "execute_result"
        }
      ],
      "source": [
        "train_df.nunique()"
      ]
    },
    {
      "cell_type": "code",
      "execution_count": 9,
      "id": "81514f99",
      "metadata": {
        "execution": {
          "iopub.execute_input": "2022-05-04T23:55:16.331155Z",
          "iopub.status.busy": "2022-05-04T23:55:16.330373Z",
          "iopub.status.idle": "2022-05-04T23:55:16.363238Z",
          "shell.execute_reply": "2022-05-04T23:55:16.362633Z",
          "shell.execute_reply.started": "2022-05-04T22:11:46.765524Z"
        },
        "papermill": {
          "duration": 0.084274,
          "end_time": "2022-05-04T23:55:16.363377",
          "exception": false,
          "start_time": "2022-05-04T23:55:16.279103",
          "status": "completed"
        },
        "tags": [],
        "colab": {
          "base_uri": "https://localhost:8080/",
          "height": 1000
        },
        "id": "81514f99",
        "outputId": "93e49fd5-ceac-42bf-bd96-df7e09c629c4"
      },
      "outputs": [
        {
          "output_type": "execute_result",
          "data": {
            "text/plain": [
              "          id  case_num  pn_num  feature_num  \\\n",
              "0  00016_000         0      16            0   \n",
              "1  00016_001         0      16            1   \n",
              "2  00016_002         0      16            2   \n",
              "3  00016_003         0      16            3   \n",
              "4  00016_004         0      16            4   \n",
              "\n",
              "                                 annotation              location  \\\n",
              "0          ['dad with recent heart attcak']           ['696 724']   \n",
              "1             ['mom with \"thyroid disease']           ['668 693']   \n",
              "2                        ['chest pressure']           ['203 217']   \n",
              "3      ['intermittent episodes', 'episode']  ['70 91', '176 183']   \n",
              "4  ['felt as if he were going to pass out']           ['222 258']   \n",
              "\n",
              "                                                      feature_text  \\\n",
              "0  Family-history-of-MI-OR-Family-history-of-myocardial-infarction   \n",
              "1                               Family-history-of-thyroid-disorder   \n",
              "2                                                   Chest-pressure   \n",
              "3                                            Intermittent-symptoms   \n",
              "4                                                      Lightheaded   \n",
              "\n",
              "                                                                                                                                                                                                                                                                                                                                                                                                                                                                                                                                                                                                                                                                                                                                                                                                                                                                                                                                                                               pn_history  \n",
              "0  HPI: 17yo M presents with palpitations. Patient reports 3-4 months of intermittent episodes of \"heart beating/pounding out of my chest.\" 2 days ago during a soccer game had an episode, but this time had chest pressure and felt as if he were going to pass out (did not lose conciousness). Of note patient endorses abusing adderall, primarily to study (1-3 times per week). Before recent soccer game, took adderrall night before and morning of game. Denies shortness of breath, diaphoresis, fevers, chills, headache, fatigue, changes in sleep, changes in vision/hearing, abdominal paun, changes in bowel or urinary habits. \\r\\nPMHx: none\\r\\nRx: uses friends adderrall\\r\\nFHx: mom with \"thyroid disease,\" dad with recent heart attcak\\r\\nAll: none\\r\\nImmunizations: up to date\\r\\nSHx: Freshmen in college. Endorses 3-4 drinks 3 nights / week (on weekends), denies tabacco, endorses trying marijuana. Sexually active with girlfriend x 1 year, uses condoms  \n",
              "1  HPI: 17yo M presents with palpitations. Patient reports 3-4 months of intermittent episodes of \"heart beating/pounding out of my chest.\" 2 days ago during a soccer game had an episode, but this time had chest pressure and felt as if he were going to pass out (did not lose conciousness). Of note patient endorses abusing adderall, primarily to study (1-3 times per week). Before recent soccer game, took adderrall night before and morning of game. Denies shortness of breath, diaphoresis, fevers, chills, headache, fatigue, changes in sleep, changes in vision/hearing, abdominal paun, changes in bowel or urinary habits. \\r\\nPMHx: none\\r\\nRx: uses friends adderrall\\r\\nFHx: mom with \"thyroid disease,\" dad with recent heart attcak\\r\\nAll: none\\r\\nImmunizations: up to date\\r\\nSHx: Freshmen in college. Endorses 3-4 drinks 3 nights / week (on weekends), denies tabacco, endorses trying marijuana. Sexually active with girlfriend x 1 year, uses condoms  \n",
              "2  HPI: 17yo M presents with palpitations. Patient reports 3-4 months of intermittent episodes of \"heart beating/pounding out of my chest.\" 2 days ago during a soccer game had an episode, but this time had chest pressure and felt as if he were going to pass out (did not lose conciousness). Of note patient endorses abusing adderall, primarily to study (1-3 times per week). Before recent soccer game, took adderrall night before and morning of game. Denies shortness of breath, diaphoresis, fevers, chills, headache, fatigue, changes in sleep, changes in vision/hearing, abdominal paun, changes in bowel or urinary habits. \\r\\nPMHx: none\\r\\nRx: uses friends adderrall\\r\\nFHx: mom with \"thyroid disease,\" dad with recent heart attcak\\r\\nAll: none\\r\\nImmunizations: up to date\\r\\nSHx: Freshmen in college. Endorses 3-4 drinks 3 nights / week (on weekends), denies tabacco, endorses trying marijuana. Sexually active with girlfriend x 1 year, uses condoms  \n",
              "3  HPI: 17yo M presents with palpitations. Patient reports 3-4 months of intermittent episodes of \"heart beating/pounding out of my chest.\" 2 days ago during a soccer game had an episode, but this time had chest pressure and felt as if he were going to pass out (did not lose conciousness). Of note patient endorses abusing adderall, primarily to study (1-3 times per week). Before recent soccer game, took adderrall night before and morning of game. Denies shortness of breath, diaphoresis, fevers, chills, headache, fatigue, changes in sleep, changes in vision/hearing, abdominal paun, changes in bowel or urinary habits. \\r\\nPMHx: none\\r\\nRx: uses friends adderrall\\r\\nFHx: mom with \"thyroid disease,\" dad with recent heart attcak\\r\\nAll: none\\r\\nImmunizations: up to date\\r\\nSHx: Freshmen in college. Endorses 3-4 drinks 3 nights / week (on weekends), denies tabacco, endorses trying marijuana. Sexually active with girlfriend x 1 year, uses condoms  \n",
              "4  HPI: 17yo M presents with palpitations. Patient reports 3-4 months of intermittent episodes of \"heart beating/pounding out of my chest.\" 2 days ago during a soccer game had an episode, but this time had chest pressure and felt as if he were going to pass out (did not lose conciousness). Of note patient endorses abusing adderall, primarily to study (1-3 times per week). Before recent soccer game, took adderrall night before and morning of game. Denies shortness of breath, diaphoresis, fevers, chills, headache, fatigue, changes in sleep, changes in vision/hearing, abdominal paun, changes in bowel or urinary habits. \\r\\nPMHx: none\\r\\nRx: uses friends adderrall\\r\\nFHx: mom with \"thyroid disease,\" dad with recent heart attcak\\r\\nAll: none\\r\\nImmunizations: up to date\\r\\nSHx: Freshmen in college. Endorses 3-4 drinks 3 nights / week (on weekends), denies tabacco, endorses trying marijuana. Sexually active with girlfriend x 1 year, uses condoms  "
            ],
            "text/html": [
              "\n",
              "  <div id=\"df-e7f44119-c087-48ee-8b80-d8528de3791c\">\n",
              "    <div class=\"colab-df-container\">\n",
              "      <div>\n",
              "<style scoped>\n",
              "    .dataframe tbody tr th:only-of-type {\n",
              "        vertical-align: middle;\n",
              "    }\n",
              "\n",
              "    .dataframe tbody tr th {\n",
              "        vertical-align: top;\n",
              "    }\n",
              "\n",
              "    .dataframe thead th {\n",
              "        text-align: right;\n",
              "    }\n",
              "</style>\n",
              "<table border=\"1\" class=\"dataframe\">\n",
              "  <thead>\n",
              "    <tr style=\"text-align: right;\">\n",
              "      <th></th>\n",
              "      <th>id</th>\n",
              "      <th>case_num</th>\n",
              "      <th>pn_num</th>\n",
              "      <th>feature_num</th>\n",
              "      <th>annotation</th>\n",
              "      <th>location</th>\n",
              "      <th>feature_text</th>\n",
              "      <th>pn_history</th>\n",
              "    </tr>\n",
              "  </thead>\n",
              "  <tbody>\n",
              "    <tr>\n",
              "      <th>0</th>\n",
              "      <td>00016_000</td>\n",
              "      <td>0</td>\n",
              "      <td>16</td>\n",
              "      <td>0</td>\n",
              "      <td>['dad with recent heart attcak']</td>\n",
              "      <td>['696 724']</td>\n",
              "      <td>Family-history-of-MI-OR-Family-history-of-myocardial-infarction</td>\n",
              "      <td>HPI: 17yo M presents with palpitations. Patient reports 3-4 months of intermittent episodes of \"heart beating/pounding out of my chest.\" 2 days ago during a soccer game had an episode, but this time had chest pressure and felt as if he were going to pass out (did not lose conciousness). Of note patient endorses abusing adderall, primarily to study (1-3 times per week). Before recent soccer game, took adderrall night before and morning of game. Denies shortness of breath, diaphoresis, fevers, chills, headache, fatigue, changes in sleep, changes in vision/hearing, abdominal paun, changes in bowel or urinary habits. \\r\\nPMHx: none\\r\\nRx: uses friends adderrall\\r\\nFHx: mom with \"thyroid disease,\" dad with recent heart attcak\\r\\nAll: none\\r\\nImmunizations: up to date\\r\\nSHx: Freshmen in college. Endorses 3-4 drinks 3 nights / week (on weekends), denies tabacco, endorses trying marijuana. Sexually active with girlfriend x 1 year, uses condoms</td>\n",
              "    </tr>\n",
              "    <tr>\n",
              "      <th>1</th>\n",
              "      <td>00016_001</td>\n",
              "      <td>0</td>\n",
              "      <td>16</td>\n",
              "      <td>1</td>\n",
              "      <td>['mom with \"thyroid disease']</td>\n",
              "      <td>['668 693']</td>\n",
              "      <td>Family-history-of-thyroid-disorder</td>\n",
              "      <td>HPI: 17yo M presents with palpitations. Patient reports 3-4 months of intermittent episodes of \"heart beating/pounding out of my chest.\" 2 days ago during a soccer game had an episode, but this time had chest pressure and felt as if he were going to pass out (did not lose conciousness). Of note patient endorses abusing adderall, primarily to study (1-3 times per week). Before recent soccer game, took adderrall night before and morning of game. Denies shortness of breath, diaphoresis, fevers, chills, headache, fatigue, changes in sleep, changes in vision/hearing, abdominal paun, changes in bowel or urinary habits. \\r\\nPMHx: none\\r\\nRx: uses friends adderrall\\r\\nFHx: mom with \"thyroid disease,\" dad with recent heart attcak\\r\\nAll: none\\r\\nImmunizations: up to date\\r\\nSHx: Freshmen in college. Endorses 3-4 drinks 3 nights / week (on weekends), denies tabacco, endorses trying marijuana. Sexually active with girlfriend x 1 year, uses condoms</td>\n",
              "    </tr>\n",
              "    <tr>\n",
              "      <th>2</th>\n",
              "      <td>00016_002</td>\n",
              "      <td>0</td>\n",
              "      <td>16</td>\n",
              "      <td>2</td>\n",
              "      <td>['chest pressure']</td>\n",
              "      <td>['203 217']</td>\n",
              "      <td>Chest-pressure</td>\n",
              "      <td>HPI: 17yo M presents with palpitations. Patient reports 3-4 months of intermittent episodes of \"heart beating/pounding out of my chest.\" 2 days ago during a soccer game had an episode, but this time had chest pressure and felt as if he were going to pass out (did not lose conciousness). Of note patient endorses abusing adderall, primarily to study (1-3 times per week). Before recent soccer game, took adderrall night before and morning of game. Denies shortness of breath, diaphoresis, fevers, chills, headache, fatigue, changes in sleep, changes in vision/hearing, abdominal paun, changes in bowel or urinary habits. \\r\\nPMHx: none\\r\\nRx: uses friends adderrall\\r\\nFHx: mom with \"thyroid disease,\" dad with recent heart attcak\\r\\nAll: none\\r\\nImmunizations: up to date\\r\\nSHx: Freshmen in college. Endorses 3-4 drinks 3 nights / week (on weekends), denies tabacco, endorses trying marijuana. Sexually active with girlfriend x 1 year, uses condoms</td>\n",
              "    </tr>\n",
              "    <tr>\n",
              "      <th>3</th>\n",
              "      <td>00016_003</td>\n",
              "      <td>0</td>\n",
              "      <td>16</td>\n",
              "      <td>3</td>\n",
              "      <td>['intermittent episodes', 'episode']</td>\n",
              "      <td>['70 91', '176 183']</td>\n",
              "      <td>Intermittent-symptoms</td>\n",
              "      <td>HPI: 17yo M presents with palpitations. Patient reports 3-4 months of intermittent episodes of \"heart beating/pounding out of my chest.\" 2 days ago during a soccer game had an episode, but this time had chest pressure and felt as if he were going to pass out (did not lose conciousness). Of note patient endorses abusing adderall, primarily to study (1-3 times per week). Before recent soccer game, took adderrall night before and morning of game. Denies shortness of breath, diaphoresis, fevers, chills, headache, fatigue, changes in sleep, changes in vision/hearing, abdominal paun, changes in bowel or urinary habits. \\r\\nPMHx: none\\r\\nRx: uses friends adderrall\\r\\nFHx: mom with \"thyroid disease,\" dad with recent heart attcak\\r\\nAll: none\\r\\nImmunizations: up to date\\r\\nSHx: Freshmen in college. Endorses 3-4 drinks 3 nights / week (on weekends), denies tabacco, endorses trying marijuana. Sexually active with girlfriend x 1 year, uses condoms</td>\n",
              "    </tr>\n",
              "    <tr>\n",
              "      <th>4</th>\n",
              "      <td>00016_004</td>\n",
              "      <td>0</td>\n",
              "      <td>16</td>\n",
              "      <td>4</td>\n",
              "      <td>['felt as if he were going to pass out']</td>\n",
              "      <td>['222 258']</td>\n",
              "      <td>Lightheaded</td>\n",
              "      <td>HPI: 17yo M presents with palpitations. Patient reports 3-4 months of intermittent episodes of \"heart beating/pounding out of my chest.\" 2 days ago during a soccer game had an episode, but this time had chest pressure and felt as if he were going to pass out (did not lose conciousness). Of note patient endorses abusing adderall, primarily to study (1-3 times per week). Before recent soccer game, took adderrall night before and morning of game. Denies shortness of breath, diaphoresis, fevers, chills, headache, fatigue, changes in sleep, changes in vision/hearing, abdominal paun, changes in bowel or urinary habits. \\r\\nPMHx: none\\r\\nRx: uses friends adderrall\\r\\nFHx: mom with \"thyroid disease,\" dad with recent heart attcak\\r\\nAll: none\\r\\nImmunizations: up to date\\r\\nSHx: Freshmen in college. Endorses 3-4 drinks 3 nights / week (on weekends), denies tabacco, endorses trying marijuana. Sexually active with girlfriend x 1 year, uses condoms</td>\n",
              "    </tr>\n",
              "  </tbody>\n",
              "</table>\n",
              "</div>\n",
              "      <button class=\"colab-df-convert\" onclick=\"convertToInteractive('df-e7f44119-c087-48ee-8b80-d8528de3791c')\"\n",
              "              title=\"Convert this dataframe to an interactive table.\"\n",
              "              style=\"display:none;\">\n",
              "        \n",
              "  <svg xmlns=\"http://www.w3.org/2000/svg\" height=\"24px\"viewBox=\"0 0 24 24\"\n",
              "       width=\"24px\">\n",
              "    <path d=\"M0 0h24v24H0V0z\" fill=\"none\"/>\n",
              "    <path d=\"M18.56 5.44l.94 2.06.94-2.06 2.06-.94-2.06-.94-.94-2.06-.94 2.06-2.06.94zm-11 1L8.5 8.5l.94-2.06 2.06-.94-2.06-.94L8.5 2.5l-.94 2.06-2.06.94zm10 10l.94 2.06.94-2.06 2.06-.94-2.06-.94-.94-2.06-.94 2.06-2.06.94z\"/><path d=\"M17.41 7.96l-1.37-1.37c-.4-.4-.92-.59-1.43-.59-.52 0-1.04.2-1.43.59L10.3 9.45l-7.72 7.72c-.78.78-.78 2.05 0 2.83L4 21.41c.39.39.9.59 1.41.59.51 0 1.02-.2 1.41-.59l7.78-7.78 2.81-2.81c.8-.78.8-2.07 0-2.86zM5.41 20L4 18.59l7.72-7.72 1.47 1.35L5.41 20z\"/>\n",
              "  </svg>\n",
              "      </button>\n",
              "      \n",
              "  <style>\n",
              "    .colab-df-container {\n",
              "      display:flex;\n",
              "      flex-wrap:wrap;\n",
              "      gap: 12px;\n",
              "    }\n",
              "\n",
              "    .colab-df-convert {\n",
              "      background-color: #E8F0FE;\n",
              "      border: none;\n",
              "      border-radius: 50%;\n",
              "      cursor: pointer;\n",
              "      display: none;\n",
              "      fill: #1967D2;\n",
              "      height: 32px;\n",
              "      padding: 0 0 0 0;\n",
              "      width: 32px;\n",
              "    }\n",
              "\n",
              "    .colab-df-convert:hover {\n",
              "      background-color: #E2EBFA;\n",
              "      box-shadow: 0px 1px 2px rgba(60, 64, 67, 0.3), 0px 1px 3px 1px rgba(60, 64, 67, 0.15);\n",
              "      fill: #174EA6;\n",
              "    }\n",
              "\n",
              "    [theme=dark] .colab-df-convert {\n",
              "      background-color: #3B4455;\n",
              "      fill: #D2E3FC;\n",
              "    }\n",
              "\n",
              "    [theme=dark] .colab-df-convert:hover {\n",
              "      background-color: #434B5C;\n",
              "      box-shadow: 0px 1px 3px 1px rgba(0, 0, 0, 0.15);\n",
              "      filter: drop-shadow(0px 1px 2px rgba(0, 0, 0, 0.3));\n",
              "      fill: #FFFFFF;\n",
              "    }\n",
              "  </style>\n",
              "\n",
              "      <script>\n",
              "        const buttonEl =\n",
              "          document.querySelector('#df-e7f44119-c087-48ee-8b80-d8528de3791c button.colab-df-convert');\n",
              "        buttonEl.style.display =\n",
              "          google.colab.kernel.accessAllowed ? 'block' : 'none';\n",
              "\n",
              "        async function convertToInteractive(key) {\n",
              "          const element = document.querySelector('#df-e7f44119-c087-48ee-8b80-d8528de3791c');\n",
              "          const dataTable =\n",
              "            await google.colab.kernel.invokeFunction('convertToInteractive',\n",
              "                                                     [key], {});\n",
              "          if (!dataTable) return;\n",
              "\n",
              "          const docLinkHtml = 'Like what you see? Visit the ' +\n",
              "            '<a target=\"_blank\" href=https://colab.research.google.com/notebooks/data_table.ipynb>data table notebook</a>'\n",
              "            + ' to learn more about interactive tables.';\n",
              "          element.innerHTML = '';\n",
              "          dataTable['output_type'] = 'display_data';\n",
              "          await google.colab.output.renderOutput(dataTable, element);\n",
              "          const docLink = document.createElement('div');\n",
              "          docLink.innerHTML = docLinkHtml;\n",
              "          element.appendChild(docLink);\n",
              "        }\n",
              "      </script>\n",
              "    </div>\n",
              "  </div>\n",
              "  "
            ]
          },
          "metadata": {},
          "execution_count": 9
        }
      ],
      "source": [
        "df = pd.merge(train_df, features_df, on=['feature_num','case_num'], how='inner')\n",
        "df =pd.merge(df, patient_notes_df, on=['pn_num','case_num'], how='inner')\n",
        "df.head()"
      ]
    },
    {
      "cell_type": "code",
      "execution_count": null,
      "id": "e76f249c",
      "metadata": {
        "execution": {
          "iopub.execute_input": "2022-05-04T23:55:16.455649Z",
          "iopub.status.busy": "2022-05-04T23:55:16.453927Z",
          "iopub.status.idle": "2022-05-04T23:55:16.483987Z",
          "shell.execute_reply": "2022-05-04T23:55:16.483517Z",
          "shell.execute_reply.started": "2022-05-04T22:11:47.140994Z"
        },
        "papermill": {
          "duration": 0.077643,
          "end_time": "2022-05-04T23:55:16.484133",
          "exception": false,
          "start_time": "2022-05-04T23:55:16.406490",
          "status": "completed"
        },
        "tags": [],
        "id": "e76f249c",
        "outputId": "acc8f13d-bab9-4ab1-e979-c6fd220a5905"
      },
      "outputs": [
        {
          "data": {
            "text/plain": [
              "id              14300\n",
              "case_num           10\n",
              "pn_num           1000\n",
              "feature_num       143\n",
              "annotation       5201\n",
              "location         7534\n",
              "feature_text      131\n",
              "pn_history       1000\n",
              "dtype: int64"
            ]
          },
          "execution_count": 12,
          "metadata": {},
          "output_type": "execute_result"
        }
      ],
      "source": [
        "df.nunique()"
      ]
    },
    {
      "cell_type": "code",
      "execution_count": null,
      "id": "a9926e93",
      "metadata": {
        "execution": {
          "iopub.execute_input": "2022-05-04T23:55:16.597229Z",
          "iopub.status.busy": "2022-05-04T23:55:16.596608Z",
          "iopub.status.idle": "2022-05-04T23:55:16.600888Z",
          "shell.execute_reply": "2022-05-04T23:55:16.600495Z",
          "shell.execute_reply.started": "2022-05-04T22:11:47.384384Z"
        },
        "papermill": {
          "duration": 0.073355,
          "end_time": "2022-05-04T23:55:16.601017",
          "exception": false,
          "start_time": "2022-05-04T23:55:16.527662",
          "status": "completed"
        },
        "tags": [],
        "id": "a9926e93",
        "outputId": "1c428407-59f6-4ebb-b500-9eaa577c9977"
      },
      "outputs": [
        {
          "data": {
            "text/plain": [
              "Female                                   700\n",
              "Male                                     300\n",
              "20-year                                  200\n",
              "Nausea                                   200\n",
              "35-year                                  200\n",
              "                                        ... \n",
              "44-year                                  100\n",
              "Sleep-disturbance-OR-Early-awakenings    100\n",
              "Heavy-sweating                           100\n",
              "Onset-3-years-ago                        100\n",
              "Subjective-fever                         100\n",
              "Name: feature_text, Length: 131, dtype: int64"
            ]
          },
          "execution_count": 13,
          "metadata": {},
          "output_type": "execute_result"
        }
      ],
      "source": [
        "df['feature_text'].value_counts()"
      ]
    },
    {
      "cell_type": "markdown",
      "id": "dd3bfdc8",
      "metadata": {
        "papermill": {
          "duration": 0.044519,
          "end_time": "2022-05-04T23:55:16.689798",
          "exception": false,
          "start_time": "2022-05-04T23:55:16.645279",
          "status": "completed"
        },
        "tags": [],
        "id": "dd3bfdc8"
      },
      "source": [
        "##### The 'annotation' is picked form the 'pn_history' and the text location is mentiond in 'location' column. Location:Character spans indicating the location(s) of the feature within the note.\n",
        "\n"
      ]
    },
    {
      "cell_type": "code",
      "execution_count": null,
      "id": "3c1b7b09",
      "metadata": {
        "execution": {
          "iopub.execute_input": "2022-05-04T23:55:16.783513Z",
          "iopub.status.busy": "2022-05-04T23:55:16.782188Z",
          "iopub.status.idle": "2022-05-04T23:55:16.787034Z",
          "shell.execute_reply": "2022-05-04T23:55:16.786498Z",
          "shell.execute_reply.started": "2022-05-04T22:11:47.629191Z"
        },
        "papermill": {
          "duration": 0.05328,
          "end_time": "2022-05-04T23:55:16.787150",
          "exception": false,
          "start_time": "2022-05-04T23:55:16.733870",
          "status": "completed"
        },
        "tags": [],
        "id": "3c1b7b09",
        "outputId": "3109d1c5-2ce5-479e-c95b-ac7e6e330fb1"
      },
      "outputs": [
        {
          "data": {
            "text/plain": [
              "'HPI: 17yo M presents with palpitations. Patient reports 3-4 months of intermittent episodes of \"heart beating/pounding out of my chest.\" 2 days ago during a soccer game had an episode, but this time had chest pressure and felt as if he were going to pass out (did not lose conciousness). Of note patient endorses abusing adderall, primarily to study (1-3 times per week). Before recent soccer game, took adderrall night before and morning of game. Denies shortness of breath, diaphoresis, fevers, chills, headache, fatigue, changes in sleep, changes in vision/hearing, abdominal paun, changes in bowel or urinary habits. \\r\\nPMHx: none\\r\\nRx: uses friends adderrall\\r\\nFHx: mom with \"thyroid disease,\" dad with recent heart attcak\\r\\nAll: none\\r\\nImmunizations: up to date\\r\\nSHx: Freshmen in college. Endorses 3-4 drinks 3 nights / week (on weekends), denies tabacco, endorses trying marijuana. Sexually active with girlfriend x 1 year, uses condoms'"
            ]
          },
          "execution_count": 14,
          "metadata": {},
          "output_type": "execute_result"
        }
      ],
      "source": [
        "df['pn_history'][1]"
      ]
    },
    {
      "cell_type": "code",
      "execution_count": null,
      "id": "ef6f60ad",
      "metadata": {
        "execution": {
          "iopub.execute_input": "2022-05-04T23:55:16.882939Z",
          "iopub.status.busy": "2022-05-04T23:55:16.882222Z",
          "iopub.status.idle": "2022-05-04T23:55:16.885348Z",
          "shell.execute_reply": "2022-05-04T23:55:16.885764Z",
          "shell.execute_reply.started": "2022-05-04T22:11:47.87371Z"
        },
        "papermill": {
          "duration": 0.05384,
          "end_time": "2022-05-04T23:55:16.885894",
          "exception": false,
          "start_time": "2022-05-04T23:55:16.832054",
          "status": "completed"
        },
        "tags": [],
        "id": "ef6f60ad",
        "outputId": "3691b751-1812-44c8-f13b-ad169df9e2ed"
      },
      "outputs": [
        {
          "name": "stdout",
          "output_type": "stream",
          "text": [
            "mom with \"thyroid disease\n",
            "chest pressure\n",
            "dad with recent heart attcak\n"
          ]
        }
      ],
      "source": [
        "print(df['pn_history'][1][668 : 693])\n",
        "print(df['pn_history'][1][203 : 217])\n",
        "print(df['pn_history'][1][696 : 724])"
      ]
    },
    {
      "cell_type": "code",
      "execution_count": 10,
      "id": "b1e825fc",
      "metadata": {
        "execution": {
          "iopub.execute_input": "2022-05-04T23:55:17.004824Z",
          "iopub.status.busy": "2022-05-04T23:55:16.999571Z",
          "iopub.status.idle": "2022-05-04T23:55:17.224259Z",
          "shell.execute_reply": "2022-05-04T23:55:17.223754Z",
          "shell.execute_reply.started": "2022-05-04T22:11:48.109554Z"
        },
        "papermill": {
          "duration": 0.29333,
          "end_time": "2022-05-04T23:55:17.224391",
          "exception": false,
          "start_time": "2022-05-04T23:55:16.931061",
          "status": "completed"
        },
        "tags": [],
        "colab": {
          "base_uri": "https://localhost:8080/",
          "height": 1000
        },
        "id": "b1e825fc",
        "outputId": "b9bc4905-c753-40b5-c5a1-249f7ce0c04a"
      },
      "outputs": [
        {
          "output_type": "execute_result",
          "data": {
            "text/plain": [
              "              id  case_num  pn_num  feature_num  \\\n",
              "0      00016_000         0      16            0   \n",
              "1      00016_001         0      16            1   \n",
              "2      00016_002         0      16            2   \n",
              "3      00016_003         0      16            3   \n",
              "4      00016_004         0      16            4   \n",
              "...          ...       ...     ...          ...   \n",
              "14295  95333_912         9   95333          912   \n",
              "14296  95333_913         9   95333          913   \n",
              "14297  95333_914         9   95333          914   \n",
              "14298  95333_915         9   95333          915   \n",
              "14299  95333_916         9   95333          916   \n",
              "\n",
              "                                   annotation          location  \\\n",
              "0              [dad with recent heart attcak]         [696 724]   \n",
              "1                 [mom with \"thyroid disease]         [668 693]   \n",
              "2                            [chest pressure]         [203 217]   \n",
              "3            [intermittent episodes, episode]  [70 91, 176 183]   \n",
              "4      [felt as if he were going to pass out]         [222 258]   \n",
              "...                                       ...               ...   \n",
              "14295                                      []                []   \n",
              "14296                                      []                []   \n",
              "14297                              [photobia]         [274 282]   \n",
              "14298                      [no sick contacts]         [421 437]   \n",
              "14299                      [Subjective fever]         [314 330]   \n",
              "\n",
              "                                                          feature_text  \\\n",
              "0      Family-history-of-MI-OR-Family-history-of-myocardial-infarction   \n",
              "1                                   Family-history-of-thyroid-disorder   \n",
              "2                                                       Chest-pressure   \n",
              "3                                                Intermittent-symptoms   \n",
              "4                                                          Lightheaded   \n",
              "...                                                                ...   \n",
              "14295                                      Family-history-of-migraines   \n",
              "14296                                                           Female   \n",
              "14297                                                      Photophobia   \n",
              "14298                                        No-known-illness-contacts   \n",
              "14299                                                 Subjective-fever   \n",
              "\n",
              "                                                                                                                                                                                                                                                                                                                                                                                                                                                                                                                                                                                                                                                                                                                                                                                                                                                                                                                                                                                   pn_history  \n",
              "0      HPI: 17yo M presents with palpitations. Patient reports 3-4 months of intermittent episodes of \"heart beating/pounding out of my chest.\" 2 days ago during a soccer game had an episode, but this time had chest pressure and felt as if he were going to pass out (did not lose conciousness). Of note patient endorses abusing adderall, primarily to study (1-3 times per week). Before recent soccer game, took adderrall night before and morning of game. Denies shortness of breath, diaphoresis, fevers, chills, headache, fatigue, changes in sleep, changes in vision/hearing, abdominal paun, changes in bowel or urinary habits. \\r\\nPMHx: none\\r\\nRx: uses friends adderrall\\r\\nFHx: mom with \"thyroid disease,\" dad with recent heart attcak\\r\\nAll: none\\r\\nImmunizations: up to date\\r\\nSHx: Freshmen in college. Endorses 3-4 drinks 3 nights / week (on weekends), denies tabacco, endorses trying marijuana. Sexually active with girlfriend x 1 year, uses condoms  \n",
              "1      HPI: 17yo M presents with palpitations. Patient reports 3-4 months of intermittent episodes of \"heart beating/pounding out of my chest.\" 2 days ago during a soccer game had an episode, but this time had chest pressure and felt as if he were going to pass out (did not lose conciousness). Of note patient endorses abusing adderall, primarily to study (1-3 times per week). Before recent soccer game, took adderrall night before and morning of game. Denies shortness of breath, diaphoresis, fevers, chills, headache, fatigue, changes in sleep, changes in vision/hearing, abdominal paun, changes in bowel or urinary habits. \\r\\nPMHx: none\\r\\nRx: uses friends adderrall\\r\\nFHx: mom with \"thyroid disease,\" dad with recent heart attcak\\r\\nAll: none\\r\\nImmunizations: up to date\\r\\nSHx: Freshmen in college. Endorses 3-4 drinks 3 nights / week (on weekends), denies tabacco, endorses trying marijuana. Sexually active with girlfriend x 1 year, uses condoms  \n",
              "2      HPI: 17yo M presents with palpitations. Patient reports 3-4 months of intermittent episodes of \"heart beating/pounding out of my chest.\" 2 days ago during a soccer game had an episode, but this time had chest pressure and felt as if he were going to pass out (did not lose conciousness). Of note patient endorses abusing adderall, primarily to study (1-3 times per week). Before recent soccer game, took adderrall night before and morning of game. Denies shortness of breath, diaphoresis, fevers, chills, headache, fatigue, changes in sleep, changes in vision/hearing, abdominal paun, changes in bowel or urinary habits. \\r\\nPMHx: none\\r\\nRx: uses friends adderrall\\r\\nFHx: mom with \"thyroid disease,\" dad with recent heart attcak\\r\\nAll: none\\r\\nImmunizations: up to date\\r\\nSHx: Freshmen in college. Endorses 3-4 drinks 3 nights / week (on weekends), denies tabacco, endorses trying marijuana. Sexually active with girlfriend x 1 year, uses condoms  \n",
              "3      HPI: 17yo M presents with palpitations. Patient reports 3-4 months of intermittent episodes of \"heart beating/pounding out of my chest.\" 2 days ago during a soccer game had an episode, but this time had chest pressure and felt as if he were going to pass out (did not lose conciousness). Of note patient endorses abusing adderall, primarily to study (1-3 times per week). Before recent soccer game, took adderrall night before and morning of game. Denies shortness of breath, diaphoresis, fevers, chills, headache, fatigue, changes in sleep, changes in vision/hearing, abdominal paun, changes in bowel or urinary habits. \\r\\nPMHx: none\\r\\nRx: uses friends adderrall\\r\\nFHx: mom with \"thyroid disease,\" dad with recent heart attcak\\r\\nAll: none\\r\\nImmunizations: up to date\\r\\nSHx: Freshmen in college. Endorses 3-4 drinks 3 nights / week (on weekends), denies tabacco, endorses trying marijuana. Sexually active with girlfriend x 1 year, uses condoms  \n",
              "4      HPI: 17yo M presents with palpitations. Patient reports 3-4 months of intermittent episodes of \"heart beating/pounding out of my chest.\" 2 days ago during a soccer game had an episode, but this time had chest pressure and felt as if he were going to pass out (did not lose conciousness). Of note patient endorses abusing adderall, primarily to study (1-3 times per week). Before recent soccer game, took adderrall night before and morning of game. Denies shortness of breath, diaphoresis, fevers, chills, headache, fatigue, changes in sleep, changes in vision/hearing, abdominal paun, changes in bowel or urinary habits. \\r\\nPMHx: none\\r\\nRx: uses friends adderrall\\r\\nFHx: mom with \"thyroid disease,\" dad with recent heart attcak\\r\\nAll: none\\r\\nImmunizations: up to date\\r\\nSHx: Freshmen in college. Endorses 3-4 drinks 3 nights / week (on weekends), denies tabacco, endorses trying marijuana. Sexually active with girlfriend x 1 year, uses condoms  \n",
              "...                                                                                                                                                                                                                                                                                                                                                                                                                                                                                                                                                                                                                                                                                                                                                                                                                                                                                                                                                                                       ...  \n",
              "14295                                                                                                                                                                                                                                                 Stephanie madden is a 20 year old woman complaining of headache. Pain began yesterday morning and has been getting worse. Dull constant ache bilaterally, worse with walking, bending over, no alleviating factors. Did not respond to ibuprofen, Tylenol, or sleep. Complains of photobia, but not phonophobia, no aura. Subjective fever today. Neck stiffness. Nausea and vomiting. No dizzyness or lightheadedness, no weakness, no sick contacts.\\r\\nROS: otherwise negative\\r\\nPMH: none\\r\\nPSH: none\\r\\nHosp: none\\r\\nMed: Birth control pill\\r\\nAllergies: none\\r\\nSoc: works at sporting good store, lives with roomate, no tobacoo, etoh 2-3 drinks on weekends, marijuna 3-4 joints a week, sexually active and uses condoms  \n",
              "14296                                                                                                                                                                                                                                                 Stephanie madden is a 20 year old woman complaining of headache. Pain began yesterday morning and has been getting worse. Dull constant ache bilaterally, worse with walking, bending over, no alleviating factors. Did not respond to ibuprofen, Tylenol, or sleep. Complains of photobia, but not phonophobia, no aura. Subjective fever today. Neck stiffness. Nausea and vomiting. No dizzyness or lightheadedness, no weakness, no sick contacts.\\r\\nROS: otherwise negative\\r\\nPMH: none\\r\\nPSH: none\\r\\nHosp: none\\r\\nMed: Birth control pill\\r\\nAllergies: none\\r\\nSoc: works at sporting good store, lives with roomate, no tobacoo, etoh 2-3 drinks on weekends, marijuna 3-4 joints a week, sexually active and uses condoms  \n",
              "14297                                                                                                                                                                                                                                                 Stephanie madden is a 20 year old woman complaining of headache. Pain began yesterday morning and has been getting worse. Dull constant ache bilaterally, worse with walking, bending over, no alleviating factors. Did not respond to ibuprofen, Tylenol, or sleep. Complains of photobia, but not phonophobia, no aura. Subjective fever today. Neck stiffness. Nausea and vomiting. No dizzyness or lightheadedness, no weakness, no sick contacts.\\r\\nROS: otherwise negative\\r\\nPMH: none\\r\\nPSH: none\\r\\nHosp: none\\r\\nMed: Birth control pill\\r\\nAllergies: none\\r\\nSoc: works at sporting good store, lives with roomate, no tobacoo, etoh 2-3 drinks on weekends, marijuna 3-4 joints a week, sexually active and uses condoms  \n",
              "14298                                                                                                                                                                                                                                                 Stephanie madden is a 20 year old woman complaining of headache. Pain began yesterday morning and has been getting worse. Dull constant ache bilaterally, worse with walking, bending over, no alleviating factors. Did not respond to ibuprofen, Tylenol, or sleep. Complains of photobia, but not phonophobia, no aura. Subjective fever today. Neck stiffness. Nausea and vomiting. No dizzyness or lightheadedness, no weakness, no sick contacts.\\r\\nROS: otherwise negative\\r\\nPMH: none\\r\\nPSH: none\\r\\nHosp: none\\r\\nMed: Birth control pill\\r\\nAllergies: none\\r\\nSoc: works at sporting good store, lives with roomate, no tobacoo, etoh 2-3 drinks on weekends, marijuna 3-4 joints a week, sexually active and uses condoms  \n",
              "14299                                                                                                                                                                                                                                                 Stephanie madden is a 20 year old woman complaining of headache. Pain began yesterday morning and has been getting worse. Dull constant ache bilaterally, worse with walking, bending over, no alleviating factors. Did not respond to ibuprofen, Tylenol, or sleep. Complains of photobia, but not phonophobia, no aura. Subjective fever today. Neck stiffness. Nausea and vomiting. No dizzyness or lightheadedness, no weakness, no sick contacts.\\r\\nROS: otherwise negative\\r\\nPMH: none\\r\\nPSH: none\\r\\nHosp: none\\r\\nMed: Birth control pill\\r\\nAllergies: none\\r\\nSoc: works at sporting good store, lives with roomate, no tobacoo, etoh 2-3 drinks on weekends, marijuna 3-4 joints a week, sexually active and uses condoms  \n",
              "\n",
              "[14300 rows x 8 columns]"
            ],
            "text/html": [
              "\n",
              "  <div id=\"df-f110752a-4c1f-4d78-94bc-bd6e0c037c24\">\n",
              "    <div class=\"colab-df-container\">\n",
              "      <div>\n",
              "<style scoped>\n",
              "    .dataframe tbody tr th:only-of-type {\n",
              "        vertical-align: middle;\n",
              "    }\n",
              "\n",
              "    .dataframe tbody tr th {\n",
              "        vertical-align: top;\n",
              "    }\n",
              "\n",
              "    .dataframe thead th {\n",
              "        text-align: right;\n",
              "    }\n",
              "</style>\n",
              "<table border=\"1\" class=\"dataframe\">\n",
              "  <thead>\n",
              "    <tr style=\"text-align: right;\">\n",
              "      <th></th>\n",
              "      <th>id</th>\n",
              "      <th>case_num</th>\n",
              "      <th>pn_num</th>\n",
              "      <th>feature_num</th>\n",
              "      <th>annotation</th>\n",
              "      <th>location</th>\n",
              "      <th>feature_text</th>\n",
              "      <th>pn_history</th>\n",
              "    </tr>\n",
              "  </thead>\n",
              "  <tbody>\n",
              "    <tr>\n",
              "      <th>0</th>\n",
              "      <td>00016_000</td>\n",
              "      <td>0</td>\n",
              "      <td>16</td>\n",
              "      <td>0</td>\n",
              "      <td>[dad with recent heart attcak]</td>\n",
              "      <td>[696 724]</td>\n",
              "      <td>Family-history-of-MI-OR-Family-history-of-myocardial-infarction</td>\n",
              "      <td>HPI: 17yo M presents with palpitations. Patient reports 3-4 months of intermittent episodes of \"heart beating/pounding out of my chest.\" 2 days ago during a soccer game had an episode, but this time had chest pressure and felt as if he were going to pass out (did not lose conciousness). Of note patient endorses abusing adderall, primarily to study (1-3 times per week). Before recent soccer game, took adderrall night before and morning of game. Denies shortness of breath, diaphoresis, fevers, chills, headache, fatigue, changes in sleep, changes in vision/hearing, abdominal paun, changes in bowel or urinary habits. \\r\\nPMHx: none\\r\\nRx: uses friends adderrall\\r\\nFHx: mom with \"thyroid disease,\" dad with recent heart attcak\\r\\nAll: none\\r\\nImmunizations: up to date\\r\\nSHx: Freshmen in college. Endorses 3-4 drinks 3 nights / week (on weekends), denies tabacco, endorses trying marijuana. Sexually active with girlfriend x 1 year, uses condoms</td>\n",
              "    </tr>\n",
              "    <tr>\n",
              "      <th>1</th>\n",
              "      <td>00016_001</td>\n",
              "      <td>0</td>\n",
              "      <td>16</td>\n",
              "      <td>1</td>\n",
              "      <td>[mom with \"thyroid disease]</td>\n",
              "      <td>[668 693]</td>\n",
              "      <td>Family-history-of-thyroid-disorder</td>\n",
              "      <td>HPI: 17yo M presents with palpitations. Patient reports 3-4 months of intermittent episodes of \"heart beating/pounding out of my chest.\" 2 days ago during a soccer game had an episode, but this time had chest pressure and felt as if he were going to pass out (did not lose conciousness). Of note patient endorses abusing adderall, primarily to study (1-3 times per week). Before recent soccer game, took adderrall night before and morning of game. Denies shortness of breath, diaphoresis, fevers, chills, headache, fatigue, changes in sleep, changes in vision/hearing, abdominal paun, changes in bowel or urinary habits. \\r\\nPMHx: none\\r\\nRx: uses friends adderrall\\r\\nFHx: mom with \"thyroid disease,\" dad with recent heart attcak\\r\\nAll: none\\r\\nImmunizations: up to date\\r\\nSHx: Freshmen in college. Endorses 3-4 drinks 3 nights / week (on weekends), denies tabacco, endorses trying marijuana. Sexually active with girlfriend x 1 year, uses condoms</td>\n",
              "    </tr>\n",
              "    <tr>\n",
              "      <th>2</th>\n",
              "      <td>00016_002</td>\n",
              "      <td>0</td>\n",
              "      <td>16</td>\n",
              "      <td>2</td>\n",
              "      <td>[chest pressure]</td>\n",
              "      <td>[203 217]</td>\n",
              "      <td>Chest-pressure</td>\n",
              "      <td>HPI: 17yo M presents with palpitations. Patient reports 3-4 months of intermittent episodes of \"heart beating/pounding out of my chest.\" 2 days ago during a soccer game had an episode, but this time had chest pressure and felt as if he were going to pass out (did not lose conciousness). Of note patient endorses abusing adderall, primarily to study (1-3 times per week). Before recent soccer game, took adderrall night before and morning of game. Denies shortness of breath, diaphoresis, fevers, chills, headache, fatigue, changes in sleep, changes in vision/hearing, abdominal paun, changes in bowel or urinary habits. \\r\\nPMHx: none\\r\\nRx: uses friends adderrall\\r\\nFHx: mom with \"thyroid disease,\" dad with recent heart attcak\\r\\nAll: none\\r\\nImmunizations: up to date\\r\\nSHx: Freshmen in college. Endorses 3-4 drinks 3 nights / week (on weekends), denies tabacco, endorses trying marijuana. Sexually active with girlfriend x 1 year, uses condoms</td>\n",
              "    </tr>\n",
              "    <tr>\n",
              "      <th>3</th>\n",
              "      <td>00016_003</td>\n",
              "      <td>0</td>\n",
              "      <td>16</td>\n",
              "      <td>3</td>\n",
              "      <td>[intermittent episodes, episode]</td>\n",
              "      <td>[70 91, 176 183]</td>\n",
              "      <td>Intermittent-symptoms</td>\n",
              "      <td>HPI: 17yo M presents with palpitations. Patient reports 3-4 months of intermittent episodes of \"heart beating/pounding out of my chest.\" 2 days ago during a soccer game had an episode, but this time had chest pressure and felt as if he were going to pass out (did not lose conciousness). Of note patient endorses abusing adderall, primarily to study (1-3 times per week). Before recent soccer game, took adderrall night before and morning of game. Denies shortness of breath, diaphoresis, fevers, chills, headache, fatigue, changes in sleep, changes in vision/hearing, abdominal paun, changes in bowel or urinary habits. \\r\\nPMHx: none\\r\\nRx: uses friends adderrall\\r\\nFHx: mom with \"thyroid disease,\" dad with recent heart attcak\\r\\nAll: none\\r\\nImmunizations: up to date\\r\\nSHx: Freshmen in college. Endorses 3-4 drinks 3 nights / week (on weekends), denies tabacco, endorses trying marijuana. Sexually active with girlfriend x 1 year, uses condoms</td>\n",
              "    </tr>\n",
              "    <tr>\n",
              "      <th>4</th>\n",
              "      <td>00016_004</td>\n",
              "      <td>0</td>\n",
              "      <td>16</td>\n",
              "      <td>4</td>\n",
              "      <td>[felt as if he were going to pass out]</td>\n",
              "      <td>[222 258]</td>\n",
              "      <td>Lightheaded</td>\n",
              "      <td>HPI: 17yo M presents with palpitations. Patient reports 3-4 months of intermittent episodes of \"heart beating/pounding out of my chest.\" 2 days ago during a soccer game had an episode, but this time had chest pressure and felt as if he were going to pass out (did not lose conciousness). Of note patient endorses abusing adderall, primarily to study (1-3 times per week). Before recent soccer game, took adderrall night before and morning of game. Denies shortness of breath, diaphoresis, fevers, chills, headache, fatigue, changes in sleep, changes in vision/hearing, abdominal paun, changes in bowel or urinary habits. \\r\\nPMHx: none\\r\\nRx: uses friends adderrall\\r\\nFHx: mom with \"thyroid disease,\" dad with recent heart attcak\\r\\nAll: none\\r\\nImmunizations: up to date\\r\\nSHx: Freshmen in college. Endorses 3-4 drinks 3 nights / week (on weekends), denies tabacco, endorses trying marijuana. Sexually active with girlfriend x 1 year, uses condoms</td>\n",
              "    </tr>\n",
              "    <tr>\n",
              "      <th>...</th>\n",
              "      <td>...</td>\n",
              "      <td>...</td>\n",
              "      <td>...</td>\n",
              "      <td>...</td>\n",
              "      <td>...</td>\n",
              "      <td>...</td>\n",
              "      <td>...</td>\n",
              "      <td>...</td>\n",
              "    </tr>\n",
              "    <tr>\n",
              "      <th>14295</th>\n",
              "      <td>95333_912</td>\n",
              "      <td>9</td>\n",
              "      <td>95333</td>\n",
              "      <td>912</td>\n",
              "      <td>[]</td>\n",
              "      <td>[]</td>\n",
              "      <td>Family-history-of-migraines</td>\n",
              "      <td>Stephanie madden is a 20 year old woman complaining of headache. Pain began yesterday morning and has been getting worse. Dull constant ache bilaterally, worse with walking, bending over, no alleviating factors. Did not respond to ibuprofen, Tylenol, or sleep. Complains of photobia, but not phonophobia, no aura. Subjective fever today. Neck stiffness. Nausea and vomiting. No dizzyness or lightheadedness, no weakness, no sick contacts.\\r\\nROS: otherwise negative\\r\\nPMH: none\\r\\nPSH: none\\r\\nHosp: none\\r\\nMed: Birth control pill\\r\\nAllergies: none\\r\\nSoc: works at sporting good store, lives with roomate, no tobacoo, etoh 2-3 drinks on weekends, marijuna 3-4 joints a week, sexually active and uses condoms</td>\n",
              "    </tr>\n",
              "    <tr>\n",
              "      <th>14296</th>\n",
              "      <td>95333_913</td>\n",
              "      <td>9</td>\n",
              "      <td>95333</td>\n",
              "      <td>913</td>\n",
              "      <td>[]</td>\n",
              "      <td>[]</td>\n",
              "      <td>Female</td>\n",
              "      <td>Stephanie madden is a 20 year old woman complaining of headache. Pain began yesterday morning and has been getting worse. Dull constant ache bilaterally, worse with walking, bending over, no alleviating factors. Did not respond to ibuprofen, Tylenol, or sleep. Complains of photobia, but not phonophobia, no aura. Subjective fever today. Neck stiffness. Nausea and vomiting. No dizzyness or lightheadedness, no weakness, no sick contacts.\\r\\nROS: otherwise negative\\r\\nPMH: none\\r\\nPSH: none\\r\\nHosp: none\\r\\nMed: Birth control pill\\r\\nAllergies: none\\r\\nSoc: works at sporting good store, lives with roomate, no tobacoo, etoh 2-3 drinks on weekends, marijuna 3-4 joints a week, sexually active and uses condoms</td>\n",
              "    </tr>\n",
              "    <tr>\n",
              "      <th>14297</th>\n",
              "      <td>95333_914</td>\n",
              "      <td>9</td>\n",
              "      <td>95333</td>\n",
              "      <td>914</td>\n",
              "      <td>[photobia]</td>\n",
              "      <td>[274 282]</td>\n",
              "      <td>Photophobia</td>\n",
              "      <td>Stephanie madden is a 20 year old woman complaining of headache. Pain began yesterday morning and has been getting worse. Dull constant ache bilaterally, worse with walking, bending over, no alleviating factors. Did not respond to ibuprofen, Tylenol, or sleep. Complains of photobia, but not phonophobia, no aura. Subjective fever today. Neck stiffness. Nausea and vomiting. No dizzyness or lightheadedness, no weakness, no sick contacts.\\r\\nROS: otherwise negative\\r\\nPMH: none\\r\\nPSH: none\\r\\nHosp: none\\r\\nMed: Birth control pill\\r\\nAllergies: none\\r\\nSoc: works at sporting good store, lives with roomate, no tobacoo, etoh 2-3 drinks on weekends, marijuna 3-4 joints a week, sexually active and uses condoms</td>\n",
              "    </tr>\n",
              "    <tr>\n",
              "      <th>14298</th>\n",
              "      <td>95333_915</td>\n",
              "      <td>9</td>\n",
              "      <td>95333</td>\n",
              "      <td>915</td>\n",
              "      <td>[no sick contacts]</td>\n",
              "      <td>[421 437]</td>\n",
              "      <td>No-known-illness-contacts</td>\n",
              "      <td>Stephanie madden is a 20 year old woman complaining of headache. Pain began yesterday morning and has been getting worse. Dull constant ache bilaterally, worse with walking, bending over, no alleviating factors. Did not respond to ibuprofen, Tylenol, or sleep. Complains of photobia, but not phonophobia, no aura. Subjective fever today. Neck stiffness. Nausea and vomiting. No dizzyness or lightheadedness, no weakness, no sick contacts.\\r\\nROS: otherwise negative\\r\\nPMH: none\\r\\nPSH: none\\r\\nHosp: none\\r\\nMed: Birth control pill\\r\\nAllergies: none\\r\\nSoc: works at sporting good store, lives with roomate, no tobacoo, etoh 2-3 drinks on weekends, marijuna 3-4 joints a week, sexually active and uses condoms</td>\n",
              "    </tr>\n",
              "    <tr>\n",
              "      <th>14299</th>\n",
              "      <td>95333_916</td>\n",
              "      <td>9</td>\n",
              "      <td>95333</td>\n",
              "      <td>916</td>\n",
              "      <td>[Subjective fever]</td>\n",
              "      <td>[314 330]</td>\n",
              "      <td>Subjective-fever</td>\n",
              "      <td>Stephanie madden is a 20 year old woman complaining of headache. Pain began yesterday morning and has been getting worse. Dull constant ache bilaterally, worse with walking, bending over, no alleviating factors. Did not respond to ibuprofen, Tylenol, or sleep. Complains of photobia, but not phonophobia, no aura. Subjective fever today. Neck stiffness. Nausea and vomiting. No dizzyness or lightheadedness, no weakness, no sick contacts.\\r\\nROS: otherwise negative\\r\\nPMH: none\\r\\nPSH: none\\r\\nHosp: none\\r\\nMed: Birth control pill\\r\\nAllergies: none\\r\\nSoc: works at sporting good store, lives with roomate, no tobacoo, etoh 2-3 drinks on weekends, marijuna 3-4 joints a week, sexually active and uses condoms</td>\n",
              "    </tr>\n",
              "  </tbody>\n",
              "</table>\n",
              "<p>14300 rows × 8 columns</p>\n",
              "</div>\n",
              "      <button class=\"colab-df-convert\" onclick=\"convertToInteractive('df-f110752a-4c1f-4d78-94bc-bd6e0c037c24')\"\n",
              "              title=\"Convert this dataframe to an interactive table.\"\n",
              "              style=\"display:none;\">\n",
              "        \n",
              "  <svg xmlns=\"http://www.w3.org/2000/svg\" height=\"24px\"viewBox=\"0 0 24 24\"\n",
              "       width=\"24px\">\n",
              "    <path d=\"M0 0h24v24H0V0z\" fill=\"none\"/>\n",
              "    <path d=\"M18.56 5.44l.94 2.06.94-2.06 2.06-.94-2.06-.94-.94-2.06-.94 2.06-2.06.94zm-11 1L8.5 8.5l.94-2.06 2.06-.94-2.06-.94L8.5 2.5l-.94 2.06-2.06.94zm10 10l.94 2.06.94-2.06 2.06-.94-2.06-.94-.94-2.06-.94 2.06-2.06.94z\"/><path d=\"M17.41 7.96l-1.37-1.37c-.4-.4-.92-.59-1.43-.59-.52 0-1.04.2-1.43.59L10.3 9.45l-7.72 7.72c-.78.78-.78 2.05 0 2.83L4 21.41c.39.39.9.59 1.41.59.51 0 1.02-.2 1.41-.59l7.78-7.78 2.81-2.81c.8-.78.8-2.07 0-2.86zM5.41 20L4 18.59l7.72-7.72 1.47 1.35L5.41 20z\"/>\n",
              "  </svg>\n",
              "      </button>\n",
              "      \n",
              "  <style>\n",
              "    .colab-df-container {\n",
              "      display:flex;\n",
              "      flex-wrap:wrap;\n",
              "      gap: 12px;\n",
              "    }\n",
              "\n",
              "    .colab-df-convert {\n",
              "      background-color: #E8F0FE;\n",
              "      border: none;\n",
              "      border-radius: 50%;\n",
              "      cursor: pointer;\n",
              "      display: none;\n",
              "      fill: #1967D2;\n",
              "      height: 32px;\n",
              "      padding: 0 0 0 0;\n",
              "      width: 32px;\n",
              "    }\n",
              "\n",
              "    .colab-df-convert:hover {\n",
              "      background-color: #E2EBFA;\n",
              "      box-shadow: 0px 1px 2px rgba(60, 64, 67, 0.3), 0px 1px 3px 1px rgba(60, 64, 67, 0.15);\n",
              "      fill: #174EA6;\n",
              "    }\n",
              "\n",
              "    [theme=dark] .colab-df-convert {\n",
              "      background-color: #3B4455;\n",
              "      fill: #D2E3FC;\n",
              "    }\n",
              "\n",
              "    [theme=dark] .colab-df-convert:hover {\n",
              "      background-color: #434B5C;\n",
              "      box-shadow: 0px 1px 3px 1px rgba(0, 0, 0, 0.15);\n",
              "      filter: drop-shadow(0px 1px 2px rgba(0, 0, 0, 0.3));\n",
              "      fill: #FFFFFF;\n",
              "    }\n",
              "  </style>\n",
              "\n",
              "      <script>\n",
              "        const buttonEl =\n",
              "          document.querySelector('#df-f110752a-4c1f-4d78-94bc-bd6e0c037c24 button.colab-df-convert');\n",
              "        buttonEl.style.display =\n",
              "          google.colab.kernel.accessAllowed ? 'block' : 'none';\n",
              "\n",
              "        async function convertToInteractive(key) {\n",
              "          const element = document.querySelector('#df-f110752a-4c1f-4d78-94bc-bd6e0c037c24');\n",
              "          const dataTable =\n",
              "            await google.colab.kernel.invokeFunction('convertToInteractive',\n",
              "                                                     [key], {});\n",
              "          if (!dataTable) return;\n",
              "\n",
              "          const docLinkHtml = 'Like what you see? Visit the ' +\n",
              "            '<a target=\"_blank\" href=https://colab.research.google.com/notebooks/data_table.ipynb>data table notebook</a>'\n",
              "            + ' to learn more about interactive tables.';\n",
              "          element.innerHTML = '';\n",
              "          dataTable['output_type'] = 'display_data';\n",
              "          await google.colab.output.renderOutput(dataTable, element);\n",
              "          const docLink = document.createElement('div');\n",
              "          docLink.innerHTML = docLinkHtml;\n",
              "          element.appendChild(docLink);\n",
              "        }\n",
              "      </script>\n",
              "    </div>\n",
              "  </div>\n",
              "  "
            ]
          },
          "metadata": {},
          "execution_count": 10
        }
      ],
      "source": [
        "df[\"annotation\"] = [literal_eval(x) for x in df[\"annotation\"]]\n",
        "df[\"location\"] = [literal_eval(x) for x in df[\"location\"]]\n",
        "df"
      ]
    },
    {
      "cell_type": "code",
      "execution_count": 37,
      "id": "8168af87",
      "metadata": {
        "execution": {
          "iopub.execute_input": "2022-05-04T23:55:17.322548Z",
          "iopub.status.busy": "2022-05-04T23:55:17.321692Z",
          "iopub.status.idle": "2022-05-04T23:55:17.349949Z",
          "shell.execute_reply": "2022-05-04T23:55:17.350393Z",
          "shell.execute_reply.started": "2022-05-04T22:11:48.348Z"
        },
        "papermill": {
          "duration": 0.080476,
          "end_time": "2022-05-04T23:55:17.350524",
          "exception": false,
          "start_time": "2022-05-04T23:55:17.270048",
          "status": "completed"
        },
        "tags": [],
        "id": "8168af87"
      },
      "outputs": [],
      "source": [
        "frames = []\n",
        "df_split = np.array_split(df, 5)\n",
        "for split in range(0, 5):\n",
        "    df_split[split]['kfold'] = split\n",
        "    frames.append(df_split[split])\n",
        "dfx = pd.concat(frames)\n",
        "dfx = dfx.head(100)"
      ]
    },
    {
      "cell_type": "code",
      "execution_count": 12,
      "id": "94a94c4f",
      "metadata": {
        "execution": {
          "iopub.execute_input": "2022-05-04T23:55:17.455640Z",
          "iopub.status.busy": "2022-05-04T23:55:17.454818Z",
          "iopub.status.idle": "2022-05-04T23:55:17.459533Z",
          "shell.execute_reply": "2022-05-04T23:55:17.460079Z",
          "shell.execute_reply.started": "2022-05-04T22:11:48.59453Z"
        },
        "papermill": {
          "duration": 0.063729,
          "end_time": "2022-05-04T23:55:17.460213",
          "exception": false,
          "start_time": "2022-05-04T23:55:17.396484",
          "status": "completed"
        },
        "tags": [],
        "colab": {
          "base_uri": "https://localhost:8080/"
        },
        "id": "94a94c4f",
        "outputId": "ae9d8423-9fb7-4739-e217-b1f6897d2b80"
      },
      "outputs": [
        {
          "output_type": "execute_result",
          "data": {
            "text/plain": [
              "950"
            ]
          },
          "metadata": {},
          "execution_count": 12
        }
      ],
      "source": [
        "max_len = df['pn_history'].map(lambda x: len(x)).max()\n",
        "max_len"
      ]
    },
    {
      "cell_type": "markdown",
      "id": "04733147",
      "metadata": {
        "papermill": {
          "duration": 0.046808,
          "end_time": "2022-05-04T23:55:17.553732",
          "exception": false,
          "start_time": "2022-05-04T23:55:17.506924",
          "status": "completed"
        },
        "tags": [],
        "id": "04733147"
      },
      "source": [
        "# Configrations | Hyperparameters"
      ]
    },
    {
      "cell_type": "code",
      "execution_count": 20,
      "id": "ceb91ef9",
      "metadata": {
        "execution": {
          "iopub.execute_input": "2022-05-04T23:55:17.688400Z",
          "iopub.status.busy": "2022-05-04T23:55:17.679241Z",
          "iopub.status.idle": "2022-05-04T23:55:17.691370Z",
          "shell.execute_reply": "2022-05-04T23:55:17.690922Z",
          "shell.execute_reply.started": "2022-05-04T22:11:48.847495Z"
        },
        "papermill": {
          "duration": 0.091006,
          "end_time": "2022-05-04T23:55:17.691489",
          "exception": false,
          "start_time": "2022-05-04T23:55:17.600483",
          "status": "completed"
        },
        "tags": [],
        "colab": {
          "base_uri": "https://localhost:8080/",
          "height": 81,
          "referenced_widgets": [
            "fc98a49ed4434f81a2f36c8be60dc4f8",
            "0010fe4906d7406a86bddf765accee7e",
            "76ff4a72469347cd9fefcd6c8b0ce025",
            "e4988fd487744c3da6ae0d3977647085",
            "b3404c6aeaba404a84cabc4ef27d8763",
            "48de3db24a55490fbc7ad720a51c3fec",
            "7001e51cd6cf461e96147eb7e0da130f",
            "f251e52dd0f849f29447670a42268fc0",
            "e6d4a9016c564935a18b99111a54591d",
            "740e620fbfc749b69c0cc23d19eeed95",
            "4e10b8ccdb914142bf52c46bac4147fa",
            "1c84f5f8165c4644add38c90027d6284",
            "aaf22644b636454896cddc4c11e522a6",
            "2a9d151a0ef24f0a87a6e804136a2ae8",
            "b519b0ac446d45ba93ea8d6fcd40d750",
            "7af6da7310934b8ca929d4a0f3b5a769",
            "ac7eea85f81e4659b1290104ca96c194",
            "20c37663fde94d3d9d02f70460d4eab7",
            "f377300ccba34b22a4ca0de729834eda",
            "824f4f24a38d413ca32b62755f3c5e13",
            "bd63adfc791641e496658dccac6e896e",
            "f33cfaa0e8e84f2083563bda7c0f2e0c"
          ]
        },
        "id": "ceb91ef9",
        "outputId": "88a7ab78-877c-4715-ca1b-8e2fac8fc633"
      },
      "outputs": [
        {
          "output_type": "display_data",
          "data": {
            "text/plain": [
              "Downloading:   0%|          | 0.00/385 [00:00<?, ?B/s]"
            ],
            "application/vnd.jupyter.widget-view+json": {
              "version_major": 2,
              "version_minor": 0,
              "model_id": "fc98a49ed4434f81a2f36c8be60dc4f8"
            }
          },
          "metadata": {}
        },
        {
          "output_type": "display_data",
          "data": {
            "text/plain": [
              "Downloading:   0%|          | 0.00/213k [00:00<?, ?B/s]"
            ],
            "application/vnd.jupyter.widget-view+json": {
              "version_major": 2,
              "version_minor": 0,
              "model_id": "1c84f5f8165c4644add38c90027d6284"
            }
          },
          "metadata": {}
        }
      ],
      "source": [
        "from transformers import AutoTokenizer\n",
        "\n",
        "\n",
        "class config:\n",
        "\n",
        "    MAX_LEN = 416\n",
        "    TRAIN_BATCH_SIZE = 8\n",
        "    VALID_BATCH_SIZE = 8\n",
        "    EPOCHS = 1\n",
        "    #tokenizer = AutoTokenizer.from_pretrained(\"emilyalsentzer/Bio_ClinicalBERT\")\n",
        "    #model = AutoModel.from_pretrained(\"emilyalsentzer/Bio_ClinicalBERT\")\n",
        "    BERT_PATH = \"bert-base-uncased\" \n",
        "    MODEL_PATH = \"model.bin\"\n",
        "    \n",
        "    TOKENIZER = AutoTokenizer.from_pretrained(\"emilyalsentzer/Bio_ClinicalBERT\")\n",
        "    DROPOUT = 0.2\n",
        "    MAX_GRAD_NORM = 1.0\n",
        "    LEARNING_RATE = 1e-5\n"
      ]
    },
    {
      "cell_type": "markdown",
      "id": "49c9501b",
      "metadata": {
        "papermill": {
          "duration": 0.046514,
          "end_time": "2022-05-04T23:55:17.784667",
          "exception": false,
          "start_time": "2022-05-04T23:55:17.738153",
          "status": "completed"
        },
        "tags": [],
        "id": "49c9501b"
      },
      "source": [
        "# Data Processing"
      ]
    },
    {
      "cell_type": "code",
      "execution_count": 21,
      "id": "cac284e6",
      "metadata": {
        "execution": {
          "iopub.execute_input": "2022-05-04T23:55:17.887398Z",
          "iopub.status.busy": "2022-05-04T23:55:17.886105Z",
          "iopub.status.idle": "2022-05-04T23:55:17.895289Z",
          "shell.execute_reply": "2022-05-04T23:55:17.894722Z",
          "shell.execute_reply.started": "2022-05-04T22:11:49.092055Z"
        },
        "papermill": {
          "duration": 0.063074,
          "end_time": "2022-05-04T23:55:17.895412",
          "exception": false,
          "start_time": "2022-05-04T23:55:17.832338",
          "status": "completed"
        },
        "tags": [],
        "colab": {
          "base_uri": "https://localhost:8080/"
        },
        "id": "cac284e6",
        "outputId": "057534d2-526a-484d-b623-0628a432d910"
      },
      "outputs": [
        {
          "output_type": "stream",
          "name": "stdout",
          "text": [
            "feature_text\n",
            "Intermittent-symptoms\n",
            "====================================================================================================\n",
            "pn_history\n",
            "HPI: 17yo M presents with palpitations. Patient reports 3-4 months of intermittent episodes of \"heart beating/pounding out of my chest.\" 2 days ago during a soccer game had an episode, but this time had chest pressure and felt as if he were going to pass out (did not lose conciousness). Of note patient endorses abusing adderall, primarily to study (1-3 times per week). Before recent soccer game, took adderrall night before and morning of game. Denies shortness of breath, diaphoresis, fevers, chills, headache, fatigue, changes in sleep, changes in vision/hearing, abdominal paun, changes in bowel or urinary habits. \r\n",
            "PMHx: none\r\n",
            "Rx: uses friends adderrall\r\n",
            "FHx: mom with \"thyroid disease,\" dad with recent heart attcak\r\n",
            "All: none\r\n",
            "Immunizations: up to date\r\n",
            "SHx: Freshmen in college. Endorses 3-4 drinks 3 nights / week (on weekends), denies tabacco, endorses trying marijuana. Sexually active with girlfriend x 1 year, uses condoms\n",
            "====================================================================================================\n",
            "location\n",
            "['70 91', '176 183']\n",
            "====================================================================================================\n",
            "annotation\n",
            "['intermittent episodes', 'episode']\n",
            "====================================================================================================\n"
          ]
        }
      ],
      "source": [
        "first = df.loc[3]\n",
        "example = {\n",
        "    \"feature_text\": first.feature_text,\n",
        "    \"pn_history\": first.pn_history,\n",
        "    \"location\": first.location,\n",
        "    \"annotation\": first.annotation\n",
        "}\n",
        "for key in example.keys():\n",
        "    print(key)\n",
        "    print(example[key])\n",
        "    print(\"=\" * 100)"
      ]
    },
    {
      "cell_type": "code",
      "execution_count": 22,
      "id": "72ae52fc",
      "metadata": {
        "execution": {
          "iopub.execute_input": "2022-05-04T23:55:17.995856Z",
          "iopub.status.busy": "2022-05-04T23:55:17.995269Z",
          "iopub.status.idle": "2022-05-04T23:55:17.998365Z",
          "shell.execute_reply": "2022-05-04T23:55:17.997797Z",
          "shell.execute_reply.started": "2022-05-04T22:11:49.321852Z"
        },
        "papermill": {
          "duration": 0.056354,
          "end_time": "2022-05-04T23:55:17.998502",
          "exception": false,
          "start_time": "2022-05-04T23:55:17.942148",
          "status": "completed"
        },
        "tags": [],
        "id": "72ae52fc"
      },
      "outputs": [],
      "source": [
        "def loc_list_to_ints(loc_list):\n",
        "    to_return = []\n",
        "    for loc_str in loc_list:\n",
        "        loc_strs = loc_str.split(\";\")\n",
        "        for loc in loc_strs:\n",
        "            start, end = loc.split()\n",
        "            to_return.append((int(start), int(end)))\n",
        "    return to_return\n",
        "\n",
        "example_loc_ints = loc_list_to_ints(example[\"location\"])\n"
      ]
    },
    {
      "cell_type": "code",
      "execution_count": 27,
      "id": "875eec8d",
      "metadata": {
        "execution": {
          "iopub.execute_input": "2022-05-04T23:55:18.107283Z",
          "iopub.status.busy": "2022-05-04T23:55:18.106517Z",
          "iopub.status.idle": "2022-05-04T23:55:18.108838Z",
          "shell.execute_reply": "2022-05-04T23:55:18.109313Z",
          "shell.execute_reply.started": "2022-05-04T22:11:51.222296Z"
        },
        "papermill": {
          "duration": 0.06414,
          "end_time": "2022-05-04T23:55:18.109446",
          "exception": false,
          "start_time": "2022-05-04T23:55:18.045306",
          "status": "completed"
        },
        "tags": [],
        "id": "875eec8d"
      },
      "outputs": [],
      "source": [
        "def process_data_tokenize(pn_history, feature_text, annotation, location, tokenizer, max_len):    ##X , Y, selected_text  \n",
        "    \n",
        "    location_list = loc_list_to_ints(location)        \n",
        "    char_targets = [0] * len(pn_history) #creating empty list(all zeros) of character;it will be made 1 if annotation in text   \n",
        "    \n",
        "    for loc,anno in zip(location_list,annotation): \n",
        "      len_st = loc[1] - loc[0]\n",
        "\n",
        "      idx0 = None\n",
        "      idx1 = None\n",
        "      for ind in (i for i, e in enumerate(pn_history) if (e == anno[0] and i == loc[0])):\n",
        "        if pn_history[ind: ind+len_st] == anno:\n",
        "\n",
        "            idx0 = ind\n",
        "            idx1 = ind + len_st - 1\n",
        "            if idx0 != None and idx1 != None:\n",
        "                for ct in range(idx0, idx1 + 1):\n",
        "                    char_targets[ct] = 1  #replacing zeros with 1 if that part of the text is selected text\n",
        "    \n",
        "            break\n",
        "      \n",
        "    tokenized_input = tokenizer.encode_plus(feature_text,pn_history, \n",
        "                      return_offsets_mapping=True, \n",
        "                      max_length=max_len, \n",
        "                      pad_to_max_length=True, truncation=True)\n",
        "        \n",
        "    input_ids = tokenized_input.input_ids\n",
        "    mask = tokenized_input.attention_mask\n",
        "    token_type_ids = tokenized_input.token_type_ids\n",
        "    offsets = tokenized_input.offset_mapping\n",
        "    \n",
        "    target_idx = []\n",
        "    for j, (offset1, offset2) in enumerate(offsets):\n",
        "        if sum(char_targets[offset1: offset2]) > 0:\n",
        "            target_idx.append(j)\n",
        "            \n",
        "    #padding\n",
        "    padding_length = max_len - len(input_ids)\n",
        "    if padding_length > 0:\n",
        "        input_ids = input_ids + ([0] * padding_length)\n",
        "        mask = mask + ([0] * padding_length)\n",
        "        token_type_ids = token_type_ids + ([0] * padding_length)\n",
        "        offsets = offsets + ([(0, 0)] * padding_length)\n",
        "       \n",
        "    #creating label\n",
        "    ignore_idxes = np.where(np.array(token_type_ids) != 1)[0]\n",
        "\n",
        "    label = np.zeros(len(offsets))\n",
        "    label[ignore_idxes] = -1\n",
        "    label[target_idx] = 1\n",
        "\n",
        "    \n",
        "    return {\n",
        "    'ids': input_ids,\n",
        "    'mask': mask,\n",
        "    'token_type_ids': token_type_ids,\n",
        "    'labels': label,\n",
        "    'offsets': offsets\n",
        "}"
      ]
    },
    {
      "cell_type": "code",
      "execution_count": 28,
      "id": "1c2f12ae",
      "metadata": {
        "execution": {
          "iopub.execute_input": "2022-05-04T23:55:18.220782Z",
          "iopub.status.busy": "2022-05-04T23:55:18.219885Z",
          "iopub.status.idle": "2022-05-04T23:55:18.225357Z",
          "shell.execute_reply": "2022-05-04T23:55:18.225765Z",
          "shell.execute_reply.started": "2022-05-04T22:11:51.454981Z"
        },
        "papermill": {
          "duration": 0.069426,
          "end_time": "2022-05-04T23:55:18.225903",
          "exception": false,
          "start_time": "2022-05-04T23:55:18.156477",
          "status": "completed"
        },
        "tags": [],
        "colab": {
          "base_uri": "https://localhost:8080/"
        },
        "id": "1c2f12ae",
        "outputId": "32f2b932-13cd-42de-d8fe-a6b630677704"
      },
      "outputs": [
        {
          "output_type": "stream",
          "name": "stdout",
          "text": [
            "ids\n",
            "[101, 27946, 118, 8006, 102, 6857, 1182, 131, 1542, 7490, 182, 8218, 1114, 185, 1348, 18965, 6006, 119, 5351, 3756, 124, 118, 125, 1808, 1104, 27946, 3426, 1104, 107, 1762, 5405, 120, 9683, 1149, 1104, 1139, 2229, 119, 107, 123, 1552, 2403, 1219, 170, 5862, 1342, 1125, 1126, 2004, 117, 1133, 1142, 1159, 1125, 2229, 2997, 1105, 1464, 1112, 1191, 1119, 1127, 1280, 1106, 2789, 1149, 113, 1225, 1136, 3857, 14255, 9589, 1757, 114, 119, 1104, 3805, 5351, 1322, 18649, 1116, 170, 7441, 1158, 5194, 21716, 1233, 117, 3120, 1106, 2025, 113, 122, 118, 124, 1551, 1679, 1989, 114, 119, 1196, 2793, 5862, 1342, 117, 1261, 5194, 1200, 4412, 1233, 1480, 1196, 1105, 2106, 1104, 1342, 119, 26360, 1603, 1757, 1104, 2184, 117, 4267, 25890, 12238, 1548, 117, 10880, 1116, 117, 11824, 1116, 117, 16320, 117, 18418, 117, 2607, 1107, 2946, 117, 2607, 1107, 4152, 120, 4510, 117, 24716, 185, 3984, 1179, 117, 2607, 1107, 7125, 1883, 1137, 190, 9324, 1616, 15640, 119, 9852, 1324, 1775, 131, 3839, 187, 1775, 131, 2745, 2053, 5194, 1200, 4412, 1233, 175, 1324, 1775, 131, 4113, 1114, 107, 21153, 16219, 3653, 117, 107, 4153, 1114, 2793, 1762, 1120, 1204, 2599, 1377, 1155, 131, 3839, 13280, 13601, 2605, 8569, 1116, 131, 1146, 1106, 2236, 188, 1324, 1775, 131, 4489, 2354, 1107, 2134, 119, 1322, 18649, 1116, 124, 118, 125, 8898, 124, 6823, 120, 1989, 113, 1113, 14464, 114, 117, 26360, 27629, 2822, 14566, 117, 1322, 18649, 1116, 1774, 18816, 119, 13014, 2327, 1114, 6124, 193, 122, 1214, 117, 2745, 23956, 1116, 102, 0, 0, 0, 0, 0, 0, 0, 0, 0, 0, 0, 0, 0, 0, 0, 0, 0, 0, 0, 0, 0, 0, 0, 0, 0, 0, 0, 0, 0, 0, 0, 0, 0, 0, 0, 0, 0, 0, 0, 0, 0, 0, 0, 0, 0, 0, 0, 0, 0, 0, 0, 0, 0, 0, 0, 0, 0, 0, 0, 0, 0, 0, 0, 0, 0, 0, 0, 0, 0, 0, 0, 0, 0, 0, 0, 0, 0, 0, 0, 0, 0, 0, 0, 0, 0, 0, 0, 0, 0, 0, 0, 0, 0, 0, 0, 0, 0, 0, 0, 0, 0, 0, 0, 0, 0, 0, 0, 0, 0, 0, 0, 0, 0, 0, 0, 0, 0, 0, 0, 0, 0, 0, 0, 0, 0, 0, 0, 0, 0, 0, 0, 0, 0, 0, 0, 0, 0, 0, 0, 0, 0, 0, 0, 0, 0, 0, 0, 0, 0, 0, 0, 0, 0, 0, 0, 0, 0, 0, 0]\n",
            "====================================================================================================\n",
            "mask\n",
            "[1, 1, 1, 1, 1, 1, 1, 1, 1, 1, 1, 1, 1, 1, 1, 1, 1, 1, 1, 1, 1, 1, 1, 1, 1, 1, 1, 1, 1, 1, 1, 1, 1, 1, 1, 1, 1, 1, 1, 1, 1, 1, 1, 1, 1, 1, 1, 1, 1, 1, 1, 1, 1, 1, 1, 1, 1, 1, 1, 1, 1, 1, 1, 1, 1, 1, 1, 1, 1, 1, 1, 1, 1, 1, 1, 1, 1, 1, 1, 1, 1, 1, 1, 1, 1, 1, 1, 1, 1, 1, 1, 1, 1, 1, 1, 1, 1, 1, 1, 1, 1, 1, 1, 1, 1, 1, 1, 1, 1, 1, 1, 1, 1, 1, 1, 1, 1, 1, 1, 1, 1, 1, 1, 1, 1, 1, 1, 1, 1, 1, 1, 1, 1, 1, 1, 1, 1, 1, 1, 1, 1, 1, 1, 1, 1, 1, 1, 1, 1, 1, 1, 1, 1, 1, 1, 1, 1, 1, 1, 1, 1, 1, 1, 1, 1, 1, 1, 1, 1, 1, 1, 1, 1, 1, 1, 1, 1, 1, 1, 1, 1, 1, 1, 1, 1, 1, 1, 1, 1, 1, 1, 1, 1, 1, 1, 1, 1, 1, 1, 1, 1, 1, 1, 1, 1, 1, 1, 1, 1, 1, 1, 1, 1, 1, 1, 1, 1, 1, 1, 1, 1, 1, 1, 1, 1, 1, 1, 1, 1, 1, 1, 1, 1, 1, 1, 1, 1, 1, 1, 1, 1, 1, 1, 1, 1, 1, 1, 1, 1, 1, 1, 1, 1, 1, 1, 1, 1, 0, 0, 0, 0, 0, 0, 0, 0, 0, 0, 0, 0, 0, 0, 0, 0, 0, 0, 0, 0, 0, 0, 0, 0, 0, 0, 0, 0, 0, 0, 0, 0, 0, 0, 0, 0, 0, 0, 0, 0, 0, 0, 0, 0, 0, 0, 0, 0, 0, 0, 0, 0, 0, 0, 0, 0, 0, 0, 0, 0, 0, 0, 0, 0, 0, 0, 0, 0, 0, 0, 0, 0, 0, 0, 0, 0, 0, 0, 0, 0, 0, 0, 0, 0, 0, 0, 0, 0, 0, 0, 0, 0, 0, 0, 0, 0, 0, 0, 0, 0, 0, 0, 0, 0, 0, 0, 0, 0, 0, 0, 0, 0, 0, 0, 0, 0, 0, 0, 0, 0, 0, 0, 0, 0, 0, 0, 0, 0, 0, 0, 0, 0, 0, 0, 0, 0, 0, 0, 0, 0, 0, 0, 0, 0, 0, 0, 0, 0, 0, 0, 0, 0, 0, 0, 0, 0, 0, 0, 0]\n",
            "====================================================================================================\n",
            "token_type_ids\n",
            "[0, 0, 0, 0, 0, 1, 1, 1, 1, 1, 1, 1, 1, 1, 1, 1, 1, 1, 1, 1, 1, 1, 1, 1, 1, 1, 1, 1, 1, 1, 1, 1, 1, 1, 1, 1, 1, 1, 1, 1, 1, 1, 1, 1, 1, 1, 1, 1, 1, 1, 1, 1, 1, 1, 1, 1, 1, 1, 1, 1, 1, 1, 1, 1, 1, 1, 1, 1, 1, 1, 1, 1, 1, 1, 1, 1, 1, 1, 1, 1, 1, 1, 1, 1, 1, 1, 1, 1, 1, 1, 1, 1, 1, 1, 1, 1, 1, 1, 1, 1, 1, 1, 1, 1, 1, 1, 1, 1, 1, 1, 1, 1, 1, 1, 1, 1, 1, 1, 1, 1, 1, 1, 1, 1, 1, 1, 1, 1, 1, 1, 1, 1, 1, 1, 1, 1, 1, 1, 1, 1, 1, 1, 1, 1, 1, 1, 1, 1, 1, 1, 1, 1, 1, 1, 1, 1, 1, 1, 1, 1, 1, 1, 1, 1, 1, 1, 1, 1, 1, 1, 1, 1, 1, 1, 1, 1, 1, 1, 1, 1, 1, 1, 1, 1, 1, 1, 1, 1, 1, 1, 1, 1, 1, 1, 1, 1, 1, 1, 1, 1, 1, 1, 1, 1, 1, 1, 1, 1, 1, 1, 1, 1, 1, 1, 1, 1, 1, 1, 1, 1, 1, 1, 1, 1, 1, 1, 1, 1, 1, 1, 1, 1, 1, 1, 1, 1, 1, 1, 1, 1, 1, 1, 1, 1, 1, 1, 1, 1, 1, 1, 1, 1, 1, 1, 1, 1, 1, 0, 0, 0, 0, 0, 0, 0, 0, 0, 0, 0, 0, 0, 0, 0, 0, 0, 0, 0, 0, 0, 0, 0, 0, 0, 0, 0, 0, 0, 0, 0, 0, 0, 0, 0, 0, 0, 0, 0, 0, 0, 0, 0, 0, 0, 0, 0, 0, 0, 0, 0, 0, 0, 0, 0, 0, 0, 0, 0, 0, 0, 0, 0, 0, 0, 0, 0, 0, 0, 0, 0, 0, 0, 0, 0, 0, 0, 0, 0, 0, 0, 0, 0, 0, 0, 0, 0, 0, 0, 0, 0, 0, 0, 0, 0, 0, 0, 0, 0, 0, 0, 0, 0, 0, 0, 0, 0, 0, 0, 0, 0, 0, 0, 0, 0, 0, 0, 0, 0, 0, 0, 0, 0, 0, 0, 0, 0, 0, 0, 0, 0, 0, 0, 0, 0, 0, 0, 0, 0, 0, 0, 0, 0, 0, 0, 0, 0, 0, 0, 0, 0, 0, 0, 0, 0, 0, 0, 0, 0]\n",
            "====================================================================================================\n",
            "labels\n",
            "[-1. -1. -1. -1. -1.  0.  0.  0.  0.  0.  0.  0.  0.  0.  0.  0.  0.  0.\n",
            "  0.  0.  0.  0.  0.  0.  0.  1.  1.  0.  0.  0.  0.  0.  0.  0.  0.  0.\n",
            "  0.  0.  0.  0.  0.  0.  0.  0.  0.  0.  0.  0.  1.  0.  0.  0.  0.  0.\n",
            "  0.  0.  0.  0.  0.  0.  0.  0.  0.  0.  0.  0.  0.  0.  0.  0.  0.  0.\n",
            "  0.  0.  0.  0.  0.  0.  0.  0.  0.  0.  0.  0.  0.  0.  0.  0.  0.  0.\n",
            "  0.  0.  0.  0.  0.  0.  0.  0.  0.  0.  0.  0.  0.  0.  0.  0.  0.  0.\n",
            "  0.  0.  0.  0.  0.  0.  0.  0.  0.  0.  0.  0.  0.  0.  0.  0.  0.  0.\n",
            "  0.  0.  0.  0.  0.  0.  0.  0.  0.  0.  0.  0.  0.  0.  0.  0.  0.  0.\n",
            "  0.  0.  0.  0.  0.  0.  0.  0.  0.  0.  0.  0.  0.  0.  0.  0.  0.  0.\n",
            "  0.  0.  0.  0.  0.  0.  0.  0.  0.  0.  0.  0.  0.  0.  0.  0.  0.  0.\n",
            "  0.  0.  0.  0.  0.  0.  0.  0.  0.  0.  0.  0.  0.  0.  0.  0.  0.  0.\n",
            "  0.  0.  0.  0.  0.  0.  0.  0.  0.  0.  0.  0.  0.  0.  0.  0.  0.  0.\n",
            "  0.  0.  0.  0.  0.  0.  0.  0.  0.  0.  0.  0.  0.  0.  0.  0.  0.  0.\n",
            "  0.  0.  0.  0.  0.  0.  0.  0.  0.  0.  0.  0.  0.  0.  0.  0.  0.  0.\n",
            "  0.  0.  0.  0.  0. -1. -1. -1. -1. -1. -1. -1. -1. -1. -1. -1. -1. -1.\n",
            " -1. -1. -1. -1. -1. -1. -1. -1. -1. -1. -1. -1. -1. -1. -1. -1. -1. -1.\n",
            " -1. -1. -1. -1. -1. -1. -1. -1. -1. -1. -1. -1. -1. -1. -1. -1. -1. -1.\n",
            " -1. -1. -1. -1. -1. -1. -1. -1. -1. -1. -1. -1. -1. -1. -1. -1. -1. -1.\n",
            " -1. -1. -1. -1. -1. -1. -1. -1. -1. -1. -1. -1. -1. -1. -1. -1. -1. -1.\n",
            " -1. -1. -1. -1. -1. -1. -1. -1. -1. -1. -1. -1. -1. -1. -1. -1. -1. -1.\n",
            " -1. -1. -1. -1. -1. -1. -1. -1. -1. -1. -1. -1. -1. -1. -1. -1. -1. -1.\n",
            " -1. -1. -1. -1. -1. -1. -1. -1. -1. -1. -1. -1. -1. -1. -1. -1. -1. -1.\n",
            " -1. -1. -1. -1. -1. -1. -1. -1. -1. -1. -1. -1. -1. -1. -1. -1. -1. -1.\n",
            " -1. -1.]\n",
            "====================================================================================================\n",
            "offsets\n",
            "[(0, 0), (0, 12), (12, 13), (13, 21), (0, 0), (0, 2), (2, 3), (3, 4), (5, 7), (7, 9), (10, 11), (12, 20), (21, 25), (26, 27), (27, 29), (29, 32), (32, 38), (38, 39), (40, 47), (48, 55), (56, 57), (57, 58), (58, 59), (60, 66), (67, 69), (70, 82), (83, 91), (92, 94), (95, 96), (96, 101), (102, 109), (109, 110), (110, 118), (119, 122), (123, 125), (126, 128), (129, 134), (134, 135), (135, 136), (137, 138), (139, 143), (144, 147), (148, 154), (155, 156), (157, 163), (164, 168), (169, 172), (173, 175), (176, 183), (183, 184), (185, 188), (189, 193), (194, 198), (199, 202), (203, 208), (209, 217), (218, 221), (222, 226), (227, 229), (230, 232), (233, 235), (236, 240), (241, 246), (247, 249), (250, 254), (255, 258), (259, 260), (260, 263), (264, 267), (268, 272), (273, 276), (276, 281), (281, 285), (285, 286), (286, 287), (288, 290), (291, 295), (296, 303), (304, 307), (307, 311), (311, 312), (313, 314), (314, 317), (317, 320), (321, 324), (324, 328), (328, 329), (329, 330), (331, 340), (341, 343), (344, 349), (350, 351), (351, 352), (352, 353), (353, 354), (355, 360), (361, 364), (365, 369), (369, 370), (370, 371), (372, 378), (379, 385), (386, 392), (393, 397), (397, 398), (399, 403), (404, 407), (407, 409), (409, 412), (412, 413), (414, 419), (420, 426), (427, 430), (431, 438), (439, 441), (442, 446), (446, 447), (448, 454), (455, 460), (460, 464), (465, 467), (468, 474), (474, 475), (476, 478), (478, 481), (481, 485), (485, 487), (487, 488), (489, 494), (494, 495), (495, 496), (497, 502), (502, 503), (503, 504), (505, 513), (513, 514), (515, 522), (522, 523), (524, 531), (532, 534), (535, 540), (540, 541), (542, 549), (550, 552), (553, 559), (559, 560), (560, 567), (567, 568), (569, 578), (579, 580), (580, 582), (582, 583), (583, 584), (585, 592), (593, 595), (596, 599), (599, 601), (602, 604), (605, 606), (606, 610), (610, 612), (613, 619), (619, 620), (623, 625), (625, 626), (626, 627), (627, 628), (629, 633), (635, 636), (636, 637), (637, 638), (639, 643), (644, 651), (652, 655), (655, 657), (657, 660), (660, 661), (663, 664), (664, 665), (665, 666), (666, 667), (668, 671), (672, 676), (677, 678), (678, 681), (681, 685), (686, 693), (693, 694), (694, 695), (696, 699), (700, 704), (705, 711), (712, 717), (718, 720), (720, 721), (721, 723), (723, 724), (726, 729), (729, 730), (731, 735), (737, 739), (739, 741), (741, 743), (743, 749), (749, 750), (750, 751), (752, 754), (755, 757), (758, 762), (764, 765), (765, 766), (766, 767), (767, 768), (769, 774), (774, 777), (778, 780), (781, 788), (788, 789), (790, 793), (793, 797), (797, 798), (799, 800), (800, 801), (801, 802), (803, 809), (810, 811), (812, 818), (819, 820), (821, 825), (826, 827), (827, 829), (830, 838), (838, 839), (839, 840), (841, 847), (848, 850), (850, 852), (852, 855), (855, 856), (857, 860), (860, 864), (864, 865), (866, 872), (873, 882), (882, 883), (884, 892), (893, 899), (900, 904), (905, 915), (916, 917), (918, 919), (920, 924), (924, 925), (926, 930), (931, 937), (937, 938), (0, 0), (0, 0), (0, 0), (0, 0), (0, 0), (0, 0), (0, 0), (0, 0), (0, 0), (0, 0), (0, 0), (0, 0), (0, 0), (0, 0), (0, 0), (0, 0), (0, 0), (0, 0), (0, 0), (0, 0), (0, 0), (0, 0), (0, 0), (0, 0), (0, 0), (0, 0), (0, 0), (0, 0), (0, 0), (0, 0), (0, 0), (0, 0), (0, 0), (0, 0), (0, 0), (0, 0), (0, 0), (0, 0), (0, 0), (0, 0), (0, 0), (0, 0), (0, 0), (0, 0), (0, 0), (0, 0), (0, 0), (0, 0), (0, 0), (0, 0), (0, 0), (0, 0), (0, 0), (0, 0), (0, 0), (0, 0), (0, 0), (0, 0), (0, 0), (0, 0), (0, 0), (0, 0), (0, 0), (0, 0), (0, 0), (0, 0), (0, 0), (0, 0), (0, 0), (0, 0), (0, 0), (0, 0), (0, 0), (0, 0), (0, 0), (0, 0), (0, 0), (0, 0), (0, 0), (0, 0), (0, 0), (0, 0), (0, 0), (0, 0), (0, 0), (0, 0), (0, 0), (0, 0), (0, 0), (0, 0), (0, 0), (0, 0), (0, 0), (0, 0), (0, 0), (0, 0), (0, 0), (0, 0), (0, 0), (0, 0), (0, 0), (0, 0), (0, 0), (0, 0), (0, 0), (0, 0), (0, 0), (0, 0), (0, 0), (0, 0), (0, 0), (0, 0), (0, 0), (0, 0), (0, 0), (0, 0), (0, 0), (0, 0), (0, 0), (0, 0), (0, 0), (0, 0), (0, 0), (0, 0), (0, 0), (0, 0), (0, 0), (0, 0), (0, 0), (0, 0), (0, 0), (0, 0), (0, 0), (0, 0), (0, 0), (0, 0), (0, 0), (0, 0), (0, 0), (0, 0), (0, 0), (0, 0), (0, 0), (0, 0), (0, 0), (0, 0), (0, 0), (0, 0), (0, 0), (0, 0), (0, 0), (0, 0), (0, 0), (0, 0), (0, 0), (0, 0), (0, 0), (0, 0), (0, 0), (0, 0)]\n",
            "====================================================================================================\n"
          ]
        },
        {
          "output_type": "stream",
          "name": "stderr",
          "text": [
            "/usr/local/lib/python3.7/dist-packages/transformers/tokenization_utils_base.py:2308: FutureWarning: The `pad_to_max_length` argument is deprecated and will be removed in a future version, use `padding=True` or `padding='longest'` to pad to the longest sequence in the batch, or use `padding='max_length'` to pad to a max length. In this case, you can give a specific length with `max_length` (e.g. `max_length=45`) or leave max_length to None to pad to the maximal input size of the model (e.g. 512 for Bert).\n",
            "  FutureWarning,\n"
          ]
        }
      ],
      "source": [
        "output = process_data_tokenize(example[\"pn_history\"],example[\"feature_text\"],example[\"annotation\"],example[\"location\"],config.TOKENIZER,config.MAX_LEN)\n",
        "\n",
        "for key in output.keys():\n",
        "    print(key)\n",
        "    print(output[key])\n",
        "    print(\"=\" * 100)\n",
        "    "
      ]
    },
    {
      "cell_type": "markdown",
      "id": "5672a03f",
      "metadata": {
        "papermill": {
          "duration": 0.047422,
          "end_time": "2022-05-04T23:55:18.320920",
          "exception": false,
          "start_time": "2022-05-04T23:55:18.273498",
          "status": "completed"
        },
        "tags": [],
        "id": "5672a03f"
      },
      "source": [
        "# Data Loader"
      ]
    },
    {
      "cell_type": "code",
      "execution_count": 29,
      "id": "e216cd1d",
      "metadata": {
        "execution": {
          "iopub.execute_input": "2022-05-04T23:55:18.426164Z",
          "iopub.status.busy": "2022-05-04T23:55:18.425448Z",
          "iopub.status.idle": "2022-05-04T23:55:18.427613Z",
          "shell.execute_reply": "2022-05-04T23:55:18.428133Z",
          "shell.execute_reply.started": "2022-05-04T22:11:51.701267Z"
        },
        "papermill": {
          "duration": 0.058889,
          "end_time": "2022-05-04T23:55:18.428292",
          "exception": false,
          "start_time": "2022-05-04T23:55:18.369403",
          "status": "completed"
        },
        "tags": [],
        "id": "e216cd1d"
      },
      "outputs": [],
      "source": [
        "class NBMEDataset:\n",
        "    def __init__(self, pn_history, feature_text, annotation, location):   #text(X) #label(Y), #selected_text #start:end\n",
        "        self.pn_history = pn_history\n",
        "        self.feature_text = feature_text\n",
        "        self.annotation = annotation\n",
        "        self.location = location\n",
        "        self.tokenizer = config.TOKENIZER\n",
        "        self.max_len = config.MAX_LEN\n",
        "        \n",
        "    def __len__(self):\n",
        "        return len(self.pn_history)\n",
        "        \n",
        "    def __getitem__(self, item):\n",
        "        data = process_data_tokenize(\n",
        "            self.pn_history[item],\n",
        "            self.feature_text[item],\n",
        "            self.annotation[item],\n",
        "            self.location[item],\n",
        "            self.tokenizer,\n",
        "            self.max_len\n",
        "        )\n",
        "        \n",
        "        return {\n",
        "            'ids': torch.tensor(data[\"ids\"]), #input_ids\n",
        "            'mask': torch.tensor(data[\"mask\"], dtype=torch.long), #attention_mask\n",
        "            'token_type_ids': torch.tensor(data[\"token_type_ids\"], dtype=torch.long), #segment_ids\n",
        "            'labels': torch.tensor(data[\"labels\"], dtype=torch.long), \n",
        "            'offsets': torch.tensor(data[\"offsets\"], dtype=torch.long)\n",
        "        }\n"
      ]
    },
    {
      "cell_type": "markdown",
      "id": "8046ae35",
      "metadata": {
        "papermill": {
          "duration": 0.047347,
          "end_time": "2022-05-04T23:55:18.523614",
          "exception": false,
          "start_time": "2022-05-04T23:55:18.476267",
          "status": "completed"
        },
        "tags": [],
        "id": "8046ae35"
      },
      "source": [
        "# The Model"
      ]
    },
    {
      "cell_type": "code",
      "execution_count": 30,
      "id": "4d2d9da0",
      "metadata": {
        "execution": {
          "iopub.execute_input": "2022-05-04T23:55:18.629418Z",
          "iopub.status.busy": "2022-05-04T23:55:18.624936Z",
          "iopub.status.idle": "2022-05-04T23:55:18.845439Z",
          "shell.execute_reply": "2022-05-04T23:55:18.844768Z",
          "shell.execute_reply.started": "2022-05-04T22:11:51.94866Z"
        },
        "papermill": {
          "duration": 0.271645,
          "end_time": "2022-05-04T23:55:18.845583",
          "exception": false,
          "start_time": "2022-05-04T23:55:18.573938",
          "status": "completed"
        },
        "tags": [],
        "id": "4d2d9da0"
      },
      "outputs": [],
      "source": [
        "class NBMEModel(transformers.BertPreTrainedModel):    #torch.nn.Module\n",
        "    def __init__(self,conf):\n",
        "        super(NBMEModel,self).__init__(conf)\n",
        "        self.bert = transformers.BertModel.from_pretrained(config.BERT_PATH, config=conf)\n",
        "        self.dropout = torch.nn.Dropout(config.DROPOUT)\n",
        "        self.classifier = torch.nn.Linear(768, 1)\n",
        "        torch.nn.init.normal_(self.classifier.weight, std=0.02) \n",
        "        \n",
        "    def forward(self, ids, mask, token_type_ids):\n",
        "        sequence_out = self.bert(ids, attention_mask=mask, token_type_ids=token_type_ids)[0] #last_hidden_state\n",
        "        batch_size,max_len,feat_dim = sequence_out.shape\n",
        "        sequence_output = self.dropout(sequence_out)\n",
        "        logits = self.classifier(sequence_output)\n",
        "        logits = logits.squeeze(-1) \n",
        "        return logits"
      ]
    },
    {
      "cell_type": "markdown",
      "id": "b8f5b53f",
      "metadata": {
        "papermill": {
          "duration": 0.0472,
          "end_time": "2022-05-04T23:55:18.942414",
          "exception": false,
          "start_time": "2022-05-04T23:55:18.895214",
          "status": "completed"
        },
        "tags": [],
        "id": "b8f5b53f"
      },
      "source": [
        "# Utility Function"
      ]
    },
    {
      "cell_type": "code",
      "execution_count": 31,
      "id": "5dea1882",
      "metadata": {
        "execution": {
          "iopub.execute_input": "2022-05-04T23:55:19.045542Z",
          "iopub.status.busy": "2022-05-04T23:55:19.041927Z",
          "iopub.status.idle": "2022-05-04T23:55:19.047814Z",
          "shell.execute_reply": "2022-05-04T23:55:19.047390Z",
          "shell.execute_reply.started": "2022-05-04T22:11:52.192752Z"
        },
        "papermill": {
          "duration": 0.057853,
          "end_time": "2022-05-04T23:55:19.047956",
          "exception": false,
          "start_time": "2022-05-04T23:55:18.990103",
          "status": "completed"
        },
        "tags": [],
        "id": "5dea1882"
      },
      "outputs": [],
      "source": [
        "class AverageMeter:\n",
        "    \"\"\"\n",
        "    Computes and stores the average and current value\n",
        "    \"\"\"\n",
        "    def __init__(self):\n",
        "        self.reset()\n",
        "\n",
        "    def reset(self):\n",
        "        self.val = 0\n",
        "        self.avg = 0\n",
        "        self.sum = 0\n",
        "        self.count = 0\n",
        "\n",
        "    def update(self, val, n=1):\n",
        "        self.val = val\n",
        "        self.sum += val * n\n",
        "        self.count += n\n",
        "        self.avg = self.sum / self.count\n",
        "        "
      ]
    },
    {
      "cell_type": "markdown",
      "id": "26fe6f2e",
      "metadata": {
        "papermill": {
          "duration": 0.047281,
          "end_time": "2022-05-04T23:55:19.143415",
          "exception": false,
          "start_time": "2022-05-04T23:55:19.096134",
          "status": "completed"
        },
        "tags": [],
        "id": "26fe6f2e"
      },
      "source": [
        "# Loss Function"
      ]
    },
    {
      "cell_type": "code",
      "execution_count": 32,
      "id": "cf726771",
      "metadata": {
        "execution": {
          "iopub.execute_input": "2022-05-04T23:55:19.243380Z",
          "iopub.status.busy": "2022-05-04T23:55:19.242442Z",
          "iopub.status.idle": "2022-05-04T23:55:19.244510Z",
          "shell.execute_reply": "2022-05-04T23:55:19.244915Z",
          "shell.execute_reply.started": "2022-05-04T22:11:52.437466Z"
        },
        "papermill": {
          "duration": 0.054192,
          "end_time": "2022-05-04T23:55:19.245069",
          "exception": false,
          "start_time": "2022-05-04T23:55:19.190877",
          "status": "completed"
        },
        "tags": [],
        "id": "cf726771"
      },
      "outputs": [],
      "source": [
        "def loss_fn(logits, labels):\n",
        "    loss_fct = torch.nn.BCEWithLogitsLoss(reduction = \"none\")\n",
        "    loss = loss_fct(logits,labels)\n",
        "    return loss\n"
      ]
    },
    {
      "cell_type": "markdown",
      "id": "4c094eea",
      "metadata": {
        "papermill": {
          "duration": 0.047591,
          "end_time": "2022-05-04T23:55:19.340022",
          "exception": false,
          "start_time": "2022-05-04T23:55:19.292431",
          "status": "completed"
        },
        "tags": [],
        "id": "4c094eea"
      },
      "source": [
        "# Training Function"
      ]
    },
    {
      "cell_type": "code",
      "execution_count": 40,
      "id": "c1e2478d",
      "metadata": {
        "execution": {
          "iopub.execute_input": "2022-05-04T23:55:19.438208Z",
          "iopub.status.busy": "2022-05-04T23:55:19.437283Z",
          "iopub.status.idle": "2022-05-04T23:55:19.519700Z",
          "shell.execute_reply": "2022-05-04T23:55:19.518896Z",
          "shell.execute_reply.started": "2022-05-04T22:11:52.676904Z"
        },
        "papermill": {
          "duration": 0.132634,
          "end_time": "2022-05-04T23:55:19.519844",
          "exception": false,
          "start_time": "2022-05-04T23:55:19.387210",
          "status": "completed"
        },
        "tags": [],
        "id": "c1e2478d"
      },
      "outputs": [],
      "source": [
        "DEVICE = torch.device(\"cuda\" if torch.cuda.is_available() else \"cpu\")"
      ]
    },
    {
      "cell_type": "code",
      "execution_count": 35,
      "id": "c2108e6c",
      "metadata": {
        "execution": {
          "iopub.execute_input": "2022-05-04T23:55:19.701175Z",
          "iopub.status.busy": "2022-05-04T23:55:19.700264Z",
          "iopub.status.idle": "2022-05-04T23:55:19.711127Z",
          "shell.execute_reply": "2022-05-04T23:55:19.712249Z",
          "shell.execute_reply.started": "2022-05-04T22:11:52.922429Z"
        },
        "papermill": {
          "duration": 0.119995,
          "end_time": "2022-05-04T23:55:19.712446",
          "exception": false,
          "start_time": "2022-05-04T23:55:19.592451",
          "status": "completed"
        },
        "tags": [],
        "id": "c2108e6c"
      },
      "outputs": [],
      "source": [
        "def train_fn(dataloader, model, optimizer, scheduler=None):\n",
        "    model.train()\n",
        "    losses = AverageMeter() # Computes and stores the average and current value\n",
        "    tk = tqdm(dataloader, total=len(dataloader)) #tqdm is a Python library for adding progress bar. \n",
        "    \n",
        "    for batch, data in enumerate(tk):\n",
        "\n",
        "      print(data)\n",
        "      print('*********')\n",
        "      ids = data['ids']\n",
        "      token_type_ids = data[\"token_type_ids\"]\n",
        "      mask = data[\"mask\"]\n",
        "      labels = data[\"labels\"]\n",
        "      offsets = data[\"offsets\"]\n",
        "        \n",
        "      #adding the below data to device ;device enables you to specify the device type responsible to load a tensor into memory.\n",
        "      ids = ids.to(DEVICE, dtype=torch.long)\n",
        "      token_type_ids = token_type_ids.to(DEVICE, dtype=torch.long)\n",
        "      mask = mask.to(DEVICE, dtype=torch.long)\n",
        "      labels = labels.to(DEVICE, dtype=torch.float64)\n",
        "\n",
        "      model.zero_grad()\n",
        "      logits = model(ids=ids, mask=mask, token_type_ids=token_type_ids) #last_hidden_state\n",
        "\n",
        "      loss = loss_fn(logits, labels)\n",
        "      loss = torch.masked_select(loss, labels > -1.0).mean()\n",
        "      losses.update(loss.item(),ids.size(0))\n",
        "      loss.backward()\n",
        "\n",
        "      torch.nn.utils.clip_grad_norm_(model.parameters(), config.MAX_GRAD_NORM)\n",
        "      optimizer.step()\n",
        "      scheduler.step() ## Update learning rate schedule\n",
        "      \n",
        "      #output = torch.argmax(torch.softmax(logits, dim=2),dim=2).cpu().detach().numpy()\n",
        "      tk.set_postfix(loss=losses.avg)\n",
        "      return losses.avg"
      ]
    },
    {
      "cell_type": "markdown",
      "id": "a83407c2",
      "metadata": {
        "papermill": {
          "duration": 0.087596,
          "end_time": "2022-05-04T23:55:19.887734",
          "exception": false,
          "start_time": "2022-05-04T23:55:19.800138",
          "status": "completed"
        },
        "tags": [],
        "id": "a83407c2"
      },
      "source": [
        "# Evaluation Functions"
      ]
    },
    {
      "cell_type": "code",
      "execution_count": 36,
      "id": "dce1327b",
      "metadata": {
        "execution": {
          "iopub.execute_input": "2022-05-04T23:55:20.055113Z",
          "iopub.status.busy": "2022-05-04T23:55:20.054312Z",
          "iopub.status.idle": "2022-05-04T23:55:20.058874Z",
          "shell.execute_reply": "2022-05-04T23:55:20.059901Z",
          "shell.execute_reply.started": "2022-05-04T22:11:53.152728Z"
        },
        "papermill": {
          "duration": 0.094663,
          "end_time": "2022-05-04T23:55:20.060097",
          "exception": false,
          "start_time": "2022-05-04T23:55:19.965434",
          "status": "completed"
        },
        "tags": [],
        "id": "dce1327b"
      },
      "outputs": [],
      "source": [
        "def eval_fn(dataloader, model):\n",
        "    model.eval()\n",
        "    losses = AverageMeter() # Computes and stores the average and current value\n",
        "\n",
        "    with torch.no_grad():\n",
        "        tk = tqdm(dataloader, total=len(dataloader)) \n",
        "        for batch, data in enumerate(tk):\n",
        "\n",
        "            ids = data['ids']\n",
        "            token_type_ids = data[\"token_type_ids\"]\n",
        "            mask = data[\"mask\"]\n",
        "            labels = data[\"labels\"]\n",
        "            offsets = data[\"offsets\"]\n",
        "\n",
        "            ids = ids.to(DEVICE, dtype=torch.long)\n",
        "            token_type_ids = token_type_ids.to(DEVICE, dtype=torch.long)\n",
        "            mask = mask.to(DEVICE, dtype=torch.long)\n",
        "            labels = labels.to(DEVICE, dtype=torch.float64)\n",
        "\n",
        "            logits = model(ids=ids, mask=mask, token_type_ids=token_type_ids) #last_hidden_state\n",
        "            \n",
        "            loss = loss_fn(logits, labels)\n",
        "            loss = torch.masked_select(loss, labels > -1.0).mean()\n",
        "            losses.update(loss.item(),ids.size(0))\n",
        "            tk.set_postfix(loss=losses.avg)\n",
        "        \n",
        "        return losses.avg\n"
      ]
    },
    {
      "cell_type": "markdown",
      "id": "e8a4b31f",
      "metadata": {
        "papermill": {
          "duration": 0.059709,
          "end_time": "2022-05-04T23:55:20.196738",
          "exception": false,
          "start_time": "2022-05-04T23:55:20.137029",
          "status": "completed"
        },
        "tags": [],
        "id": "e8a4b31f"
      },
      "source": [
        "# Training"
      ]
    },
    {
      "cell_type": "code",
      "execution_count": 38,
      "id": "a16befb0",
      "metadata": {
        "execution": {
          "iopub.execute_input": "2022-05-04T23:55:20.308527Z",
          "iopub.status.busy": "2022-05-04T23:55:20.306832Z",
          "iopub.status.idle": "2022-05-04T23:55:20.309237Z",
          "shell.execute_reply": "2022-05-04T23:55:20.309652Z",
          "shell.execute_reply.started": "2022-05-04T22:11:53.638464Z"
        },
        "papermill": {
          "duration": 0.065499,
          "end_time": "2022-05-04T23:55:20.309778",
          "exception": false,
          "start_time": "2022-05-04T23:55:20.244279",
          "status": "completed"
        },
        "tags": [],
        "id": "a16befb0"
      },
      "outputs": [],
      "source": [
        "def run(fold):\n",
        "    \n",
        "    train_loss_data, valid_loss_data = [], []\n",
        "    best_loss = np.inf\n",
        "    since = time.time()\n",
        "   \n",
        "    df_train = dfx[dfx.kfold != fold].reset_index(drop=True) \n",
        "    df_valid = dfx[dfx.kfold == fold].reset_index(drop=True)\n",
        "    \n",
        "    train_dataset = NBMEDataset(\n",
        "        pn_history=df_train.pn_history.values,\n",
        "        feature_text=df_train.feature_text.values,\n",
        "        annotation=df_train.annotation.values,\n",
        "        location=df_train.location.values\n",
        "        \n",
        "    )\n",
        "    \n",
        "    train_data_loader = torch.utils.data.DataLoader(\n",
        "        train_dataset,\n",
        "        batch_size=config.TRAIN_BATCH_SIZE,\n",
        "        num_workers=4\n",
        "    )\n",
        "\n",
        "    valid_dataset = NBMEDataset(\n",
        "        pn_history=df_valid.pn_history.values,\n",
        "        feature_text=df_valid.feature_text.values,\n",
        "        annotation=df_valid.annotation.values,\n",
        "        location=df_valid.location.values\n",
        "    )\n",
        "\n",
        "    valid_data_loader = torch.utils.data.DataLoader(\n",
        "        valid_dataset,\n",
        "        batch_size=config.VALID_BATCH_SIZE,\n",
        "        num_workers=2\n",
        "    )\n",
        "\n",
        "    model_config = transformers.BertConfig.from_pretrained(config.BERT_PATH)\n",
        "    model_config.output_hidden_states = True\n",
        "    model = NBMEModel(conf=model_config)\n",
        "    model.to(DEVICE)\n",
        "    \n",
        "    num_train_steps = int(len(df_train) / config.TRAIN_BATCH_SIZE * config.EPOCHS)\n",
        "    param_optimizer = list(model.named_parameters())\n",
        "    no_decay = [\"bias\", \"LayerNorm.bias\", \"LayerNorm.weight\"]\n",
        "    optimizer_parameters = [\n",
        "        {'params': [p for n, p in param_optimizer if not any(nd in n for nd in no_decay)], 'weight_decay': 0.001},\n",
        "        {'params': [p for n, p in param_optimizer if any(nd in n for nd in no_decay)], 'weight_decay': 0.0},\n",
        "    ]\n",
        "    optimizer = AdamW(optimizer_parameters, lr=config.LEARNING_RATE)\n",
        "    scheduler = get_linear_schedule_with_warmup(\n",
        "        optimizer, \n",
        "        num_warmup_steps=0, \n",
        "        num_training_steps=num_train_steps\n",
        "    )\n",
        "\n",
        "    best_loss = np.inf\n",
        "    \n",
        "    for i in range(config.EPOCHS):\n",
        "        print(\"Epoch: {}/{}\".format(i + 1, config.EPOCHS))\n",
        "    \n",
        "        # train model\n",
        "        train_loss = train_fn(train_data_loader, model, optimizer, scheduler=scheduler)\n",
        "        train_loss_data.append(train_loss)\n",
        "        print(f\"Train loss: {train_loss}\")\n",
        "\n",
        "        # evaluate model\n",
        "        valid_loss = eval_fn(valid_data_loader, model)\n",
        "        valid_loss_data.append(valid_loss)\n",
        "        print(f\"Valid loss: {valid_loss}\")\n",
        "\n",
        "\n",
        "        if valid_loss < best_loss:\n",
        "            best_loss = valid_loss\n",
        "            torch.save(model.state_dict(), \"model_fold1.bin\")\n",
        "\n",
        "\n",
        "        time_elapsed = time.time() - since\n",
        "        print('Training completed in {:.0f}m {:.0f}s'.format(\n",
        "            time_elapsed // 60, time_elapsed % 60))\n",
        "    \n",
        "    "
      ]
    },
    {
      "cell_type": "code",
      "execution_count": 41,
      "id": "eb0f6106",
      "metadata": {
        "execution": {
          "iopub.execute_input": "2022-05-04T23:55:20.409556Z",
          "iopub.status.busy": "2022-05-04T23:55:20.408626Z",
          "iopub.status.idle": "2022-05-05T00:44:28.669507Z",
          "shell.execute_reply": "2022-05-05T00:44:28.669056Z",
          "shell.execute_reply.started": "2022-05-04T22:11:54.181468Z"
        },
        "papermill": {
          "duration": 2948.312825,
          "end_time": "2022-05-05T00:44:28.669637",
          "exception": false,
          "start_time": "2022-05-04T23:55:20.356812",
          "status": "completed"
        },
        "tags": [],
        "colab": {
          "base_uri": "https://localhost:8080/",
          "height": 327,
          "referenced_widgets": [
            "3642b30e2f3344d2a5f591063cecb56c",
            "3532af3069eb47758e993a172a06f855",
            "c0f71ce3ad9c4636ba79f6c370bb2ca5",
            "5af6ff26837643a78e7c35c69a874c77",
            "0d5b1e8d29814747b1dc1b96b3ed8db4",
            "d594d6c7d62249228146af4f8ffd58d9",
            "c2c27e4805ae44ac822cd2dca9eb276c",
            "fca39599ada54754a7c89feb133dd6ab",
            "cf339a03049042a187d151082849539b",
            "126d2ed47b31411d9269207415ca8e81",
            "d6bd069e64d14c988b3ea9acbf48fcff",
            "6ca4d42fb1b849499cd4002ce0fb4f87",
            "a7f407a82a404888a9c4c986e70a848a",
            "c1d1c65843774c4b91cc7e38e4f08ebc",
            "9bc084b7b3644203bf103235067f9d2b",
            "1cd6ef6e10c245a7b927b991e0937783",
            "36779e05b3fc493ea1e53433ab54fb5f",
            "8ecc72bfa4b6485bb519d7b1fb7e97f8",
            "8a9ed365d15f41ca972a87f86d3d5e49",
            "d5846efb692d471389d0d293e81f84d5",
            "e6618300eb39491c969fc1f8172dbc3a",
            "5bad8077e1a246f486f6dcf93e9cf906"
          ]
        },
        "id": "eb0f6106",
        "outputId": "26db0e81-604f-48bc-d96f-b1906697ebf8"
      },
      "outputs": [
        {
          "output_type": "stream",
          "name": "stderr",
          "text": [
            "Some weights of the model checkpoint at bert-base-uncased were not used when initializing BertModel: ['cls.predictions.transform.dense.bias', 'cls.predictions.transform.LayerNorm.weight', 'cls.predictions.decoder.weight', 'cls.predictions.transform.LayerNorm.bias', 'cls.seq_relationship.weight', 'cls.predictions.transform.dense.weight', 'cls.seq_relationship.bias', 'cls.predictions.bias']\n",
            "- This IS expected if you are initializing BertModel from the checkpoint of a model trained on another task or with another architecture (e.g. initializing a BertForSequenceClassification model from a BertForPreTraining model).\n",
            "- This IS NOT expected if you are initializing BertModel from the checkpoint of a model that you expect to be exactly identical (initializing a BertForSequenceClassification model from a BertForSequenceClassification model).\n"
          ]
        },
        {
          "output_type": "stream",
          "name": "stdout",
          "text": [
            "Epoch: 1/1\n"
          ]
        },
        {
          "output_type": "stream",
          "name": "stderr",
          "text": [
            "/usr/local/lib/python3.7/dist-packages/transformers/optimization.py:310: FutureWarning: This implementation of AdamW is deprecated and will be removed in a future version. Use the PyTorch implementation torch.optim.AdamW instead, or set `no_deprecation_warning=True` to disable this warning\n",
            "  FutureWarning,\n"
          ]
        },
        {
          "output_type": "display_data",
          "data": {
            "text/plain": [
              "0it [00:00, ?it/s]"
            ],
            "application/vnd.jupyter.widget-view+json": {
              "version_major": 2,
              "version_minor": 0,
              "model_id": "3642b30e2f3344d2a5f591063cecb56c"
            }
          },
          "metadata": {}
        },
        {
          "output_type": "stream",
          "name": "stdout",
          "text": [
            "Train loss: None\n"
          ]
        },
        {
          "output_type": "display_data",
          "data": {
            "text/plain": [
              "  0%|          | 0/13 [00:00<?, ?it/s]"
            ],
            "application/vnd.jupyter.widget-view+json": {
              "version_major": 2,
              "version_minor": 0,
              "model_id": "6ca4d42fb1b849499cd4002ce0fb4f87"
            }
          },
          "metadata": {}
        },
        {
          "output_type": "stream",
          "name": "stderr",
          "text": [
            "/usr/local/lib/python3.7/dist-packages/transformers/tokenization_utils_base.py:2308: FutureWarning: The `pad_to_max_length` argument is deprecated and will be removed in a future version, use `padding=True` or `padding='longest'` to pad to the longest sequence in the batch, or use `padding='max_length'` to pad to a max length. In this case, you can give a specific length with `max_length` (e.g. `max_length=45`) or leave max_length to None to pad to the maximal input size of the model (e.g. 512 for Bert).\n",
            "  FutureWarning,\n",
            "/usr/local/lib/python3.7/dist-packages/transformers/tokenization_utils_base.py:2308: FutureWarning: The `pad_to_max_length` argument is deprecated and will be removed in a future version, use `padding=True` or `padding='longest'` to pad to the longest sequence in the batch, or use `padding='max_length'` to pad to a max length. In this case, you can give a specific length with `max_length` (e.g. `max_length=45`) or leave max_length to None to pad to the maximal input size of the model (e.g. 512 for Bert).\n",
            "  FutureWarning,\n"
          ]
        },
        {
          "output_type": "stream",
          "name": "stdout",
          "text": [
            "Valid loss: 0.6475894514143635\n",
            "Training completed in 0m 16s\n"
          ]
        }
      ],
      "source": [
        "run(fold=0)"
      ]
    },
    {
      "cell_type": "code",
      "execution_count": null,
      "id": "577d8bd0",
      "metadata": {
        "execution": {
          "iopub.execute_input": "2022-05-05T00:44:28.847062Z",
          "iopub.status.busy": "2022-05-05T00:44:28.846192Z",
          "iopub.status.idle": "2022-05-05T00:44:28.848898Z",
          "shell.execute_reply": "2022-05-05T00:44:28.848483Z",
          "shell.execute_reply.started": "2022-05-04T23:00:53.737666Z"
        },
        "papermill": {
          "duration": 0.065742,
          "end_time": "2022-05-05T00:44:28.849017",
          "exception": false,
          "start_time": "2022-05-05T00:44:28.783275",
          "status": "completed"
        },
        "tags": [],
        "id": "577d8bd0"
      },
      "outputs": [],
      "source": [
        "#run(fold=1)"
      ]
    },
    {
      "cell_type": "code",
      "execution_count": null,
      "id": "404d4c2d",
      "metadata": {
        "execution": {
          "iopub.execute_input": "2022-05-05T00:44:28.972708Z",
          "iopub.status.busy": "2022-05-05T00:44:28.970947Z",
          "iopub.status.idle": "2022-05-05T00:44:28.973390Z",
          "shell.execute_reply": "2022-05-05T00:44:28.973826Z",
          "shell.execute_reply.started": "2022-05-04T23:11:03.889187Z"
        },
        "papermill": {
          "duration": 0.065547,
          "end_time": "2022-05-05T00:44:28.973940",
          "exception": false,
          "start_time": "2022-05-05T00:44:28.908393",
          "status": "completed"
        },
        "tags": [],
        "id": "404d4c2d"
      },
      "outputs": [],
      "source": [
        "#run(fold=2)"
      ]
    },
    {
      "cell_type": "code",
      "execution_count": null,
      "id": "60d00270",
      "metadata": {
        "execution": {
          "iopub.execute_input": "2022-05-05T00:44:29.098018Z",
          "iopub.status.busy": "2022-05-05T00:44:29.096185Z",
          "iopub.status.idle": "2022-05-05T00:44:29.098633Z",
          "shell.execute_reply": "2022-05-05T00:44:29.099055Z"
        },
        "papermill": {
          "duration": 0.065489,
          "end_time": "2022-05-05T00:44:29.099176",
          "exception": false,
          "start_time": "2022-05-05T00:44:29.033687",
          "status": "completed"
        },
        "tags": [],
        "id": "60d00270"
      },
      "outputs": [],
      "source": [
        "#run(fold=3)"
      ]
    },
    {
      "cell_type": "code",
      "execution_count": null,
      "id": "3aaa0f60",
      "metadata": {
        "execution": {
          "iopub.execute_input": "2022-05-05T00:44:29.219707Z",
          "iopub.status.busy": "2022-05-05T00:44:29.218199Z",
          "iopub.status.idle": "2022-05-05T00:44:29.220303Z",
          "shell.execute_reply": "2022-05-05T00:44:29.220702Z",
          "shell.execute_reply.started": "2022-05-04T23:11:03.891781Z"
        },
        "papermill": {
          "duration": 0.064271,
          "end_time": "2022-05-05T00:44:29.220814",
          "exception": false,
          "start_time": "2022-05-05T00:44:29.156543",
          "status": "completed"
        },
        "tags": [],
        "id": "3aaa0f60"
      },
      "outputs": [],
      "source": [
        "#run(fold=4)"
      ]
    },
    {
      "cell_type": "markdown",
      "id": "6eac6e77",
      "metadata": {
        "papermill": {
          "duration": 0.057594,
          "end_time": "2022-05-05T00:44:29.336028",
          "exception": false,
          "start_time": "2022-05-05T00:44:29.278434",
          "status": "completed"
        },
        "tags": [],
        "id": "6eac6e77"
      },
      "source": [
        "# Do the evauation on test data\n",
        "##### [inference in progress...]"
      ]
    },
    {
      "cell_type": "code",
      "execution_count": null,
      "id": "eb4440dc",
      "metadata": {
        "execution": {
          "iopub.execute_input": "2022-05-05T00:44:29.458664Z",
          "iopub.status.busy": "2022-05-05T00:44:29.456934Z",
          "iopub.status.idle": "2022-05-05T00:44:29.459302Z",
          "shell.execute_reply": "2022-05-05T00:44:29.459725Z",
          "shell.execute_reply.started": "2022-05-04T23:11:03.895016Z"
        },
        "papermill": {
          "duration": 0.065776,
          "end_time": "2022-05-05T00:44:29.459843",
          "exception": false,
          "start_time": "2022-05-05T00:44:29.394067",
          "status": "completed"
        },
        "tags": [],
        "id": "eb4440dc"
      },
      "outputs": [],
      "source": [
        "# df_tst = pd.merge(test_df, features_df, on=['feature_num','case_num'], how='inner')\n",
        "# df_tst = pd.merge(df_tst, patient_notes_df, on=['pn_num','case_num'], how='inner')\n",
        "# df_tst.shape"
      ]
    },
    {
      "cell_type": "code",
      "execution_count": null,
      "id": "16518c62",
      "metadata": {
        "execution": {
          "iopub.execute_input": "2022-05-05T00:44:29.582996Z",
          "iopub.status.busy": "2022-05-05T00:44:29.582084Z",
          "iopub.status.idle": "2022-05-05T00:44:29.583873Z",
          "shell.execute_reply": "2022-05-05T00:44:29.584313Z"
        },
        "papermill": {
          "duration": 0.064856,
          "end_time": "2022-05-05T00:44:29.584432",
          "exception": false,
          "start_time": "2022-05-05T00:44:29.519576",
          "status": "completed"
        },
        "tags": [],
        "id": "16518c62"
      },
      "outputs": [],
      "source": [
        "# device = torch.device(\"cuda\")\n",
        "model_config = transformers.BertConfig.from_pretrained(config.BERT_PATH)\n",
        "model_config.output_hidden_states = True\n",
        "\n",
        "# #similarly this can be done for all 5 models\n",
        "model1 = NBMEModel(conf=model_config)\n",
        "model1.to(config.DEVICE)\n",
        "model1.load_state_dict(torch.load(\"model_fold1.bin\"))\n",
        "# model1.eval()\n",
        "\n",
        "# test_dataset = NBMEDataset(\n",
        "#     pn_history=df_test.pn_history.values,\n",
        "#     feature_text=df_test.feature_text.values,\n",
        "#     annotation=df_test.annotation.values,\n",
        "#     location=df_test.location.values\n",
        "\n",
        "# )\n",
        "\n",
        "# data_loader = torch.utils.data.DataLoader(\n",
        "#     test_dataset,\n",
        "#     shuffle=False,\n",
        "#     batch_size=config.TRAIN_BATCH_SIZE,\n",
        "#     num_workers=1\n",
        "# )\n",
        "\n",
        "# with torch.no_grad():\n",
        "#     tk = tqdm(data_loader, total=len(data_loader)) #tqdm is a Python library for adding progress bar. \n",
        "\n",
        "#     for batch, data in enumerate(tk):\n",
        "#         ids = data['ids']\n",
        "#         token_type_ids = data[\"token_type_ids\"]\n",
        "#         mask = data[\"mask\"]\n",
        "#         labels = data[\"labels\"]\n",
        "#         offsets = data[\"offsets\"]\n",
        "\n",
        "#         ids = ids.to(DEVICE, dtype=torch.long)\n",
        "#         token_type_ids = token_type_ids.to(DEVICE, dtype=torch.long)\n",
        "#         mask = mask.to(DEVICE, dtype=torch.long)\n",
        "#         labels = labels.to(DEVICE, dtype=torch.float64)\n",
        "\n",
        "#         logits = model(ids=ids, mask=mask, token_type_ids=token_type_ids) #last_hidden_state\n",
        "\n"
      ]
    },
    {
      "cell_type": "code",
      "execution_count": null,
      "id": "e1543309-eedf-4db0-a504-3b06e6ba45fc",
      "metadata": {
        "id": "e1543309-eedf-4db0-a504-3b06e6ba45fc"
      },
      "outputs": [],
      "source": [
        "sentence = \"HuggingFace is a company based in New York,  he is sick , headach but is also has employees working in Paris\"\n",
        "#tokenizer = config.TOKENIZER,config.MAX_LEN\n",
        "tokenizer = AutoTokenizer.from_pretrained(\"emilyalsentzer/Bio_ClinicalBERT\")\n",
        "        \n",
        "  #  def forward(self, ids, mask, token_type_ids):\n",
        "  #      sequence_out = self.bert(ids, attention_mask=mask, token_type_ids=token_type_ids)[0] #last_hidden_state\n",
        "  #      batch_size,max_len,feat_dim = sequence_out.shape\n",
        "  #      sequence_output = self.dropout(sequence_out)\n",
        "  #      logits = self.classifier(sequence_output)\n",
        "  #      logits = logits.squeeze(-1) \n",
        "  #      return logits\n",
        "\n",
        "    #tokenized_input = tokenizer.encode_plus(feature_text,pn_history, return_offsets_mapping=True, max_length=max_len, pad_to_max_length=True, truncation=True)\n",
        "    #print(tokenized_input)\n",
        "    #    \n",
        "    #input_ids = tokenized_input.input_ids\n",
        "    #mask = tokenized_input.attention_mask\n",
        "    #token_type_ids = tokenized_input.token_type_ids\n",
        "    #offsets = tokenized_input.offset_mapping\n",
        "    \n",
        "\n",
        "sentencw_l = sentence.strip().split()\n",
        "\n",
        "###\n",
        "inputs = tokenizer.encode_plus(sentence,\n",
        "                    #is_pretokenized=True, \n",
        "                    return_offsets_mapping=True, \n",
        "                    #padding='max_length', \n",
        "                    truncation=True, \n",
        "                    max_length=config.MAX_LEN,\n",
        "                    return_tensors=\"pt\")\n",
        "\n",
        "# move to gpu\n",
        "ids = inputs[\"input_ids\"].to(DEVICE)\n",
        "mask = inputs[\"attention_mask\"].to(DEVICE)\n",
        "token_type_ids = inputs[\"token_type_ids\"]\n",
        "# forward pass\n",
        "model_config = transformers.BertConfig.from_pretrained(config.BERT_PATH)\n",
        "model_config.output_hidden_states = True\n",
        "\n",
        "# #similarly this can be done for all 5 models\n",
        "model1 = NBMEModel(conf=model_config)\n",
        "#model1.to(config.DEVICE)\n",
        "model1.load_state_dict(torch.load(\"model_fold1.bin\"))\n",
        "\n",
        "\n",
        "outputs = model1(ids, mask, token_type_ids )\n",
        "print(outputs)\n",
        "logits = outputs[0]\n",
        "print(logits)\n",
        "active_logits = logits.view(-1, model1.num_labels) # shape (batch_size * seq_len, num_labels)\n",
        "flattened_predictions = torch.argmax(active_logits, axis=1) # shape (batch_size*seq_len,) - predictions at the token level\n",
        "print(flattened_predictions)\n",
        "#tokens = tokenizer.convert_ids_to_tokens(ids.squeeze().tolist())\n",
        "#token_predictions = [ids_to_labels[i] for i in flattened_predictions.cpu().numpy()]\n",
        "#wp_preds = list(zip(tokens, token_predictions)) # list of tuples. Each tuple = (wordpiece, prediction)\n",
        "\n",
        "#prediction = []\n",
        "#for token_pred, mapping in zip(wp_preds, inputs[\"offset_mapping\"].squeeze().tolist()):\n",
        "  #only predictions on first word pieces are important\n",
        "#  if mapping[0] == 0 and mapping[1] != 0:\n",
        "#    prediction.append(token_pred[1])\n",
        "#  else:\n",
        "#    continue\n",
        "\n",
        "#print(sentence.split())\n",
        "#print(prediction)"
      ]
    }
  ],
  "metadata": {
    "kernelspec": {
      "display_name": "Python 3 (ipykernel)",
      "language": "python",
      "name": "python3"
    },
    "language_info": {
      "codemirror_mode": {
        "name": "ipython",
        "version": 3
      },
      "file_extension": ".py",
      "mimetype": "text/x-python",
      "name": "python",
      "nbconvert_exporter": "python",
      "pygments_lexer": "ipython3",
      "version": "3.9.12"
    },
    "papermill": {
      "default_parameters": {},
      "duration": 2973.730877,
      "end_time": "2022-05-05T00:44:32.912425",
      "environment_variables": {},
      "exception": null,
      "input_path": "__notebook__.ipynb",
      "output_path": "__notebook__.ipynb",
      "parameters": {},
      "start_time": "2022-05-04T23:54:59.181548",
      "version": "2.3.3"
    },
    "widgets": {
      "application/vnd.jupyter.widget-state+json": {
        "fc98a49ed4434f81a2f36c8be60dc4f8": {
          "model_module": "@jupyter-widgets/controls",
          "model_name": "HBoxModel",
          "model_module_version": "1.5.0",
          "state": {
            "_dom_classes": [],
            "_model_module": "@jupyter-widgets/controls",
            "_model_module_version": "1.5.0",
            "_model_name": "HBoxModel",
            "_view_count": null,
            "_view_module": "@jupyter-widgets/controls",
            "_view_module_version": "1.5.0",
            "_view_name": "HBoxView",
            "box_style": "",
            "children": [
              "IPY_MODEL_0010fe4906d7406a86bddf765accee7e",
              "IPY_MODEL_76ff4a72469347cd9fefcd6c8b0ce025",
              "IPY_MODEL_e4988fd487744c3da6ae0d3977647085"
            ],
            "layout": "IPY_MODEL_b3404c6aeaba404a84cabc4ef27d8763"
          }
        },
        "0010fe4906d7406a86bddf765accee7e": {
          "model_module": "@jupyter-widgets/controls",
          "model_name": "HTMLModel",
          "model_module_version": "1.5.0",
          "state": {
            "_dom_classes": [],
            "_model_module": "@jupyter-widgets/controls",
            "_model_module_version": "1.5.0",
            "_model_name": "HTMLModel",
            "_view_count": null,
            "_view_module": "@jupyter-widgets/controls",
            "_view_module_version": "1.5.0",
            "_view_name": "HTMLView",
            "description": "",
            "description_tooltip": null,
            "layout": "IPY_MODEL_48de3db24a55490fbc7ad720a51c3fec",
            "placeholder": "​",
            "style": "IPY_MODEL_7001e51cd6cf461e96147eb7e0da130f",
            "value": "Downloading: 100%"
          }
        },
        "76ff4a72469347cd9fefcd6c8b0ce025": {
          "model_module": "@jupyter-widgets/controls",
          "model_name": "FloatProgressModel",
          "model_module_version": "1.5.0",
          "state": {
            "_dom_classes": [],
            "_model_module": "@jupyter-widgets/controls",
            "_model_module_version": "1.5.0",
            "_model_name": "FloatProgressModel",
            "_view_count": null,
            "_view_module": "@jupyter-widgets/controls",
            "_view_module_version": "1.5.0",
            "_view_name": "ProgressView",
            "bar_style": "success",
            "description": "",
            "description_tooltip": null,
            "layout": "IPY_MODEL_f251e52dd0f849f29447670a42268fc0",
            "max": 385,
            "min": 0,
            "orientation": "horizontal",
            "style": "IPY_MODEL_e6d4a9016c564935a18b99111a54591d",
            "value": 385
          }
        },
        "e4988fd487744c3da6ae0d3977647085": {
          "model_module": "@jupyter-widgets/controls",
          "model_name": "HTMLModel",
          "model_module_version": "1.5.0",
          "state": {
            "_dom_classes": [],
            "_model_module": "@jupyter-widgets/controls",
            "_model_module_version": "1.5.0",
            "_model_name": "HTMLModel",
            "_view_count": null,
            "_view_module": "@jupyter-widgets/controls",
            "_view_module_version": "1.5.0",
            "_view_name": "HTMLView",
            "description": "",
            "description_tooltip": null,
            "layout": "IPY_MODEL_740e620fbfc749b69c0cc23d19eeed95",
            "placeholder": "​",
            "style": "IPY_MODEL_4e10b8ccdb914142bf52c46bac4147fa",
            "value": " 385/385 [00:00&lt;00:00, 10.6kB/s]"
          }
        },
        "b3404c6aeaba404a84cabc4ef27d8763": {
          "model_module": "@jupyter-widgets/base",
          "model_name": "LayoutModel",
          "model_module_version": "1.2.0",
          "state": {
            "_model_module": "@jupyter-widgets/base",
            "_model_module_version": "1.2.0",
            "_model_name": "LayoutModel",
            "_view_count": null,
            "_view_module": "@jupyter-widgets/base",
            "_view_module_version": "1.2.0",
            "_view_name": "LayoutView",
            "align_content": null,
            "align_items": null,
            "align_self": null,
            "border": null,
            "bottom": null,
            "display": null,
            "flex": null,
            "flex_flow": null,
            "grid_area": null,
            "grid_auto_columns": null,
            "grid_auto_flow": null,
            "grid_auto_rows": null,
            "grid_column": null,
            "grid_gap": null,
            "grid_row": null,
            "grid_template_areas": null,
            "grid_template_columns": null,
            "grid_template_rows": null,
            "height": null,
            "justify_content": null,
            "justify_items": null,
            "left": null,
            "margin": null,
            "max_height": null,
            "max_width": null,
            "min_height": null,
            "min_width": null,
            "object_fit": null,
            "object_position": null,
            "order": null,
            "overflow": null,
            "overflow_x": null,
            "overflow_y": null,
            "padding": null,
            "right": null,
            "top": null,
            "visibility": null,
            "width": null
          }
        },
        "48de3db24a55490fbc7ad720a51c3fec": {
          "model_module": "@jupyter-widgets/base",
          "model_name": "LayoutModel",
          "model_module_version": "1.2.0",
          "state": {
            "_model_module": "@jupyter-widgets/base",
            "_model_module_version": "1.2.0",
            "_model_name": "LayoutModel",
            "_view_count": null,
            "_view_module": "@jupyter-widgets/base",
            "_view_module_version": "1.2.0",
            "_view_name": "LayoutView",
            "align_content": null,
            "align_items": null,
            "align_self": null,
            "border": null,
            "bottom": null,
            "display": null,
            "flex": null,
            "flex_flow": null,
            "grid_area": null,
            "grid_auto_columns": null,
            "grid_auto_flow": null,
            "grid_auto_rows": null,
            "grid_column": null,
            "grid_gap": null,
            "grid_row": null,
            "grid_template_areas": null,
            "grid_template_columns": null,
            "grid_template_rows": null,
            "height": null,
            "justify_content": null,
            "justify_items": null,
            "left": null,
            "margin": null,
            "max_height": null,
            "max_width": null,
            "min_height": null,
            "min_width": null,
            "object_fit": null,
            "object_position": null,
            "order": null,
            "overflow": null,
            "overflow_x": null,
            "overflow_y": null,
            "padding": null,
            "right": null,
            "top": null,
            "visibility": null,
            "width": null
          }
        },
        "7001e51cd6cf461e96147eb7e0da130f": {
          "model_module": "@jupyter-widgets/controls",
          "model_name": "DescriptionStyleModel",
          "model_module_version": "1.5.0",
          "state": {
            "_model_module": "@jupyter-widgets/controls",
            "_model_module_version": "1.5.0",
            "_model_name": "DescriptionStyleModel",
            "_view_count": null,
            "_view_module": "@jupyter-widgets/base",
            "_view_module_version": "1.2.0",
            "_view_name": "StyleView",
            "description_width": ""
          }
        },
        "f251e52dd0f849f29447670a42268fc0": {
          "model_module": "@jupyter-widgets/base",
          "model_name": "LayoutModel",
          "model_module_version": "1.2.0",
          "state": {
            "_model_module": "@jupyter-widgets/base",
            "_model_module_version": "1.2.0",
            "_model_name": "LayoutModel",
            "_view_count": null,
            "_view_module": "@jupyter-widgets/base",
            "_view_module_version": "1.2.0",
            "_view_name": "LayoutView",
            "align_content": null,
            "align_items": null,
            "align_self": null,
            "border": null,
            "bottom": null,
            "display": null,
            "flex": null,
            "flex_flow": null,
            "grid_area": null,
            "grid_auto_columns": null,
            "grid_auto_flow": null,
            "grid_auto_rows": null,
            "grid_column": null,
            "grid_gap": null,
            "grid_row": null,
            "grid_template_areas": null,
            "grid_template_columns": null,
            "grid_template_rows": null,
            "height": null,
            "justify_content": null,
            "justify_items": null,
            "left": null,
            "margin": null,
            "max_height": null,
            "max_width": null,
            "min_height": null,
            "min_width": null,
            "object_fit": null,
            "object_position": null,
            "order": null,
            "overflow": null,
            "overflow_x": null,
            "overflow_y": null,
            "padding": null,
            "right": null,
            "top": null,
            "visibility": null,
            "width": null
          }
        },
        "e6d4a9016c564935a18b99111a54591d": {
          "model_module": "@jupyter-widgets/controls",
          "model_name": "ProgressStyleModel",
          "model_module_version": "1.5.0",
          "state": {
            "_model_module": "@jupyter-widgets/controls",
            "_model_module_version": "1.5.0",
            "_model_name": "ProgressStyleModel",
            "_view_count": null,
            "_view_module": "@jupyter-widgets/base",
            "_view_module_version": "1.2.0",
            "_view_name": "StyleView",
            "bar_color": null,
            "description_width": ""
          }
        },
        "740e620fbfc749b69c0cc23d19eeed95": {
          "model_module": "@jupyter-widgets/base",
          "model_name": "LayoutModel",
          "model_module_version": "1.2.0",
          "state": {
            "_model_module": "@jupyter-widgets/base",
            "_model_module_version": "1.2.0",
            "_model_name": "LayoutModel",
            "_view_count": null,
            "_view_module": "@jupyter-widgets/base",
            "_view_module_version": "1.2.0",
            "_view_name": "LayoutView",
            "align_content": null,
            "align_items": null,
            "align_self": null,
            "border": null,
            "bottom": null,
            "display": null,
            "flex": null,
            "flex_flow": null,
            "grid_area": null,
            "grid_auto_columns": null,
            "grid_auto_flow": null,
            "grid_auto_rows": null,
            "grid_column": null,
            "grid_gap": null,
            "grid_row": null,
            "grid_template_areas": null,
            "grid_template_columns": null,
            "grid_template_rows": null,
            "height": null,
            "justify_content": null,
            "justify_items": null,
            "left": null,
            "margin": null,
            "max_height": null,
            "max_width": null,
            "min_height": null,
            "min_width": null,
            "object_fit": null,
            "object_position": null,
            "order": null,
            "overflow": null,
            "overflow_x": null,
            "overflow_y": null,
            "padding": null,
            "right": null,
            "top": null,
            "visibility": null,
            "width": null
          }
        },
        "4e10b8ccdb914142bf52c46bac4147fa": {
          "model_module": "@jupyter-widgets/controls",
          "model_name": "DescriptionStyleModel",
          "model_module_version": "1.5.0",
          "state": {
            "_model_module": "@jupyter-widgets/controls",
            "_model_module_version": "1.5.0",
            "_model_name": "DescriptionStyleModel",
            "_view_count": null,
            "_view_module": "@jupyter-widgets/base",
            "_view_module_version": "1.2.0",
            "_view_name": "StyleView",
            "description_width": ""
          }
        },
        "1c84f5f8165c4644add38c90027d6284": {
          "model_module": "@jupyter-widgets/controls",
          "model_name": "HBoxModel",
          "model_module_version": "1.5.0",
          "state": {
            "_dom_classes": [],
            "_model_module": "@jupyter-widgets/controls",
            "_model_module_version": "1.5.0",
            "_model_name": "HBoxModel",
            "_view_count": null,
            "_view_module": "@jupyter-widgets/controls",
            "_view_module_version": "1.5.0",
            "_view_name": "HBoxView",
            "box_style": "",
            "children": [
              "IPY_MODEL_aaf22644b636454896cddc4c11e522a6",
              "IPY_MODEL_2a9d151a0ef24f0a87a6e804136a2ae8",
              "IPY_MODEL_b519b0ac446d45ba93ea8d6fcd40d750"
            ],
            "layout": "IPY_MODEL_7af6da7310934b8ca929d4a0f3b5a769"
          }
        },
        "aaf22644b636454896cddc4c11e522a6": {
          "model_module": "@jupyter-widgets/controls",
          "model_name": "HTMLModel",
          "model_module_version": "1.5.0",
          "state": {
            "_dom_classes": [],
            "_model_module": "@jupyter-widgets/controls",
            "_model_module_version": "1.5.0",
            "_model_name": "HTMLModel",
            "_view_count": null,
            "_view_module": "@jupyter-widgets/controls",
            "_view_module_version": "1.5.0",
            "_view_name": "HTMLView",
            "description": "",
            "description_tooltip": null,
            "layout": "IPY_MODEL_ac7eea85f81e4659b1290104ca96c194",
            "placeholder": "​",
            "style": "IPY_MODEL_20c37663fde94d3d9d02f70460d4eab7",
            "value": "Downloading: 100%"
          }
        },
        "2a9d151a0ef24f0a87a6e804136a2ae8": {
          "model_module": "@jupyter-widgets/controls",
          "model_name": "FloatProgressModel",
          "model_module_version": "1.5.0",
          "state": {
            "_dom_classes": [],
            "_model_module": "@jupyter-widgets/controls",
            "_model_module_version": "1.5.0",
            "_model_name": "FloatProgressModel",
            "_view_count": null,
            "_view_module": "@jupyter-widgets/controls",
            "_view_module_version": "1.5.0",
            "_view_name": "ProgressView",
            "bar_style": "success",
            "description": "",
            "description_tooltip": null,
            "layout": "IPY_MODEL_f377300ccba34b22a4ca0de729834eda",
            "max": 213450,
            "min": 0,
            "orientation": "horizontal",
            "style": "IPY_MODEL_824f4f24a38d413ca32b62755f3c5e13",
            "value": 213450
          }
        },
        "b519b0ac446d45ba93ea8d6fcd40d750": {
          "model_module": "@jupyter-widgets/controls",
          "model_name": "HTMLModel",
          "model_module_version": "1.5.0",
          "state": {
            "_dom_classes": [],
            "_model_module": "@jupyter-widgets/controls",
            "_model_module_version": "1.5.0",
            "_model_name": "HTMLModel",
            "_view_count": null,
            "_view_module": "@jupyter-widgets/controls",
            "_view_module_version": "1.5.0",
            "_view_name": "HTMLView",
            "description": "",
            "description_tooltip": null,
            "layout": "IPY_MODEL_bd63adfc791641e496658dccac6e896e",
            "placeholder": "​",
            "style": "IPY_MODEL_f33cfaa0e8e84f2083563bda7c0f2e0c",
            "value": " 213k/213k [00:00&lt;00:00, 262kB/s]"
          }
        },
        "7af6da7310934b8ca929d4a0f3b5a769": {
          "model_module": "@jupyter-widgets/base",
          "model_name": "LayoutModel",
          "model_module_version": "1.2.0",
          "state": {
            "_model_module": "@jupyter-widgets/base",
            "_model_module_version": "1.2.0",
            "_model_name": "LayoutModel",
            "_view_count": null,
            "_view_module": "@jupyter-widgets/base",
            "_view_module_version": "1.2.0",
            "_view_name": "LayoutView",
            "align_content": null,
            "align_items": null,
            "align_self": null,
            "border": null,
            "bottom": null,
            "display": null,
            "flex": null,
            "flex_flow": null,
            "grid_area": null,
            "grid_auto_columns": null,
            "grid_auto_flow": null,
            "grid_auto_rows": null,
            "grid_column": null,
            "grid_gap": null,
            "grid_row": null,
            "grid_template_areas": null,
            "grid_template_columns": null,
            "grid_template_rows": null,
            "height": null,
            "justify_content": null,
            "justify_items": null,
            "left": null,
            "margin": null,
            "max_height": null,
            "max_width": null,
            "min_height": null,
            "min_width": null,
            "object_fit": null,
            "object_position": null,
            "order": null,
            "overflow": null,
            "overflow_x": null,
            "overflow_y": null,
            "padding": null,
            "right": null,
            "top": null,
            "visibility": null,
            "width": null
          }
        },
        "ac7eea85f81e4659b1290104ca96c194": {
          "model_module": "@jupyter-widgets/base",
          "model_name": "LayoutModel",
          "model_module_version": "1.2.0",
          "state": {
            "_model_module": "@jupyter-widgets/base",
            "_model_module_version": "1.2.0",
            "_model_name": "LayoutModel",
            "_view_count": null,
            "_view_module": "@jupyter-widgets/base",
            "_view_module_version": "1.2.0",
            "_view_name": "LayoutView",
            "align_content": null,
            "align_items": null,
            "align_self": null,
            "border": null,
            "bottom": null,
            "display": null,
            "flex": null,
            "flex_flow": null,
            "grid_area": null,
            "grid_auto_columns": null,
            "grid_auto_flow": null,
            "grid_auto_rows": null,
            "grid_column": null,
            "grid_gap": null,
            "grid_row": null,
            "grid_template_areas": null,
            "grid_template_columns": null,
            "grid_template_rows": null,
            "height": null,
            "justify_content": null,
            "justify_items": null,
            "left": null,
            "margin": null,
            "max_height": null,
            "max_width": null,
            "min_height": null,
            "min_width": null,
            "object_fit": null,
            "object_position": null,
            "order": null,
            "overflow": null,
            "overflow_x": null,
            "overflow_y": null,
            "padding": null,
            "right": null,
            "top": null,
            "visibility": null,
            "width": null
          }
        },
        "20c37663fde94d3d9d02f70460d4eab7": {
          "model_module": "@jupyter-widgets/controls",
          "model_name": "DescriptionStyleModel",
          "model_module_version": "1.5.0",
          "state": {
            "_model_module": "@jupyter-widgets/controls",
            "_model_module_version": "1.5.0",
            "_model_name": "DescriptionStyleModel",
            "_view_count": null,
            "_view_module": "@jupyter-widgets/base",
            "_view_module_version": "1.2.0",
            "_view_name": "StyleView",
            "description_width": ""
          }
        },
        "f377300ccba34b22a4ca0de729834eda": {
          "model_module": "@jupyter-widgets/base",
          "model_name": "LayoutModel",
          "model_module_version": "1.2.0",
          "state": {
            "_model_module": "@jupyter-widgets/base",
            "_model_module_version": "1.2.0",
            "_model_name": "LayoutModel",
            "_view_count": null,
            "_view_module": "@jupyter-widgets/base",
            "_view_module_version": "1.2.0",
            "_view_name": "LayoutView",
            "align_content": null,
            "align_items": null,
            "align_self": null,
            "border": null,
            "bottom": null,
            "display": null,
            "flex": null,
            "flex_flow": null,
            "grid_area": null,
            "grid_auto_columns": null,
            "grid_auto_flow": null,
            "grid_auto_rows": null,
            "grid_column": null,
            "grid_gap": null,
            "grid_row": null,
            "grid_template_areas": null,
            "grid_template_columns": null,
            "grid_template_rows": null,
            "height": null,
            "justify_content": null,
            "justify_items": null,
            "left": null,
            "margin": null,
            "max_height": null,
            "max_width": null,
            "min_height": null,
            "min_width": null,
            "object_fit": null,
            "object_position": null,
            "order": null,
            "overflow": null,
            "overflow_x": null,
            "overflow_y": null,
            "padding": null,
            "right": null,
            "top": null,
            "visibility": null,
            "width": null
          }
        },
        "824f4f24a38d413ca32b62755f3c5e13": {
          "model_module": "@jupyter-widgets/controls",
          "model_name": "ProgressStyleModel",
          "model_module_version": "1.5.0",
          "state": {
            "_model_module": "@jupyter-widgets/controls",
            "_model_module_version": "1.5.0",
            "_model_name": "ProgressStyleModel",
            "_view_count": null,
            "_view_module": "@jupyter-widgets/base",
            "_view_module_version": "1.2.0",
            "_view_name": "StyleView",
            "bar_color": null,
            "description_width": ""
          }
        },
        "bd63adfc791641e496658dccac6e896e": {
          "model_module": "@jupyter-widgets/base",
          "model_name": "LayoutModel",
          "model_module_version": "1.2.0",
          "state": {
            "_model_module": "@jupyter-widgets/base",
            "_model_module_version": "1.2.0",
            "_model_name": "LayoutModel",
            "_view_count": null,
            "_view_module": "@jupyter-widgets/base",
            "_view_module_version": "1.2.0",
            "_view_name": "LayoutView",
            "align_content": null,
            "align_items": null,
            "align_self": null,
            "border": null,
            "bottom": null,
            "display": null,
            "flex": null,
            "flex_flow": null,
            "grid_area": null,
            "grid_auto_columns": null,
            "grid_auto_flow": null,
            "grid_auto_rows": null,
            "grid_column": null,
            "grid_gap": null,
            "grid_row": null,
            "grid_template_areas": null,
            "grid_template_columns": null,
            "grid_template_rows": null,
            "height": null,
            "justify_content": null,
            "justify_items": null,
            "left": null,
            "margin": null,
            "max_height": null,
            "max_width": null,
            "min_height": null,
            "min_width": null,
            "object_fit": null,
            "object_position": null,
            "order": null,
            "overflow": null,
            "overflow_x": null,
            "overflow_y": null,
            "padding": null,
            "right": null,
            "top": null,
            "visibility": null,
            "width": null
          }
        },
        "f33cfaa0e8e84f2083563bda7c0f2e0c": {
          "model_module": "@jupyter-widgets/controls",
          "model_name": "DescriptionStyleModel",
          "model_module_version": "1.5.0",
          "state": {
            "_model_module": "@jupyter-widgets/controls",
            "_model_module_version": "1.5.0",
            "_model_name": "DescriptionStyleModel",
            "_view_count": null,
            "_view_module": "@jupyter-widgets/base",
            "_view_module_version": "1.2.0",
            "_view_name": "StyleView",
            "description_width": ""
          }
        },
        "3642b30e2f3344d2a5f591063cecb56c": {
          "model_module": "@jupyter-widgets/controls",
          "model_name": "HBoxModel",
          "model_module_version": "1.5.0",
          "state": {
            "_dom_classes": [],
            "_model_module": "@jupyter-widgets/controls",
            "_model_module_version": "1.5.0",
            "_model_name": "HBoxModel",
            "_view_count": null,
            "_view_module": "@jupyter-widgets/controls",
            "_view_module_version": "1.5.0",
            "_view_name": "HBoxView",
            "box_style": "",
            "children": [
              "IPY_MODEL_3532af3069eb47758e993a172a06f855",
              "IPY_MODEL_c0f71ce3ad9c4636ba79f6c370bb2ca5",
              "IPY_MODEL_5af6ff26837643a78e7c35c69a874c77"
            ],
            "layout": "IPY_MODEL_0d5b1e8d29814747b1dc1b96b3ed8db4"
          }
        },
        "3532af3069eb47758e993a172a06f855": {
          "model_module": "@jupyter-widgets/controls",
          "model_name": "HTMLModel",
          "model_module_version": "1.5.0",
          "state": {
            "_dom_classes": [],
            "_model_module": "@jupyter-widgets/controls",
            "_model_module_version": "1.5.0",
            "_model_name": "HTMLModel",
            "_view_count": null,
            "_view_module": "@jupyter-widgets/controls",
            "_view_module_version": "1.5.0",
            "_view_name": "HTMLView",
            "description": "",
            "description_tooltip": null,
            "layout": "IPY_MODEL_d594d6c7d62249228146af4f8ffd58d9",
            "placeholder": "​",
            "style": "IPY_MODEL_c2c27e4805ae44ac822cd2dca9eb276c",
            "value": ""
          }
        },
        "c0f71ce3ad9c4636ba79f6c370bb2ca5": {
          "model_module": "@jupyter-widgets/controls",
          "model_name": "FloatProgressModel",
          "model_module_version": "1.5.0",
          "state": {
            "_dom_classes": [],
            "_model_module": "@jupyter-widgets/controls",
            "_model_module_version": "1.5.0",
            "_model_name": "FloatProgressModel",
            "_view_count": null,
            "_view_module": "@jupyter-widgets/controls",
            "_view_module_version": "1.5.0",
            "_view_name": "ProgressView",
            "bar_style": "success",
            "description": "",
            "description_tooltip": null,
            "layout": "IPY_MODEL_fca39599ada54754a7c89feb133dd6ab",
            "max": 1,
            "min": 0,
            "orientation": "horizontal",
            "style": "IPY_MODEL_cf339a03049042a187d151082849539b",
            "value": 0
          }
        },
        "5af6ff26837643a78e7c35c69a874c77": {
          "model_module": "@jupyter-widgets/controls",
          "model_name": "HTMLModel",
          "model_module_version": "1.5.0",
          "state": {
            "_dom_classes": [],
            "_model_module": "@jupyter-widgets/controls",
            "_model_module_version": "1.5.0",
            "_model_name": "HTMLModel",
            "_view_count": null,
            "_view_module": "@jupyter-widgets/controls",
            "_view_module_version": "1.5.0",
            "_view_name": "HTMLView",
            "description": "",
            "description_tooltip": null,
            "layout": "IPY_MODEL_126d2ed47b31411d9269207415ca8e81",
            "placeholder": "​",
            "style": "IPY_MODEL_d6bd069e64d14c988b3ea9acbf48fcff",
            "value": " 0/0 [00:00&lt;?, ?it/s]"
          }
        },
        "0d5b1e8d29814747b1dc1b96b3ed8db4": {
          "model_module": "@jupyter-widgets/base",
          "model_name": "LayoutModel",
          "model_module_version": "1.2.0",
          "state": {
            "_model_module": "@jupyter-widgets/base",
            "_model_module_version": "1.2.0",
            "_model_name": "LayoutModel",
            "_view_count": null,
            "_view_module": "@jupyter-widgets/base",
            "_view_module_version": "1.2.0",
            "_view_name": "LayoutView",
            "align_content": null,
            "align_items": null,
            "align_self": null,
            "border": null,
            "bottom": null,
            "display": null,
            "flex": null,
            "flex_flow": null,
            "grid_area": null,
            "grid_auto_columns": null,
            "grid_auto_flow": null,
            "grid_auto_rows": null,
            "grid_column": null,
            "grid_gap": null,
            "grid_row": null,
            "grid_template_areas": null,
            "grid_template_columns": null,
            "grid_template_rows": null,
            "height": null,
            "justify_content": null,
            "justify_items": null,
            "left": null,
            "margin": null,
            "max_height": null,
            "max_width": null,
            "min_height": null,
            "min_width": null,
            "object_fit": null,
            "object_position": null,
            "order": null,
            "overflow": null,
            "overflow_x": null,
            "overflow_y": null,
            "padding": null,
            "right": null,
            "top": null,
            "visibility": null,
            "width": null
          }
        },
        "d594d6c7d62249228146af4f8ffd58d9": {
          "model_module": "@jupyter-widgets/base",
          "model_name": "LayoutModel",
          "model_module_version": "1.2.0",
          "state": {
            "_model_module": "@jupyter-widgets/base",
            "_model_module_version": "1.2.0",
            "_model_name": "LayoutModel",
            "_view_count": null,
            "_view_module": "@jupyter-widgets/base",
            "_view_module_version": "1.2.0",
            "_view_name": "LayoutView",
            "align_content": null,
            "align_items": null,
            "align_self": null,
            "border": null,
            "bottom": null,
            "display": null,
            "flex": null,
            "flex_flow": null,
            "grid_area": null,
            "grid_auto_columns": null,
            "grid_auto_flow": null,
            "grid_auto_rows": null,
            "grid_column": null,
            "grid_gap": null,
            "grid_row": null,
            "grid_template_areas": null,
            "grid_template_columns": null,
            "grid_template_rows": null,
            "height": null,
            "justify_content": null,
            "justify_items": null,
            "left": null,
            "margin": null,
            "max_height": null,
            "max_width": null,
            "min_height": null,
            "min_width": null,
            "object_fit": null,
            "object_position": null,
            "order": null,
            "overflow": null,
            "overflow_x": null,
            "overflow_y": null,
            "padding": null,
            "right": null,
            "top": null,
            "visibility": null,
            "width": null
          }
        },
        "c2c27e4805ae44ac822cd2dca9eb276c": {
          "model_module": "@jupyter-widgets/controls",
          "model_name": "DescriptionStyleModel",
          "model_module_version": "1.5.0",
          "state": {
            "_model_module": "@jupyter-widgets/controls",
            "_model_module_version": "1.5.0",
            "_model_name": "DescriptionStyleModel",
            "_view_count": null,
            "_view_module": "@jupyter-widgets/base",
            "_view_module_version": "1.2.0",
            "_view_name": "StyleView",
            "description_width": ""
          }
        },
        "fca39599ada54754a7c89feb133dd6ab": {
          "model_module": "@jupyter-widgets/base",
          "model_name": "LayoutModel",
          "model_module_version": "1.2.0",
          "state": {
            "_model_module": "@jupyter-widgets/base",
            "_model_module_version": "1.2.0",
            "_model_name": "LayoutModel",
            "_view_count": null,
            "_view_module": "@jupyter-widgets/base",
            "_view_module_version": "1.2.0",
            "_view_name": "LayoutView",
            "align_content": null,
            "align_items": null,
            "align_self": null,
            "border": null,
            "bottom": null,
            "display": null,
            "flex": null,
            "flex_flow": null,
            "grid_area": null,
            "grid_auto_columns": null,
            "grid_auto_flow": null,
            "grid_auto_rows": null,
            "grid_column": null,
            "grid_gap": null,
            "grid_row": null,
            "grid_template_areas": null,
            "grid_template_columns": null,
            "grid_template_rows": null,
            "height": null,
            "justify_content": null,
            "justify_items": null,
            "left": null,
            "margin": null,
            "max_height": null,
            "max_width": null,
            "min_height": null,
            "min_width": null,
            "object_fit": null,
            "object_position": null,
            "order": null,
            "overflow": null,
            "overflow_x": null,
            "overflow_y": null,
            "padding": null,
            "right": null,
            "top": null,
            "visibility": null,
            "width": "20px"
          }
        },
        "cf339a03049042a187d151082849539b": {
          "model_module": "@jupyter-widgets/controls",
          "model_name": "ProgressStyleModel",
          "model_module_version": "1.5.0",
          "state": {
            "_model_module": "@jupyter-widgets/controls",
            "_model_module_version": "1.5.0",
            "_model_name": "ProgressStyleModel",
            "_view_count": null,
            "_view_module": "@jupyter-widgets/base",
            "_view_module_version": "1.2.0",
            "_view_name": "StyleView",
            "bar_color": null,
            "description_width": ""
          }
        },
        "126d2ed47b31411d9269207415ca8e81": {
          "model_module": "@jupyter-widgets/base",
          "model_name": "LayoutModel",
          "model_module_version": "1.2.0",
          "state": {
            "_model_module": "@jupyter-widgets/base",
            "_model_module_version": "1.2.0",
            "_model_name": "LayoutModel",
            "_view_count": null,
            "_view_module": "@jupyter-widgets/base",
            "_view_module_version": "1.2.0",
            "_view_name": "LayoutView",
            "align_content": null,
            "align_items": null,
            "align_self": null,
            "border": null,
            "bottom": null,
            "display": null,
            "flex": null,
            "flex_flow": null,
            "grid_area": null,
            "grid_auto_columns": null,
            "grid_auto_flow": null,
            "grid_auto_rows": null,
            "grid_column": null,
            "grid_gap": null,
            "grid_row": null,
            "grid_template_areas": null,
            "grid_template_columns": null,
            "grid_template_rows": null,
            "height": null,
            "justify_content": null,
            "justify_items": null,
            "left": null,
            "margin": null,
            "max_height": null,
            "max_width": null,
            "min_height": null,
            "min_width": null,
            "object_fit": null,
            "object_position": null,
            "order": null,
            "overflow": null,
            "overflow_x": null,
            "overflow_y": null,
            "padding": null,
            "right": null,
            "top": null,
            "visibility": null,
            "width": null
          }
        },
        "d6bd069e64d14c988b3ea9acbf48fcff": {
          "model_module": "@jupyter-widgets/controls",
          "model_name": "DescriptionStyleModel",
          "model_module_version": "1.5.0",
          "state": {
            "_model_module": "@jupyter-widgets/controls",
            "_model_module_version": "1.5.0",
            "_model_name": "DescriptionStyleModel",
            "_view_count": null,
            "_view_module": "@jupyter-widgets/base",
            "_view_module_version": "1.2.0",
            "_view_name": "StyleView",
            "description_width": ""
          }
        },
        "6ca4d42fb1b849499cd4002ce0fb4f87": {
          "model_module": "@jupyter-widgets/controls",
          "model_name": "HBoxModel",
          "model_module_version": "1.5.0",
          "state": {
            "_dom_classes": [],
            "_model_module": "@jupyter-widgets/controls",
            "_model_module_version": "1.5.0",
            "_model_name": "HBoxModel",
            "_view_count": null,
            "_view_module": "@jupyter-widgets/controls",
            "_view_module_version": "1.5.0",
            "_view_name": "HBoxView",
            "box_style": "",
            "children": [
              "IPY_MODEL_a7f407a82a404888a9c4c986e70a848a",
              "IPY_MODEL_c1d1c65843774c4b91cc7e38e4f08ebc",
              "IPY_MODEL_9bc084b7b3644203bf103235067f9d2b"
            ],
            "layout": "IPY_MODEL_1cd6ef6e10c245a7b927b991e0937783"
          }
        },
        "a7f407a82a404888a9c4c986e70a848a": {
          "model_module": "@jupyter-widgets/controls",
          "model_name": "HTMLModel",
          "model_module_version": "1.5.0",
          "state": {
            "_dom_classes": [],
            "_model_module": "@jupyter-widgets/controls",
            "_model_module_version": "1.5.0",
            "_model_name": "HTMLModel",
            "_view_count": null,
            "_view_module": "@jupyter-widgets/controls",
            "_view_module_version": "1.5.0",
            "_view_name": "HTMLView",
            "description": "",
            "description_tooltip": null,
            "layout": "IPY_MODEL_36779e05b3fc493ea1e53433ab54fb5f",
            "placeholder": "​",
            "style": "IPY_MODEL_8ecc72bfa4b6485bb519d7b1fb7e97f8",
            "value": "100%"
          }
        },
        "c1d1c65843774c4b91cc7e38e4f08ebc": {
          "model_module": "@jupyter-widgets/controls",
          "model_name": "FloatProgressModel",
          "model_module_version": "1.5.0",
          "state": {
            "_dom_classes": [],
            "_model_module": "@jupyter-widgets/controls",
            "_model_module_version": "1.5.0",
            "_model_name": "FloatProgressModel",
            "_view_count": null,
            "_view_module": "@jupyter-widgets/controls",
            "_view_module_version": "1.5.0",
            "_view_name": "ProgressView",
            "bar_style": "success",
            "description": "",
            "description_tooltip": null,
            "layout": "IPY_MODEL_8a9ed365d15f41ca972a87f86d3d5e49",
            "max": 13,
            "min": 0,
            "orientation": "horizontal",
            "style": "IPY_MODEL_d5846efb692d471389d0d293e81f84d5",
            "value": 13
          }
        },
        "9bc084b7b3644203bf103235067f9d2b": {
          "model_module": "@jupyter-widgets/controls",
          "model_name": "HTMLModel",
          "model_module_version": "1.5.0",
          "state": {
            "_dom_classes": [],
            "_model_module": "@jupyter-widgets/controls",
            "_model_module_version": "1.5.0",
            "_model_name": "HTMLModel",
            "_view_count": null,
            "_view_module": "@jupyter-widgets/controls",
            "_view_module_version": "1.5.0",
            "_view_name": "HTMLView",
            "description": "",
            "description_tooltip": null,
            "layout": "IPY_MODEL_e6618300eb39491c969fc1f8172dbc3a",
            "placeholder": "​",
            "style": "IPY_MODEL_5bad8077e1a246f486f6dcf93e9cf906",
            "value": " 13/13 [00:05&lt;00:00,  4.65it/s, loss=0.648]"
          }
        },
        "1cd6ef6e10c245a7b927b991e0937783": {
          "model_module": "@jupyter-widgets/base",
          "model_name": "LayoutModel",
          "model_module_version": "1.2.0",
          "state": {
            "_model_module": "@jupyter-widgets/base",
            "_model_module_version": "1.2.0",
            "_model_name": "LayoutModel",
            "_view_count": null,
            "_view_module": "@jupyter-widgets/base",
            "_view_module_version": "1.2.0",
            "_view_name": "LayoutView",
            "align_content": null,
            "align_items": null,
            "align_self": null,
            "border": null,
            "bottom": null,
            "display": null,
            "flex": null,
            "flex_flow": null,
            "grid_area": null,
            "grid_auto_columns": null,
            "grid_auto_flow": null,
            "grid_auto_rows": null,
            "grid_column": null,
            "grid_gap": null,
            "grid_row": null,
            "grid_template_areas": null,
            "grid_template_columns": null,
            "grid_template_rows": null,
            "height": null,
            "justify_content": null,
            "justify_items": null,
            "left": null,
            "margin": null,
            "max_height": null,
            "max_width": null,
            "min_height": null,
            "min_width": null,
            "object_fit": null,
            "object_position": null,
            "order": null,
            "overflow": null,
            "overflow_x": null,
            "overflow_y": null,
            "padding": null,
            "right": null,
            "top": null,
            "visibility": null,
            "width": null
          }
        },
        "36779e05b3fc493ea1e53433ab54fb5f": {
          "model_module": "@jupyter-widgets/base",
          "model_name": "LayoutModel",
          "model_module_version": "1.2.0",
          "state": {
            "_model_module": "@jupyter-widgets/base",
            "_model_module_version": "1.2.0",
            "_model_name": "LayoutModel",
            "_view_count": null,
            "_view_module": "@jupyter-widgets/base",
            "_view_module_version": "1.2.0",
            "_view_name": "LayoutView",
            "align_content": null,
            "align_items": null,
            "align_self": null,
            "border": null,
            "bottom": null,
            "display": null,
            "flex": null,
            "flex_flow": null,
            "grid_area": null,
            "grid_auto_columns": null,
            "grid_auto_flow": null,
            "grid_auto_rows": null,
            "grid_column": null,
            "grid_gap": null,
            "grid_row": null,
            "grid_template_areas": null,
            "grid_template_columns": null,
            "grid_template_rows": null,
            "height": null,
            "justify_content": null,
            "justify_items": null,
            "left": null,
            "margin": null,
            "max_height": null,
            "max_width": null,
            "min_height": null,
            "min_width": null,
            "object_fit": null,
            "object_position": null,
            "order": null,
            "overflow": null,
            "overflow_x": null,
            "overflow_y": null,
            "padding": null,
            "right": null,
            "top": null,
            "visibility": null,
            "width": null
          }
        },
        "8ecc72bfa4b6485bb519d7b1fb7e97f8": {
          "model_module": "@jupyter-widgets/controls",
          "model_name": "DescriptionStyleModel",
          "model_module_version": "1.5.0",
          "state": {
            "_model_module": "@jupyter-widgets/controls",
            "_model_module_version": "1.5.0",
            "_model_name": "DescriptionStyleModel",
            "_view_count": null,
            "_view_module": "@jupyter-widgets/base",
            "_view_module_version": "1.2.0",
            "_view_name": "StyleView",
            "description_width": ""
          }
        },
        "8a9ed365d15f41ca972a87f86d3d5e49": {
          "model_module": "@jupyter-widgets/base",
          "model_name": "LayoutModel",
          "model_module_version": "1.2.0",
          "state": {
            "_model_module": "@jupyter-widgets/base",
            "_model_module_version": "1.2.0",
            "_model_name": "LayoutModel",
            "_view_count": null,
            "_view_module": "@jupyter-widgets/base",
            "_view_module_version": "1.2.0",
            "_view_name": "LayoutView",
            "align_content": null,
            "align_items": null,
            "align_self": null,
            "border": null,
            "bottom": null,
            "display": null,
            "flex": null,
            "flex_flow": null,
            "grid_area": null,
            "grid_auto_columns": null,
            "grid_auto_flow": null,
            "grid_auto_rows": null,
            "grid_column": null,
            "grid_gap": null,
            "grid_row": null,
            "grid_template_areas": null,
            "grid_template_columns": null,
            "grid_template_rows": null,
            "height": null,
            "justify_content": null,
            "justify_items": null,
            "left": null,
            "margin": null,
            "max_height": null,
            "max_width": null,
            "min_height": null,
            "min_width": null,
            "object_fit": null,
            "object_position": null,
            "order": null,
            "overflow": null,
            "overflow_x": null,
            "overflow_y": null,
            "padding": null,
            "right": null,
            "top": null,
            "visibility": null,
            "width": null
          }
        },
        "d5846efb692d471389d0d293e81f84d5": {
          "model_module": "@jupyter-widgets/controls",
          "model_name": "ProgressStyleModel",
          "model_module_version": "1.5.0",
          "state": {
            "_model_module": "@jupyter-widgets/controls",
            "_model_module_version": "1.5.0",
            "_model_name": "ProgressStyleModel",
            "_view_count": null,
            "_view_module": "@jupyter-widgets/base",
            "_view_module_version": "1.2.0",
            "_view_name": "StyleView",
            "bar_color": null,
            "description_width": ""
          }
        },
        "e6618300eb39491c969fc1f8172dbc3a": {
          "model_module": "@jupyter-widgets/base",
          "model_name": "LayoutModel",
          "model_module_version": "1.2.0",
          "state": {
            "_model_module": "@jupyter-widgets/base",
            "_model_module_version": "1.2.0",
            "_model_name": "LayoutModel",
            "_view_count": null,
            "_view_module": "@jupyter-widgets/base",
            "_view_module_version": "1.2.0",
            "_view_name": "LayoutView",
            "align_content": null,
            "align_items": null,
            "align_self": null,
            "border": null,
            "bottom": null,
            "display": null,
            "flex": null,
            "flex_flow": null,
            "grid_area": null,
            "grid_auto_columns": null,
            "grid_auto_flow": null,
            "grid_auto_rows": null,
            "grid_column": null,
            "grid_gap": null,
            "grid_row": null,
            "grid_template_areas": null,
            "grid_template_columns": null,
            "grid_template_rows": null,
            "height": null,
            "justify_content": null,
            "justify_items": null,
            "left": null,
            "margin": null,
            "max_height": null,
            "max_width": null,
            "min_height": null,
            "min_width": null,
            "object_fit": null,
            "object_position": null,
            "order": null,
            "overflow": null,
            "overflow_x": null,
            "overflow_y": null,
            "padding": null,
            "right": null,
            "top": null,
            "visibility": null,
            "width": null
          }
        },
        "5bad8077e1a246f486f6dcf93e9cf906": {
          "model_module": "@jupyter-widgets/controls",
          "model_name": "DescriptionStyleModel",
          "model_module_version": "1.5.0",
          "state": {
            "_model_module": "@jupyter-widgets/controls",
            "_model_module_version": "1.5.0",
            "_model_name": "DescriptionStyleModel",
            "_view_count": null,
            "_view_module": "@jupyter-widgets/base",
            "_view_module_version": "1.2.0",
            "_view_name": "StyleView",
            "description_width": ""
          }
        }
      }
    },
    "colab": {
      "provenance": []
    },
    "accelerator": "GPU"
  },
  "nbformat": 4,
  "nbformat_minor": 5
}
