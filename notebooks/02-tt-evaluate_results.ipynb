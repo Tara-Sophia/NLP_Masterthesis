{
 "cells": [
  {
   "cell_type": "markdown",
   "metadata": {},
   "source": [
    "# Evalute the results of both models compared to the ground truth"
   ]
  },
  {
   "cell_type": "code",
   "execution_count": 2,
   "metadata": {},
   "outputs": [
    {
     "name": "stdout",
     "output_type": "stream",
     "text": [
      "Collecting rouge\n",
      "  Downloading rouge-1.0.1-py3-none-any.whl (13 kB)\n",
      "Requirement already satisfied: six in /opt/anaconda3/envs/nlp_masterthesis/lib/python3.10/site-packages (from rouge) (1.16.0)\n",
      "Installing collected packages: rouge\n",
      "Successfully installed rouge-1.0.1\n"
     ]
    }
   ],
   "source": [
    "!pip install rouge\n",
    "#https://medium.com/nlplanet/two-minutes-nlp-learn-the-rouge-metric-by-examples-f179cc285499\n",
    "#https://towardsdatascience.com/the-ultimate-performance-metric-in-nlp-111df6c64460"
   ]
  },
  {
   "cell_type": "code",
   "execution_count": null,
   "metadata": {},
   "outputs": [],
   "source": [
    "#test"
   ]
  },
  {
   "cell_type": "code",
   "execution_count": null,
   "metadata": {},
   "outputs": [],
   "source": []
  },
  {
   "cell_type": "code",
   "execution_count": null,
   "metadata": {},
   "outputs": [],
   "source": []
  },
  {
   "cell_type": "code",
   "execution_count": 25,
   "metadata": {},
   "outputs": [
    {
     "data": {
      "text/html": [
       "<div>\n",
       "<style scoped>\n",
       "    .dataframe tbody tr th:only-of-type {\n",
       "        vertical-align: middle;\n",
       "    }\n",
       "\n",
       "    .dataframe tbody tr th {\n",
       "        vertical-align: top;\n",
       "    }\n",
       "\n",
       "    .dataframe thead th {\n",
       "        text-align: right;\n",
       "    }\n",
       "</style>\n",
       "<table border=\"1\" class=\"dataframe\">\n",
       "  <thead>\n",
       "    <tr style=\"text-align: right;\">\n",
       "      <th></th>\n",
       "      <th>Unnamed: 0</th>\n",
       "      <th>description</th>\n",
       "      <th>medical_specialty</th>\n",
       "      <th>sample_name</th>\n",
       "      <th>transcription</th>\n",
       "      <th>keywords</th>\n",
       "      <th>keywords_list</th>\n",
       "      <th>location</th>\n",
       "      <th>keywords_outcome_weights</th>\n",
       "      <th>transcription_f</th>\n",
       "      <th>keywords_outcome_weights_unsupervised</th>\n",
       "      <th>transcription_f_unsupervised</th>\n",
       "    </tr>\n",
       "  </thead>\n",
       "  <tbody>\n",
       "    <tr>\n",
       "      <th>0</th>\n",
       "      <td>3</td>\n",
       "      <td>2-D M-Mode. Doppler.</td>\n",
       "      <td>Cardiovascular / Pulmonary</td>\n",
       "      <td>2-D Echocardiogram - 1</td>\n",
       "      <td>mmode leave atrial enlargement leave atrial diameter cm normal size right leave ventricle normal lv systolic function leave ventricular ejection fraction normal lv diastolic function pericardial effusion normal morphology aortic valve mitral valve tricuspid valve pulmonary valve pa systolic pressure mmhgdoppler mild mitral tricuspid regurgitation trace aortic pulmonary regurgitation</td>\n",
       "      <td>cardiovascular / pulmonary, 2-d m-mode, doppler, aortic valve, atrial enlargement, diastolic function, ejection fraction, mitral, mitral valve, pericardial effusion, pulmonary valve, regurgitation, systolic function, tricuspid, tricuspid valve, normal lv</td>\n",
       "      <td>['cardiovascular / pulmonary', ' 2-d m-mode', ' doppler', ' aortic valve', ' atrial enlargement', ' diastolic function', ' ejection fraction', ' mitral', ' mitral valve', ' pericardial effusion', ' pulmonary valve', ' regurgitation', ' systolic function', ' tricuspid', ' tricuspid valve', ' normal lv ']</td>\n",
       "      <td>dict_values([[221, 233], [11, 29], [163, 181], [135, 152], [234, 240], [234, 246], [182, 202], [263, 278], [334, 347], [99, 116], [247, 256], [247, 262], [89, 99]])</td>\n",
       "      <td>[('lv diastolic', 0.7221), ('ventricular ejection', 0.7035), ('effusion normal', 0.5309), ('valve pulmonary', 0.5128), ('mild', 0.5039)]</td>\n",
       "      <td>['lv diastolic', 'ventricular ejection', 'effusion normal', 'valve pulmonary', 'mild']</td>\n",
       "      <td>[('pericardial effusion', 0.7809), ('function pericardial', 0.7734), ('ventricular ejection', 0.7723), ('atrial enlargement', 0.7521), ('leave ventricular', 0.751), ('systolic pressure', 0.7386), ('aortic pulmonary', 0.7248), ('mitral tricuspid', 0.723), ('pulmonary regurgitation', 0.7126), ('pressure mmhgdoppler', 0.6883), ('valve pa', 0.6804), ('ejection fraction', 0.6414), ('leave atrial', 0.6164), ('lv diastolic', 0.5997), ('mmode leave', 0.5963)]</td>\n",
       "      <td>['pericardial effusion', 'function pericardial', 'ventricular ejection', 'atrial enlargement', 'leave ventricular', 'systolic pressure', 'aortic pulmonary', 'mitral tricuspid', 'pulmonary regurgitation', 'pressure mmhgdoppler', 'valve pa', 'ejection fraction', 'leave atrial', 'lv diastolic', 'mmode leave']</td>\n",
       "    </tr>\n",
       "  </tbody>\n",
       "</table>\n",
       "</div>"
      ],
      "text/plain": [
       "   Unnamed: 0              description            medical_specialty  \\\n",
       "0           3   2-D M-Mode. Doppler.     Cardiovascular / Pulmonary   \n",
       "\n",
       "                sample_name  \\\n",
       "0   2-D Echocardiogram - 1    \n",
       "\n",
       "                                                                                                                                                                                                                                                                                                                                                                                       transcription  \\\n",
       "0  mmode leave atrial enlargement leave atrial diameter cm normal size right leave ventricle normal lv systolic function leave ventricular ejection fraction normal lv diastolic function pericardial effusion normal morphology aortic valve mitral valve tricuspid valve pulmonary valve pa systolic pressure mmhgdoppler mild mitral tricuspid regurgitation trace aortic pulmonary regurgitation   \n",
       "\n",
       "                                                                                                                                                                                                                                                          keywords  \\\n",
       "0  cardiovascular / pulmonary, 2-d m-mode, doppler, aortic valve, atrial enlargement, diastolic function, ejection fraction, mitral, mitral valve, pericardial effusion, pulmonary valve, regurgitation, systolic function, tricuspid, tricuspid valve, normal lv    \n",
       "\n",
       "                                                                                                                                                                                                                                                                                                      keywords_list  \\\n",
       "0  ['cardiovascular / pulmonary', ' 2-d m-mode', ' doppler', ' aortic valve', ' atrial enlargement', ' diastolic function', ' ejection fraction', ' mitral', ' mitral valve', ' pericardial effusion', ' pulmonary valve', ' regurgitation', ' systolic function', ' tricuspid', ' tricuspid valve', ' normal lv ']   \n",
       "\n",
       "                                                                                                                                                               location  \\\n",
       "0  dict_values([[221, 233], [11, 29], [163, 181], [135, 152], [234, 240], [234, 246], [182, 202], [263, 278], [334, 347], [99, 116], [247, 256], [247, 262], [89, 99]])   \n",
       "\n",
       "                                                                                                                   keywords_outcome_weights  \\\n",
       "0  [('lv diastolic', 0.7221), ('ventricular ejection', 0.7035), ('effusion normal', 0.5309), ('valve pulmonary', 0.5128), ('mild', 0.5039)]   \n",
       "\n",
       "                                                                          transcription_f  \\\n",
       "0  ['lv diastolic', 'ventricular ejection', 'effusion normal', 'valve pulmonary', 'mild']   \n",
       "\n",
       "                                                                                                                                                                                                                                                                                                                                                                                                                                     keywords_outcome_weights_unsupervised  \\\n",
       "0  [('pericardial effusion', 0.7809), ('function pericardial', 0.7734), ('ventricular ejection', 0.7723), ('atrial enlargement', 0.7521), ('leave ventricular', 0.751), ('systolic pressure', 0.7386), ('aortic pulmonary', 0.7248), ('mitral tricuspid', 0.723), ('pulmonary regurgitation', 0.7126), ('pressure mmhgdoppler', 0.6883), ('valve pa', 0.6804), ('ejection fraction', 0.6414), ('leave atrial', 0.6164), ('lv diastolic', 0.5997), ('mmode leave', 0.5963)]   \n",
       "\n",
       "                                                                                                                                                                                                                                                                                          transcription_f_unsupervised  \n",
       "0  ['pericardial effusion', 'function pericardial', 'ventricular ejection', 'atrial enlargement', 'leave ventricular', 'systolic pressure', 'aortic pulmonary', 'mitral tricuspid', 'pulmonary regurgitation', 'pressure mmhgdoppler', 'valve pa', 'ejection fraction', 'leave atrial', 'lv diastolic', 'mmode leave']  "
      ]
     },
     "execution_count": 25,
     "metadata": {},
     "output_type": "execute_result"
    }
   ],
   "source": [
    "import pandas as pd\n",
    "df_2 = pd.read_csv(\"../data/processed/nlp/mtsamples/mtsamples_unsupervised_both.csv\")\n",
    "pd.set_option('display.max_colwidth', None)\n",
    "df_2.head(1)"
   ]
  },
  {
   "cell_type": "code",
   "execution_count": 28,
   "metadata": {},
   "outputs": [],
   "source": [
    "#column df_2.transcription_f_unsupervised to string words with comma\n",
    "df_2['transcription_f'] =  df_2['transcription_f'].apply(eval).apply(' '.join)\n",
    "df_2['transcription_f_unsupervised'] =  df_2['transcription_f_unsupervised'].apply(eval).apply(' '.join)\n"
   ]
  },
  {
   "cell_type": "code",
   "execution_count": 30,
   "metadata": {},
   "outputs": [
    {
     "data": {
      "text/html": [
       "<div>\n",
       "<style scoped>\n",
       "    .dataframe tbody tr th:only-of-type {\n",
       "        vertical-align: middle;\n",
       "    }\n",
       "\n",
       "    .dataframe tbody tr th {\n",
       "        vertical-align: top;\n",
       "    }\n",
       "\n",
       "    .dataframe thead th {\n",
       "        text-align: right;\n",
       "    }\n",
       "</style>\n",
       "<table border=\"1\" class=\"dataframe\">\n",
       "  <thead>\n",
       "    <tr style=\"text-align: right;\">\n",
       "      <th></th>\n",
       "      <th>rouge-1</th>\n",
       "      <th>rouge-2</th>\n",
       "      <th>rouge-l</th>\n",
       "    </tr>\n",
       "  </thead>\n",
       "  <tbody>\n",
       "    <tr>\n",
       "      <th>model2_text</th>\n",
       "      <td>{'r': 0.7518429952121728, 'p': 1.0, 'f': 0.8468678950001362}</td>\n",
       "      <td>{'r': 0.484802243458104, 'p': 0.45330776170124937, 'f': 0.42883320821286997}</td>\n",
       "      <td>{'r': 0.4645271989256302, 'p': 0.5829477724276947, 'f': 0.5102887324523778}</td>\n",
       "    </tr>\n",
       "    <tr>\n",
       "      <th>model2_text2</th>\n",
       "      <td>{'r': 0.1259346197831682, 'p': 0.12477967626319802, 'f': 0.10864471027976298}</td>\n",
       "      <td>{'r': 0.009924415785561554, 'p': 0.009228856884434655, 'f': 0.008985456863245351}</td>\n",
       "      <td>{'r': 0.09514811444161866, 'p': 0.09558877368774125, 'f': 0.08113579259790944}</td>\n",
       "    </tr>\n",
       "    <tr>\n",
       "      <th>model1_text</th>\n",
       "      <td>{'r': 0.42658349844738597, 'p': 1.0, 'f': 0.5445954491378925}</td>\n",
       "      <td>{'r': 0.23244896812045507, 'p': 0.476857223430828, 'f': 0.2514680257324573}</td>\n",
       "      <td>{'r': 0.3023174200123129, 'p': 0.6885847232293929, 'f': 0.3810087956610965}</td>\n",
       "    </tr>\n",
       "    <tr>\n",
       "      <th>model1_text2</th>\n",
       "      <td>{'r': 0.42658349844738597, 'p': 1.0, 'f': 0.5445954491378925}</td>\n",
       "      <td>{'r': 0.23244896812045507, 'p': 0.476857223430828, 'f': 0.2514680257324573}</td>\n",
       "      <td>{'r': 0.3023174200123129, 'p': 0.6885847232293929, 'f': 0.3810087956610965}</td>\n",
       "    </tr>\n",
       "  </tbody>\n",
       "</table>\n",
       "</div>"
      ],
      "text/plain": [
       "                                                                                    rouge-1  \\\n",
       "model2_text                    {'r': 0.7518429952121728, 'p': 1.0, 'f': 0.8468678950001362}   \n",
       "model2_text2  {'r': 0.1259346197831682, 'p': 0.12477967626319802, 'f': 0.10864471027976298}   \n",
       "model1_text                   {'r': 0.42658349844738597, 'p': 1.0, 'f': 0.5445954491378925}   \n",
       "model1_text2                  {'r': 0.42658349844738597, 'p': 1.0, 'f': 0.5445954491378925}   \n",
       "\n",
       "                                                                                        rouge-2  \\\n",
       "model2_text        {'r': 0.484802243458104, 'p': 0.45330776170124937, 'f': 0.42883320821286997}   \n",
       "model2_text2  {'r': 0.009924415785561554, 'p': 0.009228856884434655, 'f': 0.008985456863245351}   \n",
       "model1_text         {'r': 0.23244896812045507, 'p': 0.476857223430828, 'f': 0.2514680257324573}   \n",
       "model1_text2        {'r': 0.23244896812045507, 'p': 0.476857223430828, 'f': 0.2514680257324573}   \n",
       "\n",
       "                                                                                     rouge-l  \n",
       "model2_text      {'r': 0.4645271989256302, 'p': 0.5829477724276947, 'f': 0.5102887324523778}  \n",
       "model2_text2  {'r': 0.09514811444161866, 'p': 0.09558877368774125, 'f': 0.08113579259790944}  \n",
       "model1_text      {'r': 0.3023174200123129, 'p': 0.6885847232293929, 'f': 0.3810087956610965}  \n",
       "model1_text2     {'r': 0.3023174200123129, 'p': 0.6885847232293929, 'f': 0.3810087956610965}  "
      ]
     },
     "execution_count": 30,
     "metadata": {},
     "output_type": "execute_result"
    }
   ],
   "source": [
    "from rouge import Rouge\n",
    "\n",
    "rouge = Rouge()\n",
    "rouge_model2_text = rouge.get_scores(df_2.transcription_f_unsupervised, df_2.transcription, avg=True)\n",
    "rouge_model2_text2 = rouge.get_scores(df_2.transcription_f_unsupervised, df_2.keywords, avg=True)\n",
    "rouge_model1_text = rouge.get_scores(df_2.transcription_f, df_2.transcription, avg=True)\n",
    "rouge_model1_text2 = rouge.get_scores(df_2.transcription_f, df_2.transcription, avg=True)\n",
    "\n",
    " \n",
    " \n",
    " \n",
    "    \n",
    "df_rouge = pd.DataFrame([rouge_model2_text, rouge_model2_text2, rouge_model1_text, rouge_model1_text2])\n",
    "# rename rows each row for one model\n",
    "df_rouge.rename(index={0:'model2_text', 1:'model2_text2', 2:'model1_text', 3:'model1_text2'}, inplace=True)\n",
    "#one column for each metric\n",
    "#df_rouge = df_rouge.apply(pd.Series.explode).reset_index()\n",
    "df_rouge"
   ]
  },
  {
   "cell_type": "markdown",
   "metadata": {},
   "source": [
    "# evaluate performance of the models"
   ]
  },
  {
   "cell_type": "code",
   "execution_count": 16,
   "metadata": {},
   "outputs": [],
   "source": [
    "import time\n",
    "import logging\n",
    "import tqdm\n",
    "def extract_keywords_from_corpus(extractor, corpus):\n",
    "    extractor_name = extractor.__class__.__name__.replace(\"Extractor\", \"\")#maybe without class and e\n",
    "    logging.info(f\"Extracting keywords from corpus using {extractor_name}\")\n",
    "    corpus_kw = {}\n",
    "    start = time.time()\n",
    "    for idx, text in tqdm(enumerate(corpus), desc='extracting kw from corpus '):\n",
    "                          #corpus.items()):\n",
    "        corpus_kw[idx] = extractor(text)\n",
    "    end = time.time()\n",
    "    elapsed = time.strftime(\"%H:%M:%S\", time.gmtime(end - start))\n",
    "    logging.info(f\"Finished extracting keywords from corpus in {elapsed}\")\n",
    "    \n",
    "    return {'algorithm': extractor.__name__, 'corpus_kw': corpus_kw}\n",
    "\n",
    "\n"
   ]
  },
  {
   "cell_type": "code",
   "execution_count": null,
   "metadata": {},
   "outputs": [],
   "source": [
    "#check if the keywords are in the transcription\n",
    "#https://stackoverflow.com/questions/3437059/does-python-have-a-string-contains-substring-method\n",
    "\n",
    "#create a match function that checks for grammar\n"
   ]
  },
  {
   "cell_type": "code",
   "execution_count": null,
   "metadata": {},
   "outputs": [],
   "source": [
    "#benchmark function\n",
    "# for each algorithm we compute the avg. number of extracted keywords, \n",
    "# average number of matched keywords\n",
    "# compute score that takes into account the average number of matches found divided by how much time it tool to extract the keywords\n",
    "# we store all the data in a pd dataframe\n",
    "def get_sec(time_str):\n",
    "    \"\"\"Get Seconds from time.\"\"\"\n",
    "    h, m, s = time_str.split(':')\n",
    "    return int(h) * 3600 + int(m) * 60 + int(s)\n",
    "\n",
    "def benchmark(corpus):\n",
    "    logging.info('stating benchmark')\n",
    "    results = []\n",
    "    extractors = [keybert1, keybert2, rake, yake]\n",
    "    for extractor in extractors:\n",
    "        result = extract_keywords_from_corpus(extractor, corpus)\n",
    "        results.append(result)\n"
   ]
  }
 ],
 "metadata": {
  "kernelspec": {
   "display_name": "Python 3.10.4 ('nlp_masterthesis')",
   "language": "python",
   "name": "python3"
  },
  "language_info": {
   "codemirror_mode": {
    "name": "ipython",
    "version": 3
   },
   "file_extension": ".py",
   "mimetype": "text/x-python",
   "name": "python",
   "nbconvert_exporter": "python",
   "pygments_lexer": "ipython3",
   "version": "3.10.4"
  },
  "orig_nbformat": 4,
  "vscode": {
   "interpreter": {
    "hash": "e008ba518fc94ce1407a9eb93057d27eeafd2dad53a3852a13fd11c85bd39236"
   }
  }
 },
 "nbformat": 4,
 "nbformat_minor": 2
}
