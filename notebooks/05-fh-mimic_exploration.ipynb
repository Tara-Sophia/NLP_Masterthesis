{
 "cells": [
  {
   "cell_type": "code",
   "execution_count": 2,
   "metadata": {},
   "outputs": [],
   "source": [
    "import pandas as pd"
   ]
  },
  {
   "cell_type": "code",
   "execution_count": 40,
   "metadata": {},
   "outputs": [],
   "source": [
    "df_noteevents = pd.read_csv(\"../data/raw/mimic_iii/NOTEEVENTS.csv\", usecols=[\"ROW_ID\", \"SUBJECT_ID\", \"HADM_ID\", \"CATEGORY\", \"ISERROR\", \"TEXT\"])"
   ]
  },
  {
   "cell_type": "code",
   "execution_count": 77,
   "metadata": {},
   "outputs": [],
   "source": [
    "df_noteevents = df_noteevents[(df_noteevents[\"ISERROR\"].isna()) & (df_noteevents[\"CATEGORY\"] == \"Discharge summary\")].copy()\n",
    "df_noteevents = df_noteevents.drop_duplicates(subset=[\"SUBJECT_ID\", \"HADM_ID\"], keep=\"first\").copy()"
   ]
  },
  {
   "cell_type": "code",
   "execution_count": 78,
   "metadata": {},
   "outputs": [
    {
     "name": "stdout",
     "output_type": "stream",
     "text": [
      "(52726, 6)\n"
     ]
    },
    {
     "data": {
      "text/html": [
       "<div>\n",
       "<style scoped>\n",
       "    .dataframe tbody tr th:only-of-type {\n",
       "        vertical-align: middle;\n",
       "    }\n",
       "\n",
       "    .dataframe tbody tr th {\n",
       "        vertical-align: top;\n",
       "    }\n",
       "\n",
       "    .dataframe thead th {\n",
       "        text-align: right;\n",
       "    }\n",
       "</style>\n",
       "<table border=\"1\" class=\"dataframe\">\n",
       "  <thead>\n",
       "    <tr style=\"text-align: right;\">\n",
       "      <th></th>\n",
       "      <th>ROW_ID</th>\n",
       "      <th>SUBJECT_ID</th>\n",
       "      <th>HADM_ID</th>\n",
       "      <th>CATEGORY</th>\n",
       "      <th>ISERROR</th>\n",
       "      <th>TEXT</th>\n",
       "    </tr>\n",
       "  </thead>\n",
       "  <tbody>\n",
       "    <tr>\n",
       "      <th>0</th>\n",
       "      <td>174</td>\n",
       "      <td>22532</td>\n",
       "      <td>167853.0</td>\n",
       "      <td>Discharge summary</td>\n",
       "      <td>NaN</td>\n",
       "      <td>Admission Date:  [**2151-7-16**]       Dischar...</td>\n",
       "    </tr>\n",
       "    <tr>\n",
       "      <th>1</th>\n",
       "      <td>175</td>\n",
       "      <td>13702</td>\n",
       "      <td>107527.0</td>\n",
       "      <td>Discharge summary</td>\n",
       "      <td>NaN</td>\n",
       "      <td>Admission Date:  [**2118-6-2**]       Discharg...</td>\n",
       "    </tr>\n",
       "    <tr>\n",
       "      <th>2</th>\n",
       "      <td>176</td>\n",
       "      <td>13702</td>\n",
       "      <td>167118.0</td>\n",
       "      <td>Discharge summary</td>\n",
       "      <td>NaN</td>\n",
       "      <td>Admission Date:  [**2119-5-4**]              D...</td>\n",
       "    </tr>\n",
       "    <tr>\n",
       "      <th>3</th>\n",
       "      <td>177</td>\n",
       "      <td>13702</td>\n",
       "      <td>196489.0</td>\n",
       "      <td>Discharge summary</td>\n",
       "      <td>NaN</td>\n",
       "      <td>Admission Date:  [**2124-7-21**]              ...</td>\n",
       "    </tr>\n",
       "    <tr>\n",
       "      <th>4</th>\n",
       "      <td>178</td>\n",
       "      <td>26880</td>\n",
       "      <td>135453.0</td>\n",
       "      <td>Discharge summary</td>\n",
       "      <td>NaN</td>\n",
       "      <td>Admission Date:  [**2162-3-3**]              D...</td>\n",
       "    </tr>\n",
       "  </tbody>\n",
       "</table>\n",
       "</div>"
      ],
      "text/plain": [
       "   ROW_ID  SUBJECT_ID   HADM_ID           CATEGORY  ISERROR  \\\n",
       "0     174       22532  167853.0  Discharge summary      NaN   \n",
       "1     175       13702  107527.0  Discharge summary      NaN   \n",
       "2     176       13702  167118.0  Discharge summary      NaN   \n",
       "3     177       13702  196489.0  Discharge summary      NaN   \n",
       "4     178       26880  135453.0  Discharge summary      NaN   \n",
       "\n",
       "                                                TEXT  \n",
       "0  Admission Date:  [**2151-7-16**]       Dischar...  \n",
       "1  Admission Date:  [**2118-6-2**]       Discharg...  \n",
       "2  Admission Date:  [**2119-5-4**]              D...  \n",
       "3  Admission Date:  [**2124-7-21**]              ...  \n",
       "4  Admission Date:  [**2162-3-3**]              D...  "
      ]
     },
     "execution_count": 78,
     "metadata": {},
     "output_type": "execute_result"
    }
   ],
   "source": [
    "print(df_noteevents.shape)\n",
    "df_noteevents.head()"
   ]
  },
  {
   "cell_type": "code",
   "execution_count": 79,
   "metadata": {},
   "outputs": [
    {
     "data": {
      "text/plain": [
       "array([167853., 107527., 167118., 196489.])"
      ]
     },
     "execution_count": 79,
     "metadata": {},
     "output_type": "execute_result"
    }
   ],
   "source": [
    "df_noteevents.HADM_ID.unique()[:4]"
   ]
  },
  {
   "cell_type": "code",
   "execution_count": 80,
   "metadata": {},
   "outputs": [
    {
     "data": {
      "text/html": [
       "<div>\n",
       "<style scoped>\n",
       "    .dataframe tbody tr th:only-of-type {\n",
       "        vertical-align: middle;\n",
       "    }\n",
       "\n",
       "    .dataframe tbody tr th {\n",
       "        vertical-align: top;\n",
       "    }\n",
       "\n",
       "    .dataframe thead th {\n",
       "        text-align: right;\n",
       "    }\n",
       "</style>\n",
       "<table border=\"1\" class=\"dataframe\">\n",
       "  <thead>\n",
       "    <tr style=\"text-align: right;\">\n",
       "      <th></th>\n",
       "      <th>ROW_ID</th>\n",
       "      <th>SUBJECT_ID</th>\n",
       "      <th>HADM_ID</th>\n",
       "      <th>CATEGORY</th>\n",
       "      <th>ISERROR</th>\n",
       "      <th>TEXT</th>\n",
       "    </tr>\n",
       "  </thead>\n",
       "  <tbody>\n",
       "    <tr>\n",
       "      <th>15919</th>\n",
       "      <td>12032</td>\n",
       "      <td>20181</td>\n",
       "      <td>120654.0</td>\n",
       "      <td>Discharge summary</td>\n",
       "      <td>NaN</td>\n",
       "      <td>Admission Date:  [**2173-10-13**]       Discha...</td>\n",
       "    </tr>\n",
       "  </tbody>\n",
       "</table>\n",
       "</div>"
      ],
      "text/plain": [
       "       ROW_ID  SUBJECT_ID   HADM_ID           CATEGORY  ISERROR  \\\n",
       "15919   12032       20181  120654.0  Discharge summary      NaN   \n",
       "\n",
       "                                                    TEXT  \n",
       "15919  Admission Date:  [**2173-10-13**]       Discha...  "
      ]
     },
     "execution_count": 80,
     "metadata": {},
     "output_type": "execute_result"
    }
   ],
   "source": [
    "df_noteevents[df_noteevents[\"HADM_ID\"] == 120654.0]"
   ]
  },
  {
   "cell_type": "code",
   "execution_count": 83,
   "metadata": {},
   "outputs": [
    {
     "data": {
      "text/plain": [
       "(52726, 6)"
      ]
     },
     "execution_count": 83,
     "metadata": {},
     "output_type": "execute_result"
    }
   ],
   "source": [
    "df_noteevents.shape"
   ]
  },
  {
   "cell_type": "code",
   "execution_count": 84,
   "metadata": {},
   "outputs": [],
   "source": [
    "df_diagnoses = pd.read_csv(\"../data/raw/mimic_iii/DIAGNOSES_ICD.csv\")\n",
    "df_diagnoses = df_diagnoses.sort_values(\"SEQ_NUM\", ascending=True)\n",
    "df_diagnoses = df_diagnoses.drop_duplicates(subset=[\"SUBJECT_ID\", \"HADM_ID\"], keep=\"first\")"
   ]
  },
  {
   "cell_type": "code",
   "execution_count": 85,
   "metadata": {},
   "outputs": [
    {
     "name": "stdout",
     "output_type": "stream",
     "text": [
      "(58976, 5)\n"
     ]
    },
    {
     "data": {
      "text/html": [
       "<div>\n",
       "<style scoped>\n",
       "    .dataframe tbody tr th:only-of-type {\n",
       "        vertical-align: middle;\n",
       "    }\n",
       "\n",
       "    .dataframe tbody tr th {\n",
       "        vertical-align: top;\n",
       "    }\n",
       "\n",
       "    .dataframe thead th {\n",
       "        text-align: right;\n",
       "    }\n",
       "</style>\n",
       "<table border=\"1\" class=\"dataframe\">\n",
       "  <thead>\n",
       "    <tr style=\"text-align: right;\">\n",
       "      <th></th>\n",
       "      <th>ROW_ID</th>\n",
       "      <th>SUBJECT_ID</th>\n",
       "      <th>HADM_ID</th>\n",
       "      <th>SEQ_NUM</th>\n",
       "      <th>ICD9_CODE</th>\n",
       "    </tr>\n",
       "  </thead>\n",
       "  <tbody>\n",
       "    <tr>\n",
       "      <th>0</th>\n",
       "      <td>1297</td>\n",
       "      <td>109</td>\n",
       "      <td>172335</td>\n",
       "      <td>1.0</td>\n",
       "      <td>40301</td>\n",
       "    </tr>\n",
       "    <tr>\n",
       "      <th>111750</th>\n",
       "      <td>105624</td>\n",
       "      <td>9413</td>\n",
       "      <td>176956</td>\n",
       "      <td>1.0</td>\n",
       "      <td>86501</td>\n",
       "    </tr>\n",
       "    <tr>\n",
       "      <th>111742</th>\n",
       "      <td>105616</td>\n",
       "      <td>9412</td>\n",
       "      <td>148755</td>\n",
       "      <td>1.0</td>\n",
       "      <td>99674</td>\n",
       "    </tr>\n",
       "    <tr>\n",
       "      <th>519073</th>\n",
       "      <td>523522</td>\n",
       "      <td>71349</td>\n",
       "      <td>102891</td>\n",
       "      <td>1.0</td>\n",
       "      <td>0389</td>\n",
       "    </tr>\n",
       "    <tr>\n",
       "      <th>335323</th>\n",
       "      <td>328441</td>\n",
       "      <td>28882</td>\n",
       "      <td>166021</td>\n",
       "      <td>1.0</td>\n",
       "      <td>44100</td>\n",
       "    </tr>\n",
       "  </tbody>\n",
       "</table>\n",
       "</div>"
      ],
      "text/plain": [
       "        ROW_ID  SUBJECT_ID  HADM_ID  SEQ_NUM ICD9_CODE\n",
       "0         1297         109   172335      1.0     40301\n",
       "111750  105624        9413   176956      1.0     86501\n",
       "111742  105616        9412   148755      1.0     99674\n",
       "519073  523522       71349   102891      1.0      0389\n",
       "335323  328441       28882   166021      1.0     44100"
      ]
     },
     "execution_count": 85,
     "metadata": {},
     "output_type": "execute_result"
    }
   ],
   "source": [
    "print(df_diagnoses.shape)\n",
    "df_diagnoses.head()"
   ]
  },
  {
   "cell_type": "code",
   "execution_count": 86,
   "metadata": {},
   "outputs": [],
   "source": [
    "# 1 is the most important seq_num"
   ]
  },
  {
   "cell_type": "code",
   "execution_count": 87,
   "metadata": {},
   "outputs": [
    {
     "name": "stdout",
     "output_type": "stream",
     "text": [
      "(58976, 9)\n"
     ]
    },
    {
     "data": {
      "text/html": [
       "<div>\n",
       "<style scoped>\n",
       "    .dataframe tbody tr th:only-of-type {\n",
       "        vertical-align: middle;\n",
       "    }\n",
       "\n",
       "    .dataframe tbody tr th {\n",
       "        vertical-align: top;\n",
       "    }\n",
       "\n",
       "    .dataframe thead th {\n",
       "        text-align: right;\n",
       "    }\n",
       "</style>\n",
       "<table border=\"1\" class=\"dataframe\">\n",
       "  <thead>\n",
       "    <tr style=\"text-align: right;\">\n",
       "      <th></th>\n",
       "      <th>ROW_ID_x</th>\n",
       "      <th>SUBJECT_ID</th>\n",
       "      <th>HADM_ID</th>\n",
       "      <th>SEQ_NUM</th>\n",
       "      <th>ICD9_CODE</th>\n",
       "      <th>ROW_ID_y</th>\n",
       "      <th>CATEGORY</th>\n",
       "      <th>ISERROR</th>\n",
       "      <th>TEXT</th>\n",
       "    </tr>\n",
       "  </thead>\n",
       "  <tbody>\n",
       "    <tr>\n",
       "      <th>0</th>\n",
       "      <td>1297</td>\n",
       "      <td>109</td>\n",
       "      <td>172335</td>\n",
       "      <td>1.0</td>\n",
       "      <td>40301</td>\n",
       "      <td>14797.0</td>\n",
       "      <td>Discharge summary</td>\n",
       "      <td>NaN</td>\n",
       "      <td>Admission Date:  [**2141-9-18**]              ...</td>\n",
       "    </tr>\n",
       "    <tr>\n",
       "      <th>1</th>\n",
       "      <td>105624</td>\n",
       "      <td>9413</td>\n",
       "      <td>176956</td>\n",
       "      <td>1.0</td>\n",
       "      <td>86501</td>\n",
       "      <td>1802.0</td>\n",
       "      <td>Discharge summary</td>\n",
       "      <td>NaN</td>\n",
       "      <td>Admission Date:  [**2187-9-19**]              ...</td>\n",
       "    </tr>\n",
       "    <tr>\n",
       "      <th>2</th>\n",
       "      <td>105616</td>\n",
       "      <td>9412</td>\n",
       "      <td>148755</td>\n",
       "      <td>1.0</td>\n",
       "      <td>99674</td>\n",
       "      <td>14688.0</td>\n",
       "      <td>Discharge summary</td>\n",
       "      <td>NaN</td>\n",
       "      <td>Admission Date:  [**2190-6-5**]       Discharg...</td>\n",
       "    </tr>\n",
       "    <tr>\n",
       "      <th>3</th>\n",
       "      <td>523522</td>\n",
       "      <td>71349</td>\n",
       "      <td>102891</td>\n",
       "      <td>1.0</td>\n",
       "      <td>0389</td>\n",
       "      <td>6972.0</td>\n",
       "      <td>Discharge summary</td>\n",
       "      <td>NaN</td>\n",
       "      <td>Admission Date:  [**2101-4-30**]              ...</td>\n",
       "    </tr>\n",
       "    <tr>\n",
       "      <th>4</th>\n",
       "      <td>328441</td>\n",
       "      <td>28882</td>\n",
       "      <td>166021</td>\n",
       "      <td>1.0</td>\n",
       "      <td>44100</td>\n",
       "      <td>31799.0</td>\n",
       "      <td>Discharge summary</td>\n",
       "      <td>NaN</td>\n",
       "      <td>Admission Date:  [**2146-9-15**]              ...</td>\n",
       "    </tr>\n",
       "  </tbody>\n",
       "</table>\n",
       "</div>"
      ],
      "text/plain": [
       "   ROW_ID_x  SUBJECT_ID  HADM_ID  SEQ_NUM ICD9_CODE  ROW_ID_y  \\\n",
       "0      1297         109   172335      1.0     40301   14797.0   \n",
       "1    105624        9413   176956      1.0     86501    1802.0   \n",
       "2    105616        9412   148755      1.0     99674   14688.0   \n",
       "3    523522       71349   102891      1.0      0389    6972.0   \n",
       "4    328441       28882   166021      1.0     44100   31799.0   \n",
       "\n",
       "            CATEGORY  ISERROR  \\\n",
       "0  Discharge summary      NaN   \n",
       "1  Discharge summary      NaN   \n",
       "2  Discharge summary      NaN   \n",
       "3  Discharge summary      NaN   \n",
       "4  Discharge summary      NaN   \n",
       "\n",
       "                                                TEXT  \n",
       "0  Admission Date:  [**2141-9-18**]              ...  \n",
       "1  Admission Date:  [**2187-9-19**]              ...  \n",
       "2  Admission Date:  [**2190-6-5**]       Discharg...  \n",
       "3  Admission Date:  [**2101-4-30**]              ...  \n",
       "4  Admission Date:  [**2146-9-15**]              ...  "
      ]
     },
     "execution_count": 87,
     "metadata": {},
     "output_type": "execute_result"
    }
   ],
   "source": [
    "df = pd.merge(df_diagnoses, df_noteevents, on=[\"SUBJECT_ID\", \"HADM_ID\"], how=\"left\")\n",
    "df = df[[\"TEXT\", \"Specialty\"]].copy()"
   ]
  }
 ],
 "metadata": {
  "kernelspec": {
   "display_name": "Python 3.10.6 ('nlp_masterthesis')",
   "language": "python",
   "name": "python3"
  },
  "language_info": {
   "codemirror_mode": {
    "name": "ipython",
    "version": 3
   },
   "file_extension": ".py",
   "mimetype": "text/x-python",
   "name": "python",
   "nbconvert_exporter": "python",
   "pygments_lexer": "ipython3",
   "version": "3.10.6"
  },
  "orig_nbformat": 4,
  "vscode": {
   "interpreter": {
    "hash": "40268d9a6ead8a84520c08d0b901e046bd2176336d854cc732bdbdbf7245879e"
   }
  }
 },
 "nbformat": 4,
 "nbformat_minor": 2
}
