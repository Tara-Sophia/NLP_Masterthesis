{
 "cells": [
  {
   "cell_type": "code",
   "execution_count": 3,
   "metadata": {},
   "outputs": [],
   "source": [
    "import pandas as pd\n",
    "import os\n",
    "#https://github.com/sean5446/icd9scraper"
   ]
  },
  {
   "cell_type": "code",
   "execution_count": 138,
   "metadata": {},
   "outputs": [],
   "source": [
    "# For file in os.listdir('data/raw/'):\n",
    "MAX_TABS = 3\n",
    "\n",
    "for file in os.listdir(\"../data/raw/icd9\"):\n",
    "    if file.startswith((\"cleaned\", \"dataframe\")):\n",
    "        continue\n",
    "    \n",
    "    with open(f\"../data/raw/icd9/{file}\", \"r\") as f:\n",
    "        lines = f.readlines()\n",
    "    \n",
    "    with open(f\"../data/raw/icd9/cleaned_{file}\", \"w\") as f:\n",
    "        for line in lines:\n",
    "            tab_diff = MAX_TABS - line.count(\"\\t\")\n",
    "            if tab_diff > 0:\n",
    "                line = line.strip(\"\\n\") + \"\\t\" * tab_diff + \"\\n\"\n",
    "            f.write(line)\n",
    "            \n",
    "    df = pd.read_csv(f\"../data/raw/icd9/cleaned_{file}\", sep=\"\\t\", header=None, usecols= [0,1,2], names=[\"chapter_codes\", \"block_codes\", \"category_codes\"])\n",
    "    if df.chapter_codes.nunique() == 1:\n",
    "        if df.category_codes.isnull().all():\n",
    "            df.category_codes = df.block_codes\n",
    "        df[[\"chapter_codes\", \"block_codes\"]] = df[[\"chapter_codes\", \"block_codes\"]].ffill()\n",
    "        df = df.dropna().reset_index(drop=True)\n",
    "        df[[\"chapter_codes\", \"chapter_des\"]] = df[\"chapter_codes\"].str.split(\" \", n=1, expand=True)\n",
    "        df[[\"block_codes\", \"block_des\"]] = df[\"block_codes\"].str.split(\" \", n=1, expand=True)\n",
    "        df[[\"category_codes\", \"category_des\"]] = df[\"category_codes\"].str.split(\" \", n=1, expand=True)\n",
    "        df.to_csv(f\"../data/raw/icd9/dataframe_{file.strip('.txt')}.csv\", index=False)\n",
    "    else:\n",
    "        print(\"Problem\", file)"
   ]
  },
  {
   "cell_type": "code",
   "execution_count": 145,
   "metadata": {},
   "outputs": [
    {
     "data": {
      "text/plain": [
       "(123, 6)"
      ]
     },
     "execution_count": 145,
     "metadata": {},
     "output_type": "execute_result"
    }
   ],
   "source": [
    "df.shape"
   ]
  },
  {
   "cell_type": "code",
   "execution_count": 7,
   "metadata": {},
   "outputs": [
    {
     "name": "stdout",
     "output_type": "stream",
     "text": [
      "(1234, 6)\n",
      "(1949, 6)\n"
     ]
    }
   ],
   "source": [
    "df9 = pd.read_csv(\"../data/interim/icd9_codes_and_des.csv\")\n",
    "print(df9.shape)\n",
    "\n",
    "df10 = pd.read_csv(\"../data/interim/icd10_codes_and_des.csv\")\n",
    "print(df10.shape)"
   ]
  },
  {
   "cell_type": "code",
   "execution_count": 94,
   "metadata": {},
   "outputs": [
    {
     "data": {
      "text/plain": [
       "array(['001-139 Infectious And Parasitic Diseases'], dtype=object)"
      ]
     },
     "execution_count": 94,
     "metadata": {},
     "output_type": "execute_result"
    }
   ],
   "source": [
    "df.chapter_codes.unique()"
   ]
  },
  {
   "cell_type": "code",
   "execution_count": 53,
   "metadata": {},
   "outputs": [],
   "source": [
    "from bs4 import BeautifulSoup, SoupStrainer\n",
    "import requests\n",
    "import re\n",
    "import unicodedata"
   ]
  },
  {
   "cell_type": "code",
   "execution_count": 69,
   "metadata": {},
   "outputs": [],
   "source": [
    "NHS_BASE = \"https://www.nhs.uk/conditions/\"\n",
    "\n",
    "def get_symptoms_from_nhs(url: str) -> str | None:\n",
    "    \"\"\"\n",
    "    Load symptoms from NHS\n",
    "\n",
    "    Parameters\n",
    "    ----------\n",
    "    url : str\n",
    "        URL to NHS page\n",
    "\n",
    "    Returns\n",
    "    -------\n",
    "    str | None\n",
    "        Either a string with symptoms, Message with error or None\n",
    "    \"\"\"\n",
    "    res = requests.get(url)\n",
    "    if res.status_code in range(200, 300):\n",
    "        soup = BeautifulSoup(\n",
    "            res.content,\n",
    "            \"lxml\",\n",
    "            parse_only=SoupStrainer(\"section\"),\n",
    "        )\n",
    "        symptoms_list_raw = soup.findAll(\"h2\")\n",
    "        for item in soup.find_all(\"h2\"):\n",
    "            if \"Symptoms\" not in item.text:\n",
    "                continue\n",
    "            else:\n",
    "                symptoms_list = item.find_next_siblings(\"ul\")[0]\n",
    "                text = \", \".join([li.text for li in symptoms_list.find_all(\"li\")])\n",
    "                text_cleaned = unicodedata.normalize(\"NFKD\", text)\n",
    "                return text_cleaned\n",
    "        else:\n",
    "            return f\"No Value\"\n",
    "    return None"
   ]
  },
  {
   "cell_type": "code",
   "execution_count": 72,
   "metadata": {},
   "outputs": [],
   "source": [
    "get_symptoms_from_nhs(\"https://www.nhs.uk/conditions/Histoplasmosis/\")"
   ]
  },
  {
   "cell_type": "code",
   "execution_count": 5,
   "metadata": {},
   "outputs": [
    {
     "ename": "ModuleNotFoundError",
     "evalue": "No module named 'simple_icd_10_cm'",
     "output_type": "error",
     "traceback": [
      "\u001b[1;31m---------------------------------------------------------------------------\u001b[0m",
      "\u001b[1;31mModuleNotFoundError\u001b[0m                       Traceback (most recent call last)",
      "Cell \u001b[1;32mIn [5], line 1\u001b[0m\n\u001b[1;32m----> 1\u001b[0m \u001b[38;5;28;01mimport\u001b[39;00m \u001b[38;5;21;01msimple_icd_10_cm\u001b[39;00m \u001b[38;5;28;01mas\u001b[39;00m \u001b[38;5;21;01mcm\u001b[39;00m\n",
      "\u001b[1;31mModuleNotFoundError\u001b[0m: No module named 'simple_icd_10_cm'"
     ]
    }
   ],
   "source": [
    "import simple_icd_10_cm as cm\n"
   ]
  },
  {
   "cell_type": "code",
   "execution_count": 4,
   "metadata": {},
   "outputs": [],
   "source": [
    "df = pd.read_csv(\"../data/interim/icd10_symptoms.csv\")"
   ]
  },
  {
   "cell_type": "code",
   "execution_count": 6,
   "metadata": {},
   "outputs": [
    {
     "data": {
      "text/plain": [
       "(1949, 7)"
      ]
     },
     "execution_count": 6,
     "metadata": {},
     "output_type": "execute_result"
    }
   ],
   "source": [
    "df.shape"
   ]
  },
  {
   "cell_type": "code",
   "execution_count": 12,
   "metadata": {},
   "outputs": [
    {
     "data": {
      "text/html": [
       "<div>\n",
       "<style scoped>\n",
       "    .dataframe tbody tr th:only-of-type {\n",
       "        vertical-align: middle;\n",
       "    }\n",
       "\n",
       "    .dataframe tbody tr th {\n",
       "        vertical-align: top;\n",
       "    }\n",
       "\n",
       "    .dataframe thead th {\n",
       "        text-align: right;\n",
       "    }\n",
       "</style>\n",
       "<table border=\"1\" class=\"dataframe\">\n",
       "  <thead>\n",
       "    <tr style=\"text-align: right;\">\n",
       "      <th></th>\n",
       "      <th>category_codes</th>\n",
       "      <th>category_codes_des</th>\n",
       "      <th>block_codes</th>\n",
       "      <th>block_codes_des</th>\n",
       "      <th>chapter_codes</th>\n",
       "      <th>chapter_codes_des</th>\n",
       "      <th>symptoms</th>\n",
       "    </tr>\n",
       "  </thead>\n",
       "  <tbody>\n",
       "    <tr>\n",
       "      <th>0</th>\n",
       "      <td>A00</td>\n",
       "      <td>Cholera</td>\n",
       "      <td>A00-A09</td>\n",
       "      <td>Intestinal infectious diseases (A00-A09)</td>\n",
       "      <td>1</td>\n",
       "      <td>Certain infectious and parasitic diseases (A00...</td>\n",
       "      <td>Large amounts of watery diarrhea, vomiting, mu...</td>\n",
       "    </tr>\n",
       "    <tr>\n",
       "      <th>1</th>\n",
       "      <td>A02</td>\n",
       "      <td>Other salmonella infections</td>\n",
       "      <td>A00-A09</td>\n",
       "      <td>Intestinal infectious diseases (A00-A09)</td>\n",
       "      <td>1</td>\n",
       "      <td>Certain infectious and parasitic diseases (A00...</td>\n",
       "      <td>No Value</td>\n",
       "    </tr>\n",
       "    <tr>\n",
       "      <th>2</th>\n",
       "      <td>A03</td>\n",
       "      <td>Shigellosis</td>\n",
       "      <td>A00-A09</td>\n",
       "      <td>Intestinal infectious diseases (A00-A09)</td>\n",
       "      <td>1</td>\n",
       "      <td>Certain infectious and parasitic diseases (A00...</td>\n",
       "      <td>Diarrhea, fever, abdominal pain</td>\n",
       "    </tr>\n",
       "    <tr>\n",
       "      <th>3</th>\n",
       "      <td>A06</td>\n",
       "      <td>Amebiasis</td>\n",
       "      <td>A00-A09</td>\n",
       "      <td>Intestinal infectious diseases (A00-A09)</td>\n",
       "      <td>1</td>\n",
       "      <td>Certain infectious and parasitic diseases (A00...</td>\n",
       "      <td>Bloody diarrhea, abdominal pain</td>\n",
       "    </tr>\n",
       "    <tr>\n",
       "      <th>4</th>\n",
       "      <td>A15</td>\n",
       "      <td>Respiratory tuberculosis</td>\n",
       "      <td>A15-A19</td>\n",
       "      <td>Tuberculosis (A15-A19)</td>\n",
       "      <td>1</td>\n",
       "      <td>Certain infectious and parasitic diseases (A00...</td>\n",
       "      <td>Chronic cough, fever, cough with bloody mucus,...</td>\n",
       "    </tr>\n",
       "  </tbody>\n",
       "</table>\n",
       "</div>"
      ],
      "text/plain": [
       "  category_codes           category_codes_des block_codes  \\\n",
       "0            A00                      Cholera     A00-A09   \n",
       "1            A02  Other salmonella infections     A00-A09   \n",
       "2            A03                  Shigellosis     A00-A09   \n",
       "3            A06                    Amebiasis     A00-A09   \n",
       "4            A15     Respiratory tuberculosis     A15-A19   \n",
       "\n",
       "                            block_codes_des  chapter_codes  \\\n",
       "0  Intestinal infectious diseases (A00-A09)              1   \n",
       "1  Intestinal infectious diseases (A00-A09)              1   \n",
       "2  Intestinal infectious diseases (A00-A09)              1   \n",
       "3  Intestinal infectious diseases (A00-A09)              1   \n",
       "4                    Tuberculosis (A15-A19)              1   \n",
       "\n",
       "                                   chapter_codes_des  \\\n",
       "0  Certain infectious and parasitic diseases (A00...   \n",
       "1  Certain infectious and parasitic diseases (A00...   \n",
       "2  Certain infectious and parasitic diseases (A00...   \n",
       "3  Certain infectious and parasitic diseases (A00...   \n",
       "4  Certain infectious and parasitic diseases (A00...   \n",
       "\n",
       "                                            symptoms  \n",
       "0  Large amounts of watery diarrhea, vomiting, mu...  \n",
       "1                                           No Value  \n",
       "2                    Diarrhea, fever, abdominal pain  \n",
       "3                    Bloody diarrhea, abdominal pain  \n",
       "4  Chronic cough, fever, cough with bloody mucus,...  "
      ]
     },
     "execution_count": 12,
     "metadata": {},
     "output_type": "execute_result"
    }
   ],
   "source": [
    "df1 = df.drop_duplicates().dropna().reset_index(drop=True)\n",
    "df1.shape\n",
    "df1.head()"
   ]
  },
  {
   "cell_type": "code",
   "execution_count": 29,
   "metadata": {},
   "outputs": [],
   "source": [
    "df1 = df.dropna()\n",
    "df2 = df1[~(df1[\"symptoms\"] == \"No Value\")]\n",
    "df_grouped = df2.groupby(\"block_codes\").agg({\"symptoms\": lambda x: list(x)})"
   ]
  },
  {
   "cell_type": "code",
   "execution_count": 31,
   "metadata": {},
   "outputs": [
    {
     "data": {
      "text/html": [
       "<div>\n",
       "<style scoped>\n",
       "    .dataframe tbody tr th:only-of-type {\n",
       "        vertical-align: middle;\n",
       "    }\n",
       "\n",
       "    .dataframe tbody tr th {\n",
       "        vertical-align: top;\n",
       "    }\n",
       "\n",
       "    .dataframe thead th {\n",
       "        text-align: right;\n",
       "    }\n",
       "</style>\n",
       "<table border=\"1\" class=\"dataframe\">\n",
       "  <thead>\n",
       "    <tr style=\"text-align: right;\">\n",
       "      <th></th>\n",
       "      <th>symptoms</th>\n",
       "    </tr>\n",
       "    <tr>\n",
       "      <th>block_codes</th>\n",
       "      <th></th>\n",
       "    </tr>\n",
       "  </thead>\n",
       "  <tbody>\n",
       "    <tr>\n",
       "      <th>A00-A09</th>\n",
       "      <td>[Large amounts of watery diarrhea, vomiting, m...</td>\n",
       "    </tr>\n",
       "    <tr>\n",
       "      <th>A15-A19</th>\n",
       "      <td>[Chronic cough, fever, cough with bloody mucus...</td>\n",
       "    </tr>\n",
       "    <tr>\n",
       "      <th>A20-A28</th>\n",
       "      <td>[Fever, skin ulcer, large lymph nodes, Skin fo...</td>\n",
       "    </tr>\n",
       "    <tr>\n",
       "      <th>A30-A49</th>\n",
       "      <td>[Diarrhea, fever, headache, fever, cramped-up ...</td>\n",
       "    </tr>\n",
       "    <tr>\n",
       "      <th>A50-A64</th>\n",
       "      <td>[Firm, painless, non-itchy skin ulcer, Firm, p...</td>\n",
       "    </tr>\n",
       "    <tr>\n",
       "      <th>...</th>\n",
       "      <td>...</td>\n",
       "    </tr>\n",
       "    <tr>\n",
       "      <th>R10-R19</th>\n",
       "      <td>[Burning, stabbing, or squeezing sensation in ...</td>\n",
       "    </tr>\n",
       "    <tr>\n",
       "      <th>R30-R39</th>\n",
       "      <td>[Blood in the urine, Sudden onset: Inability t...</td>\n",
       "    </tr>\n",
       "    <tr>\n",
       "      <th>R50-R69</th>\n",
       "      <td>[fever; Hard, fixed, rapidly growing nodes, in...</td>\n",
       "    </tr>\n",
       "    <tr>\n",
       "      <th>S00-S09</th>\n",
       "      <td>[Physical, cognitive, sensory, social, emotion...</td>\n",
       "    </tr>\n",
       "    <tr>\n",
       "      <th>T33-T34</th>\n",
       "      <td>[Numbness, feeling cold, clumsiness, pale colo...</td>\n",
       "    </tr>\n",
       "  </tbody>\n",
       "</table>\n",
       "<p>110 rows × 1 columns</p>\n",
       "</div>"
      ],
      "text/plain": [
       "                                                      symptoms\n",
       "block_codes                                                   \n",
       "A00-A09      [Large amounts of watery diarrhea, vomiting, m...\n",
       "A15-A19      [Chronic cough, fever, cough with bloody mucus...\n",
       "A20-A28      [Fever, skin ulcer, large lymph nodes, Skin fo...\n",
       "A30-A49      [Diarrhea, fever, headache, fever, cramped-up ...\n",
       "A50-A64      [Firm, painless, non-itchy skin ulcer, Firm, p...\n",
       "...                                                        ...\n",
       "R10-R19      [Burning, stabbing, or squeezing sensation in ...\n",
       "R30-R39      [Blood in the urine, Sudden onset: Inability t...\n",
       "R50-R69      [fever; Hard, fixed, rapidly growing nodes, in...\n",
       "S00-S09      [Physical, cognitive, sensory, social, emotion...\n",
       "T33-T34      [Numbness, feeling cold, clumsiness, pale colo...\n",
       "\n",
       "[110 rows x 1 columns]"
      ]
     },
     "execution_count": 31,
     "metadata": {},
     "output_type": "execute_result"
    }
   ],
   "source": [
    "df_grouped"
   ]
  },
  {
   "cell_type": "code",
   "execution_count": null,
   "metadata": {},
   "outputs": [],
   "source": []
  }
 ],
 "metadata": {
  "kernelspec": {
   "display_name": "Python 3.10.6 ('nlp_masterthesis')",
   "language": "python",
   "name": "python3"
  },
  "language_info": {
   "codemirror_mode": {
    "name": "ipython",
    "version": 3
   },
   "file_extension": ".py",
   "mimetype": "text/x-python",
   "name": "python",
   "nbconvert_exporter": "python",
   "pygments_lexer": "ipython3",
   "version": "3.10.6"
  },
  "orig_nbformat": 4,
  "vscode": {
   "interpreter": {
    "hash": "6b1167c26af54c6340f890887cef801dce27ac37ff6fc6a99bb1eb896d088a43"
   }
  }
 },
 "nbformat": 4,
 "nbformat_minor": 2
}
