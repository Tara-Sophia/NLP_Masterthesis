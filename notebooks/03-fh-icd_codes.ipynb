{
 "cells": [
  {
   "cell_type": "code",
   "execution_count": 100,
   "metadata": {},
   "outputs": [],
   "source": [
    "import pandas as pd\n",
    "import os\n",
    "#https://github.com/sean5446/icd9scraper"
   ]
  },
  {
   "cell_type": "code",
   "execution_count": 138,
   "metadata": {},
   "outputs": [],
   "source": [
    "# For file in os.listdir('data/raw/'):\n",
    "MAX_TABS = 3\n",
    "\n",
    "for file in os.listdir(\"../data/raw/icd9\"):\n",
    "    if file.startswith((\"cleaned\", \"dataframe\")):\n",
    "        continue\n",
    "    \n",
    "    with open(f\"../data/raw/icd9/{file}\", \"r\") as f:\n",
    "        lines = f.readlines()\n",
    "    \n",
    "    with open(f\"../data/raw/icd9/cleaned_{file}\", \"w\") as f:\n",
    "        for line in lines:\n",
    "            tab_diff = MAX_TABS - line.count(\"\\t\")\n",
    "            if tab_diff > 0:\n",
    "                line = line.strip(\"\\n\") + \"\\t\" * tab_diff + \"\\n\"\n",
    "            f.write(line)\n",
    "            \n",
    "    df = pd.read_csv(f\"../data/raw/icd9/cleaned_{file}\", sep=\"\\t\", header=None, usecols= [0,1,2], names=[\"chapter_codes\", \"block_codes\", \"category_codes\"])\n",
    "    if df.chapter_codes.nunique() == 1:\n",
    "        if df.category_codes.isnull().all():\n",
    "            df.category_codes = df.block_codes\n",
    "        df[[\"chapter_codes\", \"block_codes\"]] = df[[\"chapter_codes\", \"block_codes\"]].ffill()\n",
    "        df = df.dropna().reset_index(drop=True)\n",
    "        df[[\"chapter_codes\", \"chapter_des\"]] = df[\"chapter_codes\"].str.split(\" \", n=1, expand=True)\n",
    "        df[[\"block_codes\", \"block_des\"]] = df[\"block_codes\"].str.split(\" \", n=1, expand=True)\n",
    "        df[[\"category_codes\", \"category_des\"]] = df[\"category_codes\"].str.split(\" \", n=1, expand=True)\n",
    "        df.to_csv(f\"../data/raw/icd9/dataframe_{file.strip('.txt')}.csv\", index=False)\n",
    "    else:\n",
    "        print(\"Problem\", file)"
   ]
  },
  {
   "cell_type": "code",
   "execution_count": 149,
   "metadata": {},
   "outputs": [],
   "source": [
    "df = pd.DataFrame()\n",
    "for file in os.listdir(\"../data/raw/icd9\"):\n",
    "    if file.startswith(\"dataframe\"):\n",
    "        df_part = pd.read_csv(f\"../data/raw/icd9/{file}\")\n",
    "        df = pd.concat([df, df_part], ignore_index=True)\n",
    "df.to_csv(\"../data/interim/icd9_codes_and_des.csv\", index=False)"
   ]
  },
  {
   "cell_type": "code",
   "execution_count": 145,
   "metadata": {},
   "outputs": [
    {
     "data": {
      "text/plain": [
       "(123, 6)"
      ]
     },
     "execution_count": 145,
     "metadata": {},
     "output_type": "execute_result"
    }
   ],
   "source": [
    "df.shape"
   ]
  },
  {
   "cell_type": "code",
   "execution_count": 94,
   "metadata": {},
   "outputs": [
    {
     "data": {
      "text/plain": [
       "array(['001-139 Infectious And Parasitic Diseases'], dtype=object)"
      ]
     },
     "execution_count": 94,
     "metadata": {},
     "output_type": "execute_result"
    }
   ],
   "source": [
    "df.chapter_codes.unique()"
   ]
  },
  {
   "cell_type": "code",
   "execution_count": 53,
   "metadata": {},
   "outputs": [],
   "source": [
    "from bs4 import BeautifulSoup, SoupStrainer\n",
    "import requests\n",
    "import re\n",
    "import unicodedata"
   ]
  },
  {
   "cell_type": "code",
   "execution_count": 69,
   "metadata": {},
   "outputs": [],
   "source": [
    "NHS_BASE = \"https://www.nhs.uk/conditions/\"\n",
    "\n",
    "def get_symptoms_from_nhs(url: str) -> str | None:\n",
    "    \"\"\"\n",
    "    Load symptoms from NHS\n",
    "\n",
    "    Parameters\n",
    "    ----------\n",
    "    url : str\n",
    "        URL to NHS page\n",
    "\n",
    "    Returns\n",
    "    -------\n",
    "    str | None\n",
    "        Either a string with symptoms, Message with error or None\n",
    "    \"\"\"\n",
    "    res = requests.get(url)\n",
    "    if res.status_code in range(200, 300):\n",
    "        soup = BeautifulSoup(\n",
    "            res.content,\n",
    "            \"lxml\",\n",
    "            parse_only=SoupStrainer(\"section\"),\n",
    "        )\n",
    "        symptoms_list_raw = soup.findAll(\"h2\")\n",
    "        for item in soup.find_all(\"h2\"):\n",
    "            if \"Symptoms\" not in item.text:\n",
    "                continue\n",
    "            else:\n",
    "                symptoms_list = item.find_next_siblings(\"ul\")[0]\n",
    "                text = \", \".join([li.text for li in symptoms_list.find_all(\"li\")])\n",
    "                text_cleaned = unicodedata.normalize(\"NFKD\", text)\n",
    "                return text_cleaned\n",
    "        else:\n",
    "            return f\"No Value\"\n",
    "    return None"
   ]
  },
  {
   "cell_type": "code",
   "execution_count": 72,
   "metadata": {},
   "outputs": [],
   "source": [
    "get_symptoms_from_nhs(\"https://www.nhs.uk/conditions/Histoplasmosis/\")"
   ]
  },
  {
   "cell_type": "code",
   "execution_count": null,
   "metadata": {},
   "outputs": [],
   "source": []
  }
 ],
 "metadata": {
  "kernelspec": {
   "display_name": "Python 3.10.6 ('nlp_masterthesis')",
   "language": "python",
   "name": "python3"
  },
  "language_info": {
   "codemirror_mode": {
    "name": "ipython",
    "version": 3
   },
   "file_extension": ".py",
   "mimetype": "text/x-python",
   "name": "python",
   "nbconvert_exporter": "python",
   "pygments_lexer": "ipython3",
   "version": "3.10.6"
  },
  "orig_nbformat": 4,
  "vscode": {
   "interpreter": {
    "hash": "40268d9a6ead8a84520c08d0b901e046bd2176336d854cc732bdbdbf7245879e"
   }
  }
 },
 "nbformat": 4,
 "nbformat_minor": 2
}
