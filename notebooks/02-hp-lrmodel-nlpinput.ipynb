{
 "cells": [
  {
   "cell_type": "code",
   "execution_count": 1,
   "metadata": {},
   "outputs": [
    {
     "name": "stderr",
     "output_type": "stream",
     "text": [
      "[nltk_data] Downloading package stopwords to\n",
      "[nltk_data]     /Users/hannahpetry/nltk_data...\n",
      "[nltk_data]   Package stopwords is already up-to-date!\n",
      "[nltk_data] Downloading package punkt to\n",
      "[nltk_data]     /Users/hannahpetry/nltk_data...\n",
      "[nltk_data]   Package punkt is already up-to-date!\n",
      "[nltk_data] Downloading package wordnet to\n",
      "[nltk_data]     /Users/hannahpetry/nltk_data...\n",
      "[nltk_data]   Package wordnet is already up-to-date!\n",
      "[nltk_data] Downloading package omw-1.4 to\n",
      "[nltk_data]     /Users/hannahpetry/nltk_data...\n",
      "[nltk_data]   Package omw-1.4 is already up-to-date!\n"
     ]
    }
   ],
   "source": [
    "## Import Libraries\n",
    "\n",
    "import pandas as pd\n",
    "import numpy as np\n",
    "import string\n",
    "import re\n",
    "import nltk\n",
    "\n",
    "from sklearn.linear_model import LogisticRegression\n",
    "from sklearn.model_selection import train_test_split, cross_validate\n",
    "from sklearn.model_selection import GridSearchCV\n",
    "\n",
    "from sklearn.base import BaseEstimator, TransformerMixin\n",
    "from sklearn.pipeline import Pipeline\n",
    "from sklearn.preprocessing import StandardScaler\n",
    "from sklearn.impute import SimpleImputer\n",
    "from sklearn.preprocessing import FunctionTransformer\n",
    "from sklearn.preprocessing import OneHotEncoder\n",
    "from sklearn.compose import ColumnTransformer\n",
    "from sklearn.pipeline import FeatureUnion\n",
    "\n",
    "\n",
    "from sklearn.feature_extraction.text import TfidfVectorizer\n",
    "from sklearn.decomposition import PCA\n",
    "\n",
    "from sklearn.metrics import confusion_matrix\n",
    "from sklearn.metrics import classification_report\n",
    "from sklearn.metrics import roc_auc_score\n",
    "from sklearn.metrics import cohen_kappa_score\n",
    "from sklearn.manifold import TSNE    \n",
    "\n",
    "from nltk.corpus import stopwords\n",
    "nltk.download('stopwords')\n",
    "nltk.download('punkt')\n",
    "\n",
    "nltk.download('wordnet')\n",
    "nltk.download('omw-1.4')\n",
    "from nltk import word_tokenize\n",
    "from nltk.stem import WordNetLemmatizer\n",
    "\n",
    "from imblearn.over_sampling import SMOTE\n"
   ]
  },
  {
   "cell_type": "code",
   "execution_count": 2,
   "metadata": {},
   "outputs": [],
   "source": [
    "# load data\n",
    "df = pd.read_csv('../data/raw/mtsamples.csv')\n",
    "df.transcription=df.transcription.astype(str)"
   ]
  },
  {
   "cell_type": "code",
   "execution_count": 3,
   "metadata": {},
   "outputs": [
    {
     "name": "stdout",
     "output_type": "stream",
     "text": [
      "Number of rows after removing medical specialties with less than 50 samples: 2976\n"
     ]
    },
    {
     "data": {
      "text/html": [
       "<div>\n",
       "<style scoped>\n",
       "    .dataframe tbody tr th:only-of-type {\n",
       "        vertical-align: middle;\n",
       "    }\n",
       "\n",
       "    .dataframe tbody tr th {\n",
       "        vertical-align: top;\n",
       "    }\n",
       "\n",
       "    .dataframe thead th {\n",
       "        text-align: right;\n",
       "    }\n",
       "</style>\n",
       "<table border=\"1\" class=\"dataframe\">\n",
       "  <thead>\n",
       "    <tr style=\"text-align: right;\">\n",
       "      <th></th>\n",
       "      <th>transcription</th>\n",
       "      <th>medical_specialty</th>\n",
       "      <th>transcription_c</th>\n",
       "    </tr>\n",
       "  </thead>\n",
       "  <tbody>\n",
       "    <tr>\n",
       "      <th>3</th>\n",
       "      <td>2-D M-MODE: , ,1.  Left atrial enlargement wit...</td>\n",
       "      <td>Cardiovascular / Pulmonary</td>\n",
       "      <td>[2d, mmode, 1, left, atrial, enlargement, left...</td>\n",
       "    </tr>\n",
       "    <tr>\n",
       "      <th>4</th>\n",
       "      <td>1.  The left ventricular cavity size and wall ...</td>\n",
       "      <td>Cardiovascular / Pulmonary</td>\n",
       "      <td>[1, left, ventricular, cavity, size, wall, thi...</td>\n",
       "    </tr>\n",
       "  </tbody>\n",
       "</table>\n",
       "</div>"
      ],
      "text/plain": [
       "                                       transcription  \\\n",
       "3  2-D M-MODE: , ,1.  Left atrial enlargement wit...   \n",
       "4  1.  The left ventricular cavity size and wall ...   \n",
       "\n",
       "             medical_specialty  \\\n",
       "3   Cardiovascular / Pulmonary   \n",
       "4   Cardiovascular / Pulmonary   \n",
       "\n",
       "                                     transcription_c  \n",
       "3  [2d, mmode, 1, left, atrial, enlargement, left...  \n",
       "4  [1, left, ventricular, cavity, size, wall, thi...  "
      ]
     },
     "execution_count": 3,
     "metadata": {},
     "output_type": "execute_result"
    }
   ],
   "source": [
    "# remove rows with missing values\n",
    "def clean_df(data):\n",
    "    df = data.dropna().drop_duplicates() \n",
    "    # drop rows where medical specialty appears less than 100 times\n",
    "    df = df[df.groupby(\"medical_specialty\")[\"medical_specialty\"].transform('size') > 100]\n",
    "    print(\"Number of rows after removing medical specialties with less than 50 samples:\", len(df.index))\n",
    "    # remove unnecessary columns, only keep transcriptions and medical_specialty columns\n",
    "    return df[['transcription', 'medical_specialty']]\n",
    "\n",
    "\n",
    "# remove punctuation and lowercase and lemmatizer\n",
    "stop = stopwords.words('english')\n",
    "lemmatizer = WordNetLemmatizer()\n",
    "\n",
    "def remove_punct_lower(data):\n",
    "    '''remove punctuation and lowercase'''\n",
    "    data[\"transcription_c\"] = data[\"transcription\"].apply(lambda x: x.lower().translate(str.maketrans('','', string.punctuation)))\n",
    "    return data\n",
    "\n",
    "def lemmatize_words(data):\n",
    "    '''lemmatize words, remove stopwords'''\n",
    "    data[\"transcription_c\"] = data[\"transcription_c\"].apply(lambda x: [lemmatizer.lemmatize(x) for x in word_tokenize(x) if x not in (stop)])\n",
    "    return data\n",
    " \n",
    "\n",
    "\n",
    "#apply on dataset\n",
    "df_m = clean_df(df)\n",
    "df_test = remove_punct_lower(df_m)\n",
    "df_test = lemmatize_words(df_test)\n",
    "\n",
    "\n",
    "df_test.head(2)"
   ]
  },
  {
   "cell_type": "code",
   "execution_count": 1,
   "metadata": {},
   "outputs": [
    {
     "name": "stdout",
     "output_type": "stream",
     "text": [
      "Processing /Users/hannahpetry/Desktop/Work Project/NLP_Masterthesis/data/en_ner_bionlp13cg_md-0.5.1\n",
      "  Preparing metadata (setup.py) ... \u001b[?25ldone\n",
      "\u001b[?25hRequirement already satisfied: spacy<3.5.0,>=3.4.1 in /Users/hannahpetry/opt/anaconda3/envs/nlp_masterthesis/lib/python3.10/site-packages (from en-ner-bionlp13cg-md==0.5.1) (3.4.1)\n",
      "Requirement already satisfied: srsly<3.0.0,>=2.4.3 in /Users/hannahpetry/opt/anaconda3/envs/nlp_masterthesis/lib/python3.10/site-packages (from spacy<3.5.0,>=3.4.1->en-ner-bionlp13cg-md==0.5.1) (2.4.4)\n",
      "Requirement already satisfied: wasabi<1.1.0,>=0.9.1 in /Users/hannahpetry/opt/anaconda3/envs/nlp_masterthesis/lib/python3.10/site-packages (from spacy<3.5.0,>=3.4.1->en-ner-bionlp13cg-md==0.5.1) (0.10.1)\n",
      "Requirement already satisfied: setuptools in /Users/hannahpetry/opt/anaconda3/envs/nlp_masterthesis/lib/python3.10/site-packages (from spacy<3.5.0,>=3.4.1->en-ner-bionlp13cg-md==0.5.1) (65.4.0)\n",
      "Requirement already satisfied: spacy-loggers<2.0.0,>=1.0.0 in /Users/hannahpetry/opt/anaconda3/envs/nlp_masterthesis/lib/python3.10/site-packages (from spacy<3.5.0,>=3.4.1->en-ner-bionlp13cg-md==0.5.1) (1.0.3)\n",
      "Requirement already satisfied: thinc<8.2.0,>=8.1.0 in /Users/hannahpetry/opt/anaconda3/envs/nlp_masterthesis/lib/python3.10/site-packages (from spacy<3.5.0,>=3.4.1->en-ner-bionlp13cg-md==0.5.1) (8.1.2)\n",
      "Requirement already satisfied: catalogue<2.1.0,>=2.0.6 in /Users/hannahpetry/opt/anaconda3/envs/nlp_masterthesis/lib/python3.10/site-packages (from spacy<3.5.0,>=3.4.1->en-ner-bionlp13cg-md==0.5.1) (2.0.8)\n",
      "Requirement already satisfied: pathy>=0.3.5 in /Users/hannahpetry/opt/anaconda3/envs/nlp_masterthesis/lib/python3.10/site-packages (from spacy<3.5.0,>=3.4.1->en-ner-bionlp13cg-md==0.5.1) (0.6.2)\n",
      "Requirement already satisfied: typer<0.5.0,>=0.3.0 in /Users/hannahpetry/opt/anaconda3/envs/nlp_masterthesis/lib/python3.10/site-packages (from spacy<3.5.0,>=3.4.1->en-ner-bionlp13cg-md==0.5.1) (0.4.2)\n",
      "Requirement already satisfied: jinja2 in /Users/hannahpetry/opt/anaconda3/envs/nlp_masterthesis/lib/python3.10/site-packages (from spacy<3.5.0,>=3.4.1->en-ner-bionlp13cg-md==0.5.1) (3.1.2)\n",
      "Requirement already satisfied: spacy-legacy<3.1.0,>=3.0.9 in /Users/hannahpetry/opt/anaconda3/envs/nlp_masterthesis/lib/python3.10/site-packages (from spacy<3.5.0,>=3.4.1->en-ner-bionlp13cg-md==0.5.1) (3.0.10)\n",
      "Requirement already satisfied: preshed<3.1.0,>=3.0.2 in /Users/hannahpetry/opt/anaconda3/envs/nlp_masterthesis/lib/python3.10/site-packages (from spacy<3.5.0,>=3.4.1->en-ner-bionlp13cg-md==0.5.1) (3.0.7)\n",
      "Requirement already satisfied: tqdm<5.0.0,>=4.38.0 in /Users/hannahpetry/opt/anaconda3/envs/nlp_masterthesis/lib/python3.10/site-packages (from spacy<3.5.0,>=3.4.1->en-ner-bionlp13cg-md==0.5.1) (4.64.1)\n",
      "Requirement already satisfied: packaging>=20.0 in /Users/hannahpetry/opt/anaconda3/envs/nlp_masterthesis/lib/python3.10/site-packages (from spacy<3.5.0,>=3.4.1->en-ner-bionlp13cg-md==0.5.1) (21.3)\n",
      "Requirement already satisfied: cymem<2.1.0,>=2.0.2 in /Users/hannahpetry/opt/anaconda3/envs/nlp_masterthesis/lib/python3.10/site-packages (from spacy<3.5.0,>=3.4.1->en-ner-bionlp13cg-md==0.5.1) (2.0.6)\n",
      "Requirement already satisfied: langcodes<4.0.0,>=3.2.0 in /Users/hannahpetry/opt/anaconda3/envs/nlp_masterthesis/lib/python3.10/site-packages (from spacy<3.5.0,>=3.4.1->en-ner-bionlp13cg-md==0.5.1) (3.3.0)\n",
      "Requirement already satisfied: murmurhash<1.1.0,>=0.28.0 in /Users/hannahpetry/opt/anaconda3/envs/nlp_masterthesis/lib/python3.10/site-packages (from spacy<3.5.0,>=3.4.1->en-ner-bionlp13cg-md==0.5.1) (1.0.8)\n",
      "Requirement already satisfied: pydantic!=1.8,!=1.8.1,<1.10.0,>=1.7.4 in /Users/hannahpetry/opt/anaconda3/envs/nlp_masterthesis/lib/python3.10/site-packages (from spacy<3.5.0,>=3.4.1->en-ner-bionlp13cg-md==0.5.1) (1.9.2)\n",
      "Requirement already satisfied: numpy>=1.15.0 in /Users/hannahpetry/opt/anaconda3/envs/nlp_masterthesis/lib/python3.10/site-packages (from spacy<3.5.0,>=3.4.1->en-ner-bionlp13cg-md==0.5.1) (1.23.3)\n",
      "Requirement already satisfied: requests<3.0.0,>=2.13.0 in /Users/hannahpetry/opt/anaconda3/envs/nlp_masterthesis/lib/python3.10/site-packages (from spacy<3.5.0,>=3.4.1->en-ner-bionlp13cg-md==0.5.1) (2.28.1)\n",
      "Requirement already satisfied: pyparsing!=3.0.5,>=2.0.2 in /Users/hannahpetry/opt/anaconda3/envs/nlp_masterthesis/lib/python3.10/site-packages (from packaging>=20.0->spacy<3.5.0,>=3.4.1->en-ner-bionlp13cg-md==0.5.1) (3.0.9)\n",
      "Requirement already satisfied: smart-open<6.0.0,>=5.2.1 in /Users/hannahpetry/opt/anaconda3/envs/nlp_masterthesis/lib/python3.10/site-packages (from pathy>=0.3.5->spacy<3.5.0,>=3.4.1->en-ner-bionlp13cg-md==0.5.1) (5.2.1)\n",
      "Requirement already satisfied: typing-extensions>=3.7.4.3 in /Users/hannahpetry/opt/anaconda3/envs/nlp_masterthesis/lib/python3.10/site-packages (from pydantic!=1.8,!=1.8.1,<1.10.0,>=1.7.4->spacy<3.5.0,>=3.4.1->en-ner-bionlp13cg-md==0.5.1) (4.3.0)\n",
      "Requirement already satisfied: certifi>=2017.4.17 in /Users/hannahpetry/opt/anaconda3/envs/nlp_masterthesis/lib/python3.10/site-packages (from requests<3.0.0,>=2.13.0->spacy<3.5.0,>=3.4.1->en-ner-bionlp13cg-md==0.5.1) (2022.9.24)\n",
      "Requirement already satisfied: urllib3<1.27,>=1.21.1 in /Users/hannahpetry/opt/anaconda3/envs/nlp_masterthesis/lib/python3.10/site-packages (from requests<3.0.0,>=2.13.0->spacy<3.5.0,>=3.4.1->en-ner-bionlp13cg-md==0.5.1) (1.26.11)\n",
      "Requirement already satisfied: charset-normalizer<3,>=2 in /Users/hannahpetry/opt/anaconda3/envs/nlp_masterthesis/lib/python3.10/site-packages (from requests<3.0.0,>=2.13.0->spacy<3.5.0,>=3.4.1->en-ner-bionlp13cg-md==0.5.1) (2.1.1)\n",
      "Requirement already satisfied: idna<4,>=2.5 in /Users/hannahpetry/opt/anaconda3/envs/nlp_masterthesis/lib/python3.10/site-packages (from requests<3.0.0,>=2.13.0->spacy<3.5.0,>=3.4.1->en-ner-bionlp13cg-md==0.5.1) (3.3)\n",
      "Requirement already satisfied: blis<0.8.0,>=0.7.8 in /Users/hannahpetry/opt/anaconda3/envs/nlp_masterthesis/lib/python3.10/site-packages (from thinc<8.2.0,>=8.1.0->spacy<3.5.0,>=3.4.1->en-ner-bionlp13cg-md==0.5.1) (0.7.8)\n",
      "Requirement already satisfied: confection<1.0.0,>=0.0.1 in /Users/hannahpetry/opt/anaconda3/envs/nlp_masterthesis/lib/python3.10/site-packages (from thinc<8.2.0,>=8.1.0->spacy<3.5.0,>=3.4.1->en-ner-bionlp13cg-md==0.5.1) (0.0.2)\n",
      "Requirement already satisfied: click<9.0.0,>=7.1.1 in /Users/hannahpetry/opt/anaconda3/envs/nlp_masterthesis/lib/python3.10/site-packages (from typer<0.5.0,>=0.3.0->spacy<3.5.0,>=3.4.1->en-ner-bionlp13cg-md==0.5.1) (8.1.3)\n",
      "Requirement already satisfied: MarkupSafe>=2.0 in /Users/hannahpetry/opt/anaconda3/envs/nlp_masterthesis/lib/python3.10/site-packages (from jinja2->spacy<3.5.0,>=3.4.1->en-ner-bionlp13cg-md==0.5.1) (2.1.1)\n",
      "Building wheels for collected packages: en-ner-bionlp13cg-md\n",
      "  Building wheel for en-ner-bionlp13cg-md (setup.py) ... \u001b[?25ldone\n",
      "\u001b[?25h  Created wheel for en-ner-bionlp13cg-md: filename=en_ner_bionlp13cg_md-0.5.1-py3-none-any.whl size=120241147 sha256=a129e3af6632c973998a4e4c1ed6847eefa021aa97916119d25140e0c1a8d344\n",
      "  Stored in directory: /Users/hannahpetry/Library/Caches/pip/wheels/ba/dc/7b/d8d45322e45cc36e3226aef67695c2eaa65d737e0def574ef2\n",
      "Successfully built en-ner-bionlp13cg-md\n",
      "Installing collected packages: en-ner-bionlp13cg-md\n",
      "Successfully installed en-ner-bionlp13cg-md-0.5.1\n"
     ]
    }
   ],
   "source": [
    "!pip3 install ../data/en_ner_bionlp13cg_md-0.5.1"
   ]
  },
  {
   "cell_type": "code",
   "execution_count": 4,
   "metadata": {},
   "outputs": [],
   "source": [
    "# NLP with Spacy\n",
    "import spacy\n",
    "import en_ner_bionlp13cg_md\n",
    "nlp = en_ner_bionlp13cg_md.load()\n",
    "def medical_entities( text):\n",
    "    entities = []\n",
    "    doc = nlp(text)\n",
    "    for ent in doc.ents:\n",
    "        entities.append(ent.text)\n",
    "    return set(entities)#' ,'.join(entities)\n",
    "\n",
    "\n",
    "df_test['transcription_c'] = [','.join(map(str, l)) for l in df_test['transcription_c']]\n",
    "df_test['transcription_f'] = df_test['transcription_c'].apply(medical_entities)\n",
    "df_test.head()"
   ]
  },
  {
   "cell_type": "code",
   "execution_count": 15,
   "metadata": {},
   "outputs": [
    {
     "data": {
      "text/plain": [
       "3       {'valve', 'left', 'pulmonary', 'ventricular', ...\n",
       "4       {'leaflet', 'ventricle', 'valve', 'left', 'atr...\n",
       "7       {'aorta', 'valve', 'vessel', 'left', 'atrium',...\n",
       "9       {'valve', 'left', 'ventricular', 'cardiac', 'm...\n",
       "11      {'ventricle', 'left', 'ventricular', 'heart', ...\n",
       "                              ...                        \n",
       "4967    {'circumflex', 'aorta', 'renal', 'pda', 'pci',...\n",
       "4968    {'aspirin', 'vessel', 'myocardial', 'femoral',...\n",
       "4971    {'blood', 'ear', 'valve', 'fat', 'muscle', 'an...\n",
       "4972    {'adenosine', 'nuclear', 'myocardial', 'patien...\n",
       "4975    {'circumflex', 'pci', 'lipid', 'gerd', 'left',...\n",
       "Name: transcription_f, Length: 2976, dtype: object"
      ]
     },
     "execution_count": 15,
     "metadata": {},
     "output_type": "execute_result"
    }
   ],
   "source": [
    "df_test.transcription_f = df_test.transcription_f.astype(str)\n",
    "df_test.transcription_f"
   ]
  },
  {
   "cell_type": "code",
   "execution_count": 42,
   "metadata": {},
   "outputs": [],
   "source": [
    "# create sparse matrix from transcription_f\n",
    "from sklearn.feature_extraction.text import CountVectorizer\n",
    "vectorizer = CountVectorizer()\n",
    "X = vectorizer.fit_transform(df_test.transcription_f)\n",
    "X.shape"
   ]
  },
  {
   "cell_type": "code",
   "execution_count": 20,
   "metadata": {},
   "outputs": [],
   "source": [
    "# Create X and y and apply PCA to reduce dimensionality of features\n",
    "pca = PCA(n_components=0.95)\n",
    "X_reduced = pca.fit_transform(X.toarray())\n",
    "\n",
    "labels = df_test['medical_specialty'].tolist()"
   ]
  },
  {
   "cell_type": "code",
   "execution_count": 18,
   "metadata": {},
   "outputs": [],
   "source": [
    "# Create a class to select numerical or categorical columns \n",
    "class DataFrameSelector(BaseEstimator, TransformerMixin):\n",
    "    def __init__(self, attribute_names):\n",
    "        self.attribute_names = attribute_names\n",
    "    def fit(self, X, y=None):\n",
    "        return self\n",
    "    def transform(self, X):\n",
    "        return X[self.attribute_names].values"
   ]
  },
  {
   "cell_type": "code",
   "execution_count": 22,
   "metadata": {},
   "outputs": [],
   "source": [
    "# balance out dataset with SMOTE, creates synthetic samples of the minority classes\n",
    "sm = SMOTE(random_state=42)\n",
    "X_res, y_res = sm.fit_resample(X_reduced, labels)"
   ]
  },
  {
   "cell_type": "code",
   "execution_count": 23,
   "metadata": {},
   "outputs": [],
   "source": [
    "# Split data into train and test\n",
    "X_train, X_test, y_train, y_test = train_test_split(X_res, y_res, test_size=0.2, random_state=42)"
   ]
  },
  {
   "cell_type": "code",
   "execution_count": 32,
   "metadata": {},
   "outputs": [
    {
     "data": {
      "text/plain": [
       "array([-4.34820911e-01,  6.68776328e-03, -1.28454321e-01,  7.44763340e-02,\n",
       "       -3.44758818e-01, -1.44428561e-01, -3.88738610e-01,  4.94252272e-02,\n",
       "       -1.73732458e-01,  8.38048048e-02, -1.77862686e-01,  2.38298785e-01,\n",
       "        1.94435230e-02,  6.41385034e-02, -2.84700610e-01, -1.39052728e-01,\n",
       "       -9.10709880e-02,  2.12939874e-01,  1.10218743e-01, -1.68883868e-01,\n",
       "       -1.35890025e-01,  1.57306588e-01, -3.21620266e-01, -1.87088680e-02,\n",
       "        1.15582312e-02,  7.15980271e-02, -1.69883929e-01,  9.18846711e-03,\n",
       "       -2.56293104e-02, -1.42826306e-01, -4.00022547e-02,  3.68075146e-02,\n",
       "       -1.63720010e-01,  8.35029924e-02, -2.20042889e-02, -1.18925634e-01,\n",
       "        1.33769794e-01, -3.32818852e-02, -2.17475167e-02,  7.83101464e-02,\n",
       "       -1.61152854e-02,  4.54026459e-02,  1.79046161e-03,  4.90780467e-02,\n",
       "        7.27214300e-03,  6.97923699e-03, -1.02939863e-01, -8.05790664e-02,\n",
       "        1.58912746e-02,  1.84456891e-02, -2.04731526e-02, -2.10138895e-04,\n",
       "        2.95129910e-01,  2.09689576e-02, -4.01669673e-02,  2.82500121e-01,\n",
       "       -6.18914757e-02,  1.34678005e-01,  1.29868561e-01, -2.11060281e-02,\n",
       "        1.06886575e-01,  9.82759181e-02, -6.73836735e-02,  3.22628329e-02,\n",
       "        2.79076327e-03, -1.59267119e-02,  1.96273601e-01, -9.44457347e-02,\n",
       "       -8.90387379e-03, -3.53619710e-02, -6.34212727e-02, -1.40598398e-01,\n",
       "       -7.13537362e-02, -4.08870309e-02,  2.50193516e-02,  1.12298398e-01,\n",
       "       -6.11538858e-02,  1.53404807e-01, -7.99062742e-02, -3.44914798e-02,\n",
       "        7.21511563e-02,  1.32849688e-02,  1.48544508e-01, -4.34109220e-02,\n",
       "        1.50635270e-02, -7.40123522e-02, -9.29179402e-02, -5.61278585e-02,\n",
       "       -2.02834085e-02, -1.37147650e-02, -4.25438962e-02,  1.05303209e-02,\n",
       "       -2.55175843e-02, -1.54768430e-02,  3.90122755e-03, -4.01851253e-02,\n",
       "        3.13990264e-03, -1.07168708e-02,  1.13886349e-01,  1.02640210e-02,\n",
       "       -4.78955637e-02, -3.39027904e-02, -4.84722009e-02, -1.73976996e-02,\n",
       "       -4.18081002e-02,  1.25283679e-02,  4.10205711e-02,  9.23448398e-02,\n",
       "        4.05508360e-03, -3.91465737e-02, -6.54749807e-02, -6.26160727e-03,\n",
       "        3.33375483e-02,  8.65613122e-04,  3.26696260e-02, -2.81241497e-02,\n",
       "        1.31251214e-01, -2.21449418e-02, -8.53816323e-03,  6.11906729e-04,\n",
       "        7.09204345e-03, -5.72409541e-03,  3.50418878e-03,  2.63228723e-02,\n",
       "        1.37053997e-02,  2.63336628e-02, -3.82352500e-02,  2.96735082e-02,\n",
       "       -4.68356192e-02, -6.34808280e-02,  1.97129522e-02,  5.07161288e-02,\n",
       "       -1.69577978e-02,  1.04670607e-02,  4.79136846e-02, -8.91398478e-02,\n",
       "       -5.07998992e-02, -8.40574769e-02, -7.73056254e-02,  4.67689041e-02,\n",
       "       -1.83473929e-02,  5.85429740e-02, -3.85992845e-02, -1.01897590e-01,\n",
       "        9.93484832e-02,  1.29294400e-01, -1.26236293e-01,  4.55948804e-02,\n",
       "       -5.02967802e-02, -2.16844184e-02,  3.39424151e-02,  1.54251416e-02,\n",
       "       -3.75895823e-02, -2.42663364e-02, -4.88278279e-02, -5.46010436e-02,\n",
       "       -4.63638452e-02, -3.08554628e-02,  3.34818963e-02, -4.34961941e-02,\n",
       "        7.94450081e-02, -4.12683160e-02,  5.28866496e-02, -6.85844856e-02,\n",
       "       -5.04059591e-04,  8.62814701e-02, -6.37845982e-03,  4.10420895e-02,\n",
       "       -1.23099834e-02, -2.38128782e-02, -8.42807641e-02,  2.55749719e-03,\n",
       "        6.42396999e-02, -5.50691827e-02,  4.25179389e-02, -4.41692626e-02,\n",
       "        7.15758911e-03,  6.15642392e-02, -4.19714810e-02,  1.61109185e-02,\n",
       "       -5.86267057e-02, -2.46264474e-02, -3.55260682e-02, -3.52965533e-04,\n",
       "        5.07099767e-03, -4.35460070e-02,  5.51151665e-02,  2.50495736e-02,\n",
       "       -1.81842633e-02,  2.36650530e-02,  1.04202686e-02,  1.57040467e-02,\n",
       "       -6.66433850e-02,  3.77990761e-02, -1.26461605e-02, -2.48754173e-02,\n",
       "       -6.28863132e-03, -1.87732661e-02, -2.56107982e-02, -2.13448697e-02,\n",
       "       -5.59078885e-02, -4.02261611e-02,  1.24477171e-02,  3.51871637e-02,\n",
       "       -4.88272250e-02, -3.30058785e-02, -9.82707821e-03,  5.19433209e-02,\n",
       "        4.30380261e-02, -2.98365478e-03,  5.13254083e-02,  4.22812155e-02,\n",
       "        1.90197321e-02,  4.37736957e-02, -3.97224628e-03,  3.18155305e-02,\n",
       "       -3.66731707e-02,  5.65904038e-03, -3.06254528e-02,  3.06827234e-02,\n",
       "       -3.31790380e-02, -1.84019823e-02, -5.01446231e-03, -1.78036364e-02,\n",
       "       -4.74887810e-03,  6.18948148e-02,  2.28535433e-02, -3.72591809e-02,\n",
       "       -2.66454102e-02, -3.07350581e-02,  2.31757143e-02,  1.83141709e-02,\n",
       "        2.08072096e-02,  3.52156025e-04, -5.93493491e-03, -1.63657255e-02,\n",
       "       -5.95346361e-02, -1.82172864e-03, -3.65568351e-02,  3.54706665e-02,\n",
       "       -3.01514720e-02,  6.63508166e-02,  1.71968656e-02, -3.59226766e-03,\n",
       "        3.08327520e-02, -9.44728527e-03,  2.48086113e-02, -3.57848283e-03,\n",
       "        3.75110002e-02,  1.77251300e-02, -3.38672311e-02, -1.18760924e-02,\n",
       "       -1.19448182e-03, -3.63943571e-02,  2.37838400e-02,  2.97909767e-02,\n",
       "       -9.99563930e-03,  2.10314725e-02, -3.03808965e-02, -2.76265698e-02,\n",
       "       -4.78102329e-02,  1.25026349e-03,  2.58174628e-02, -1.91255308e-02,\n",
       "        9.69316950e-03,  2.34427793e-02,  1.39853100e-04, -6.47503267e-03,\n",
       "       -8.57187838e-04,  3.51629676e-02, -3.65062726e-02, -1.70163853e-02,\n",
       "       -3.11800295e-02,  2.22317378e-02, -1.60370836e-02,  7.88357725e-03,\n",
       "       -8.80081669e-03,  1.08710253e-01,  4.14501764e-02, -6.66629381e-03,\n",
       "       -1.05694763e-02,  1.56901421e-03,  3.67167381e-02,  6.51864979e-02,\n",
       "       -2.90244465e-03, -4.01704657e-02,  3.93063191e-02, -2.53513011e-02,\n",
       "       -1.26154598e-03, -5.22285625e-02,  2.44377064e-02, -4.80921721e-02,\n",
       "       -1.57185023e-02,  6.56071189e-03,  1.19079528e-02,  4.76359741e-03,\n",
       "       -6.06013781e-02,  2.94706377e-02, -1.52412135e-02,  7.89688765e-03,\n",
       "        1.51343063e-02, -1.70554326e-02, -3.12039729e-02, -5.35558513e-02,\n",
       "        1.39318981e-02,  1.16931311e-02, -2.07269542e-03,  1.17324148e-02,\n",
       "       -7.78407727e-02, -6.87522206e-03, -3.77500598e-02, -3.67229486e-02,\n",
       "        1.32759618e-02,  2.60640370e-03,  4.05218704e-02,  5.47187652e-02,\n",
       "        1.90901941e-02, -5.87886378e-03,  2.63329780e-02,  7.85338262e-03,\n",
       "       -1.56743773e-02, -1.42254667e-02,  3.57404462e-02, -4.38860410e-02,\n",
       "        2.89479156e-02,  5.90776285e-03,  2.51612423e-03, -1.51874807e-02,\n",
       "       -3.90040133e-02, -4.24886620e-02, -3.29164857e-02,  8.06176055e-04,\n",
       "        2.85760541e-03, -5.10706876e-03,  4.44844798e-02,  2.08810640e-02,\n",
       "        2.06604558e-02,  8.82962506e-03,  4.22642034e-02, -2.40142242e-02,\n",
       "        2.11857489e-03,  3.22938959e-02,  2.18831971e-02,  2.11180536e-02,\n",
       "       -1.76356003e-02, -2.59374027e-02, -1.17104204e-02, -7.29160132e-03,\n",
       "        2.05082053e-02, -2.90981436e-02, -1.08220949e-02, -8.80124072e-03,\n",
       "       -4.81985338e-02, -1.96414164e-02,  1.28467923e-02,  4.03858624e-03,\n",
       "       -3.31356205e-02, -4.72976835e-02, -2.82528732e-02,  1.36183295e-02,\n",
       "       -3.94864358e-02,  9.78072125e-03,  3.55265998e-03, -4.80346473e-02,\n",
       "       -5.86321535e-04, -3.17097536e-02,  6.40637300e-03, -8.23573571e-03,\n",
       "        1.61680762e-02, -2.74845886e-02,  3.03777706e-02, -1.81883498e-02,\n",
       "        2.93490150e-03,  8.16182978e-03,  2.82995762e-02, -6.31988377e-03,\n",
       "        2.46327767e-02,  5.29720287e-03, -6.48821829e-03, -2.49094948e-02,\n",
       "       -4.97071162e-02,  4.84691055e-03,  1.21870555e-02, -5.75563206e-02,\n",
       "        2.41955120e-02,  1.63742774e-02, -1.04101423e-02, -2.09877989e-02,\n",
       "        2.41653047e-04, -1.00986987e-02,  1.40423335e-03,  1.03716882e-02,\n",
       "        3.86062990e-02,  2.87451360e-02,  5.02115916e-03,  4.22941238e-02,\n",
       "        3.96883512e-02, -2.28393935e-03,  4.43512324e-02,  1.46473384e-02,\n",
       "        3.59674944e-02,  8.88515709e-03, -6.45174786e-03, -7.98007703e-03,\n",
       "        6.39604228e-03,  2.94125935e-02, -6.15629883e-03, -2.04793119e-02,\n",
       "        2.15933908e-02,  3.35688964e-02,  1.74952250e-02,  1.65982395e-02,\n",
       "        1.45207311e-02, -9.55283685e-03, -5.50003891e-03, -1.79385164e-03,\n",
       "       -2.90603968e-02, -2.54123552e-02, -8.32109404e-03,  5.68224446e-03,\n",
       "        1.20955699e-02, -6.78028225e-03, -5.62887253e-03, -2.91720419e-02,\n",
       "        1.04302293e-02,  1.98537195e-02, -2.86597807e-03,  2.83959616e-02,\n",
       "        1.46554965e-02, -1.64533437e-02, -5.03648866e-03,  2.96584031e-03,\n",
       "        1.65013961e-02, -3.85916714e-02, -1.23834653e-02, -3.01925474e-02,\n",
       "       -4.18287590e-02, -1.09338040e-02,  1.73059445e-02, -1.72549182e-02,\n",
       "        5.24904121e-03, -1.81532046e-02,  1.94834914e-02,  2.98846357e-02,\n",
       "       -2.62914580e-04,  2.66999322e-02, -2.54201066e-03, -2.37883581e-02,\n",
       "        2.35913340e-03,  2.83152989e-03, -9.56211314e-03, -7.33581853e-03,\n",
       "        2.60631896e-02,  1.01990870e-02, -4.05148595e-02,  3.88191231e-02,\n",
       "        1.54659993e-02,  8.26978021e-03,  1.19263937e-02,  2.88477723e-03,\n",
       "       -3.13119890e-02,  2.95434948e-03,  1.48213652e-02, -2.76755140e-02,\n",
       "        1.28112576e-02,  9.64953968e-04, -4.63263571e-03,  3.13811484e-02,\n",
       "        3.36762397e-02, -1.62353249e-02, -3.20844632e-02,  4.37318238e-03,\n",
       "        1.45474075e-02,  1.57274113e-02, -1.41935990e-02, -2.23611845e-02,\n",
       "        3.22906238e-02,  3.75980054e-03,  2.22615543e-02,  2.30410140e-03,\n",
       "       -2.07979528e-02,  3.01359670e-02,  1.45366574e-02,  2.06086898e-02,\n",
       "       -1.57996858e-02, -1.91129487e-02, -1.32412332e-02,  1.57384087e-02,\n",
       "       -7.29184254e-03,  3.59568580e-02,  2.00541734e-02, -8.65708621e-03,\n",
       "       -2.04358180e-02, -1.90010750e-02,  3.11087155e-03,  1.18467381e-02,\n",
       "       -2.05919484e-02, -8.88893989e-03,  5.92128746e-03, -2.05591747e-03,\n",
       "        1.63525736e-02,  1.33595271e-02, -2.55023486e-02,  1.25324968e-03,\n",
       "        1.17904895e-02,  1.38547190e-02,  3.24118089e-03, -1.90473697e-02,\n",
       "        1.32201468e-03,  7.50915316e-03,  4.39226439e-03,  9.78195464e-03,\n",
       "       -1.15045766e-02,  8.33323366e-03,  1.04634348e-02,  2.82757632e-03,\n",
       "       -1.05952005e-04, -2.40269936e-02,  5.24118849e-04,  1.50680824e-02,\n",
       "        5.56752046e-03, -1.13624790e-03, -3.62731204e-02, -2.18106450e-02,\n",
       "        3.15607955e-02,  1.11813274e-02,  2.83527292e-02,  1.60276729e-02,\n",
       "        3.78913470e-03,  3.26475612e-02,  5.35637937e-03, -7.82578274e-03,\n",
       "       -2.14835311e-02, -8.34609008e-03, -2.59290096e-02, -9.29652775e-03,\n",
       "        5.95483858e-03,  4.97416269e-03,  9.92813310e-03,  1.57288650e-02,\n",
       "        2.77205682e-02, -5.97351227e-03,  1.88144660e-02, -3.46309521e-04,\n",
       "       -3.39799349e-03, -6.45264774e-03,  1.08492650e-02, -1.91898789e-03,\n",
       "       -3.12418402e-02, -4.47345584e-04,  1.05665033e-02, -1.92645270e-04,\n",
       "       -1.39600417e-03,  1.25996909e-03, -3.95696405e-04, -2.18557968e-02,\n",
       "        1.43011148e-02, -3.89174084e-03,  1.93239371e-03, -2.69330355e-02,\n",
       "       -2.09665852e-02, -2.26930711e-03, -4.53458762e-02,  3.73245254e-03,\n",
       "        4.18492886e-03, -5.21281873e-03,  3.12777902e-02,  2.18342941e-03,\n",
       "       -2.41941198e-02, -8.35707335e-03,  1.72871717e-02,  1.93419488e-02,\n",
       "       -1.24181686e-02, -3.89035781e-03,  3.98936642e-03, -1.94902340e-02,\n",
       "       -2.28354475e-02, -9.32171824e-04,  2.19791043e-03, -9.97463613e-03,\n",
       "        1.53864210e-02, -1.08291936e-04,  1.60862040e-03,  3.42450365e-03,\n",
       "       -1.24606444e-02,  5.76892004e-03,  1.36668866e-02,  4.57468293e-03,\n",
       "        2.27433262e-02, -6.57829337e-03, -1.23389011e-02,  2.70040863e-02,\n",
       "       -1.29954911e-02,  1.11544602e-02,  4.90189894e-03, -1.63757971e-02,\n",
       "       -1.43727322e-02,  3.25951741e-02, -2.88816504e-03,  1.83308556e-04,\n",
       "       -8.18794614e-03, -1.80975947e-02,  1.15205566e-03,  2.06511311e-02,\n",
       "        2.25246034e-02, -2.12943298e-02,  3.58526003e-03,  1.05128705e-02,\n",
       "       -4.41595341e-03, -8.56375338e-03, -1.91447468e-02, -1.57065994e-02,\n",
       "        1.50245663e-02, -1.04755881e-02,  9.58850715e-03, -1.08422930e-02,\n",
       "       -8.54539779e-03, -1.95170965e-02, -1.21990126e-03,  1.78720946e-02,\n",
       "       -2.75231452e-02,  1.39464313e-03, -6.03233542e-03, -1.05478638e-02,\n",
       "       -1.32773502e-02, -1.25424740e-03, -1.20035813e-02, -1.34159333e-02,\n",
       "        2.26896839e-03, -1.00929092e-03, -4.12059898e-03, -1.41517140e-02,\n",
       "       -1.16948606e-02,  1.03579445e-02, -4.96968965e-03, -1.24895914e-02,\n",
       "        2.07500227e-02, -7.88720195e-03, -8.24725196e-03, -1.76650248e-02,\n",
       "       -1.37737973e-02, -5.85433100e-03,  2.26465728e-02,  1.99752109e-04,\n",
       "        9.14340056e-03, -2.52956670e-02])"
      ]
     },
     "execution_count": 32,
     "metadata": {},
     "output_type": "execute_result"
    }
   ],
   "source": [
    "X_test[0]"
   ]
  },
  {
   "cell_type": "code",
   "execution_count": 24,
   "metadata": {},
   "outputs": [
    {
     "name": "stderr",
     "output_type": "stream",
     "text": [
      "/Users/hannahpetry/opt/anaconda3/envs/nlp_masterthesis/lib/python3.10/site-packages/sklearn/linear_model/_sag.py:350: ConvergenceWarning: The max_iter was reached which means the coef_ did not converge\n",
      "  warnings.warn(\n"
     ]
    }
   ],
   "source": [
    "# build model with finetuned hyperparameters\n",
    "clf = LogisticRegression(random_state=42, penalty= 'l1', solver= 'saga', multi_class='multinomial', C=1)\n",
    "lr = Pipeline(steps=[('classifier', clf)]).fit(X_train, y_train)"
   ]
  },
  {
   "cell_type": "code",
   "execution_count": 25,
   "metadata": {},
   "outputs": [
    {
     "name": "stdout",
     "output_type": "stream",
     "text": [
      "                                precision    recall  f1-score   support\n",
      "\n",
      "    Cardiovascular / Pulmonary       0.71      0.75      0.73       208\n",
      "                       Urology       0.71      0.55      0.62       218\n",
      "              General Medicine       0.75      0.82      0.79       191\n",
      "                       Surgery       0.77      0.83      0.80       213\n",
      " SOAP / Chart / Progress Notes       0.72      0.81      0.77       193\n",
      "                     Radiology       0.76      0.89      0.82       202\n",
      "                    Orthopedic       0.66      0.72      0.69       202\n",
      "       Obstetrics / Gynecology       0.54      0.50      0.52       191\n",
      "                     Neurology       0.68      0.82      0.74       225\n",
      "              Gastroenterology       0.53      0.23      0.32       203\n",
      "    Consult - History and Phy.       0.87      0.92      0.89       205\n",
      "\n",
      "                      accuracy                           0.71      2251\n",
      "                     macro avg       0.70      0.71      0.70      2251\n",
      "                  weighted avg       0.70      0.71      0.70      2251\n",
      "\n"
     ]
    }
   ],
   "source": [
    "category_list = df_test.medical_specialty.unique()\n",
    "# predict and evaluate\n",
    "y_pred = lr.predict(X_test)\n",
    "print(classification_report(y_test, y_pred, target_names=category_list))"
   ]
  },
  {
   "cell_type": "code",
   "execution_count": 26,
   "metadata": {},
   "outputs": [
    {
     "name": "stdout",
     "output_type": "stream",
     "text": [
      "Average AUROC score of 0.9517\n"
     ]
    }
   ],
   "source": [
    "# ROC curve\n",
    "# Generate class membership probabilities\n",
    "y_preb_probs = lr.predict_proba(X_test)\n",
    "score = roc_auc_score(y_test, y_preb_probs, average=\"weighted\", multi_class=\"ovr\")\n",
    "print('Average AUROC score of', round(score,4))"
   ]
  },
  {
   "cell_type": "code",
   "execution_count": 27,
   "metadata": {},
   "outputs": [
    {
     "data": {
      "text/plain": [
       "0.6847131496502603"
      ]
     },
     "execution_count": 27,
     "metadata": {},
     "output_type": "execute_result"
    }
   ],
   "source": [
    "# version of accuracy that also integrates measurements of chance and class imbalance\n",
    "# Generally, a score above 0.8 is considered excellent\n",
    "cohen_kappa_score(y_test, y_pred)"
   ]
  },
  {
   "cell_type": "code",
   "execution_count": 36,
   "metadata": {},
   "outputs": [
    {
     "data": {
      "text/html": [
       "<div>\n",
       "<style scoped>\n",
       "    .dataframe tbody tr th:only-of-type {\n",
       "        vertical-align: middle;\n",
       "    }\n",
       "\n",
       "    .dataframe tbody tr th {\n",
       "        vertical-align: top;\n",
       "    }\n",
       "\n",
       "    .dataframe thead th {\n",
       "        text-align: right;\n",
       "    }\n",
       "</style>\n",
       "<table border=\"1\" class=\"dataframe\">\n",
       "  <thead>\n",
       "    <tr style=\"text-align: right;\">\n",
       "      <th></th>\n",
       "      <th>Probability</th>\n",
       "    </tr>\n",
       "  </thead>\n",
       "  <tbody>\n",
       "    <tr>\n",
       "      <th>Radiology</th>\n",
       "      <td>0.684487</td>\n",
       "    </tr>\n",
       "    <tr>\n",
       "      <th>Gastroenterology</th>\n",
       "      <td>0.107089</td>\n",
       "    </tr>\n",
       "    <tr>\n",
       "      <th>Obstetrics / Gynecology</th>\n",
       "      <td>0.093361</td>\n",
       "    </tr>\n",
       "    <tr>\n",
       "      <th>Consult - History and Phy.</th>\n",
       "      <td>0.037043</td>\n",
       "    </tr>\n",
       "    <tr>\n",
       "      <th>General Medicine</th>\n",
       "      <td>0.020825</td>\n",
       "    </tr>\n",
       "    <tr>\n",
       "      <th>Urology</th>\n",
       "      <td>0.018470</td>\n",
       "    </tr>\n",
       "    <tr>\n",
       "      <th>Neurology</th>\n",
       "      <td>0.014036</td>\n",
       "    </tr>\n",
       "    <tr>\n",
       "      <th>Cardiovascular / Pulmonary</th>\n",
       "      <td>0.012928</td>\n",
       "    </tr>\n",
       "    <tr>\n",
       "      <th>Orthopedic</th>\n",
       "      <td>0.005452</td>\n",
       "    </tr>\n",
       "    <tr>\n",
       "      <th>SOAP / Chart / Progress Notes</th>\n",
       "      <td>0.003385</td>\n",
       "    </tr>\n",
       "    <tr>\n",
       "      <th>Surgery</th>\n",
       "      <td>0.002925</td>\n",
       "    </tr>\n",
       "  </tbody>\n",
       "</table>\n",
       "</div>"
      ],
      "text/plain": [
       "                                Probability\n",
       " Radiology                         0.684487\n",
       " Gastroenterology                  0.107089\n",
       " Obstetrics / Gynecology           0.093361\n",
       " Consult - History and Phy.        0.037043\n",
       " General Medicine                  0.020825\n",
       " Urology                           0.018470\n",
       " Neurology                         0.014036\n",
       " Cardiovascular / Pulmonary        0.012928\n",
       " Orthopedic                        0.005452\n",
       " SOAP / Chart / Progress Notes     0.003385\n",
       " Surgery                           0.002925"
      ]
     },
     "execution_count": 36,
     "metadata": {},
     "output_type": "execute_result"
    }
   ],
   "source": [
    "# Predict probabilities for a sample from test set\n",
    "prob_array = lr.predict_proba(X_test)[0,:]\n",
    "prob_df = pd.DataFrame(prob_array, index=category_list, columns=['Probability']).sort_values(by='Probability', ascending=False)\n",
    "prob_df\n"
   ]
  },
  {
   "cell_type": "code",
   "execution_count": 40,
   "metadata": {},
   "outputs": [
    {
     "name": "stdout",
     "output_type": "stream",
     "text": [
      "Predicted category:  Obstetrics / Gynecology\n",
      "Probability of predicted category: 0.09336081527509868\n",
      "Actual category:  Obstetrics / Gynecology\n"
     ]
    }
   ],
   "source": [
    "# need to know which sample was predicted\n",
    "# get index of sample from test set\n",
    "index = 0\n",
    "# get sample from test set\n",
    "sample = X_test[index]\n",
    "# get predicted category\n",
    "category = y_pred[index]\n",
    "# get probability of predicted category\n",
    "prob = prob_df.loc[category].values[0]\n",
    "# get actual category\n",
    "actual = y_test[index]\n",
    "\n",
    "print(\"Predicted category:\", category)\n",
    "print(\"Probability of predicted category:\", prob)\n",
    "print(\"Actual category:\", actual)\n"
   ]
  },
  {
   "cell_type": "code",
   "execution_count": 41,
   "metadata": {},
   "outputs": [
    {
     "data": {
      "text/plain": [
       "array([' Obstetrics / Gynecology', ' General Medicine', ' Radiology', ...,\n",
       "       ' SOAP / Chart / Progress Notes', ' SOAP / Chart / Progress Notes',\n",
       "       ' Consult - History and Phy.'], dtype='<U30')"
      ]
     },
     "execution_count": 41,
     "metadata": {},
     "output_type": "execute_result"
    }
   ],
   "source": [
    "y_pred"
   ]
  }
 ],
 "metadata": {
  "kernelspec": {
   "display_name": "Python 3.10.6 ('nlp_masterthesis')",
   "language": "python",
   "name": "python3"
  },
  "language_info": {
   "codemirror_mode": {
    "name": "ipython",
    "version": 3
   },
   "file_extension": ".py",
   "mimetype": "text/x-python",
   "name": "python",
   "nbconvert_exporter": "python",
   "pygments_lexer": "ipython3",
   "version": "3.10.6"
  },
  "orig_nbformat": 4,
  "vscode": {
   "interpreter": {
    "hash": "6b1167c26af54c6340f890887cef801dce27ac37ff6fc6a99bb1eb896d088a43"
   }
  }
 },
 "nbformat": 4,
 "nbformat_minor": 2
}
