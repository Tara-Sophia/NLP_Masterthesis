{
 "cells": [
  {
   "cell_type": "code",
   "execution_count": 1,
   "metadata": {},
   "outputs": [
    {
     "name": "stdout",
     "output_type": "stream",
     "text": [
      "Requirement already satisfied: streamlit in /opt/anaconda3/envs/nlp_masterthesis/lib/python3.10/site-packages (1.11.0)\n",
      "Requirement already satisfied: pandas>=0.21.0 in /opt/anaconda3/envs/nlp_masterthesis/lib/python3.10/site-packages (from streamlit) (1.4.4)\n",
      "Requirement already satisfied: validators>=0.2 in /opt/anaconda3/envs/nlp_masterthesis/lib/python3.10/site-packages (from streamlit) (0.18.2)\n",
      "Requirement already satisfied: requests>=2.4 in /opt/anaconda3/envs/nlp_masterthesis/lib/python3.10/site-packages (from streamlit) (2.28.1)\n",
      "Requirement already satisfied: tzlocal>=1.1 in /opt/anaconda3/envs/nlp_masterthesis/lib/python3.10/site-packages (from streamlit) (2.1)\n",
      "Requirement already satisfied: blinker>=1.0.0 in /opt/anaconda3/envs/nlp_masterthesis/lib/python3.10/site-packages (from streamlit) (1.4)\n",
      "Requirement already satisfied: pillow>=6.2.0 in /opt/anaconda3/envs/nlp_masterthesis/lib/python3.10/site-packages (from streamlit) (9.2.0)\n",
      "Requirement already satisfied: importlib-metadata>=1.4 in /opt/anaconda3/envs/nlp_masterthesis/lib/python3.10/site-packages (from streamlit) (4.11.3)\n",
      "Requirement already satisfied: numpy in /opt/anaconda3/envs/nlp_masterthesis/lib/python3.10/site-packages (from streamlit) (1.22.3)\n",
      "Requirement already satisfied: tornado>=5.0 in /opt/anaconda3/envs/nlp_masterthesis/lib/python3.10/site-packages (from streamlit) (6.2)\n",
      "Requirement already satisfied: semver in /opt/anaconda3/envs/nlp_masterthesis/lib/python3.10/site-packages (from streamlit) (2.13.0)\n",
      "Requirement already satisfied: altair>=3.2.0 in /opt/anaconda3/envs/nlp_masterthesis/lib/python3.10/site-packages (from streamlit) (4.1.0)\n",
      "Requirement already satisfied: pydeck>=0.1.dev5 in /opt/anaconda3/envs/nlp_masterthesis/lib/python3.10/site-packages (from streamlit) (0.7.1)\n",
      "Requirement already satisfied: protobuf<4,>=3.12 in /opt/anaconda3/envs/nlp_masterthesis/lib/python3.10/site-packages (from streamlit) (3.20.1)\n",
      "Requirement already satisfied: click>=7.0 in /opt/anaconda3/envs/nlp_masterthesis/lib/python3.10/site-packages (from streamlit) (8.0.4)\n",
      "Requirement already satisfied: pympler>=0.9 in /opt/anaconda3/envs/nlp_masterthesis/lib/python3.10/site-packages (from streamlit) (0.9)\n",
      "Requirement already satisfied: pyarrow>=4.0 in /opt/anaconda3/envs/nlp_masterthesis/lib/python3.10/site-packages (from streamlit) (8.0.0)\n",
      "Requirement already satisfied: gitpython!=3.1.19 in /opt/anaconda3/envs/nlp_masterthesis/lib/python3.10/site-packages (from streamlit) (3.1.18)\n",
      "Requirement already satisfied: packaging>=14.1 in /opt/anaconda3/envs/nlp_masterthesis/lib/python3.10/site-packages (from streamlit) (21.3)\n",
      "Requirement already satisfied: toml in /opt/anaconda3/envs/nlp_masterthesis/lib/python3.10/site-packages (from streamlit) (0.10.2)\n",
      "Requirement already satisfied: typing-extensions>=3.10.0.0 in /opt/anaconda3/envs/nlp_masterthesis/lib/python3.10/site-packages (from streamlit) (4.3.0)\n",
      "Requirement already satisfied: rich>=10.11.0 in /opt/anaconda3/envs/nlp_masterthesis/lib/python3.10/site-packages (from streamlit) (12.5.1)\n",
      "Requirement already satisfied: attrs>=16.0.0 in /opt/anaconda3/envs/nlp_masterthesis/lib/python3.10/site-packages (from streamlit) (21.4.0)\n",
      "Requirement already satisfied: cachetools>=4.0 in /opt/anaconda3/envs/nlp_masterthesis/lib/python3.10/site-packages (from streamlit) (4.2.2)\n",
      "Requirement already satisfied: python-dateutil in /opt/anaconda3/envs/nlp_masterthesis/lib/python3.10/site-packages (from streamlit) (2.8.2)\n",
      "Requirement already satisfied: jsonschema in /opt/anaconda3/envs/nlp_masterthesis/lib/python3.10/site-packages (from altair>=3.2.0->streamlit) (4.16.0)\n",
      "Requirement already satisfied: toolz in /opt/anaconda3/envs/nlp_masterthesis/lib/python3.10/site-packages (from altair>=3.2.0->streamlit) (0.11.2)\n",
      "Requirement already satisfied: entrypoints in /opt/anaconda3/envs/nlp_masterthesis/lib/python3.10/site-packages (from altair>=3.2.0->streamlit) (0.4)\n",
      "Requirement already satisfied: jinja2 in /opt/anaconda3/envs/nlp_masterthesis/lib/python3.10/site-packages (from altair>=3.2.0->streamlit) (3.0.3)\n",
      "Requirement already satisfied: gitdb<5,>=4.0.1 in /opt/anaconda3/envs/nlp_masterthesis/lib/python3.10/site-packages (from gitpython!=3.1.19->streamlit) (4.0.7)\n",
      "Requirement already satisfied: zipp>=0.5 in /opt/anaconda3/envs/nlp_masterthesis/lib/python3.10/site-packages (from importlib-metadata>=1.4->streamlit) (3.8.0)\n",
      "Requirement already satisfied: pyparsing!=3.0.5,>=2.0.2 in /opt/anaconda3/envs/nlp_masterthesis/lib/python3.10/site-packages (from packaging>=14.1->streamlit) (3.0.9)\n",
      "Requirement already satisfied: pytz>=2020.1 in /opt/anaconda3/envs/nlp_masterthesis/lib/python3.10/site-packages (from pandas>=0.21.0->streamlit) (2022.1)\n",
      "Requirement already satisfied: ipykernel>=5.1.2 in /opt/anaconda3/envs/nlp_masterthesis/lib/python3.10/site-packages (from pydeck>=0.1.dev5->streamlit) (6.15.2)\n",
      "Requirement already satisfied: ipywidgets>=7.0.0 in /opt/anaconda3/envs/nlp_masterthesis/lib/python3.10/site-packages (from pydeck>=0.1.dev5->streamlit) (7.6.5)\n",
      "Requirement already satisfied: traitlets>=4.3.2 in /opt/anaconda3/envs/nlp_masterthesis/lib/python3.10/site-packages (from pydeck>=0.1.dev5->streamlit) (5.1.1)\n",
      "Requirement already satisfied: six>=1.5 in /opt/anaconda3/envs/nlp_masterthesis/lib/python3.10/site-packages (from python-dateutil->streamlit) (1.16.0)\n",
      "Requirement already satisfied: certifi>=2017.4.17 in /opt/anaconda3/envs/nlp_masterthesis/lib/python3.10/site-packages (from requests>=2.4->streamlit) (2022.9.14)\n",
      "Requirement already satisfied: idna<4,>=2.5 in /opt/anaconda3/envs/nlp_masterthesis/lib/python3.10/site-packages (from requests>=2.4->streamlit) (3.3)\n",
      "Requirement already satisfied: charset-normalizer<3,>=2 in /opt/anaconda3/envs/nlp_masterthesis/lib/python3.10/site-packages (from requests>=2.4->streamlit) (2.0.4)\n",
      "Requirement already satisfied: urllib3<1.27,>=1.21.1 in /opt/anaconda3/envs/nlp_masterthesis/lib/python3.10/site-packages (from requests>=2.4->streamlit) (1.26.11)\n",
      "Requirement already satisfied: commonmark<0.10.0,>=0.9.0 in /opt/anaconda3/envs/nlp_masterthesis/lib/python3.10/site-packages (from rich>=10.11.0->streamlit) (0.9.1)\n",
      "Requirement already satisfied: pygments<3.0.0,>=2.6.0 in /opt/anaconda3/envs/nlp_masterthesis/lib/python3.10/site-packages (from rich>=10.11.0->streamlit) (2.11.2)\n",
      "Requirement already satisfied: decorator>=3.4.0 in /opt/anaconda3/envs/nlp_masterthesis/lib/python3.10/site-packages (from validators>=0.2->streamlit) (5.1.1)\n",
      "Requirement already satisfied: smmap<5,>=3.0.1 in /opt/anaconda3/envs/nlp_masterthesis/lib/python3.10/site-packages (from gitdb<5,>=4.0.1->gitpython!=3.1.19->streamlit) (4.0.0)\n",
      "Requirement already satisfied: nest-asyncio in /opt/anaconda3/envs/nlp_masterthesis/lib/python3.10/site-packages (from ipykernel>=5.1.2->pydeck>=0.1.dev5->streamlit) (1.5.5)\n",
      "Requirement already satisfied: psutil in /opt/anaconda3/envs/nlp_masterthesis/lib/python3.10/site-packages (from ipykernel>=5.1.2->pydeck>=0.1.dev5->streamlit) (5.9.0)\n",
      "Requirement already satisfied: pyzmq>=17 in /opt/anaconda3/envs/nlp_masterthesis/lib/python3.10/site-packages (from ipykernel>=5.1.2->pydeck>=0.1.dev5->streamlit) (23.2.0)\n",
      "Requirement already satisfied: debugpy>=1.0 in /opt/anaconda3/envs/nlp_masterthesis/lib/python3.10/site-packages (from ipykernel>=5.1.2->pydeck>=0.1.dev5->streamlit) (1.5.1)\n",
      "Requirement already satisfied: ipython>=7.23.1 in /opt/anaconda3/envs/nlp_masterthesis/lib/python3.10/site-packages (from ipykernel>=5.1.2->pydeck>=0.1.dev5->streamlit) (8.4.0)\n",
      "Requirement already satisfied: appnope in /opt/anaconda3/envs/nlp_masterthesis/lib/python3.10/site-packages (from ipykernel>=5.1.2->pydeck>=0.1.dev5->streamlit) (0.1.2)\n",
      "Requirement already satisfied: jupyter-client>=6.1.12 in /opt/anaconda3/envs/nlp_masterthesis/lib/python3.10/site-packages (from ipykernel>=5.1.2->pydeck>=0.1.dev5->streamlit) (7.3.5)\n",
      "Requirement already satisfied: matplotlib-inline>=0.1 in /opt/anaconda3/envs/nlp_masterthesis/lib/python3.10/site-packages (from ipykernel>=5.1.2->pydeck>=0.1.dev5->streamlit) (0.1.6)\n",
      "Requirement already satisfied: nbformat>=4.2.0 in /opt/anaconda3/envs/nlp_masterthesis/lib/python3.10/site-packages (from ipywidgets>=7.0.0->pydeck>=0.1.dev5->streamlit) (5.5.0)\n",
      "Requirement already satisfied: jupyterlab-widgets>=1.0.0 in /opt/anaconda3/envs/nlp_masterthesis/lib/python3.10/site-packages (from ipywidgets>=7.0.0->pydeck>=0.1.dev5->streamlit) (1.0.0)\n",
      "Requirement already satisfied: ipython-genutils~=0.2.0 in /opt/anaconda3/envs/nlp_masterthesis/lib/python3.10/site-packages (from ipywidgets>=7.0.0->pydeck>=0.1.dev5->streamlit) (0.2.0)\n",
      "Requirement already satisfied: widgetsnbextension~=3.5.0 in /opt/anaconda3/envs/nlp_masterthesis/lib/python3.10/site-packages (from ipywidgets>=7.0.0->pydeck>=0.1.dev5->streamlit) (3.5.2)\n",
      "Requirement already satisfied: MarkupSafe>=2.0 in /opt/anaconda3/envs/nlp_masterthesis/lib/python3.10/site-packages (from jinja2->altair>=3.2.0->streamlit) (2.1.1)\n",
      "Requirement already satisfied: pyrsistent!=0.17.0,!=0.17.1,!=0.17.2,>=0.14.0 in /opt/anaconda3/envs/nlp_masterthesis/lib/python3.10/site-packages (from jsonschema->altair>=3.2.0->streamlit) (0.18.0)\n",
      "Requirement already satisfied: pexpect>4.3 in /opt/anaconda3/envs/nlp_masterthesis/lib/python3.10/site-packages (from ipython>=7.23.1->ipykernel>=5.1.2->pydeck>=0.1.dev5->streamlit) (4.8.0)\n",
      "Requirement already satisfied: jedi>=0.16 in /opt/anaconda3/envs/nlp_masterthesis/lib/python3.10/site-packages (from ipython>=7.23.1->ipykernel>=5.1.2->pydeck>=0.1.dev5->streamlit) (0.18.1)\n",
      "Requirement already satisfied: prompt-toolkit!=3.0.0,!=3.0.1,<3.1.0,>=2.0.0 in /opt/anaconda3/envs/nlp_masterthesis/lib/python3.10/site-packages (from ipython>=7.23.1->ipykernel>=5.1.2->pydeck>=0.1.dev5->streamlit) (3.0.20)\n",
      "Requirement already satisfied: setuptools>=18.5 in /opt/anaconda3/envs/nlp_masterthesis/lib/python3.10/site-packages (from ipython>=7.23.1->ipykernel>=5.1.2->pydeck>=0.1.dev5->streamlit) (63.4.1)\n",
      "Requirement already satisfied: backcall in /opt/anaconda3/envs/nlp_masterthesis/lib/python3.10/site-packages (from ipython>=7.23.1->ipykernel>=5.1.2->pydeck>=0.1.dev5->streamlit) (0.2.0)\n",
      "Requirement already satisfied: stack-data in /opt/anaconda3/envs/nlp_masterthesis/lib/python3.10/site-packages (from ipython>=7.23.1->ipykernel>=5.1.2->pydeck>=0.1.dev5->streamlit) (0.2.0)\n",
      "Requirement already satisfied: pickleshare in /opt/anaconda3/envs/nlp_masterthesis/lib/python3.10/site-packages (from ipython>=7.23.1->ipykernel>=5.1.2->pydeck>=0.1.dev5->streamlit) (0.7.5)\n",
      "Requirement already satisfied: jupyter-core>=4.9.2 in /opt/anaconda3/envs/nlp_masterthesis/lib/python3.10/site-packages (from jupyter-client>=6.1.12->ipykernel>=5.1.2->pydeck>=0.1.dev5->streamlit) (4.10.0)\n",
      "Requirement already satisfied: fastjsonschema in /opt/anaconda3/envs/nlp_masterthesis/lib/python3.10/site-packages (from nbformat>=4.2.0->ipywidgets>=7.0.0->pydeck>=0.1.dev5->streamlit) (2.16.2)\n",
      "Requirement already satisfied: notebook>=4.4.1 in /opt/anaconda3/envs/nlp_masterthesis/lib/python3.10/site-packages (from widgetsnbextension~=3.5.0->ipywidgets>=7.0.0->pydeck>=0.1.dev5->streamlit) (6.4.12)\n",
      "Requirement already satisfied: parso<0.9.0,>=0.8.0 in /opt/anaconda3/envs/nlp_masterthesis/lib/python3.10/site-packages (from jedi>=0.16->ipython>=7.23.1->ipykernel>=5.1.2->pydeck>=0.1.dev5->streamlit) (0.8.3)\n",
      "Requirement already satisfied: Send2Trash>=1.8.0 in /opt/anaconda3/envs/nlp_masterthesis/lib/python3.10/site-packages (from notebook>=4.4.1->widgetsnbextension~=3.5.0->ipywidgets>=7.0.0->pydeck>=0.1.dev5->streamlit) (1.8.0)\n",
      "Requirement already satisfied: nbconvert>=5 in /opt/anaconda3/envs/nlp_masterthesis/lib/python3.10/site-packages (from notebook>=4.4.1->widgetsnbextension~=3.5.0->ipywidgets>=7.0.0->pydeck>=0.1.dev5->streamlit) (6.4.4)\n",
      "Requirement already satisfied: terminado>=0.8.3 in /opt/anaconda3/envs/nlp_masterthesis/lib/python3.10/site-packages (from notebook>=4.4.1->widgetsnbextension~=3.5.0->ipywidgets>=7.0.0->pydeck>=0.1.dev5->streamlit) (0.13.1)\n",
      "Requirement already satisfied: argon2-cffi in /opt/anaconda3/envs/nlp_masterthesis/lib/python3.10/site-packages (from notebook>=4.4.1->widgetsnbextension~=3.5.0->ipywidgets>=7.0.0->pydeck>=0.1.dev5->streamlit) (21.3.0)\n",
      "Requirement already satisfied: prometheus-client in /opt/anaconda3/envs/nlp_masterthesis/lib/python3.10/site-packages (from notebook>=4.4.1->widgetsnbextension~=3.5.0->ipywidgets>=7.0.0->pydeck>=0.1.dev5->streamlit) (0.14.1)\n",
      "Requirement already satisfied: ptyprocess>=0.5 in /opt/anaconda3/envs/nlp_masterthesis/lib/python3.10/site-packages (from pexpect>4.3->ipython>=7.23.1->ipykernel>=5.1.2->pydeck>=0.1.dev5->streamlit) (0.7.0)\n",
      "Requirement already satisfied: wcwidth in /opt/anaconda3/envs/nlp_masterthesis/lib/python3.10/site-packages (from prompt-toolkit!=3.0.0,!=3.0.1,<3.1.0,>=2.0.0->ipython>=7.23.1->ipykernel>=5.1.2->pydeck>=0.1.dev5->streamlit) (0.2.5)\n",
      "Requirement already satisfied: asttokens in /opt/anaconda3/envs/nlp_masterthesis/lib/python3.10/site-packages (from stack-data->ipython>=7.23.1->ipykernel>=5.1.2->pydeck>=0.1.dev5->streamlit) (2.0.5)\n",
      "Requirement already satisfied: executing in /opt/anaconda3/envs/nlp_masterthesis/lib/python3.10/site-packages (from stack-data->ipython>=7.23.1->ipykernel>=5.1.2->pydeck>=0.1.dev5->streamlit) (0.8.3)\n",
      "Requirement already satisfied: pure-eval in /opt/anaconda3/envs/nlp_masterthesis/lib/python3.10/site-packages (from stack-data->ipython>=7.23.1->ipykernel>=5.1.2->pydeck>=0.1.dev5->streamlit) (0.2.2)\n",
      "Requirement already satisfied: bleach in /opt/anaconda3/envs/nlp_masterthesis/lib/python3.10/site-packages (from nbconvert>=5->notebook>=4.4.1->widgetsnbextension~=3.5.0->ipywidgets>=7.0.0->pydeck>=0.1.dev5->streamlit) (4.1.0)\n",
      "Requirement already satisfied: mistune<2,>=0.8.1 in /opt/anaconda3/envs/nlp_masterthesis/lib/python3.10/site-packages (from nbconvert>=5->notebook>=4.4.1->widgetsnbextension~=3.5.0->ipywidgets>=7.0.0->pydeck>=0.1.dev5->streamlit) (0.8.4)\n",
      "Requirement already satisfied: beautifulsoup4 in /opt/anaconda3/envs/nlp_masterthesis/lib/python3.10/site-packages (from nbconvert>=5->notebook>=4.4.1->widgetsnbextension~=3.5.0->ipywidgets>=7.0.0->pydeck>=0.1.dev5->streamlit) (4.11.1)\n",
      "Requirement already satisfied: testpath in /opt/anaconda3/envs/nlp_masterthesis/lib/python3.10/site-packages (from nbconvert>=5->notebook>=4.4.1->widgetsnbextension~=3.5.0->ipywidgets>=7.0.0->pydeck>=0.1.dev5->streamlit) (0.6.0)\n",
      "Requirement already satisfied: pandocfilters>=1.4.1 in /opt/anaconda3/envs/nlp_masterthesis/lib/python3.10/site-packages (from nbconvert>=5->notebook>=4.4.1->widgetsnbextension~=3.5.0->ipywidgets>=7.0.0->pydeck>=0.1.dev5->streamlit) (1.5.0)\n",
      "Requirement already satisfied: nbclient<0.6.0,>=0.5.0 in /opt/anaconda3/envs/nlp_masterthesis/lib/python3.10/site-packages (from nbconvert>=5->notebook>=4.4.1->widgetsnbextension~=3.5.0->ipywidgets>=7.0.0->pydeck>=0.1.dev5->streamlit) (0.5.13)\n",
      "Requirement already satisfied: jupyterlab-pygments in /opt/anaconda3/envs/nlp_masterthesis/lib/python3.10/site-packages (from nbconvert>=5->notebook>=4.4.1->widgetsnbextension~=3.5.0->ipywidgets>=7.0.0->pydeck>=0.1.dev5->streamlit) (0.1.2)\n",
      "Requirement already satisfied: defusedxml in /opt/anaconda3/envs/nlp_masterthesis/lib/python3.10/site-packages (from nbconvert>=5->notebook>=4.4.1->widgetsnbextension~=3.5.0->ipywidgets>=7.0.0->pydeck>=0.1.dev5->streamlit) (0.7.1)\n",
      "Requirement already satisfied: argon2-cffi-bindings in /opt/anaconda3/envs/nlp_masterthesis/lib/python3.10/site-packages (from argon2-cffi->notebook>=4.4.1->widgetsnbextension~=3.5.0->ipywidgets>=7.0.0->pydeck>=0.1.dev5->streamlit) (21.2.0)\n",
      "Requirement already satisfied: cffi>=1.0.1 in /opt/anaconda3/envs/nlp_masterthesis/lib/python3.10/site-packages (from argon2-cffi-bindings->argon2-cffi->notebook>=4.4.1->widgetsnbextension~=3.5.0->ipywidgets>=7.0.0->pydeck>=0.1.dev5->streamlit) (1.15.1)\n",
      "Requirement already satisfied: soupsieve>1.2 in /opt/anaconda3/envs/nlp_masterthesis/lib/python3.10/site-packages (from beautifulsoup4->nbconvert>=5->notebook>=4.4.1->widgetsnbextension~=3.5.0->ipywidgets>=7.0.0->pydeck>=0.1.dev5->streamlit) (2.3.1)\n",
      "Requirement already satisfied: webencodings in /opt/anaconda3/envs/nlp_masterthesis/lib/python3.10/site-packages (from bleach->nbconvert>=5->notebook>=4.4.1->widgetsnbextension~=3.5.0->ipywidgets>=7.0.0->pydeck>=0.1.dev5->streamlit) (0.5.1)\n",
      "Requirement already satisfied: pycparser in /opt/anaconda3/envs/nlp_masterthesis/lib/python3.10/site-packages (from cffi>=1.0.1->argon2-cffi-bindings->argon2-cffi->notebook>=4.4.1->widgetsnbextension~=3.5.0->ipywidgets>=7.0.0->pydeck>=0.1.dev5->streamlit) (2.21)\n"
     ]
    }
   ],
   "source": [
    "!pip3 install streamlit"
   ]
  },
  {
   "cell_type": "code",
   "execution_count": 2,
   "metadata": {},
   "outputs": [
    {
     "name": "stderr",
     "output_type": "stream",
     "text": [
      "2022-10-05 15:43:18.795 INFO    numexpr.utils: NumExpr defaulting to 4 threads.\n",
      "2022-10-05 15:43:22.763 \n",
      "  \u001b[33m\u001b[1mWarning:\u001b[0m to view this Streamlit app on a browser, run it with the following\n",
      "  command:\n",
      "\n",
      "    streamlit run /opt/anaconda3/envs/nlp_masterthesis/lib/python3.10/site-packages/ipykernel_launcher.py [ARGUMENTS]\n"
     ]
    }
   ],
   "source": [
    "import streamlit as st\n",
    "st.title('streamlit Demo')\n",
    "st.subheader('please enter the details below')\n",
    "\n",
    "with st.form('inputfield', clear_on_submit=True):\n",
    "    name = st.text_input('username')\n",
    "    symptom = st.text_area('enter symptoms')\n",
    "    \n",
    "    submit = st.form_submit_button('submit this form')\n",
    "    "
   ]
  },
  {
   "cell_type": "code",
   "execution_count": null,
   "metadata": {},
   "outputs": [],
   "source": []
  }
 ],
 "metadata": {
  "kernelspec": {
   "display_name": "Python 3.10.4 ('nlp_masterthesis')",
   "language": "python",
   "name": "python3"
  },
  "language_info": {
   "codemirror_mode": {
    "name": "ipython",
    "version": 3
   },
   "file_extension": ".py",
   "mimetype": "text/x-python",
   "name": "python",
   "nbconvert_exporter": "python",
   "pygments_lexer": "ipython3",
   "version": "3.10.4"
  },
  "orig_nbformat": 4,
  "vscode": {
   "interpreter": {
    "hash": "e008ba518fc94ce1407a9eb93057d27eeafd2dad53a3852a13fd11c85bd39236"
   }
  }
 },
 "nbformat": 4,
 "nbformat_minor": 2
}
