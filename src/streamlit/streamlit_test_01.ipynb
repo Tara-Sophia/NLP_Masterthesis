{
 "cells": [
  {
   "cell_type": "code",
   "execution_count": 1,
   "metadata": {},
   "outputs": [
    {
     "name": "stdout",
     "output_type": "stream",
     "text": [
      "Requirement already satisfied: streamlit in /Users/hannahpetry/opt/anaconda3/envs/nlp_masterthesis/lib/python3.10/site-packages (1.13.0)\n",
      "Requirement already satisfied: pillow>=6.2.0 in /Users/hannahpetry/opt/anaconda3/envs/nlp_masterthesis/lib/python3.10/site-packages (from streamlit) (9.2.0)\n",
      "Requirement already satisfied: importlib-metadata>=1.4 in /Users/hannahpetry/opt/anaconda3/envs/nlp_masterthesis/lib/python3.10/site-packages (from streamlit) (4.11.4)\n",
      "Requirement already satisfied: toml in /Users/hannahpetry/opt/anaconda3/envs/nlp_masterthesis/lib/python3.10/site-packages (from streamlit) (0.10.2)\n",
      "Requirement already satisfied: requests>=2.4 in /Users/hannahpetry/opt/anaconda3/envs/nlp_masterthesis/lib/python3.10/site-packages (from streamlit) (2.28.1)\n",
      "Requirement already satisfied: pandas>=0.21.0 in /Users/hannahpetry/opt/anaconda3/envs/nlp_masterthesis/lib/python3.10/site-packages (from streamlit) (1.5.0)\n",
      "Requirement already satisfied: validators>=0.2 in /Users/hannahpetry/opt/anaconda3/envs/nlp_masterthesis/lib/python3.10/site-packages (from streamlit) (0.18.2)\n",
      "Requirement already satisfied: gitpython!=3.1.19 in /Users/hannahpetry/opt/anaconda3/envs/nlp_masterthesis/lib/python3.10/site-packages (from streamlit) (3.1.27)\n",
      "Requirement already satisfied: semver in /Users/hannahpetry/opt/anaconda3/envs/nlp_masterthesis/lib/python3.10/site-packages (from streamlit) (2.13.0)\n",
      "Requirement already satisfied: typing-extensions>=3.10.0.0 in /Users/hannahpetry/opt/anaconda3/envs/nlp_masterthesis/lib/python3.10/site-packages (from streamlit) (4.3.0)\n",
      "Requirement already satisfied: tzlocal>=1.1 in /Users/hannahpetry/opt/anaconda3/envs/nlp_masterthesis/lib/python3.10/site-packages (from streamlit) (4.2)\n",
      "Requirement already satisfied: python-dateutil in /Users/hannahpetry/opt/anaconda3/envs/nlp_masterthesis/lib/python3.10/site-packages (from streamlit) (2.8.2)\n",
      "Requirement already satisfied: packaging>=14.1 in /Users/hannahpetry/opt/anaconda3/envs/nlp_masterthesis/lib/python3.10/site-packages (from streamlit) (21.3)\n",
      "Requirement already satisfied: pyarrow>=4.0 in /Users/hannahpetry/opt/anaconda3/envs/nlp_masterthesis/lib/python3.10/site-packages (from streamlit) (9.0.0)\n",
      "Requirement already satisfied: pydeck>=0.1.dev5 in /Users/hannahpetry/opt/anaconda3/envs/nlp_masterthesis/lib/python3.10/site-packages (from streamlit) (0.7.1)\n",
      "Requirement already satisfied: click>=7.0 in /Users/hannahpetry/opt/anaconda3/envs/nlp_masterthesis/lib/python3.10/site-packages (from streamlit) (8.1.3)\n",
      "Requirement already satisfied: numpy in /Users/hannahpetry/opt/anaconda3/envs/nlp_masterthesis/lib/python3.10/site-packages (from streamlit) (1.23.3)\n",
      "Requirement already satisfied: altair>=3.2.0 in /Users/hannahpetry/opt/anaconda3/envs/nlp_masterthesis/lib/python3.10/site-packages (from streamlit) (4.2.0)\n",
      "Requirement already satisfied: tornado>=5.0 in /Users/hannahpetry/opt/anaconda3/envs/nlp_masterthesis/lib/python3.10/site-packages (from streamlit) (6.2)\n",
      "Requirement already satisfied: pympler>=0.9 in /Users/hannahpetry/opt/anaconda3/envs/nlp_masterthesis/lib/python3.10/site-packages (from streamlit) (1.0.1)\r\n",
      "Requirement already satisfied: cachetools>=4.0 in /Users/hannahpetry/opt/anaconda3/envs/nlp_masterthesis/lib/python3.10/site-packages (from streamlit) (5.2.0)\r\n",
      "Requirement already satisfied: blinker>=1.0.0 in /Users/hannahpetry/opt/anaconda3/envs/nlp_masterthesis/lib/python3.10/site-packages (from streamlit) (1.4)\r\n",
      "Requirement already satisfied: rich>=10.11.0 in /Users/hannahpetry/opt/anaconda3/envs/nlp_masterthesis/lib/python3.10/site-packages (from streamlit) (12.5.1)\r\n",
      "Requirement already satisfied: protobuf!=3.20.2,<4,>=3.12 in /Users/hannahpetry/opt/anaconda3/envs/nlp_masterthesis/lib/python3.10/site-packages (from streamlit) (3.20.1)\r\n",
      "Requirement already satisfied: entrypoints in /Users/hannahpetry/opt/anaconda3/envs/nlp_masterthesis/lib/python3.10/site-packages (from altair>=3.2.0->streamlit) (0.4)\r\n",
      "Requirement already satisfied: jinja2 in /Users/hannahpetry/opt/anaconda3/envs/nlp_masterthesis/lib/python3.10/site-packages (from altair>=3.2.0->streamlit) (3.1.2)\r\n",
      "Requirement already satisfied: toolz in /Users/hannahpetry/opt/anaconda3/envs/nlp_masterthesis/lib/python3.10/site-packages (from altair>=3.2.0->streamlit) (0.12.0)\r\n",
      "Requirement already satisfied: jsonschema>=3.0 in /Users/hannahpetry/opt/anaconda3/envs/nlp_masterthesis/lib/python3.10/site-packages (from altair>=3.2.0->streamlit) (4.15.0)\r\n",
      "Requirement already satisfied: gitdb<5,>=4.0.1 in /Users/hannahpetry/opt/anaconda3/envs/nlp_masterthesis/lib/python3.10/site-packages (from gitpython!=3.1.19->streamlit) (4.0.9)\r\n",
      "Requirement already satisfied: zipp>=0.5 in /Users/hannahpetry/opt/anaconda3/envs/nlp_masterthesis/lib/python3.10/site-packages (from importlib-metadata>=1.4->streamlit) (3.8.1)\r\n",
      "Requirement already satisfied: pyparsing!=3.0.5,>=2.0.2 in /Users/hannahpetry/opt/anaconda3/envs/nlp_masterthesis/lib/python3.10/site-packages (from packaging>=14.1->streamlit) (3.0.9)\r\n",
      "Requirement already satisfied: pytz>=2020.1 in /Users/hannahpetry/opt/anaconda3/envs/nlp_masterthesis/lib/python3.10/site-packages (from pandas>=0.21.0->streamlit) (2022.2.1)\r\n",
      "Requirement already satisfied: traitlets>=4.3.2 in /Users/hannahpetry/opt/anaconda3/envs/nlp_masterthesis/lib/python3.10/site-packages (from pydeck>=0.1.dev5->streamlit) (5.4.0)\r\n",
      "Requirement already satisfied: ipywidgets>=7.0.0 in /Users/hannahpetry/opt/anaconda3/envs/nlp_masterthesis/lib/python3.10/site-packages (from pydeck>=0.1.dev5->streamlit) (8.0.2)\r\n",
      "Requirement already satisfied: ipykernel>=5.1.2 in /Users/hannahpetry/opt/anaconda3/envs/nlp_masterthesis/lib/python3.10/site-packages (from pydeck>=0.1.dev5->streamlit) (6.16.0)\r\n",
      "Requirement already satisfied: six>=1.5 in /Users/hannahpetry/opt/anaconda3/envs/nlp_masterthesis/lib/python3.10/site-packages (from python-dateutil->streamlit) (1.16.0)\r\n",
      "Requirement already satisfied: charset-normalizer<3,>=2 in /Users/hannahpetry/opt/anaconda3/envs/nlp_masterthesis/lib/python3.10/site-packages (from requests>=2.4->streamlit) (2.1.1)\r\n",
      "Requirement already satisfied: urllib3<1.27,>=1.21.1 in /Users/hannahpetry/opt/anaconda3/envs/nlp_masterthesis/lib/python3.10/site-packages (from requests>=2.4->streamlit) (1.26.11)\r\n",
      "Requirement already satisfied: certifi>=2017.4.17 in /Users/hannahpetry/opt/anaconda3/envs/nlp_masterthesis/lib/python3.10/site-packages (from requests>=2.4->streamlit) (2022.9.24)\r\n",
      "Requirement already satisfied: idna<4,>=2.5 in /Users/hannahpetry/opt/anaconda3/envs/nlp_masterthesis/lib/python3.10/site-packages (from requests>=2.4->streamlit) (3.3)\r\n",
      "Requirement already satisfied: commonmark<0.10.0,>=0.9.0 in /Users/hannahpetry/opt/anaconda3/envs/nlp_masterthesis/lib/python3.10/site-packages (from rich>=10.11.0->streamlit) (0.9.1)\r\n",
      "Requirement already satisfied: pygments<3.0.0,>=2.6.0 in /Users/hannahpetry/opt/anaconda3/envs/nlp_masterthesis/lib/python3.10/site-packages (from rich>=10.11.0->streamlit) (2.13.0)\r\n",
      "Requirement already satisfied: pytz-deprecation-shim in /Users/hannahpetry/opt/anaconda3/envs/nlp_masterthesis/lib/python3.10/site-packages (from tzlocal>=1.1->streamlit) (0.1.0.post0)\r\n",
      "Requirement already satisfied: decorator>=3.4.0 in /Users/hannahpetry/opt/anaconda3/envs/nlp_masterthesis/lib/python3.10/site-packages (from validators>=0.2->streamlit) (5.1.1)\r\n",
      "Requirement already satisfied: smmap<6,>=3.0.1 in /Users/hannahpetry/opt/anaconda3/envs/nlp_masterthesis/lib/python3.10/site-packages (from gitdb<5,>=4.0.1->gitpython!=3.1.19->streamlit) (3.0.5)\r\n",
      "Requirement already satisfied: appnope in /Users/hannahpetry/opt/anaconda3/envs/nlp_masterthesis/lib/python3.10/site-packages (from ipykernel>=5.1.2->pydeck>=0.1.dev5->streamlit) (0.1.3)\r\n",
      "Requirement already satisfied: ipython>=7.23.1 in /Users/hannahpetry/opt/anaconda3/envs/nlp_masterthesis/lib/python3.10/site-packages (from ipykernel>=5.1.2->pydeck>=0.1.dev5->streamlit) (8.5.0)\r\n",
      "Requirement already satisfied: matplotlib-inline>=0.1 in /Users/hannahpetry/opt/anaconda3/envs/nlp_masterthesis/lib/python3.10/site-packages (from ipykernel>=5.1.2->pydeck>=0.1.dev5->streamlit) (0.1.6)\r\n",
      "Requirement already satisfied: psutil in /Users/hannahpetry/opt/anaconda3/envs/nlp_masterthesis/lib/python3.10/site-packages (from ipykernel>=5.1.2->pydeck>=0.1.dev5->streamlit) (5.9.2)\r\n",
      "Requirement already satisfied: debugpy>=1.0 in /Users/hannahpetry/opt/anaconda3/envs/nlp_masterthesis/lib/python3.10/site-packages (from ipykernel>=5.1.2->pydeck>=0.1.dev5->streamlit) (1.6.3)\r\n",
      "Requirement already satisfied: jupyter-client>=6.1.12 in /Users/hannahpetry/opt/anaconda3/envs/nlp_masterthesis/lib/python3.10/site-packages (from ipykernel>=5.1.2->pydeck>=0.1.dev5->streamlit) (7.3.5)\r\n",
      "Requirement already satisfied: pyzmq>=17 in /Users/hannahpetry/opt/anaconda3/envs/nlp_masterthesis/lib/python3.10/site-packages (from ipykernel>=5.1.2->pydeck>=0.1.dev5->streamlit) (24.0.1)\r\n",
      "Requirement already satisfied: nest-asyncio in /Users/hannahpetry/opt/anaconda3/envs/nlp_masterthesis/lib/python3.10/site-packages (from ipykernel>=5.1.2->pydeck>=0.1.dev5->streamlit) (1.5.6)\r\n",
      "Requirement already satisfied: jupyterlab-widgets~=3.0 in /Users/hannahpetry/opt/anaconda3/envs/nlp_masterthesis/lib/python3.10/site-packages (from ipywidgets>=7.0.0->pydeck>=0.1.dev5->streamlit) (3.0.3)\r\n",
      "Requirement already satisfied: widgetsnbextension~=4.0 in /Users/hannahpetry/opt/anaconda3/envs/nlp_masterthesis/lib/python3.10/site-packages (from ipywidgets>=7.0.0->pydeck>=0.1.dev5->streamlit) (4.0.3)\r\n",
      "Requirement already satisfied: MarkupSafe>=2.0 in /Users/hannahpetry/opt/anaconda3/envs/nlp_masterthesis/lib/python3.10/site-packages (from jinja2->altair>=3.2.0->streamlit) (2.1.1)\r\n",
      "Requirement already satisfied: attrs>=17.4.0 in /Users/hannahpetry/opt/anaconda3/envs/nlp_masterthesis/lib/python3.10/site-packages (from jsonschema>=3.0->altair>=3.2.0->streamlit) (22.1.0)\r\n",
      "Requirement already satisfied: pyrsistent!=0.17.0,!=0.17.1,!=0.17.2,>=0.14.0 in /Users/hannahpetry/opt/anaconda3/envs/nlp_masterthesis/lib/python3.10/site-packages (from jsonschema>=3.0->altair>=3.2.0->streamlit) (0.18.1)\r\n",
      "Requirement already satisfied: tzdata in /Users/hannahpetry/opt/anaconda3/envs/nlp_masterthesis/lib/python3.10/site-packages (from pytz-deprecation-shim->tzlocal>=1.1->streamlit) (2022.2)\r\n",
      "Requirement already satisfied: pickleshare in /Users/hannahpetry/opt/anaconda3/envs/nlp_masterthesis/lib/python3.10/site-packages (from ipython>=7.23.1->ipykernel>=5.1.2->pydeck>=0.1.dev5->streamlit) (0.7.5)\r\n",
      "Requirement already satisfied: prompt-toolkit<3.1.0,>3.0.1 in /Users/hannahpetry/opt/anaconda3/envs/nlp_masterthesis/lib/python3.10/site-packages (from ipython>=7.23.1->ipykernel>=5.1.2->pydeck>=0.1.dev5->streamlit) (3.0.31)\r\n",
      "Requirement already satisfied: backcall in /Users/hannahpetry/opt/anaconda3/envs/nlp_masterthesis/lib/python3.10/site-packages (from ipython>=7.23.1->ipykernel>=5.1.2->pydeck>=0.1.dev5->streamlit) (0.2.0)\r\n",
      "Requirement already satisfied: jedi>=0.16 in /Users/hannahpetry/opt/anaconda3/envs/nlp_masterthesis/lib/python3.10/site-packages (from ipython>=7.23.1->ipykernel>=5.1.2->pydeck>=0.1.dev5->streamlit) (0.18.1)\r\n",
      "Requirement already satisfied: stack-data in /Users/hannahpetry/opt/anaconda3/envs/nlp_masterthesis/lib/python3.10/site-packages (from ipython>=7.23.1->ipykernel>=5.1.2->pydeck>=0.1.dev5->streamlit) (0.5.1)\r\n",
      "Requirement already satisfied: pexpect>4.3 in /Users/hannahpetry/opt/anaconda3/envs/nlp_masterthesis/lib/python3.10/site-packages (from ipython>=7.23.1->ipykernel>=5.1.2->pydeck>=0.1.dev5->streamlit) (4.8.0)\r\n",
      "Requirement already satisfied: jupyter-core>=4.9.2 in /Users/hannahpetry/opt/anaconda3/envs/nlp_masterthesis/lib/python3.10/site-packages (from jupyter-client>=6.1.12->ipykernel>=5.1.2->pydeck>=0.1.dev5->streamlit) (4.11.1)\r\n",
      "Requirement already satisfied: parso<0.9.0,>=0.8.0 in /Users/hannahpetry/opt/anaconda3/envs/nlp_masterthesis/lib/python3.10/site-packages (from jedi>=0.16->ipython>=7.23.1->ipykernel>=5.1.2->pydeck>=0.1.dev5->streamlit) (0.8.3)\r\n",
      "Requirement already satisfied: ptyprocess>=0.5 in /Users/hannahpetry/opt/anaconda3/envs/nlp_masterthesis/lib/python3.10/site-packages (from pexpect>4.3->ipython>=7.23.1->ipykernel>=5.1.2->pydeck>=0.1.dev5->streamlit) (0.7.0)\r\n",
      "Requirement already satisfied: wcwidth in /Users/hannahpetry/opt/anaconda3/envs/nlp_masterthesis/lib/python3.10/site-packages (from prompt-toolkit<3.1.0,>3.0.1->ipython>=7.23.1->ipykernel>=5.1.2->pydeck>=0.1.dev5->streamlit) (0.2.5)\r\n",
      "Requirement already satisfied: pure-eval in /Users/hannahpetry/opt/anaconda3/envs/nlp_masterthesis/lib/python3.10/site-packages (from stack-data->ipython>=7.23.1->ipykernel>=5.1.2->pydeck>=0.1.dev5->streamlit) (0.2.2)\r\n",
      "Requirement already satisfied: asttokens in /Users/hannahpetry/opt/anaconda3/envs/nlp_masterthesis/lib/python3.10/site-packages (from stack-data->ipython>=7.23.1->ipykernel>=5.1.2->pydeck>=0.1.dev5->streamlit) (2.0.8)\r\n",
      "Requirement already satisfied: executing in /Users/hannahpetry/opt/anaconda3/envs/nlp_masterthesis/lib/python3.10/site-packages (from stack-data->ipython>=7.23.1->ipykernel>=5.1.2->pydeck>=0.1.dev5->streamlit) (1.1.0)\r\n"
     ]
    }
   ],
   "source": [
    "!pip3 install streamlit"
   ]
  },
  {
   "cell_type": "code",
   "execution_count": 2,
   "metadata": {},
   "outputs": [
    {
     "name": "stderr",
     "output_type": "stream",
     "text": [
      "2022-10-21 14:12:35.933 \n",
      "  \u001b[33m\u001b[1mWarning:\u001b[0m to view this Streamlit app on a browser, run it with the following\n",
      "  command:\n",
      "\n",
      "    streamlit run /Users/hannahpetry/opt/anaconda3/envs/nlp_masterthesis/lib/python3.10/site-packages/ipykernel_launcher.py [ARGUMENTS]\n"
     ]
    }
   ],
   "source": [
    "import streamlit as st\n",
    "st.title('streamlit Demo')\n",
    "st.subheader('please enter the details below')\n",
    "\n",
    "with st.form('inputfield', clear_on_submit=True):\n",
    "    name = st.text_input('username')\n",
    "    symptom = st.text_area('enter symptoms')\n",
    "    \n",
    "    submit = st.form_submit_button('submit this form')\n",
    "    "
   ]
  },
  {
   "cell_type": "code",
   "execution_count": null,
   "metadata": {},
   "outputs": [],
   "source": []
  }
 ],
 "metadata": {
  "kernelspec": {
   "display_name": "nlp_masterthesis",
   "language": "python",
   "name": "python3"
  },
  "language_info": {
   "codemirror_mode": {
    "name": "ipython",
    "version": 3
   },
   "file_extension": ".py",
   "mimetype": "text/x-python",
   "name": "python",
   "nbconvert_exporter": "python",
   "pygments_lexer": "ipython3",
   "version": "3.10.6"
  },
  "orig_nbformat": 4,
  "vscode": {
   "interpreter": {
    "hash": "6b1167c26af54c6340f890887cef801dce27ac37ff6fc6a99bb1eb896d088a43"
   }
  }
 },
 "nbformat": 4,
 "nbformat_minor": 2
}
