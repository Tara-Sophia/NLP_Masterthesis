{
 "cells": [
  {
   "cell_type": "code",
   "execution_count": 1,
   "metadata": {},
   "outputs": [],
   "source": [
    "text = 'this text is a test, i am sick my dog is sick'"
   ]
  },
  {
   "cell_type": "code",
   "execution_count": 2,
   "metadata": {},
   "outputs": [
    {
     "name": "stderr",
     "output_type": "stream",
     "text": [
      "No sentence-transformers model found with name models/nlp/semi_supervised/model. Creating a new one with MEAN pooling.\n",
      "Some weights of the model checkpoint at models/nlp/semi_supervised/model were not used when initializing BertModel: ['classifier.bias', 'classifier.weight']\n",
      "- This IS expected if you are initializing BertModel from the checkpoint of a model trained on another task or with another architecture (e.g. initializing a BertForSequenceClassification model from a BertForPreTraining model).\n",
      "- This IS NOT expected if you are initializing BertModel from the checkpoint of a model that you expect to be exactly identical (initializing a BertForSequenceClassification model from a BertForSequenceClassification model).\n"
     ]
    }
   ],
   "source": [
    "from keybert import KeyBERT\n",
    "keybert = KeyBERT('models/nlp/semi_supervised/model')\n",
    "keywords = keybert.extract_keywords(\n",
    "    text,\n",
    "    keyphrase_ngram_range=(1, 2),\n",
    "    stop_words=\"english\",\n",
    "    use_maxsum=True,\n",
    "    nr_candidates=10,\n",
    "    top_n=5,\n",
    "    use_mmr=True,\n",
    ")\n"
   ]
  },
  {
   "cell_type": "code",
   "execution_count": 6,
   "metadata": {},
   "outputs": [
    {
     "name": "stderr",
     "output_type": "stream",
     "text": [
      "Some weights of the model checkpoint at models/nlp/semi_supervised/model were not used when initializing BertModel: ['classifier.bias', 'classifier.weight']\n",
      "- This IS expected if you are initializing BertModel from the checkpoint of a model trained on another task or with another architecture (e.g. initializing a BertForSequenceClassification model from a BertForPreTraining model).\n",
      "- This IS NOT expected if you are initializing BertModel from the checkpoint of a model that you expect to be exactly identical (initializing a BertForSequenceClassification model from a BertForSequenceClassification model).\n",
      "Asking to truncate to max_length but no maximum length is provided and the model has no predefined maximum length. Default to no truncation.\n"
     ]
    },
    {
     "data": {
      "text/plain": [
       "[('test sick', 0.6507),\n",
       " ('sick dog', 0.6467),\n",
       " ('sick', 0.5757),\n",
       " ('text test', 0.5491),\n",
       " ('text', 0.3682)]"
      ]
     },
     "execution_count": 6,
     "metadata": {},
     "output_type": "execute_result"
    }
   ],
   "source": [
    "# import transformers\n",
    "import transformers\n",
    "from transformers import pipeline\n",
    "hf_model = pipeline('feature-extraction', model='models/nlp/semi_supervised/model')\n",
    "kw_model = KeyBERT(model=hf_model)\n",
    "keywords = kw_model.extract_keywords(\n",
    "    text,\n",
    "    keyphrase_ngram_range=(1, 2),\n",
    "    stop_words=\"english\",\n",
    "    use_maxsum=True,\n",
    "    nr_candidates=10,\n",
    "    top_n=5,\n",
    "    use_mmr=True,\n",
    ")\n",
    "keywords"
   ]
  },
  {
   "cell_type": "code",
   "execution_count": null,
   "metadata": {},
   "outputs": [],
   "source": []
  }
 ],
 "metadata": {
  "kernelspec": {
   "display_name": "Python 3.10.4 ('nlp_masterthesis')",
   "language": "python",
   "name": "python3"
  },
  "language_info": {
   "codemirror_mode": {
    "name": "ipython",
    "version": 3
   },
   "file_extension": ".py",
   "mimetype": "text/x-python",
   "name": "python",
   "nbconvert_exporter": "python",
   "pygments_lexer": "ipython3",
   "version": "3.10.4"
  },
  "orig_nbformat": 4,
  "vscode": {
   "interpreter": {
    "hash": "e008ba518fc94ce1407a9eb93057d27eeafd2dad53a3852a13fd11c85bd39236"
   }
  }
 },
 "nbformat": 4,
 "nbformat_minor": 2
}
