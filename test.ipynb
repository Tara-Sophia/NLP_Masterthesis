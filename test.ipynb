{
 "cells": [
  {
   "cell_type": "code",
   "execution_count": 2,
   "id": "05a65110-3d67-4542-b32c-917b65ee3e9f",
   "metadata": {
    "execution": {
     "iopub.execute_input": "2022-11-07T08:57:12.387418Z",
     "iopub.status.busy": "2022-11-07T08:57:12.387080Z",
     "iopub.status.idle": "2022-11-07T08:57:12.433398Z",
     "shell.execute_reply": "2022-11-07T08:57:12.432570Z",
     "shell.execute_reply.started": "2022-11-07T08:57:12.387400Z"
    }
   },
   "outputs": [
    {
     "name": "stderr",
     "output_type": "stream",
     "text": [
      "/tmp/ipykernel_746/3636652970.py:3: FutureWarning: Passing a negative integer is deprecated in version 1.0 and will not be supported in future version. Instead, use None to not limit the column width.\n",
      "  pd.set_option('display.max_colwidth', -1)\n"
     ]
    },
    {
     "data": {
      "text/html": [
       "<div>\n",
       "<style scoped>\n",
       "    .dataframe tbody tr th:only-of-type {\n",
       "        vertical-align: middle;\n",
       "    }\n",
       "\n",
       "    .dataframe tbody tr th {\n",
       "        vertical-align: top;\n",
       "    }\n",
       "\n",
       "    .dataframe thead th {\n",
       "        text-align: right;\n",
       "    }\n",
       "</style>\n",
       "<table border=\"1\" class=\"dataframe\">\n",
       "  <thead>\n",
       "    <tr style=\"text-align: right;\">\n",
       "      <th></th>\n",
       "      <th>Unnamed: 0</th>\n",
       "      <th>description</th>\n",
       "      <th>medical_specialty</th>\n",
       "      <th>sample_name</th>\n",
       "      <th>transcription</th>\n",
       "      <th>keywords</th>\n",
       "      <th>keywords_list</th>\n",
       "      <th>location</th>\n",
       "      <th>keywords_outcome_weights</th>\n",
       "    </tr>\n",
       "  </thead>\n",
       "  <tbody>\n",
       "    <tr>\n",
       "      <th>0</th>\n",
       "      <td>3</td>\n",
       "      <td>2-D M-Mode. Doppler.</td>\n",
       "      <td>Cardiovascular / Pulmonary</td>\n",
       "      <td>2-D Echocardiogram - 1</td>\n",
       "      <td>mmode leave atrial enlargement leave atrial diameter cm normal size right leave ventricle normal lv systolic function leave ventricular ejection fraction normal lv diastolic function pericardial effusion normal morphology aortic valve mitral valve tricuspid valve pulmonary valve pa systolic pressure mmhgdoppler mild mitral tricuspid regurgitation trace aortic pulmonary regurgitation</td>\n",
       "      <td>cardiovascular / pulmonary, 2-d m-mode, doppler, aortic valve, atrial enlargement, diastolic function, ejection fraction, mitral, mitral valve, pericardial effusion, pulmonary valve, regurgitation, systolic function, tricuspid, tricuspid valve, normal lv</td>\n",
       "      <td>['cardiovascular / pulmonary', ' 2-d m-mode', ' doppler', ' aortic valve', ' atrial enlargement', ' diastolic function', ' ejection fraction', ' mitral', ' mitral valve', ' pericardial effusion', ' pulmonary valve', ' regurgitation', ' systolic function', ' tricuspid', ' tricuspid valve', ' normal lv ']</td>\n",
       "      <td>dict_values([[221, 233], [11, 29], [163, 181], [135, 152], [234, 240], [234, 246], [182, 202], [263, 278], [334, 347], [99, 116], [247, 256], [247, 262], [89, 99]])</td>\n",
       "      <td>[('lv diastolic', 0.7221), ('ventricular ejection', 0.7035), ('effusion normal', 0.5309), ('valve pulmonary', 0.5128), ('mild', 0.5039)]</td>\n",
       "    </tr>\n",
       "    <tr>\n",
       "      <th>1</th>\n",
       "      <td>4</td>\n",
       "      <td>2-D Echocardiogram</td>\n",
       "      <td>Cardiovascular / Pulmonary</td>\n",
       "      <td>2-D Echocardiogram - 2</td>\n",
       "      <td>leave ventricular cavity size wall thickness appear normal wall motion leave ventricular systolic function appear hyperdynamic estimate ejection fraction nearcavity obliteration see also appear increase leave ventricular outflow tract gradient mid cavity level consistent hyperdynamic leave ventricular systolic function abnormal leave ventricular relaxation pattern see well elevate leave atrial pressure see doppler examination leave atrium appear mildly dilate right atrium right ventricle appear normal aorti</td>\n",
       "      <td>cardiovascular / pulmonary, 2-d, doppler, echocardiogram, annular, aortic root, aortic valve, atrial, atrium, calcification, cavity, ejection fraction, mitral, obliteration, outflow, regurgitation, relaxation pattern, stenosis, systolic function, tricuspid, valve, ventricular, ventricular cavity, wall motion, pulmonary artery</td>\n",
       "      <td>['cardiovascular / pulmonary', ' 2-d', ' doppler', ' echocardiogram', ' annular', ' aortic root', ' aortic valve', ' atrial', ' atrium', ' calcification', ' cavity', ' ejection fraction', ' mitral', ' obliteration', ' outflow', ' regurgitation', ' relaxation pattern', ' stenosis', ' systolic function', ' tricuspid', ' valve', ' ventricular', ' ventricular cavity', ' wall motion', ' pulmonary artery']</td>\n",
       "      <td>dict_values([[409, 416], [680, 687], [506, 517], [532, 544], [389, 395], [435, 441], [688, 701], [17, 23], [135, 152], [673, 679], [164, 176], [220, 227], [781, 794], [347, 365], [578, 586], [88, 105], [795, 804], [539, 544], [5, 16], [5, 23], [58, 69], [864, 880]])</td>\n",
       "      <td>[('consistent hyperdynamic', 0.7339), ('estimate ejection', 0.7153), ('ventricular outflow', 0.7106), ('wall motion', 0.697), ('doppler', 0.5103)]</td>\n",
       "    </tr>\n",
       "    <tr>\n",
       "      <th>2</th>\n",
       "      <td>7</td>\n",
       "      <td>2-D Echocardiogram</td>\n",
       "      <td>Cardiovascular / Pulmonary</td>\n",
       "      <td>2-D Echocardiogram - 3</td>\n",
       "      <td>echocardiogrammultiple view heart great vessels reveal normal intracardiac great vessel relationships cardiac function normal significant chamber enlargement hypertrophy pericardial effusion vegetations see doppler interrogation include color flow image reveal systemic venous return right atrium normal tricuspid inflow pulmonary outflow normal valve pulmonary venous return leave atrium interatrial septum intact mitral inflow ascend aorta flow normal aortic valve trileaflet coronary arteries appear normal or</td>\n",
       "      <td>cardiovascular / pulmonary, 2-d echocardiogram, cardiac function, doppler, echocardiogram, multiple views, aortic valve, coronary arteries, descending aorta, great vessels, heart, hypertrophy, interatrial septum, intracardiac, pericardial effusion, tricuspid, vegetation, venous, pulmonaryNOTE,: Thesetranscribed medical transcription sample reports and examples are provided by various users andare for reference purpose only. MTHelpLine does not certify accuracy and quality of sample reports.These transcribed medical transcription sample reports may include some uncommon or unusual formats;this would be due to the preference of the dictating physician. All names and dates have beenchanged (or removed) to keep confidentiality. Any resemblance of any type of name or date orplace or anything else to real world is purely incidental.,</td>\n",
       "      <td>['cardiovascular / pulmonary', ' 2-d echocardiogram', ' cardiac function', ' doppler', ' echocardiogram', ' multiple views', ' aortic valve', ' coronary arteries', ' descending aorta', ' great vessels', ' heart', ' hypertrophy', ' interatrial septum', ' intracardiac', ' pericardial effusion', ' tricuspid', ' vegetation', ' venous', ' pulmonaryNOTE', ': Thesetranscribed medical transcription sample reports and examples are provided by various users andare for reference purpose only. MTHelpLine does not certify accuracy and quality of sample reports.These transcribed medical transcription sample reports may include some uncommon or unusual formats;this would be due to the preference of the dictating physician. All names and dates have beenchanged (or removed) to keep confidentiality. Any resemblance of any type of name or date orplace or anything else to real world is purely incidental.', '']</td>\n",
       "      <td>dict_values([[101, 117], [206, 213], [453, 465], [477, 494], [33, 46], [27, 32], [157, 168], [388, 406], [61, 73], [169, 189], [303, 312], [190, 200], [269, 275], [0, -1]])</td>\n",
       "      <td>[('echocardiogrammultiple', 0.741), ('pulmonary outflow', 0.6893), ('coronary arteries', 0.6767), ('vessel relationships', 0.5392), ('systemic venous', 0.5378)]</td>\n",
       "    </tr>\n",
       "    <tr>\n",
       "      <th>3</th>\n",
       "      <td>9</td>\n",
       "      <td>Echocardiogram and Doppler</td>\n",
       "      <td>Cardiovascular / Pulmonary</td>\n",
       "      <td>2-D Echocardiogram - 4</td>\n",
       "      <td>description normal cardiac chamber size normal leave ventricular size normal lv systolic function ejection fraction estimate around aortic valve see good motion mitral valve see good motion tricuspid valve see good motion pericardial effusion intracardiac massesdoppler trace mitral regurgitation trace tricuspid regurgitationimpression normal lv systolic function ejection fraction estimate around</td>\n",
       "      <td>cardiovascular / pulmonary, ejection fraction, lv systolic function, cardiac chambers, regurgitation, tricuspid, normal lv systolic function, normal lv systolic, ejection fraction estimated, normal lv, lv systolic, systolic function, function ejection, echocardiogram, doppler, lv, systolic, ejection, mitral, valve</td>\n",
       "      <td>['cardiovascular / pulmonary', ' ejection fraction', ' lv systolic function', ' cardiac chambers', ' regurgitation', ' tricuspid', ' normal lv systolic function', ' normal lv systolic', ' ejection fraction estimated', ' normal lv', ' lv systolic', ' systolic function', ' function ejection', ' echocardiogram', ' doppler', ' lv', ' systolic', ' ejection', ' mitral', ' valve']</td>\n",
       "      <td>dict_values([[97, 114], [76, 96], [282, 295], [189, 198], [69, 96], [69, 87], [69, 78], [76, 87], [79, 96], [88, 105], [76, 78], [79, 87], [97, 105], [160, 166], [138, 143]])</td>\n",
       "      <td>[('regurgitationimpression normal', 0.6944), ('good motion', 0.66), ('lv systolic', 0.6105), ('ejection fraction', 0.6057), ('effusion intracardiac', 0.5385)]</td>\n",
       "    </tr>\n",
       "  </tbody>\n",
       "</table>\n",
       "</div>"
      ],
      "text/plain": [
       "   Unnamed: 0                  description            medical_specialty  \\\n",
       "0  3            2-D M-Mode. Doppler.         Cardiovascular / Pulmonary   \n",
       "1  4            2-D Echocardiogram           Cardiovascular / Pulmonary   \n",
       "2  7            2-D Echocardiogram           Cardiovascular / Pulmonary   \n",
       "3  9            Echocardiogram and Doppler   Cardiovascular / Pulmonary   \n",
       "\n",
       "                sample_name  \\\n",
       "0   2-D Echocardiogram - 1    \n",
       "1   2-D Echocardiogram - 2    \n",
       "2   2-D Echocardiogram - 3    \n",
       "3   2-D Echocardiogram - 4    \n",
       "\n",
       "                                                                                                                                                                                                                                                                                                                                                                                                                                                                                                                      transcription  \\\n",
       "0  mmode leave atrial enlargement leave atrial diameter cm normal size right leave ventricle normal lv systolic function leave ventricular ejection fraction normal lv diastolic function pericardial effusion normal morphology aortic valve mitral valve tricuspid valve pulmonary valve pa systolic pressure mmhgdoppler mild mitral tricuspid regurgitation trace aortic pulmonary regurgitation                                                                                                                                  \n",
       "1  leave ventricular cavity size wall thickness appear normal wall motion leave ventricular systolic function appear hyperdynamic estimate ejection fraction nearcavity obliteration see also appear increase leave ventricular outflow tract gradient mid cavity level consistent hyperdynamic leave ventricular systolic function abnormal leave ventricular relaxation pattern see well elevate leave atrial pressure see doppler examination leave atrium appear mildly dilate right atrium right ventricle appear normal aorti   \n",
       "2  echocardiogrammultiple view heart great vessels reveal normal intracardiac great vessel relationships cardiac function normal significant chamber enlargement hypertrophy pericardial effusion vegetations see doppler interrogation include color flow image reveal systemic venous return right atrium normal tricuspid inflow pulmonary outflow normal valve pulmonary venous return leave atrium interatrial septum intact mitral inflow ascend aorta flow normal aortic valve trileaflet coronary arteries appear normal or   \n",
       "3  description normal cardiac chamber size normal leave ventricular size normal lv systolic function ejection fraction estimate around aortic valve see good motion mitral valve see good motion tricuspid valve see good motion pericardial effusion intracardiac massesdoppler trace mitral regurgitation trace tricuspid regurgitationimpression normal lv systolic function ejection fraction estimate around                                                                                                                     \n",
       "\n",
       "                                                                                                                                                                                                                                                                                                                                                                                                                                                                                                                                                                                                                                                                                                                                                                                                                                                                  keywords  \\\n",
       "0  cardiovascular / pulmonary, 2-d m-mode, doppler, aortic valve, atrial enlargement, diastolic function, ejection fraction, mitral, mitral valve, pericardial effusion, pulmonary valve, regurgitation, systolic function, tricuspid, tricuspid valve, normal lv                                                                                                                                                                                                                                                                                                                                                                                                                                                                                                                                                                                                            \n",
       "1  cardiovascular / pulmonary, 2-d, doppler, echocardiogram, annular, aortic root, aortic valve, atrial, atrium, calcification, cavity, ejection fraction, mitral, obliteration, outflow, regurgitation, relaxation pattern, stenosis, systolic function, tricuspid, valve, ventricular, ventricular cavity, wall motion, pulmonary artery                                                                                                                                                                                                                                                                                                                                                                                                                                                                                                                                   \n",
       "2  cardiovascular / pulmonary, 2-d echocardiogram, cardiac function, doppler, echocardiogram, multiple views, aortic valve, coronary arteries, descending aorta, great vessels, heart, hypertrophy, interatrial septum, intracardiac, pericardial effusion, tricuspid, vegetation, venous, pulmonaryNOTE,: Thesetranscribed medical transcription sample reports and examples are provided by various users andare for reference purpose only. MTHelpLine does not certify accuracy and quality of sample reports.These transcribed medical transcription sample reports may include some uncommon or unusual formats;this would be due to the preference of the dictating physician. All names and dates have beenchanged (or removed) to keep confidentiality. Any resemblance of any type of name or date orplace or anything else to real world is purely incidental.,   \n",
       "3  cardiovascular / pulmonary, ejection fraction, lv systolic function, cardiac chambers, regurgitation, tricuspid, normal lv systolic function, normal lv systolic, ejection fraction estimated, normal lv, lv systolic, systolic function, function ejection, echocardiogram, doppler, lv, systolic, ejection, mitral, valve                                                                                                                                                                                                                                                                                                                                                                                                                                                                                                                                               \n",
       "\n",
       "                                                                                                                                                                                                                                                                                                                                                                                                                                                                                                                                                                                                                                                                                                                                                                                                                                                                                                                             keywords_list  \\\n",
       "0  ['cardiovascular / pulmonary', ' 2-d m-mode', ' doppler', ' aortic valve', ' atrial enlargement', ' diastolic function', ' ejection fraction', ' mitral', ' mitral valve', ' pericardial effusion', ' pulmonary valve', ' regurgitation', ' systolic function', ' tricuspid', ' tricuspid valve', ' normal lv ']                                                                                                                                                                                                                                                                                                                                                                                                                                                                                                                                                                                                                          \n",
       "1  ['cardiovascular / pulmonary', ' 2-d', ' doppler', ' echocardiogram', ' annular', ' aortic root', ' aortic valve', ' atrial', ' atrium', ' calcification', ' cavity', ' ejection fraction', ' mitral', ' obliteration', ' outflow', ' regurgitation', ' relaxation pattern', ' stenosis', ' systolic function', ' tricuspid', ' valve', ' ventricular', ' ventricular cavity', ' wall motion', ' pulmonary artery']                                                                                                                                                                                                                                                                                                                                                                                                                                                                                                                       \n",
       "2  ['cardiovascular / pulmonary', ' 2-d echocardiogram', ' cardiac function', ' doppler', ' echocardiogram', ' multiple views', ' aortic valve', ' coronary arteries', ' descending aorta', ' great vessels', ' heart', ' hypertrophy', ' interatrial septum', ' intracardiac', ' pericardial effusion', ' tricuspid', ' vegetation', ' venous', ' pulmonaryNOTE', ': Thesetranscribed medical transcription sample reports and examples are provided by various users andare for reference purpose only. MTHelpLine does not certify accuracy and quality of sample reports.These transcribed medical transcription sample reports may include some uncommon or unusual formats;this would be due to the preference of the dictating physician. All names and dates have beenchanged (or removed) to keep confidentiality. Any resemblance of any type of name or date orplace or anything else to real world is purely incidental.', '']   \n",
       "3  ['cardiovascular / pulmonary', ' ejection fraction', ' lv systolic function', ' cardiac chambers', ' regurgitation', ' tricuspid', ' normal lv systolic function', ' normal lv systolic', ' ejection fraction estimated', ' normal lv', ' lv systolic', ' systolic function', ' function ejection', ' echocardiogram', ' doppler', ' lv', ' systolic', ' ejection', ' mitral', ' valve']                                                                                                                                                                                                                                                                                                                                                                                                                                                                                                                                                  \n",
       "\n",
       "                                                                                                                                                                                                                                                                     location  \\\n",
       "0  dict_values([[221, 233], [11, 29], [163, 181], [135, 152], [234, 240], [234, 246], [182, 202], [263, 278], [334, 347], [99, 116], [247, 256], [247, 262], [89, 99]])                                                                                                         \n",
       "1  dict_values([[409, 416], [680, 687], [506, 517], [532, 544], [389, 395], [435, 441], [688, 701], [17, 23], [135, 152], [673, 679], [164, 176], [220, 227], [781, 794], [347, 365], [578, 586], [88, 105], [795, 804], [539, 544], [5, 16], [5, 23], [58, 69], [864, 880]])   \n",
       "2  dict_values([[101, 117], [206, 213], [453, 465], [477, 494], [33, 46], [27, 32], [157, 168], [388, 406], [61, 73], [169, 189], [303, 312], [190, 200], [269, 275], [0, -1]])                                                                                                 \n",
       "3  dict_values([[97, 114], [76, 96], [282, 295], [189, 198], [69, 96], [69, 87], [69, 78], [76, 87], [79, 96], [88, 105], [76, 78], [79, 87], [97, 105], [160, 166], [138, 143]])                                                                                               \n",
       "\n",
       "                                                                                                                                           keywords_outcome_weights  \n",
       "0  [('lv diastolic', 0.7221), ('ventricular ejection', 0.7035), ('effusion normal', 0.5309), ('valve pulmonary', 0.5128), ('mild', 0.5039)]                          \n",
       "1  [('consistent hyperdynamic', 0.7339), ('estimate ejection', 0.7153), ('ventricular outflow', 0.7106), ('wall motion', 0.697), ('doppler', 0.5103)]                \n",
       "2  [('echocardiogrammultiple', 0.741), ('pulmonary outflow', 0.6893), ('coronary arteries', 0.6767), ('vessel relationships', 0.5392), ('systemic venous', 0.5378)]  \n",
       "3  [('regurgitationimpression normal', 0.6944), ('good motion', 0.66), ('lv systolic', 0.6105), ('ejection fraction', 0.6057), ('effusion intracardiac', 0.5385)]    "
      ]
     },
     "execution_count": 2,
     "metadata": {},
     "output_type": "execute_result"
    }
   ],
   "source": [
    "import pandas as pd\n",
    "df = pd.read_csv('data/processed/nlp/mtsamples/mtsamples_semisupervised.csv')\n",
    "pd.set_option('display.max_colwidth', -1)\n",
    "df.head()"
   ]
  },
  {
   "cell_type": "code",
   "execution_count": 72,
   "id": "0b5f885b",
   "metadata": {},
   "outputs": [],
   "source": [
    "from transformers import AutoTokenizer, pipeline\n",
    "import os\n",
    "\n",
    "MODEL_MLM_DIR_MT = os.path.join(\"models\", \"nlp\", \"maskedlanguagemodel_Mtsamples\", \"model\")\n",
    "model = MODEL_MLM_DIR_MT"
   ]
  },
  {
   "cell_type": "code",
   "execution_count": 73,
   "id": "31f17fe3",
   "metadata": {},
   "outputs": [],
   "source": [
    "from keybert import KeyBERT"
   ]
  },
  {
   "cell_type": "code",
   "execution_count": 74,
   "id": "ceba032e",
   "metadata": {},
   "outputs": [],
   "source": [
    "doc1 = \"\"\"\n",
    "         Supervised learning is the machine learning task of learning a function that\n",
    "         maps an input to an output based on example input-output pairs. It infers a\n",
    "         function from labeled training data consisting of a set of training examples.\n",
    "         In supervised learning, each example is a pair consisting of an input object\n",
    "         (typically a vector) and a desired output value (also called the supervisory signal). \n",
    "         A supervised learning algorithm analyzes the training data and produces an inferred function, \n",
    "         which can be used for mapping new examples. An optimal scenario will allow for the \n",
    "         algorithm to correctly determine the class labels for unseen instances. This requires \n",
    "         the learning algorithm to generalize from the training data to unseen situations in a \n",
    "         'reasonable' way (see inductive bias).\n",
    "    \"\"\""
   ]
  },
  {
   "cell_type": "code",
   "execution_count": 77,
   "id": "525cf5ef",
   "metadata": {},
   "outputs": [
    {
     "data": {
      "text/html": [
       "<div>\n",
       "<style scoped>\n",
       "    .dataframe tbody tr th:only-of-type {\n",
       "        vertical-align: middle;\n",
       "    }\n",
       "\n",
       "    .dataframe tbody tr th {\n",
       "        vertical-align: top;\n",
       "    }\n",
       "\n",
       "    .dataframe thead th {\n",
       "        text-align: right;\n",
       "    }\n",
       "</style>\n",
       "<table border=\"1\" class=\"dataframe\">\n",
       "  <thead>\n",
       "    <tr style=\"text-align: right;\">\n",
       "      <th></th>\n",
       "      <th>transcription</th>\n",
       "      <th>cand</th>\n",
       "      <th>top</th>\n",
       "    </tr>\n",
       "  </thead>\n",
       "  <tbody>\n",
       "    <tr>\n",
       "      <th>0</th>\n",
       "      <td>\\n         Supervised learning is the machine ...</td>\n",
       "      <td>20</td>\n",
       "      <td>10</td>\n",
       "    </tr>\n",
       "    <tr>\n",
       "      <th>1</th>\n",
       "      <td>\\n         Supervised learning is the machine ...</td>\n",
       "      <td>15</td>\n",
       "      <td>8</td>\n",
       "    </tr>\n",
       "    <tr>\n",
       "      <th>2</th>\n",
       "      <td>\\n         Supervised learning is the machine ...</td>\n",
       "      <td>10</td>\n",
       "      <td>5</td>\n",
       "    </tr>\n",
       "    <tr>\n",
       "      <th>3</th>\n",
       "      <td>\\n         Supervised learning is the machine ...</td>\n",
       "      <td>10</td>\n",
       "      <td>5</td>\n",
       "    </tr>\n",
       "    <tr>\n",
       "      <th>4</th>\n",
       "      <td>\\n         Supervised learning is the machine ...</td>\n",
       "      <td>10</td>\n",
       "      <td>5</td>\n",
       "    </tr>\n",
       "  </tbody>\n",
       "</table>\n",
       "</div>"
      ],
      "text/plain": [
       "                                       transcription  cand  top\n",
       "0  \\n         Supervised learning is the machine ...    20   10\n",
       "1  \\n         Supervised learning is the machine ...    15    8\n",
       "2  \\n         Supervised learning is the machine ...    10    5\n",
       "3  \\n         Supervised learning is the machine ...    10    5\n",
       "4  \\n         Supervised learning is the machine ...    10    5"
      ]
     },
     "execution_count": 77,
     "metadata": {},
     "output_type": "execute_result"
    }
   ],
   "source": [
    "df = pd.DataFrame(\n",
    "    [[doc1, 20, 10], [doc1, 15, 8], [doc1, 10, 5], [doc1, 10, 5], [doc1, 10, 5]],\n",
    "    columns=[\"transcription\", \"cand\", \"top\"],\n",
    ")\n",
    "df.head()\n"
   ]
  },
  {
   "cell_type": "code",
   "execution_count": 76,
   "id": "149574ae-01bb-434d-b4c2-5f0e306b5458",
   "metadata": {},
   "outputs": [
    {
     "name": "stderr",
     "output_type": "stream",
     "text": [
      "No sentence-transformers model found with name models\\nlp\\maskedlanguagemodel_Mtsamples\\model. Creating a new one with MEAN pooling.\n",
      "Some weights of the model checkpoint at models\\nlp\\maskedlanguagemodel_Mtsamples\\model were not used when initializing BertModel: ['cls.predictions.bias', 'cls.predictions.decoder.bias', 'cls.predictions.decoder.weight', 'cls.predictions.transform.dense.weight', 'cls.predictions.transform.dense.bias', 'cls.predictions.transform.LayerNorm.bias', 'cls.predictions.transform.LayerNorm.weight']\n",
      "- This IS expected if you are initializing BertModel from the checkpoint of a model trained on another task or with another architecture (e.g. initializing a BertForSequenceClassification model from a BertForPreTraining model).\n",
      "- This IS NOT expected if you are initializing BertModel from the checkpoint of a model that you expect to be exactly identical (initializing a BertForSequenceClassification model from a BertForSequenceClassification model).\n",
      "Some weights of BertModel were not initialized from the model checkpoint at models\\nlp\\maskedlanguagemodel_Mtsamples\\model and are newly initialized: ['bert.pooler.dense.bias', 'bert.pooler.dense.weight']\n",
      "You should probably TRAIN this model on a down-stream task to be able to use it for predictions and inference.\n"
     ]
    },
    {
     "name": "stdout",
     "output_type": "stream",
     "text": [
      "[('way inductive', 0.8061), ('algorithm generalize', 0.7585), ('called supervisory', 0.7575), ('analyzes training', 0.7573), ('learning machine', 0.7407), ('consisting set', 0.7301), ('infers function', 0.7287), ('correctly determine', 0.7272), ('unseen situations', 0.7251), ('value', 0.591)]\n",
      "[('way inductive', 0.8061), ('algorithm generalize', 0.7585), ('called supervisory', 0.7575), ('analyzes training', 0.7573), ('learning machine', 0.7407), ('consisting set', 0.7301), ('infers function', 0.7287), ('correctly determine', 0.7272), ('unseen situations', 0.7251), ('value', 0.591)]\n",
      "[('way inductive', 0.8061), ('algorithm generalize', 0.7585), ('called supervisory', 0.7575), ('analyzes training', 0.7573), ('learning machine', 0.7407), ('consisting set', 0.7301), ('infers function', 0.7287), ('correctly determine', 0.7272), ('unseen situations', 0.7251), ('value', 0.591)]\n",
      "[('way inductive', 0.8061), ('algorithm generalize', 0.7585), ('called supervisory', 0.7575), ('analyzes training', 0.7573), ('learning machine', 0.7407), ('consisting set', 0.7301), ('infers function', 0.7287), ('correctly determine', 0.7272), ('unseen situations', 0.7251), ('value', 0.591)]\n",
      "[('way inductive', 0.8061), ('algorithm generalize', 0.7585), ('called supervisory', 0.7575), ('analyzes training', 0.7573), ('learning machine', 0.7407), ('consisting set', 0.7301), ('infers function', 0.7287), ('correctly determine', 0.7272), ('unseen situations', 0.7251), ('value', 0.591)]\n"
     ]
    }
   ],
   "source": [
    "kw_model = KeyBERT(model=model)\n",
    "\n",
    "for doc in [doc1, doc1, doc1, doc1, doc1]:\n",
    "    keywords = kw_model.extract_keywords(\n",
    "        doc,\n",
    "        keyphrase_ngram_range=(1, 2),\n",
    "        stop_words=\"english\",\n",
    "        use_maxsum=True,\n",
    "        nr_candidates=20,\n",
    "        top_n=10,\n",
    "        use_mmr=True,\n",
    "        diversity=0.5,\n",
    "    )\n",
    "    print(keywords)\n"
   ]
  },
  {
   "cell_type": "code",
   "execution_count": 78,
   "id": "8ed12fa8",
   "metadata": {},
   "outputs": [],
   "source": [
    "def extract_keywords(docs, nr_candidates, top_n):\n",
    "\n",
    "    keywords = kw_model.extract_keywords(\n",
    "        docs,\n",
    "        keyphrase_ngram_range=(1, 2),\n",
    "        stop_words=\"english\",\n",
    "        use_maxsum=True,\n",
    "        nr_candidates=nr_candidates,\n",
    "        top_n=max(top_n),\n",
    "        use_mmr=True,\n",
    "        diversity=0.5,\n",
    "    )\n",
    "\n",
    "    return keywords\n",
    "    \n",
    "df[\"keywords\"] = extract_keywords(df[\"transcription\"], df[\"cand\"], df[\"top\"])"
   ]
  },
  {
   "cell_type": "code",
   "execution_count": 79,
   "id": "e2304fb2",
   "metadata": {},
   "outputs": [
    {
     "data": {
      "text/html": [
       "<div>\n",
       "<style scoped>\n",
       "    .dataframe tbody tr th:only-of-type {\n",
       "        vertical-align: middle;\n",
       "    }\n",
       "\n",
       "    .dataframe tbody tr th {\n",
       "        vertical-align: top;\n",
       "    }\n",
       "\n",
       "    .dataframe thead th {\n",
       "        text-align: right;\n",
       "    }\n",
       "</style>\n",
       "<table border=\"1\" class=\"dataframe\">\n",
       "  <thead>\n",
       "    <tr style=\"text-align: right;\">\n",
       "      <th></th>\n",
       "      <th>transcription</th>\n",
       "      <th>cand</th>\n",
       "      <th>top</th>\n",
       "      <th>keywords</th>\n",
       "    </tr>\n",
       "  </thead>\n",
       "  <tbody>\n",
       "    <tr>\n",
       "      <th>0</th>\n",
       "      <td>\\n         Supervised learning is the machine ...</td>\n",
       "      <td>20</td>\n",
       "      <td>10</td>\n",
       "      <td>[(way inductive, 0.8061), (algorithm generaliz...</td>\n",
       "    </tr>\n",
       "    <tr>\n",
       "      <th>1</th>\n",
       "      <td>\\n         Supervised learning is the machine ...</td>\n",
       "      <td>15</td>\n",
       "      <td>8</td>\n",
       "      <td>[(way inductive, 0.8061), (algorithm generaliz...</td>\n",
       "    </tr>\n",
       "    <tr>\n",
       "      <th>2</th>\n",
       "      <td>\\n         Supervised learning is the machine ...</td>\n",
       "      <td>10</td>\n",
       "      <td>5</td>\n",
       "      <td>[(way inductive, 0.8061), (algorithm generaliz...</td>\n",
       "    </tr>\n",
       "    <tr>\n",
       "      <th>3</th>\n",
       "      <td>\\n         Supervised learning is the machine ...</td>\n",
       "      <td>10</td>\n",
       "      <td>5</td>\n",
       "      <td>[(way inductive, 0.8061), (algorithm generaliz...</td>\n",
       "    </tr>\n",
       "    <tr>\n",
       "      <th>4</th>\n",
       "      <td>\\n         Supervised learning is the machine ...</td>\n",
       "      <td>10</td>\n",
       "      <td>5</td>\n",
       "      <td>[(way inductive, 0.8061), (algorithm generaliz...</td>\n",
       "    </tr>\n",
       "  </tbody>\n",
       "</table>\n",
       "</div>"
      ],
      "text/plain": [
       "                                       transcription  cand  top  \\\n",
       "0  \\n         Supervised learning is the machine ...    20   10   \n",
       "1  \\n         Supervised learning is the machine ...    15    8   \n",
       "2  \\n         Supervised learning is the machine ...    10    5   \n",
       "3  \\n         Supervised learning is the machine ...    10    5   \n",
       "4  \\n         Supervised learning is the machine ...    10    5   \n",
       "\n",
       "                                            keywords  \n",
       "0  [(way inductive, 0.8061), (algorithm generaliz...  \n",
       "1  [(way inductive, 0.8061), (algorithm generaliz...  \n",
       "2  [(way inductive, 0.8061), (algorithm generaliz...  \n",
       "3  [(way inductive, 0.8061), (algorithm generaliz...  \n",
       "4  [(way inductive, 0.8061), (algorithm generaliz...  "
      ]
     },
     "execution_count": 79,
     "metadata": {},
     "output_type": "execute_result"
    }
   ],
   "source": [
    "df.head()"
   ]
  },
  {
   "cell_type": "code",
   "execution_count": 80,
   "id": "a03a74f9",
   "metadata": {},
   "outputs": [
    {
     "data": {
      "text/plain": [
       "[('way inductive', 0.8061),\n",
       " ('algorithm generalize', 0.7585),\n",
       " ('called supervisory', 0.7575),\n",
       " ('analyzes training', 0.7573),\n",
       " ('learning machine', 0.7407),\n",
       " ('consisting set', 0.7301),\n",
       " ('infers function', 0.7287),\n",
       " ('correctly determine', 0.7272)]"
      ]
     },
     "execution_count": 80,
     "metadata": {},
     "output_type": "execute_result"
    }
   ],
   "source": [
    "df.keywords = df.apply(lambda x: x[\"keywords\"][:x[\"top\"]], axis=1)\n",
    "df.keywords[1]"
   ]
  },
  {
   "cell_type": "code",
   "execution_count": null,
   "id": "6a19cd00",
   "metadata": {},
   "outputs": [],
   "source": [
    "[\n",
    "    (\"way inductive\", 0.8061),\n",
    "    (\"called supervisory\", 0.7575),\n",
    "    (\"analyzes training\", 0.7573),\n",
    "    (\"consisting set\", 0.7301),\n",
    "    (\"correctly determine\", 0.7272),\n",
    "]\n"
   ]
  },
  {
   "cell_type": "code",
   "execution_count": 9,
   "id": "829a226e",
   "metadata": {},
   "outputs": [],
   "source": [
    "#17.7\n",
    "# ohne diversity: 11.7"
   ]
  },
  {
   "cell_type": "code",
   "execution_count": 31,
   "id": "559acfb4",
   "metadata": {},
   "outputs": [],
   "source": [
    "import pandas as pd\n",
    "\n",
    "df = pd.DataFrame([[1,2,3,4], [5,6,7,8], [9,10,11,12]], columns=['a', 'b', 'c', 'd'])\n",
    "df2 = pd.DataFrame([[1,2,3,5], [5,6,7,9], [9,10,11,13]], columns=['a', 'b', 'c', 'e'])"
   ]
  },
  {
   "cell_type": "code",
   "execution_count": 30,
   "id": "f127feb9",
   "metadata": {},
   "outputs": [
    {
     "data": {
      "text/html": [
       "<div>\n",
       "<style scoped>\n",
       "    .dataframe tbody tr th:only-of-type {\n",
       "        vertical-align: middle;\n",
       "    }\n",
       "\n",
       "    .dataframe tbody tr th {\n",
       "        vertical-align: top;\n",
       "    }\n",
       "\n",
       "    .dataframe thead th {\n",
       "        text-align: right;\n",
       "    }\n",
       "</style>\n",
       "<table border=\"1\" class=\"dataframe\">\n",
       "  <thead>\n",
       "    <tr style=\"text-align: right;\">\n",
       "      <th></th>\n",
       "      <th>a</th>\n",
       "      <th>b</th>\n",
       "      <th>c</th>\n",
       "      <th>d</th>\n",
       "    </tr>\n",
       "  </thead>\n",
       "  <tbody>\n",
       "    <tr>\n",
       "      <th>0</th>\n",
       "      <td>1</td>\n",
       "      <td>2</td>\n",
       "      <td>3</td>\n",
       "      <td>4</td>\n",
       "    </tr>\n",
       "    <tr>\n",
       "      <th>1</th>\n",
       "      <td>5</td>\n",
       "      <td>6</td>\n",
       "      <td>7</td>\n",
       "      <td>8</td>\n",
       "    </tr>\n",
       "    <tr>\n",
       "      <th>2</th>\n",
       "      <td>9</td>\n",
       "      <td>10</td>\n",
       "      <td>11</td>\n",
       "      <td>12</td>\n",
       "    </tr>\n",
       "  </tbody>\n",
       "</table>\n",
       "</div>"
      ],
      "text/plain": [
       "   a   b   c   d\n",
       "0  1   2   3   4\n",
       "1  5   6   7   8\n",
       "2  9  10  11  12"
      ]
     },
     "execution_count": 30,
     "metadata": {},
     "output_type": "execute_result"
    }
   ],
   "source": [
    "df"
   ]
  },
  {
   "cell_type": "code",
   "execution_count": 32,
   "id": "de344915",
   "metadata": {},
   "outputs": [
    {
     "data": {
      "text/html": [
       "<div>\n",
       "<style scoped>\n",
       "    .dataframe tbody tr th:only-of-type {\n",
       "        vertical-align: middle;\n",
       "    }\n",
       "\n",
       "    .dataframe tbody tr th {\n",
       "        vertical-align: top;\n",
       "    }\n",
       "\n",
       "    .dataframe thead th {\n",
       "        text-align: right;\n",
       "    }\n",
       "</style>\n",
       "<table border=\"1\" class=\"dataframe\">\n",
       "  <thead>\n",
       "    <tr style=\"text-align: right;\">\n",
       "      <th></th>\n",
       "      <th>a</th>\n",
       "      <th>b</th>\n",
       "      <th>c</th>\n",
       "      <th>e</th>\n",
       "    </tr>\n",
       "  </thead>\n",
       "  <tbody>\n",
       "    <tr>\n",
       "      <th>0</th>\n",
       "      <td>1</td>\n",
       "      <td>2</td>\n",
       "      <td>3</td>\n",
       "      <td>5</td>\n",
       "    </tr>\n",
       "    <tr>\n",
       "      <th>1</th>\n",
       "      <td>5</td>\n",
       "      <td>6</td>\n",
       "      <td>7</td>\n",
       "      <td>9</td>\n",
       "    </tr>\n",
       "    <tr>\n",
       "      <th>2</th>\n",
       "      <td>9</td>\n",
       "      <td>10</td>\n",
       "      <td>11</td>\n",
       "      <td>13</td>\n",
       "    </tr>\n",
       "  </tbody>\n",
       "</table>\n",
       "</div>"
      ],
      "text/plain": [
       "   a   b   c   e\n",
       "0  1   2   3   5\n",
       "1  5   6   7   9\n",
       "2  9  10  11  13"
      ]
     },
     "execution_count": 32,
     "metadata": {},
     "output_type": "execute_result"
    }
   ],
   "source": [
    "df2"
   ]
  },
  {
   "cell_type": "code",
   "execution_count": 33,
   "id": "0c96e946",
   "metadata": {},
   "outputs": [
    {
     "data": {
      "text/html": [
       "<div>\n",
       "<style scoped>\n",
       "    .dataframe tbody tr th:only-of-type {\n",
       "        vertical-align: middle;\n",
       "    }\n",
       "\n",
       "    .dataframe tbody tr th {\n",
       "        vertical-align: top;\n",
       "    }\n",
       "\n",
       "    .dataframe thead th {\n",
       "        text-align: right;\n",
       "    }\n",
       "</style>\n",
       "<table border=\"1\" class=\"dataframe\">\n",
       "  <thead>\n",
       "    <tr style=\"text-align: right;\">\n",
       "      <th></th>\n",
       "      <th>a</th>\n",
       "      <th>b</th>\n",
       "      <th>c</th>\n",
       "      <th>d</th>\n",
       "      <th>a</th>\n",
       "      <th>b</th>\n",
       "      <th>c</th>\n",
       "      <th>e</th>\n",
       "    </tr>\n",
       "  </thead>\n",
       "  <tbody>\n",
       "    <tr>\n",
       "      <th>0</th>\n",
       "      <td>1</td>\n",
       "      <td>2</td>\n",
       "      <td>3</td>\n",
       "      <td>4</td>\n",
       "      <td>1</td>\n",
       "      <td>2</td>\n",
       "      <td>3</td>\n",
       "      <td>5</td>\n",
       "    </tr>\n",
       "    <tr>\n",
       "      <th>1</th>\n",
       "      <td>5</td>\n",
       "      <td>6</td>\n",
       "      <td>7</td>\n",
       "      <td>8</td>\n",
       "      <td>5</td>\n",
       "      <td>6</td>\n",
       "      <td>7</td>\n",
       "      <td>9</td>\n",
       "    </tr>\n",
       "    <tr>\n",
       "      <th>2</th>\n",
       "      <td>9</td>\n",
       "      <td>10</td>\n",
       "      <td>11</td>\n",
       "      <td>12</td>\n",
       "      <td>9</td>\n",
       "      <td>10</td>\n",
       "      <td>11</td>\n",
       "      <td>13</td>\n",
       "    </tr>\n",
       "  </tbody>\n",
       "</table>\n",
       "</div>"
      ],
      "text/plain": [
       "   a   b   c   d  a   b   c   e\n",
       "0  1   2   3   4  1   2   3   5\n",
       "1  5   6   7   8  5   6   7   9\n",
       "2  9  10  11  12  9  10  11  13"
      ]
     },
     "execution_count": 33,
     "metadata": {},
     "output_type": "execute_result"
    }
   ],
   "source": [
    "pd.concat([df, df2], axis=1)"
   ]
  },
  {
   "cell_type": "code",
   "execution_count": null,
   "id": "fa902ed6",
   "metadata": {},
   "outputs": [],
   "source": []
  },
  {
   "cell_type": "markdown",
   "id": "90101f03",
   "metadata": {},
   "source": [
    "# Model Evaluation"
   ]
  },
  {
   "cell_type": "markdown",
   "id": "a0d19229",
   "metadata": {},
   "source": [
    "## Introduction"
   ]
  },
  {
   "cell_type": "markdown",
   "id": "51a35b62",
   "metadata": {},
   "source": [
    "In this notebook, we will evaluate the performance of the model we trained in the previous notebook. We will use the test dataset to evaluate the model. The test dataset is a set of images that the model has never seen before. This will give us an indication of how the model will perform with images that it has never seen before."
   ]
  }
 ],
 "metadata": {
  "kernelspec": {
   "display_name": "Python 3.10.6 ('nlp_masterthesis')",
   "language": "python",
   "name": "python3"
  },
  "language_info": {
   "codemirror_mode": {
    "name": "ipython",
    "version": 3
   },
   "file_extension": ".py",
   "mimetype": "text/x-python",
   "name": "python",
   "nbconvert_exporter": "python",
   "pygments_lexer": "ipython3",
   "version": "3.10.6"
  },
  "vscode": {
   "interpreter": {
    "hash": "40268d9a6ead8a84520c08d0b901e046bd2176336d854cc732bdbdbf7245879e"
   }
  }
 },
 "nbformat": 4,
 "nbformat_minor": 5
}
