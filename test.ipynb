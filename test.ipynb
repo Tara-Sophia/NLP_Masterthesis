{
 "cells": [
  {
   "cell_type": "code",
   "execution_count": 4,
   "metadata": {},
   "outputs": [],
   "source": [
    "from transformers import AutoTokenizer, AutoModelForMaskedLM, pipeline\n",
    "from keybert import KeyBERT"
   ]
  },
  {
   "cell_type": "code",
   "execution_count": 7,
   "metadata": {},
   "outputs": [],
   "source": [
    "def load_pipeline():\n",
    "    \n",
    "    tokenizer = AutoTokenizer.from_pretrained(\"tarasophia/Bio_ClinicalBERT_medical\", model_max_length=512)\n",
    "    model = AutoModelForMaskedLM.from_pretrained(\"tarasophia/Bio_ClinicalBERT_medical\")\n",
    "\n",
    "    pipe = pipeline(\n",
    "        \"feature-extraction\",\n",
    "        model=model,\n",
    "        tokenizer=tokenizer,\n",
    "    )\n",
    "    return pipe\n",
    "\n",
    "\n",
    "\n",
    "def keyword_extraction(text: str, pipe: pipeline, nr_candidates: int, top_n: int) -> list[tuple]:\n",
    "    kw_model = KeyBERT(model=pipe)\n",
    "    keywords = kw_model.extract_keywords(\n",
    "        text,\n",
    "        keyphrase_ngram_range=(1, 2),\n",
    "        stop_words=\"english\",\n",
    "        use_maxsum=True,\n",
    "        nr_candidates=nr_candidates,\n",
    "        top_n=top_n,\n",
    "        use_mmr=True,\n",
    "        diversity=0.5,\n",
    "    )\n",
    "    return keywords\n",
    "\n",
    "test_str = \"I have a headache and a sore throat\"\n",
    "pipe = load_pipeline()\n",
    "keywords_weights = keyword_extraction(test_str, pipe, 20, 10)\n",
    "keywords = [keyword[0] for keyword in keywords_weights]"
   ]
  },
  {
   "cell_type": "code",
   "execution_count": 8,
   "metadata": {},
   "outputs": [
    {
     "data": {
      "text/plain": [
       "['headache sore', 'sore throat', 'sore', 'headache', 'throat']"
      ]
     },
     "execution_count": 8,
     "metadata": {},
     "output_type": "execute_result"
    }
   ],
   "source": [
    "keywords"
   ]
  },
  {
   "cell_type": "code",
   "execution_count": null,
   "metadata": {},
   "outputs": [],
   "source": []
  }
 ],
 "metadata": {
  "kernelspec": {
   "display_name": "Python 3.10.6 ('nlp_masterthesis')",
   "language": "python",
   "name": "python3"
  },
  "language_info": {
   "codemirror_mode": {
    "name": "ipython",
    "version": 3
   },
   "file_extension": ".py",
   "mimetype": "text/x-python",
   "name": "python",
   "nbconvert_exporter": "python",
   "pygments_lexer": "ipython3",
   "version": "3.10.6"
  },
  "orig_nbformat": 4,
  "vscode": {
   "interpreter": {
    "hash": "40268d9a6ead8a84520c08d0b901e046bd2176336d854cc732bdbdbf7245879e"
   }
  }
 },
 "nbformat": 4,
 "nbformat_minor": 2
}
