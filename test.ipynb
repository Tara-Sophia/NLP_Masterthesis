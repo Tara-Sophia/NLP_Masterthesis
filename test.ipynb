{
 "cells": [
  {
   "cell_type": "code",
   "execution_count": 4,
   "id": "ef9a9005",
   "metadata": {},
   "outputs": [
    {
     "data": {
      "text/html": [
       "<div>\n",
       "<style scoped>\n",
       "    .dataframe tbody tr th:only-of-type {\n",
       "        vertical-align: middle;\n",
       "    }\n",
       "\n",
       "    .dataframe tbody tr th {\n",
       "        vertical-align: top;\n",
       "    }\n",
       "\n",
       "    .dataframe thead th {\n",
       "        text-align: right;\n",
       "    }\n",
       "</style>\n",
       "<table border=\"1\" class=\"dataframe\">\n",
       "  <thead>\n",
       "    <tr style=\"text-align: right;\">\n",
       "      <th></th>\n",
       "      <th>Unnamed: 0</th>\n",
       "      <th>description</th>\n",
       "      <th>medical_specialty</th>\n",
       "      <th>sample_name</th>\n",
       "      <th>transcription</th>\n",
       "      <th>keywords</th>\n",
       "    </tr>\n",
       "  </thead>\n",
       "  <tbody>\n",
       "    <tr>\n",
       "      <th>0</th>\n",
       "      <td>0</td>\n",
       "      <td>A 23-year-old white female presents with complaint of allergies.</td>\n",
       "      <td>Allergy / Immunology</td>\n",
       "      <td>Allergic Rhinitis</td>\n",
       "      <td>SUBJECTIVE:,  This 23-year-old white female presents with complaint of allergies.  She used to have allergies when she lived in Seattle but she thinks they are worse here.  In the past, she has tried Claritin, and Zyrtec.  Both worked for short time but then seemed to lose effectiveness.  She has used Allegra also.  She used that last summer and she began using it again two weeks ago.  It does not appear to be working very well.  She has used over-the-counter sprays but no prescription nasal sprays.  She does have asthma but doest not require daily medication for this and does not think it is flaring up.,MEDICATIONS: , Her only medication currently is Ortho Tri-Cyclen and the Allegra.,ALLERGIES: , She has no known medicine allergies.,OBJECTIVE:,Vitals:  Weight was 130 pounds and blood pressure 124/78.,HEENT:  Her throat was mildly erythematous without exudate.  Nasal mucosa was erythematous and swollen.  Only clear drainage was seen.  TMs were clear.,Neck:  Supple without adenopathy.,Lungs:  Clear.,ASSESSMENT:,  Allergic rhinitis.,PLAN:,1.  She will try Zyrtec instead of Allegra again.  Another option will be to use loratadine.  She does not think she has prescription coverage so that might be cheaper.,2.  Samples of Nasonex two sprays in each nostril given for three weeks.  A prescription was written as well.</td>\n",
       "      <td>allergy / immunology, allergic rhinitis, allergies, asthma, nasal sprays, rhinitis, nasal, erythematous, allegra, sprays, allergic,</td>\n",
       "    </tr>\n",
       "    <tr>\n",
       "      <th>1</th>\n",
       "      <td>1</td>\n",
       "      <td>Consult for laparoscopic gastric bypass.</td>\n",
       "      <td>Bariatrics</td>\n",
       "      <td>Laparoscopic Gastric Bypass Consult - 2</td>\n",
       "      <td>PAST MEDICAL HISTORY:, He has difficulty climbing stairs, difficulty with airline seats, tying shoes, used to public seating, and lifting objects off the floor.  He exercises three times a week at home and does cardio.  He has difficulty walking two blocks or five flights of stairs.  Difficulty with snoring.  He has muscle and joint pains including knee pain, back pain, foot and ankle pain, and swelling.  He has gastroesophageal reflux disease.,PAST SURGICAL HISTORY:, Includes reconstructive surgery on his right hand 13 years ago.  ,SOCIAL HISTORY:, He is currently single.  He has about ten drinks a year.  He had smoked significantly up until several months ago.  He now smokes less than three cigarettes a day.,FAMILY HISTORY:, Heart disease in both grandfathers, grandmother with stroke, and a grandmother with diabetes.  Denies obesity and hypertension in other family members.,CURRENT MEDICATIONS:, None.,ALLERGIES:,  He is allergic to Penicillin.,MISCELLANEOUS/EATING HISTORY:, He has been going to support groups for seven months with Lynn Holmberg in Greenwich and he is from Eastchester, New York and he feels that we are the appropriate program.  He had a poor experience with the Greenwich program.  Eating history, he is not an emotional eater.  Does not like sweets.  He likes big portions and carbohydrates.  He likes chicken and not steak.  He currently weighs 312 pounds.  Ideal body weight would be 170 pounds.  He is 142 pounds overweight.  If ,he lost 60% of his excess body weight that would be 84 pounds and he should weigh about 228.,REVIEW OF SYSTEMS: ,Negative for head, neck, heart, lungs, GI, GU, orthopedic, and skin.  Specifically denies chest pain, heart attack, coronary artery disease, congestive heart failure, arrhythmia, atrial fibrillation, pacemaker, high cholesterol, pulmonary embolism, high blood pressure, CVA, venous insufficiency, thrombophlebitis, asthma, shortness of breath, COPD, emphysema, sleep apnea, diabetes, leg and foot swelling, osteoarthritis, rheumatoid arthritis, hiatal hernia, peptic ulcer disease, gallstones, infected gallbladder, pancreatitis, fatty liver, hepatitis, hemorrhoids, rectal bleeding, polyps, incontinence of stool, urinary stress incontinence, or cancer.  Denies cellulitis, pseudotumor cerebri, meningitis, or encephalitis.,PHYSICAL EXAMINATION:, He is alert and oriented x 3.  Cranial nerves II-XII are intact.  Afebrile.  Vital Signs are stable.</td>\n",
       "      <td>bariatrics, laparoscopic gastric bypass, weight loss programs, gastric bypass, atkin's diet, weight watcher's, body weight, laparoscopic gastric, weight loss, pounds, months, weight, laparoscopic, band, loss, diets, overweight, lost</td>\n",
       "    </tr>\n",
       "    <tr>\n",
       "      <th>2</th>\n",
       "      <td>2</td>\n",
       "      <td>Consult for laparoscopic gastric bypass.</td>\n",
       "      <td>Bariatrics</td>\n",
       "      <td>Laparoscopic Gastric Bypass Consult - 1</td>\n",
       "      <td>HISTORY OF PRESENT ILLNESS: , I have seen ABC today.  He is a very pleasant gentleman who is 42 years old, 344 pounds.  He is 5'9\".  He has a BMI of 51.  He has been overweight for ten years since the age of 33, at his highest he was 358 pounds, at his lowest 260.  He is pursuing surgical attempts of weight loss to feel good, get healthy, and begin to exercise again.  He wants to be able to exercise and play volleyball.  Physically, he is sluggish.  He gets tired quickly.  He does not go out often.  When he loses weight he always regains it and he gains back more than he lost.  His biggest weight loss is 25 pounds and it was three months before he gained it back.  He did six months of not drinking alcohol and not taking in many calories.  He has been on multiple commercial weight loss programs including Slim Fast for one month one year ago and Atkin's Diet for one month two years ago.,PAST MEDICAL HISTORY: , He has difficulty climbing stairs, difficulty with airline seats, tying shoes, used to public seating, difficulty walking, high cholesterol, and high blood pressure.  He has asthma and difficulty walking two blocks or going eight to ten steps.  He has sleep apnea and snoring.  He is a diabetic, on medication.  He has joint pain, knee pain, back pain, foot and ankle pain, leg and foot swelling.  He has hemorrhoids.,PAST SURGICAL HISTORY: , Includes orthopedic or knee surgery.,SOCIAL HISTORY: , He is currently single.  He drinks alcohol ten to twelve drinks a week, but does not drink five days a week and then will binge drink.  He smokes one and a half pack a day for 15 years, but he has recently stopped smoking for the past two weeks.,FAMILY HISTORY: , Obesity, heart disease, and diabetes.  Family history is negative for hypertension and stroke.,CURRENT MEDICATIONS:,  Include Diovan, Crestor, and Tricor.,MISCELLANEOUS/EATING HISTORY:  ,He says a couple of friends of his have had heart attacks and have had died.  He used to drink everyday, but stopped two years ago.  He now only drinks on weekends.  He is on his second week of Chantix, which is a medication to come off smoking completely.  Eating, he eats bad food.  He is single.  He eats things like bacon, eggs, and cheese, cheeseburgers, fast food, eats four times a day, seven in the morning, at noon, 9 p.m., and 2 a.m.  He currently weighs 344 pounds and 5'9\".  His ideal body weight is 160 pounds.  He is 184 pounds overweight.  If he lost 70% of his excess body weight that would be 129 pounds and that would get him down to 215.,REVIEW OF SYSTEMS: , Negative for head, neck, heart, lungs, GI, GU, orthopedic, or skin.  He also is positive for gout.  He denies chest pain, heart attack, coronary artery disease, congestive heart failure, arrhythmia, atrial fibrillation, pacemaker, pulmonary embolism, or CVA.  He denies venous insufficiency or thrombophlebitis.  Denies shortness of breath, COPD, or emphysema.  Denies thyroid problems, hip pain, osteoarthritis, rheumatoid arthritis, GERD, hiatal hernia, peptic ulcer disease, gallstones, infected gallbladder, pancreatitis, fatty liver, hepatitis, rectal bleeding, polyps, incontinence of stool, urinary stress incontinence, or cancer.  He denies cellulitis, pseudotumor cerebri, meningitis, or encephalitis.,PHYSICAL EXAMINATION:  ,He is alert and oriented x 3.  Cranial nerves II-XII are intact.  Neck is soft and supple.  Lungs:  He has positive wheezing bilaterally.  Heart is regular rhythm and rate.  His abdomen is soft.  Extremities:  He has 1+ pitting edema.,IMPRESSION/PLAN:,  I have explained to him the risks and potential complications of laparoscopic gastric bypass in detail and these include bleeding, infection, deep venous thrombosis, pulmonary embolism, leakage from the gastrojejuno-anastomosis, jejunojejuno-anastomosis, and possible bowel obstruction among other potential complications.  He understands.  He wants to proceed with workup and evaluation for laparoscopic Roux-en-Y gastric bypass.  He will need to get a letter of approval from Dr. XYZ.  He will need to see a nutritionist and mental health worker.  He will need an upper endoscopy by either Dr. XYZ.  He will need to go to Dr. XYZ as he previously had a sleep study.  We will need another sleep study.  He will need H. pylori testing, thyroid function tests, LFTs, glycosylated hemoglobin, and fasting blood sugar.  After this is performed, we will submit him for insurance approval.</td>\n",
       "      <td>bariatrics, laparoscopic gastric bypass, heart attacks, body weight, pulmonary embolism, potential complications, sleep study, weight loss, gastric bypass, anastomosis, loss, sleep, laparoscopic, gastric, bypass, heart, pounds, weight,</td>\n",
       "    </tr>\n",
       "    <tr>\n",
       "      <th>3</th>\n",
       "      <td>3</td>\n",
       "      <td>2-D M-Mode. Doppler.</td>\n",
       "      <td>Cardiovascular / Pulmonary</td>\n",
       "      <td>2-D Echocardiogram - 1</td>\n",
       "      <td>2-D M-MODE: , ,1.  Left atrial enlargement with left atrial diameter of 4.7 cm.,2.  Normal size right and left ventricle.,3.  Normal LV systolic function with left ventricular ejection fraction of 51%.,4.  Normal LV diastolic function.,5.  No pericardial effusion.,6.  Normal morphology of aortic valve, mitral valve, tricuspid valve, and pulmonary valve.,7.  PA systolic pressure is 36 mmHg.,DOPPLER: , ,1.  Mild mitral and tricuspid regurgitation.,2.  Trace aortic and pulmonary regurgitation.</td>\n",
       "      <td>cardiovascular / pulmonary, 2-d m-mode, doppler, aortic valve, atrial enlargement, diastolic function, ejection fraction, mitral, mitral valve, pericardial effusion, pulmonary valve, regurgitation, systolic function, tricuspid, tricuspid valve, normal lv</td>\n",
       "    </tr>\n",
       "    <tr>\n",
       "      <th>4</th>\n",
       "      <td>4</td>\n",
       "      <td>2-D Echocardiogram</td>\n",
       "      <td>Cardiovascular / Pulmonary</td>\n",
       "      <td>2-D Echocardiogram - 2</td>\n",
       "      <td>1.  The left ventricular cavity size and wall thickness appear normal.  The wall motion and left ventricular systolic function appears hyperdynamic with estimated ejection fraction of 70% to 75%.  There is near-cavity obliteration seen.  There also appears to be increased left ventricular outflow tract gradient at the mid cavity level consistent with hyperdynamic left ventricular systolic function.  There is abnormal left ventricular relaxation pattern seen as well as elevated left atrial pressures seen by Doppler examination.,2.  The left atrium appears mildly dilated.,3.  The right atrium and right ventricle appear normal.,4.  The aortic root appears normal.,5.  The aortic valve appears calcified with mild aortic valve stenosis, calculated aortic valve area is 1.3 cm square with a maximum instantaneous gradient of 34 and a mean gradient of 19 mm.,6.  There is mitral annular calcification extending to leaflets and supportive structures with thickening of mitral valve leaflets with mild mitral regurgitation.,7.  The tricuspid valve appears normal with trace tricuspid regurgitation with moderate pulmonary artery hypertension.  Estimated pulmonary artery systolic pressure is 49 mmHg.  Estimated right atrial pressure of 10 mmHg.,8.  The pulmonary valve appears normal with trace pulmonary insufficiency.,9.  There is no pericardial effusion or intracardiac mass seen.,10.  There is a color Doppler suggestive of a patent foramen ovale with lipomatous hypertrophy of the interatrial septum.,11.  The study was somewhat technically limited and hence subtle abnormalities could be missed from the study.,</td>\n",
       "      <td>cardiovascular / pulmonary, 2-d, doppler, echocardiogram, annular, aortic root, aortic valve, atrial, atrium, calcification, cavity, ejection fraction, mitral, obliteration, outflow, regurgitation, relaxation pattern, stenosis, systolic function, tricuspid, valve, ventricular, ventricular cavity, wall motion, pulmonary artery</td>\n",
       "    </tr>\n",
       "  </tbody>\n",
       "</table>\n",
       "</div>"
      ],
      "text/plain": [
       "   Unnamed: 0  \\\n",
       "0  0            \n",
       "1  1            \n",
       "2  2            \n",
       "3  3            \n",
       "4  4            \n",
       "\n",
       "                                                         description  \\\n",
       "0   A 23-year-old white female presents with complaint of allergies.   \n",
       "1   Consult for laparoscopic gastric bypass.                           \n",
       "2   Consult for laparoscopic gastric bypass.                           \n",
       "3   2-D M-Mode. Doppler.                                               \n",
       "4   2-D Echocardiogram                                                 \n",
       "\n",
       "             medical_specialty                                sample_name  \\\n",
       "0   Allergy / Immunology         Allergic Rhinitis                          \n",
       "1   Bariatrics                   Laparoscopic Gastric Bypass Consult - 2    \n",
       "2   Bariatrics                   Laparoscopic Gastric Bypass Consult - 1    \n",
       "3   Cardiovascular / Pulmonary   2-D Echocardiogram - 1                     \n",
       "4   Cardiovascular / Pulmonary   2-D Echocardiogram - 2                     \n",
       "\n",
       "                                                                                                                                                                                                                                                                                                                                                                                                                                                                                                                                                                                                                                                                                                                                                                                                                                                                                                                                                                                                                                                                                                                                                                                                                                                                                                                                                                                                                                                                                                                                                                                                                                                                                                                                                                                                                                                                                                                                                                                                                                                                                                                                                                                                                                                                                                                                                                                                                                                                                                                                                                                                                                                                                                                                                                                                                                                                                                                                                                                                                                                                                                                                                                                                                                                                                                                                                                                                                                                                                                                                                                                                                                                                                                                                                                                                                                                                                                                                                                                                                                                                                                                                                                                                                                                                                                                                                                                                                                                                                                                                                                                            transcription  \\\n",
       "0  SUBJECTIVE:,  This 23-year-old white female presents with complaint of allergies.  She used to have allergies when she lived in Seattle but she thinks they are worse here.  In the past, she has tried Claritin, and Zyrtec.  Both worked for short time but then seemed to lose effectiveness.  She has used Allegra also.  She used that last summer and she began using it again two weeks ago.  It does not appear to be working very well.  She has used over-the-counter sprays but no prescription nasal sprays.  She does have asthma but doest not require daily medication for this and does not think it is flaring up.,MEDICATIONS: , Her only medication currently is Ortho Tri-Cyclen and the Allegra.,ALLERGIES: , She has no known medicine allergies.,OBJECTIVE:,Vitals:  Weight was 130 pounds and blood pressure 124/78.,HEENT:  Her throat was mildly erythematous without exudate.  Nasal mucosa was erythematous and swollen.  Only clear drainage was seen.  TMs were clear.,Neck:  Supple without adenopathy.,Lungs:  Clear.,ASSESSMENT:,  Allergic rhinitis.,PLAN:,1.  She will try Zyrtec instead of Allegra again.  Another option will be to use loratadine.  She does not think she has prescription coverage so that might be cheaper.,2.  Samples of Nasonex two sprays in each nostril given for three weeks.  A prescription was written as well.                                                                                                                                                                                                                                                                                                                                                                                                                                                                                                                                                                                                                                                                                                                                                                                                                                                                                                                                                                                                                                                                                                                                                                                                                                                                                                                                                                                                                                                                                                                                                                                                                                                                                                                                                                                                                                                                                                                                                                                                                                                                                                                                                                                                                                                                                                                                                                                                                                                                                                                                                                                                                                                                                                                                                                                                                                                                                                                                                                                                                                                                                                                                                                                                                      \n",
       "1  PAST MEDICAL HISTORY:, He has difficulty climbing stairs, difficulty with airline seats, tying shoes, used to public seating, and lifting objects off the floor.  He exercises three times a week at home and does cardio.  He has difficulty walking two blocks or five flights of stairs.  Difficulty with snoring.  He has muscle and joint pains including knee pain, back pain, foot and ankle pain, and swelling.  He has gastroesophageal reflux disease.,PAST SURGICAL HISTORY:, Includes reconstructive surgery on his right hand 13 years ago.  ,SOCIAL HISTORY:, He is currently single.  He has about ten drinks a year.  He had smoked significantly up until several months ago.  He now smokes less than three cigarettes a day.,FAMILY HISTORY:, Heart disease in both grandfathers, grandmother with stroke, and a grandmother with diabetes.  Denies obesity and hypertension in other family members.,CURRENT MEDICATIONS:, None.,ALLERGIES:,  He is allergic to Penicillin.,MISCELLANEOUS/EATING HISTORY:, He has been going to support groups for seven months with Lynn Holmberg in Greenwich and he is from Eastchester, New York and he feels that we are the appropriate program.  He had a poor experience with the Greenwich program.  Eating history, he is not an emotional eater.  Does not like sweets.  He likes big portions and carbohydrates.  He likes chicken and not steak.  He currently weighs 312 pounds.  Ideal body weight would be 170 pounds.  He is 142 pounds overweight.  If ,he lost 60% of his excess body weight that would be 84 pounds and he should weigh about 228.,REVIEW OF SYSTEMS: ,Negative for head, neck, heart, lungs, GI, GU, orthopedic, and skin.  Specifically denies chest pain, heart attack, coronary artery disease, congestive heart failure, arrhythmia, atrial fibrillation, pacemaker, high cholesterol, pulmonary embolism, high blood pressure, CVA, venous insufficiency, thrombophlebitis, asthma, shortness of breath, COPD, emphysema, sleep apnea, diabetes, leg and foot swelling, osteoarthritis, rheumatoid arthritis, hiatal hernia, peptic ulcer disease, gallstones, infected gallbladder, pancreatitis, fatty liver, hepatitis, hemorrhoids, rectal bleeding, polyps, incontinence of stool, urinary stress incontinence, or cancer.  Denies cellulitis, pseudotumor cerebri, meningitis, or encephalitis.,PHYSICAL EXAMINATION:, He is alert and oriented x 3.  Cranial nerves II-XII are intact.  Afebrile.  Vital Signs are stable.                                                                                                                                                                                                                                                                                                                                                                                                                                                                                                                                                                                                                                                                                                                                                                                                                                                                                                                                                                                                                                                                                                                                                                                                                                                                                                                                                                                                                                                                                                                                                                                                                                                                                                                                                                                                                                                                                                                                                                                                                                                                          \n",
       "2  HISTORY OF PRESENT ILLNESS: , I have seen ABC today.  He is a very pleasant gentleman who is 42 years old, 344 pounds.  He is 5'9\".  He has a BMI of 51.  He has been overweight for ten years since the age of 33, at his highest he was 358 pounds, at his lowest 260.  He is pursuing surgical attempts of weight loss to feel good, get healthy, and begin to exercise again.  He wants to be able to exercise and play volleyball.  Physically, he is sluggish.  He gets tired quickly.  He does not go out often.  When he loses weight he always regains it and he gains back more than he lost.  His biggest weight loss is 25 pounds and it was three months before he gained it back.  He did six months of not drinking alcohol and not taking in many calories.  He has been on multiple commercial weight loss programs including Slim Fast for one month one year ago and Atkin's Diet for one month two years ago.,PAST MEDICAL HISTORY: , He has difficulty climbing stairs, difficulty with airline seats, tying shoes, used to public seating, difficulty walking, high cholesterol, and high blood pressure.  He has asthma and difficulty walking two blocks or going eight to ten steps.  He has sleep apnea and snoring.  He is a diabetic, on medication.  He has joint pain, knee pain, back pain, foot and ankle pain, leg and foot swelling.  He has hemorrhoids.,PAST SURGICAL HISTORY: , Includes orthopedic or knee surgery.,SOCIAL HISTORY: , He is currently single.  He drinks alcohol ten to twelve drinks a week, but does not drink five days a week and then will binge drink.  He smokes one and a half pack a day for 15 years, but he has recently stopped smoking for the past two weeks.,FAMILY HISTORY: , Obesity, heart disease, and diabetes.  Family history is negative for hypertension and stroke.,CURRENT MEDICATIONS:,  Include Diovan, Crestor, and Tricor.,MISCELLANEOUS/EATING HISTORY:  ,He says a couple of friends of his have had heart attacks and have had died.  He used to drink everyday, but stopped two years ago.  He now only drinks on weekends.  He is on his second week of Chantix, which is a medication to come off smoking completely.  Eating, he eats bad food.  He is single.  He eats things like bacon, eggs, and cheese, cheeseburgers, fast food, eats four times a day, seven in the morning, at noon, 9 p.m., and 2 a.m.  He currently weighs 344 pounds and 5'9\".  His ideal body weight is 160 pounds.  He is 184 pounds overweight.  If he lost 70% of his excess body weight that would be 129 pounds and that would get him down to 215.,REVIEW OF SYSTEMS: , Negative for head, neck, heart, lungs, GI, GU, orthopedic, or skin.  He also is positive for gout.  He denies chest pain, heart attack, coronary artery disease, congestive heart failure, arrhythmia, atrial fibrillation, pacemaker, pulmonary embolism, or CVA.  He denies venous insufficiency or thrombophlebitis.  Denies shortness of breath, COPD, or emphysema.  Denies thyroid problems, hip pain, osteoarthritis, rheumatoid arthritis, GERD, hiatal hernia, peptic ulcer disease, gallstones, infected gallbladder, pancreatitis, fatty liver, hepatitis, rectal bleeding, polyps, incontinence of stool, urinary stress incontinence, or cancer.  He denies cellulitis, pseudotumor cerebri, meningitis, or encephalitis.,PHYSICAL EXAMINATION:  ,He is alert and oriented x 3.  Cranial nerves II-XII are intact.  Neck is soft and supple.  Lungs:  He has positive wheezing bilaterally.  Heart is regular rhythm and rate.  His abdomen is soft.  Extremities:  He has 1+ pitting edema.,IMPRESSION/PLAN:,  I have explained to him the risks and potential complications of laparoscopic gastric bypass in detail and these include bleeding, infection, deep venous thrombosis, pulmonary embolism, leakage from the gastrojejuno-anastomosis, jejunojejuno-anastomosis, and possible bowel obstruction among other potential complications.  He understands.  He wants to proceed with workup and evaluation for laparoscopic Roux-en-Y gastric bypass.  He will need to get a letter of approval from Dr. XYZ.  He will need to see a nutritionist and mental health worker.  He will need an upper endoscopy by either Dr. XYZ.  He will need to go to Dr. XYZ as he previously had a sleep study.  We will need another sleep study.  He will need H. pylori testing, thyroid function tests, LFTs, glycosylated hemoglobin, and fasting blood sugar.  After this is performed, we will submit him for insurance approval.   \n",
       "3  2-D M-MODE: , ,1.  Left atrial enlargement with left atrial diameter of 4.7 cm.,2.  Normal size right and left ventricle.,3.  Normal LV systolic function with left ventricular ejection fraction of 51%.,4.  Normal LV diastolic function.,5.  No pericardial effusion.,6.  Normal morphology of aortic valve, mitral valve, tricuspid valve, and pulmonary valve.,7.  PA systolic pressure is 36 mmHg.,DOPPLER: , ,1.  Mild mitral and tricuspid regurgitation.,2.  Trace aortic and pulmonary regurgitation.                                                                                                                                                                                                                                                                                                                                                                                                                                                                                                                                                                                                                                                                                                                                                                                                                                                                                                                                                                                                                                                                                                                                                                                                                                                                                                                                                                                                                                                                                                                                                                                                                                                                                                                                                                                                                                                                                                                                                                                                                                                                                                                                                                                                                                                                                                                                                                                                                                                                                                                                                                                                                                                                                                                                                                                                                                                                                                                                                                                                                                                                                                                                                                                                                                                                                                                                                                                                                                                                                                                                                                                                                                                                                                                                                                                                                                                                                                                                                                                                                                                                                          \n",
       "4  1.  The left ventricular cavity size and wall thickness appear normal.  The wall motion and left ventricular systolic function appears hyperdynamic with estimated ejection fraction of 70% to 75%.  There is near-cavity obliteration seen.  There also appears to be increased left ventricular outflow tract gradient at the mid cavity level consistent with hyperdynamic left ventricular systolic function.  There is abnormal left ventricular relaxation pattern seen as well as elevated left atrial pressures seen by Doppler examination.,2.  The left atrium appears mildly dilated.,3.  The right atrium and right ventricle appear normal.,4.  The aortic root appears normal.,5.  The aortic valve appears calcified with mild aortic valve stenosis, calculated aortic valve area is 1.3 cm square with a maximum instantaneous gradient of 34 and a mean gradient of 19 mm.,6.  There is mitral annular calcification extending to leaflets and supportive structures with thickening of mitral valve leaflets with mild mitral regurgitation.,7.  The tricuspid valve appears normal with trace tricuspid regurgitation with moderate pulmonary artery hypertension.  Estimated pulmonary artery systolic pressure is 49 mmHg.  Estimated right atrial pressure of 10 mmHg.,8.  The pulmonary valve appears normal with trace pulmonary insufficiency.,9.  There is no pericardial effusion or intracardiac mass seen.,10.  There is a color Doppler suggestive of a patent foramen ovale with lipomatous hypertrophy of the interatrial septum.,11.  The study was somewhat technically limited and hence subtle abnormalities could be missed from the study.,                                                                                                                                                                                                                                                                                                                                                                                                                                                                                                                                                                                                                                                                                                                                                                                                                                                                                                                                                                                                                                                                                                                                                                                                                                                                                                                                                                                                                                                                                                                                                                                                                                                                                                                                                                                                                                                                                                                                                                                                                                                                                                                                                                                                                                                                                                                                                                                                                                                                                                                                                                                                                                                                                                                                                                                                                                                                                                                       \n",
       "\n",
       "                                                                                                                                                                                                                                                                                                                                  keywords  \n",
       "0  allergy / immunology, allergic rhinitis, allergies, asthma, nasal sprays, rhinitis, nasal, erythematous, allegra, sprays, allergic,                                                                                                                                                                                                      \n",
       "1  bariatrics, laparoscopic gastric bypass, weight loss programs, gastric bypass, atkin's diet, weight watcher's, body weight, laparoscopic gastric, weight loss, pounds, months, weight, laparoscopic, band, loss, diets, overweight, lost                                                                                                 \n",
       "2  bariatrics, laparoscopic gastric bypass, heart attacks, body weight, pulmonary embolism, potential complications, sleep study, weight loss, gastric bypass, anastomosis, loss, sleep, laparoscopic, gastric, bypass, heart, pounds, weight,                                                                                              \n",
       "3  cardiovascular / pulmonary, 2-d m-mode, doppler, aortic valve, atrial enlargement, diastolic function, ejection fraction, mitral, mitral valve, pericardial effusion, pulmonary valve, regurgitation, systolic function, tricuspid, tricuspid valve, normal lv                                                                           \n",
       "4  cardiovascular / pulmonary, 2-d, doppler, echocardiogram, annular, aortic root, aortic valve, atrial, atrium, calcification, cavity, ejection fraction, mitral, obliteration, outflow, regurgitation, relaxation pattern, stenosis, systolic function, tricuspid, valve, ventricular, ventricular cavity, wall motion, pulmonary artery  "
      ]
     },
     "execution_count": 4,
     "metadata": {},
     "output_type": "execute_result"
    }
   ],
   "source": [
    "import pandas as pd\n",
    "df_original = pd.read_csv(\"data/raw/nlp/mtsamples/mtsamples.csv\")\n",
    "df_original.head()"
   ]
  },
  {
   "cell_type": "code",
   "execution_count": 9,
   "id": "05a65110-3d67-4542-b32c-917b65ee3e9f",
   "metadata": {
    "execution": {
     "iopub.execute_input": "2022-11-07T08:57:12.387418Z",
     "iopub.status.busy": "2022-11-07T08:57:12.387080Z",
     "iopub.status.idle": "2022-11-07T08:57:12.433398Z",
     "shell.execute_reply": "2022-11-07T08:57:12.432570Z",
     "shell.execute_reply.started": "2022-11-07T08:57:12.387400Z"
    }
   },
   "outputs": [
    {
     "name": "stderr",
     "output_type": "stream",
     "text": [
      "/var/folders/7p/lw9128713_9433llvvhnlv680000gn/T/ipykernel_9278/2141448523.py:3: FutureWarning: Passing a negative integer is deprecated in version 1.0 and will not be supported in future version. Instead, use None to not limit the column width.\n",
      "  pd.set_option('display.max_colwidth', -1)\n"
     ]
    },
    {
     "data": {
      "text/html": [
       "<div>\n",
       "<style scoped>\n",
       "    .dataframe tbody tr th:only-of-type {\n",
       "        vertical-align: middle;\n",
       "    }\n",
       "\n",
       "    .dataframe tbody tr th {\n",
       "        vertical-align: top;\n",
       "    }\n",
       "\n",
       "    .dataframe thead th {\n",
       "        text-align: right;\n",
       "    }\n",
       "</style>\n",
       "<table border=\"1\" class=\"dataframe\">\n",
       "  <thead>\n",
       "    <tr style=\"text-align: right;\">\n",
       "      <th></th>\n",
       "      <th>Unnamed: 0</th>\n",
       "      <th>description</th>\n",
       "      <th>medical_specialty</th>\n",
       "      <th>sample_name</th>\n",
       "      <th>transcription</th>\n",
       "      <th>keywords</th>\n",
       "      <th>keywords_list</th>\n",
       "      <th>nr_candidates</th>\n",
       "      <th>top_n</th>\n",
       "      <th>transcription_f_MLM_weights</th>\n",
       "      <th>transcription_f_MLM</th>\n",
       "    </tr>\n",
       "  </thead>\n",
       "  <tbody>\n",
       "    <tr>\n",
       "      <th>0</th>\n",
       "      <td>3</td>\n",
       "      <td>2-D M-Mode. Doppler.</td>\n",
       "      <td>Cardiovascular / Pulmonary</td>\n",
       "      <td>2-D Echocardiogram - 1</td>\n",
       "      <td>mode leave atrial enlargement leave atrial diameter normal size right leave ventricle normal lv systolic function leave ventricular ejection fraction normal lv diastolic function pericardial effusion normal morphology aortic valve mitral valve tricuspid valve pulmonary valve pa systolic pressure mmhg doppler mild mitral tricuspid regurgitation trace aortic pulmonary regurgitation</td>\n",
       "      <td>cardiovascular / pulmonary, 2-d m-mode, doppler, aortic valve, atrial enlargement, diastolic function, ejection fraction, mitral, mitral valve, pericardial effusion, pulmonary valve, regurgitation, systolic function, tricuspid, tricuspid valve, normal lv</td>\n",
       "      <td>['cardiovascular / pulmonary', ' 2-d m-mode', ' doppler', ' aortic valve', ' atrial enlargement', ' diastolic function', ' ejection fraction', ' mitral', ' mitral valve', ' pericardial effusion', ' pulmonary valve', ' regurgitation', ' systolic function', ' tricuspid', ' tricuspid valve', ' normal lv ']</td>\n",
       "      <td>19</td>\n",
       "      <td>13</td>\n",
       "      <td>[('ventricle', 0.8142), ('regurgitation', 0.805), ('pericardial', 0.7968), ('tricuspid', 0.795), ('ventricular', 0.7899), ('diastolic', 0.7848), ('effusion', 0.7644), ('aortic', 0.7609), ('pa', 0.7583), ('lv', 0.7582), ('systolic', 0.7546), ('atrial', 0.7376), ('ejection', 0.7314)]</td>\n",
       "      <td>['ventricle', 'regurgitation', 'pericardial', 'tricuspid', 'ventricular', 'diastolic', 'effusion', 'aortic', 'pa', 'lv', 'systolic', 'atrial', 'ejection']</td>\n",
       "    </tr>\n",
       "    <tr>\n",
       "      <th>1</th>\n",
       "      <td>4</td>\n",
       "      <td>2-D Echocardiogram</td>\n",
       "      <td>Cardiovascular / Pulmonary</td>\n",
       "      <td>2-D Echocardiogram - 2</td>\n",
       "      <td>leave ventricular cavity size wall thickness normal wall motion leave ventricular systolic function appear hyperdynamic estimate ejection fraction near cavity obliteration see appear increase leave ventricular outflow tract gradient mid cavity level consistent hyperdynamic leave ventricular systolic function abnormal leave ventricular relaxation pattern see well elevate leave atrial pressure see doppler leave atrium appear mildly dilate right atrium right ventricle normal aortic root appear normal aortic va</td>\n",
       "      <td>cardiovascular / pulmonary, 2-d, doppler, echocardiogram, annular, aortic root, aortic valve, atrial, atrium, calcification, cavity, ejection fraction, mitral, obliteration, outflow, regurgitation, relaxation pattern, stenosis, systolic function, tricuspid, valve, ventricular, ventricular cavity, wall motion, pulmonary artery</td>\n",
       "      <td>['cardiovascular / pulmonary', ' 2-d', ' doppler', ' echocardiogram', ' annular', ' aortic root', ' aortic valve', ' atrial', ' atrium', ' calcification', ' cavity', ' ejection fraction', ' mitral', ' obliteration', ' outflow', ' regurgitation', ' relaxation pattern', ' stenosis', ' systolic function', ' tricuspid', ' valve', ' ventricular', ' ventricular cavity', ' wall motion', ' pulmonary artery']</td>\n",
       "      <td>26</td>\n",
       "      <td>18</td>\n",
       "      <td>[('ventricle', 0.8222), ('obliteration', 0.8123), ('ventricular', 0.8071), ('hyperdynamic', 0.8055), ('elevate', 0.7727), ('outflow', 0.7572), ('atrium', 0.755), ('atrial', 0.7542), ('aortic', 0.7446), ('va', 0.7355), ('dilate', 0.7345), ('doppler', 0.7303), ('systolic', 0.729), ('ejection', 0.7195), ('right', 0.6793), ('pressure', 0.6738), ('wall', 0.6532), ('function', 0.6395)]</td>\n",
       "      <td>['ventricle', 'obliteration', 'ventricular', 'hyperdynamic', 'elevate', 'outflow', 'atrium', 'atrial', 'aortic', 'va', 'dilate', 'doppler', 'systolic', 'ejection', 'right', 'pressure', 'wall', 'function']</td>\n",
       "    </tr>\n",
       "    <tr>\n",
       "      <th>2</th>\n",
       "      <td>7</td>\n",
       "      <td>2-D Echocardiogram</td>\n",
       "      <td>Cardiovascular / Pulmonary</td>\n",
       "      <td>2-D Echocardiogram - 3</td>\n",
       "      <td>echocardiogram multiple view heart great vessels normal intracardiac great vessel relationships cardiac function normal chamber enlargement hypertrophy pericardial effusion vegetations see doppler interrogation include color flow image reveal systemic venous return right atrium normal tricuspid inflow pulmonary outflow normal valve pulmonary venous return leave atrium interatrial septum intact mitral inflow ascend aorta flow normal aortic valve trileaflet coronary arteries normal origins aortic arch leave s</td>\n",
       "      <td>cardiovascular / pulmonary, 2-d echocardiogram, cardiac function, doppler, echocardiogram, multiple views, aortic valve, coronary arteries, descending aorta, great vessels, heart, hypertrophy, interatrial septum, intracardiac, pericardial effusion, tricuspid, vegetation, venous, pulmonaryNOTE,: Thesetranscribed medical transcription sample reports and examples are provided by various users andare for reference purpose only. MTHelpLine does not certify accuracy and quality of sample reports.These transcribed medical transcription sample reports may include some uncommon or unusual formats;this would be due to the preference of the dictating physician. All names and dates have beenchanged (or removed) to keep confidentiality. Any resemblance of any type of name or date orplace or anything else to real world is purely incidental.,</td>\n",
       "      <td>['cardiovascular / pulmonary', ' 2-d echocardiogram', ' cardiac function', ' doppler', ' echocardiogram', ' multiple views', ' aortic valve', ' coronary arteries', ' descending aorta', ' great vessels', ' heart', ' hypertrophy', ' interatrial septum', ' intracardiac', ' pericardial effusion', ' tricuspid', ' vegetation', ' venous', ' pulmonaryNOTE', ': Thesetranscribed medical transcription sample reports and examples are provided by various users andare for reference purpose only. MTHelpLine does not certify accuracy and quality of sample reports.These transcribed medical transcription sample reports may include some uncommon or unusual formats;this would be due to the preference of the dictating physician. All names and dates have beenchanged (or removed) to keep confidentiality. Any resemblance of any type of name or date orplace or anything else to real world is purely incidental.', '']</td>\n",
       "      <td>26</td>\n",
       "      <td>18</td>\n",
       "      <td>[('echocardiogram', 0.8317), ('intracardiac', 0.8292), ('trileaflet', 0.826), ('pericardial', 0.8069), ('coronary', 0.8039), ('interatrial', 0.7967), ('aorta', 0.7939), ('hypertrophy', 0.7921), ('tricuspid', 0.7757), ('septum', 0.7645), ('outflow', 0.7633), ('atrium', 0.7624), ('arteries', 0.7555), ('effusion', 0.7542), ('ascend', 0.748), ('venous', 0.7415), ('doppler', 0.7391), ('vegetations', 0.7351)]</td>\n",
       "      <td>['echocardiogram', 'intracardiac', 'trileaflet', 'pericardial', 'coronary', 'interatrial', 'aorta', 'hypertrophy', 'tricuspid', 'septum', 'outflow', 'atrium', 'arteries', 'effusion', 'ascend', 'venous', 'doppler', 'vegetations']</td>\n",
       "    </tr>\n",
       "    <tr>\n",
       "      <th>3</th>\n",
       "      <td>9</td>\n",
       "      <td>Echocardiogram and Doppler</td>\n",
       "      <td>Cardiovascular / Pulmonary</td>\n",
       "      <td>2-D Echocardiogram - 4</td>\n",
       "      <td>description normal cardiac chamber size normal leave ventricular size normal lv systolic function ejection fraction estimate around aortic valve see good motion mitral valve see good motion tricuspid valve see good motion pericardial effusion intracardiac mass doppler trace mitral regurgitation trace tricuspid regurgitation impression normal lv systolic function ejection fraction estimate around</td>\n",
       "      <td>cardiovascular / pulmonary, ejection fraction, lv systolic function, cardiac chambers, regurgitation, tricuspid, normal lv systolic function, normal lv systolic, ejection fraction estimated, normal lv, lv systolic, systolic function, function ejection, echocardiogram, doppler, lv, systolic, ejection, mitral, valve</td>\n",
       "      <td>['cardiovascular / pulmonary', ' ejection fraction', ' lv systolic function', ' cardiac chambers', ' regurgitation', ' tricuspid', ' normal lv systolic function', ' normal lv systolic', ' ejection fraction estimated', ' normal lv', ' lv systolic', ' systolic function', ' function ejection', ' echocardiogram', ' doppler', ' lv', ' systolic', ' ejection', ' mitral', ' valve']</td>\n",
       "      <td>20</td>\n",
       "      <td>14</td>\n",
       "      <td>[('intracardiac', 0.8333), ('pericardial', 0.8022), ('regurgitation', 0.7993), ('ventricular', 0.786), ('tricuspid', 0.7846), ('effusion', 0.7722), ('lv', 0.7541), ('aortic', 0.7533), ('ejection', 0.7364), ('doppler', 0.7337), ('systolic', 0.7333), ('mitral', 0.7102), ('function', 0.6573), ('mass', 0.6478)]</td>\n",
       "      <td>['intracardiac', 'pericardial', 'regurgitation', 'ventricular', 'tricuspid', 'effusion', 'lv', 'aortic', 'ejection', 'doppler', 'systolic', 'mitral', 'function', 'mass']</td>\n",
       "    </tr>\n",
       "    <tr>\n",
       "      <th>4</th>\n",
       "      <td>11</td>\n",
       "      <td>Normal left ventricle, moderate biatrial enlargement, and mild tricuspid regurgitation, but only mild increase in right heart pressures.</td>\n",
       "      <td>Cardiovascular / Pulmonary</td>\n",
       "      <td>2-D Doppler</td>\n",
       "      <td>study mild aortic stenosis widely calcify minimally restrict mild leave ventricular hypertrophy normal systolic function moderate biatrial enlargement normal right ventricle normal appearance tricuspid mitral valves normal leave ventricle leave ventricular systolic function doppler aortic regurgitation easily see aortic stenosis mild tricuspid regurgitation mild increase right heart pressure mmhg maximum summary normal leave ventricle moderate biatrial enlargement mild tricuspid regurgitation mild increase</td>\n",
       "      <td>cardiovascular / pulmonary, 2-d study, doppler, tricuspid regurgitation, heart pressures, stenosis, ventricular, heart, ventricle, tricuspid, regurgitation,</td>\n",
       "      <td>['cardiovascular / pulmonary', ' 2-d study', ' doppler', ' tricuspid regurgitation', ' heart pressures', ' stenosis', ' ventricular', ' heart', ' ventricle', ' tricuspid', ' regurgitation', '']</td>\n",
       "      <td>24</td>\n",
       "      <td>17</td>\n",
       "      <td>[('ventricle', 0.8089), ('regurgitation', 0.8038), ('stenosis', 0.7924), ('hypertrophy', 0.7919), ('ventricular', 0.7886), ('tricuspid', 0.774), ('biatrial', 0.772), ('aortic', 0.746), ('systolic', 0.7267), ('calcify', 0.7219), ('doppler', 0.7098), ('enlargement', 0.7079), ('mitral', 0.696), ('minimally', 0.6917), ('mmhg', 0.6631), ('right', 0.661), ('heart', 0.66)]</td>\n",
       "      <td>['ventricle', 'regurgitation', 'stenosis', 'hypertrophy', 'ventricular', 'tricuspid', 'biatrial', 'aortic', 'systolic', 'calcify', 'doppler', 'enlargement', 'mitral', 'minimally', 'mmhg', 'right', 'heart']</td>\n",
       "    </tr>\n",
       "  </tbody>\n",
       "</table>\n",
       "</div>"
      ],
      "text/plain": [
       "   Unnamed: 0  \\\n",
       "0  3            \n",
       "1  4            \n",
       "2  7            \n",
       "3  9            \n",
       "4  11           \n",
       "\n",
       "                                                                                                                                 description  \\\n",
       "0   2-D M-Mode. Doppler.                                                                                                                       \n",
       "1   2-D Echocardiogram                                                                                                                         \n",
       "2   2-D Echocardiogram                                                                                                                         \n",
       "3   Echocardiogram and Doppler                                                                                                                 \n",
       "4   Normal left ventricle, moderate biatrial enlargement, and mild tricuspid regurgitation, but only mild increase in right heart pressures.   \n",
       "\n",
       "             medical_specialty               sample_name  \\\n",
       "0   Cardiovascular / Pulmonary   2-D Echocardiogram - 1    \n",
       "1   Cardiovascular / Pulmonary   2-D Echocardiogram - 2    \n",
       "2   Cardiovascular / Pulmonary   2-D Echocardiogram - 3    \n",
       "3   Cardiovascular / Pulmonary   2-D Echocardiogram - 4    \n",
       "4   Cardiovascular / Pulmonary   2-D Doppler               \n",
       "\n",
       "                                                                                                                                                                                                                                                                                                                                                                                                                                                                                                                      transcription  \\\n",
       "0  mode leave atrial enlargement leave atrial diameter normal size right leave ventricle normal lv systolic function leave ventricular ejection fraction normal lv diastolic function pericardial effusion normal morphology aortic valve mitral valve tricuspid valve pulmonary valve pa systolic pressure mmhg doppler mild mitral tricuspid regurgitation trace aortic pulmonary regurgitation                                                                                                                                     \n",
       "1  leave ventricular cavity size wall thickness normal wall motion leave ventricular systolic function appear hyperdynamic estimate ejection fraction near cavity obliteration see appear increase leave ventricular outflow tract gradient mid cavity level consistent hyperdynamic leave ventricular systolic function abnormal leave ventricular relaxation pattern see well elevate leave atrial pressure see doppler leave atrium appear mildly dilate right atrium right ventricle normal aortic root appear normal aortic va   \n",
       "2  echocardiogram multiple view heart great vessels normal intracardiac great vessel relationships cardiac function normal chamber enlargement hypertrophy pericardial effusion vegetations see doppler interrogation include color flow image reveal systemic venous return right atrium normal tricuspid inflow pulmonary outflow normal valve pulmonary venous return leave atrium interatrial septum intact mitral inflow ascend aorta flow normal aortic valve trileaflet coronary arteries normal origins aortic arch leave s   \n",
       "3  description normal cardiac chamber size normal leave ventricular size normal lv systolic function ejection fraction estimate around aortic valve see good motion mitral valve see good motion tricuspid valve see good motion pericardial effusion intracardiac mass doppler trace mitral regurgitation trace tricuspid regurgitation impression normal lv systolic function ejection fraction estimate around                                                                                                                     \n",
       "4  study mild aortic stenosis widely calcify minimally restrict mild leave ventricular hypertrophy normal systolic function moderate biatrial enlargement normal right ventricle normal appearance tricuspid mitral valves normal leave ventricle leave ventricular systolic function doppler aortic regurgitation easily see aortic stenosis mild tricuspid regurgitation mild increase right heart pressure mmhg maximum summary normal leave ventricle moderate biatrial enlargement mild tricuspid regurgitation mild increase    \n",
       "\n",
       "                                                                                                                                                                                                                                                                                                                                                                                                                                                                                                                                                                                                                                                                                                                                                                                                                                                                  keywords  \\\n",
       "0  cardiovascular / pulmonary, 2-d m-mode, doppler, aortic valve, atrial enlargement, diastolic function, ejection fraction, mitral, mitral valve, pericardial effusion, pulmonary valve, regurgitation, systolic function, tricuspid, tricuspid valve, normal lv                                                                                                                                                                                                                                                                                                                                                                                                                                                                                                                                                                                                            \n",
       "1  cardiovascular / pulmonary, 2-d, doppler, echocardiogram, annular, aortic root, aortic valve, atrial, atrium, calcification, cavity, ejection fraction, mitral, obliteration, outflow, regurgitation, relaxation pattern, stenosis, systolic function, tricuspid, valve, ventricular, ventricular cavity, wall motion, pulmonary artery                                                                                                                                                                                                                                                                                                                                                                                                                                                                                                                                   \n",
       "2  cardiovascular / pulmonary, 2-d echocardiogram, cardiac function, doppler, echocardiogram, multiple views, aortic valve, coronary arteries, descending aorta, great vessels, heart, hypertrophy, interatrial septum, intracardiac, pericardial effusion, tricuspid, vegetation, venous, pulmonaryNOTE,: Thesetranscribed medical transcription sample reports and examples are provided by various users andare for reference purpose only. MTHelpLine does not certify accuracy and quality of sample reports.These transcribed medical transcription sample reports may include some uncommon or unusual formats;this would be due to the preference of the dictating physician. All names and dates have beenchanged (or removed) to keep confidentiality. Any resemblance of any type of name or date orplace or anything else to real world is purely incidental.,   \n",
       "3  cardiovascular / pulmonary, ejection fraction, lv systolic function, cardiac chambers, regurgitation, tricuspid, normal lv systolic function, normal lv systolic, ejection fraction estimated, normal lv, lv systolic, systolic function, function ejection, echocardiogram, doppler, lv, systolic, ejection, mitral, valve                                                                                                                                                                                                                                                                                                                                                                                                                                                                                                                                               \n",
       "4  cardiovascular / pulmonary, 2-d study, doppler, tricuspid regurgitation, heart pressures, stenosis, ventricular, heart, ventricle, tricuspid, regurgitation,                                                                                                                                                                                                                                                                                                                                                                                                                                                                                                                                                                                                                                                                                                              \n",
       "\n",
       "                                                                                                                                                                                                                                                                                                                                                                                                                                                                                                                                                                                                                                                                                                                                                                                                                                                                                                                             keywords_list  \\\n",
       "0  ['cardiovascular / pulmonary', ' 2-d m-mode', ' doppler', ' aortic valve', ' atrial enlargement', ' diastolic function', ' ejection fraction', ' mitral', ' mitral valve', ' pericardial effusion', ' pulmonary valve', ' regurgitation', ' systolic function', ' tricuspid', ' tricuspid valve', ' normal lv ']                                                                                                                                                                                                                                                                                                                                                                                                                                                                                                                                                                                                                          \n",
       "1  ['cardiovascular / pulmonary', ' 2-d', ' doppler', ' echocardiogram', ' annular', ' aortic root', ' aortic valve', ' atrial', ' atrium', ' calcification', ' cavity', ' ejection fraction', ' mitral', ' obliteration', ' outflow', ' regurgitation', ' relaxation pattern', ' stenosis', ' systolic function', ' tricuspid', ' valve', ' ventricular', ' ventricular cavity', ' wall motion', ' pulmonary artery']                                                                                                                                                                                                                                                                                                                                                                                                                                                                                                                       \n",
       "2  ['cardiovascular / pulmonary', ' 2-d echocardiogram', ' cardiac function', ' doppler', ' echocardiogram', ' multiple views', ' aortic valve', ' coronary arteries', ' descending aorta', ' great vessels', ' heart', ' hypertrophy', ' interatrial septum', ' intracardiac', ' pericardial effusion', ' tricuspid', ' vegetation', ' venous', ' pulmonaryNOTE', ': Thesetranscribed medical transcription sample reports and examples are provided by various users andare for reference purpose only. MTHelpLine does not certify accuracy and quality of sample reports.These transcribed medical transcription sample reports may include some uncommon or unusual formats;this would be due to the preference of the dictating physician. All names and dates have beenchanged (or removed) to keep confidentiality. Any resemblance of any type of name or date orplace or anything else to real world is purely incidental.', '']   \n",
       "3  ['cardiovascular / pulmonary', ' ejection fraction', ' lv systolic function', ' cardiac chambers', ' regurgitation', ' tricuspid', ' normal lv systolic function', ' normal lv systolic', ' ejection fraction estimated', ' normal lv', ' lv systolic', ' systolic function', ' function ejection', ' echocardiogram', ' doppler', ' lv', ' systolic', ' ejection', ' mitral', ' valve']                                                                                                                                                                                                                                                                                                                                                                                                                                                                                                                                                  \n",
       "4  ['cardiovascular / pulmonary', ' 2-d study', ' doppler', ' tricuspid regurgitation', ' heart pressures', ' stenosis', ' ventricular', ' heart', ' ventricle', ' tricuspid', ' regurgitation', '']                                                                                                                                                                                                                                                                                                                                                                                                                                                                                                                                                                                                                                                                                                                                         \n",
       "\n",
       "   nr_candidates  top_n  \\\n",
       "0  19             13      \n",
       "1  26             18      \n",
       "2  26             18      \n",
       "3  20             14      \n",
       "4  24             17      \n",
       "\n",
       "                                                                                                                                                                                                                                                                                                                                                                                              transcription_f_MLM_weights  \\\n",
       "0  [('ventricle', 0.8142), ('regurgitation', 0.805), ('pericardial', 0.7968), ('tricuspid', 0.795), ('ventricular', 0.7899), ('diastolic', 0.7848), ('effusion', 0.7644), ('aortic', 0.7609), ('pa', 0.7583), ('lv', 0.7582), ('systolic', 0.7546), ('atrial', 0.7376), ('ejection', 0.7314)]                                                                                                                               \n",
       "1  [('ventricle', 0.8222), ('obliteration', 0.8123), ('ventricular', 0.8071), ('hyperdynamic', 0.8055), ('elevate', 0.7727), ('outflow', 0.7572), ('atrium', 0.755), ('atrial', 0.7542), ('aortic', 0.7446), ('va', 0.7355), ('dilate', 0.7345), ('doppler', 0.7303), ('systolic', 0.729), ('ejection', 0.7195), ('right', 0.6793), ('pressure', 0.6738), ('wall', 0.6532), ('function', 0.6395)]                           \n",
       "2  [('echocardiogram', 0.8317), ('intracardiac', 0.8292), ('trileaflet', 0.826), ('pericardial', 0.8069), ('coronary', 0.8039), ('interatrial', 0.7967), ('aorta', 0.7939), ('hypertrophy', 0.7921), ('tricuspid', 0.7757), ('septum', 0.7645), ('outflow', 0.7633), ('atrium', 0.7624), ('arteries', 0.7555), ('effusion', 0.7542), ('ascend', 0.748), ('venous', 0.7415), ('doppler', 0.7391), ('vegetations', 0.7351)]   \n",
       "3  [('intracardiac', 0.8333), ('pericardial', 0.8022), ('regurgitation', 0.7993), ('ventricular', 0.786), ('tricuspid', 0.7846), ('effusion', 0.7722), ('lv', 0.7541), ('aortic', 0.7533), ('ejection', 0.7364), ('doppler', 0.7337), ('systolic', 0.7333), ('mitral', 0.7102), ('function', 0.6573), ('mass', 0.6478)]                                                                                                     \n",
       "4  [('ventricle', 0.8089), ('regurgitation', 0.8038), ('stenosis', 0.7924), ('hypertrophy', 0.7919), ('ventricular', 0.7886), ('tricuspid', 0.774), ('biatrial', 0.772), ('aortic', 0.746), ('systolic', 0.7267), ('calcify', 0.7219), ('doppler', 0.7098), ('enlargement', 0.7079), ('mitral', 0.696), ('minimally', 0.6917), ('mmhg', 0.6631), ('right', 0.661), ('heart', 0.66)]                                         \n",
       "\n",
       "                                                                                                                                                                                                                    transcription_f_MLM  \n",
       "0  ['ventricle', 'regurgitation', 'pericardial', 'tricuspid', 'ventricular', 'diastolic', 'effusion', 'aortic', 'pa', 'lv', 'systolic', 'atrial', 'ejection']                                                                            \n",
       "1  ['ventricle', 'obliteration', 'ventricular', 'hyperdynamic', 'elevate', 'outflow', 'atrium', 'atrial', 'aortic', 'va', 'dilate', 'doppler', 'systolic', 'ejection', 'right', 'pressure', 'wall', 'function']                          \n",
       "2  ['echocardiogram', 'intracardiac', 'trileaflet', 'pericardial', 'coronary', 'interatrial', 'aorta', 'hypertrophy', 'tricuspid', 'septum', 'outflow', 'atrium', 'arteries', 'effusion', 'ascend', 'venous', 'doppler', 'vegetations']  \n",
       "3  ['intracardiac', 'pericardial', 'regurgitation', 'ventricular', 'tricuspid', 'effusion', 'lv', 'aortic', 'ejection', 'doppler', 'systolic', 'mitral', 'function', 'mass']                                                             \n",
       "4  ['ventricle', 'regurgitation', 'stenosis', 'hypertrophy', 'ventricular', 'tricuspid', 'biatrial', 'aortic', 'systolic', 'calcify', 'doppler', 'enlargement', 'mitral', 'minimally', 'mmhg', 'right', 'heart']                         "
      ]
     },
     "execution_count": 9,
     "metadata": {},
     "output_type": "execute_result"
    }
   ],
   "source": [
    "import pandas as pd\n",
    "df = pd.read_csv('data/processed/nlp/mtsamples/mtsamples_MLM.csv')\n",
    "pd.set_option('display.max_colwidth', -1)\n",
    "df.head()"
   ]
  },
  {
   "cell_type": "code",
   "execution_count": 7,
   "id": "37732c72",
   "metadata": {},
   "outputs": [
    {
     "data": {
      "text/plain": [
       "(3010, 11)"
      ]
     },
     "execution_count": 7,
     "metadata": {},
     "output_type": "execute_result"
    }
   ],
   "source": [
    "#size of the dataset\n",
    "df.shape"
   ]
  },
  {
   "cell_type": "code",
   "execution_count": null,
   "id": "0b5f885b",
   "metadata": {},
   "outputs": [],
   "source": [
    "from transformers import AutoTokenizer, pipeline\n",
    "import os\n",
    "\n",
    "MODEL_MLM_DIR_MT = os.path.join(\"models\", \"nlp\", \"maskedlanguagemodel_Mtsamples\", \"model\")\n",
    "model = MODEL_MLM_DIR_MT"
   ]
  },
  {
   "cell_type": "code",
   "execution_count": null,
   "id": "31f17fe3",
   "metadata": {},
   "outputs": [],
   "source": [
    "from keybert import KeyBERT"
   ]
  },
  {
   "cell_type": "code",
   "execution_count": null,
   "id": "ceba032e",
   "metadata": {},
   "outputs": [],
   "source": [
    "doc1 = \"\"\"\n",
    "         Supervised learning is the machine learning task of learning a function that\n",
    "         maps an input to an output based on example input-output pairs. It infers a\n",
    "         function from labeled training data consisting of a set of training examples.\n",
    "         In supervised learning, each example is a pair consisting of an input object\n",
    "         (typically a vector) and a desired output value (also called the supervisory signal). \n",
    "         A supervised learning algorithm analyzes the training data and produces an inferred function, \n",
    "         which can be used for mapping new examples. An optimal scenario will allow for the \n",
    "         algorithm to correctly determine the class labels for unseen instances. This requires \n",
    "         the learning algorithm to generalize from the training data to unseen situations in a \n",
    "         'reasonable' way (see inductive bias).\n",
    "    \"\"\""
   ]
  },
  {
   "cell_type": "code",
   "execution_count": null,
   "id": "525cf5ef",
   "metadata": {},
   "outputs": [],
   "source": [
    "df = pd.DataFrame(\n",
    "    [[doc1, 20, 10], [doc1, 15, 8], [doc1, 10, 5], [doc1, 10, 5], [doc1, 10, 5]],\n",
    "    columns=[\"transcription\", \"cand\", \"top\"],\n",
    ")\n",
    "df.head()\n"
   ]
  },
  {
   "cell_type": "code",
   "execution_count": null,
   "id": "149574ae-01bb-434d-b4c2-5f0e306b5458",
   "metadata": {},
   "outputs": [],
   "source": [
    "kw_model = KeyBERT(model=model)\n",
    "\n",
    "for doc in [doc1, doc1, doc1, doc1, doc1]:\n",
    "    keywords = kw_model.extract_keywords(\n",
    "        doc,\n",
    "        keyphrase_ngram_range=(1, 2),\n",
    "        stop_words=\"english\",\n",
    "        use_maxsum=True,\n",
    "        nr_candidates=20,\n",
    "        top_n=10,\n",
    "        use_mmr=True,\n",
    "        diversity=0.5,\n",
    "    )\n",
    "    print(keywords)\n"
   ]
  },
  {
   "cell_type": "code",
   "execution_count": null,
   "id": "8ed12fa8",
   "metadata": {},
   "outputs": [],
   "source": [
    "def extract_keywords(docs, nr_candidates, top_n):\n",
    "\n",
    "    keywords = kw_model.extract_keywords(\n",
    "        docs,\n",
    "        keyphrase_ngram_range=(1, 2),\n",
    "        stop_words=\"english\",\n",
    "        use_maxsum=True,\n",
    "        nr_candidates=nr_candidates,\n",
    "        top_n=max(top_n),\n",
    "        use_mmr=True,\n",
    "        diversity=0.5,\n",
    "    )\n",
    "\n",
    "    return keywords\n",
    "    \n",
    "df[\"keywords\"] = extract_keywords(df[\"transcription\"], df[\"cand\"], df[\"top\"])"
   ]
  },
  {
   "cell_type": "code",
   "execution_count": null,
   "id": "e2304fb2",
   "metadata": {},
   "outputs": [],
   "source": [
    "df.head()"
   ]
  },
  {
   "cell_type": "code",
   "execution_count": null,
   "id": "a03a74f9",
   "metadata": {},
   "outputs": [],
   "source": [
    "df.keywords = df.apply(lambda x: x[\"keywords\"][:x[\"top\"]], axis=1)\n",
    "df.keywords[1]"
   ]
  },
  {
   "cell_type": "code",
   "execution_count": null,
   "id": "6a19cd00",
   "metadata": {},
   "outputs": [],
   "source": [
    "[\n",
    "    (\"way inductive\", 0.8061),\n",
    "    (\"called supervisory\", 0.7575),\n",
    "    (\"analyzes training\", 0.7573),\n",
    "    (\"consisting set\", 0.7301),\n",
    "    (\"correctly determine\", 0.7272),\n",
    "]\n"
   ]
  },
  {
   "cell_type": "code",
   "execution_count": null,
   "id": "829a226e",
   "metadata": {},
   "outputs": [],
   "source": [
    "#17.7\n",
    "# ohne diversity: 11.7"
   ]
  },
  {
   "cell_type": "code",
   "execution_count": null,
   "id": "559acfb4",
   "metadata": {},
   "outputs": [],
   "source": [
    "import pandas as pd\n",
    "\n",
    "df = pd.DataFrame([[1,2,3,4], [5,6,7,8], [9,10,11,12]], columns=['a', 'b', 'c', 'd'])\n",
    "df2 = pd.DataFrame([[1,2,3,5], [5,6,7,9], [9,10,11,13]], columns=['a', 'b', 'c', 'e'])"
   ]
  },
  {
   "cell_type": "code",
   "execution_count": null,
   "id": "f127feb9",
   "metadata": {},
   "outputs": [],
   "source": [
    "df"
   ]
  },
  {
   "cell_type": "code",
   "execution_count": null,
   "id": "de344915",
   "metadata": {},
   "outputs": [],
   "source": [
    "df2"
   ]
  },
  {
   "cell_type": "code",
   "execution_count": null,
   "id": "0c96e946",
   "metadata": {},
   "outputs": [],
   "source": [
    "pd.concat([df, df2], axis=1)"
   ]
  },
  {
   "cell_type": "code",
   "execution_count": null,
   "id": "fa902ed6",
   "metadata": {},
   "outputs": [],
   "source": []
  },
  {
   "cell_type": "markdown",
   "id": "90101f03",
   "metadata": {},
   "source": [
    "# Model Evaluation"
   ]
  },
  {
   "cell_type": "markdown",
   "id": "a0d19229",
   "metadata": {},
   "source": [
    "## Introduction"
   ]
  },
  {
   "cell_type": "markdown",
   "id": "51a35b62",
   "metadata": {},
   "source": [
    "In this notebook, we will evaluate the performance of the model we trained in the previous notebook. We will use the test dataset to evaluate the model. The test dataset is a set of images that the model has never seen before. This will give us an indication of how the model will perform with images that it has never seen before."
   ]
  }
 ],
 "metadata": {
  "kernelspec": {
   "display_name": "Python 3.10.4 ('nlp_masterthesis')",
   "language": "python",
   "name": "python3"
  },
  "language_info": {
   "codemirror_mode": {
    "name": "ipython",
    "version": 3
   },
   "file_extension": ".py",
   "mimetype": "text/x-python",
   "name": "python",
   "nbconvert_exporter": "python",
   "pygments_lexer": "ipython3",
   "version": "3.10.4"
  },
  "vscode": {
   "interpreter": {
    "hash": "e008ba518fc94ce1407a9eb93057d27eeafd2dad53a3852a13fd11c85bd39236"
   }
  }
 },
 "nbformat": 4,
 "nbformat_minor": 5
}
