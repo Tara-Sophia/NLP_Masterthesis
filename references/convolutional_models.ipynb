{
 "cells": [
  {
   "cell_type": "markdown",
   "metadata": {},
   "source": [
    "# Convolutional Neural Networks¶"
   ]
  },
  {
   "cell_type": "markdown",
   "metadata": {},
   "source": [
    "Convolutional neural networks (CNNs) are a class of deep neural networks, most commonly applied to analyzing visual imagery. They are also known as shift invariant or space invariant artificial neural networks (SIANN), based on their shared-weights architecture and translation invariance characteristics. They have applications in image and video recognition, recommender systems, image classification, medical image analysis, natural language processing, and financial time series.\n",
    "\n",
    "The typical structure of a CNN consists of an input and an output layer, as well as multiple hidden layers. The hidden layers of a CNN typically consist of convolutional layers, pooling layers, fully connected layers, and normalization layers. A convolutional layer consists of a set of learnable filters. During the forward pass, a filter is slid across the width and height of an input volume, computing the dot product between the entries of the filter and the input at any position to produce a 2-dimensional activation map. The collection of these activation maps is the output of the convolutional layer. A pooling layer is a downsampling operation, usually applied after a convolutional layer to reduce the dimensionality of the output volume. A pooling layer acts as a sort of non-linear downsampling operation, in which the maximum or average value of several input values is taken, thereby reducing the dimensionality of the input. A fully connected layer is a regular layer in a neural network that has all of its neurons connected to all neurons in the next layer. In a CNN, fully connected layers are usually found towards the end of the network, and are used to transform the final feature representations into outputs, e.g. class scores. The normalization layer is used to normalize the output of the previous layer. This means that the output of the normalization layer is a vector of values that sum to 1, which is useful for classification tasks.\n",
    "\n",
    "The forward pass is the process of computing the output of a neural network for a given input. In a CNN, the forward pass consists of applying a series of differentiable functions to the input. The forward pass is usually computed during training, when a loss function is computed based on the network output and the desired output, and the gradients of the loss function with respect to the network parameters are computed. The backward pass is the process of computing the gradient of the loss function with respect to each of the parameters of the network. The backward pass is usually computed during training, and the gradients are used to update the network parameters."
   ]
  },
  {
   "cell_type": "markdown",
   "metadata": {},
   "source": [
    "What are the hidden layers of a CNN?\n",
    "- convolutional layers\n",
    "- pooling layers\n",
    "- fully connected layers"
   ]
  },
  {
   "cell_type": "markdown",
   "metadata": {},
   "source": [
    "How is a Convolutional Network built with references to papers?\n",
    "\n",
    "A Convolutional Network is built by combining a series of convolutional layers with a series of pooling layers. The convolutional layers are responsible for extracting features from the input data, while the pooling layers are responsible for reducing the dimensionality of the data."
   ]
  },
  {
   "cell_type": "markdown",
   "metadata": {},
   "source": [
    "Write an academic thesis in 500 words about the architecture of convolutional neural networks and add scientific references and citations inside the text.\n",
    "\n",
    "A convolutional neural network (CNN) is a type of neural network that is generally used in image recognition and classification. CNNs are similar to other types of neural networks but they have a certain type of layer called a convolutional layer. In a convolutional layer, the nodes are not fully connected like they are in a traditional neural network. Instead, they are only connected to a small region of the previous layer. This helps to reduce the number of parameters that need to be learned and also helps to improve the generalization of the network.\n",
    "\n",
    "CNNs have been shown to be very successful in a variety of tasks such as image classification, object detection, and face recognition. The success of CNNs is largely due to their ability to learn features automatically from data. For example, when a CNN is trained on a dataset of images, it can learn to detect edges, corners, and other important features. This means that the CNN can be used on new data without needing to be specifically trained on that data.\n",
    "\n",
    "There are a few different types of layers that are commonly used in CNNs. The first layer is the convolutional layer as mentioned before. The second layer is the pooling layer. The pooling layer is used to reduce the size of the input data. This is important because it helps to reduce the computational cost of the network and also helps to prevent overfitting. The last layer is the fully connected layer. This layer is used to map the features learned by the CNN to the desired output.\n",
    "\n",
    "CNNs have been shown to be very successful in many applications. However, there are still some limitations. One of the biggest limitations is that CNNs require a lot of data to train. This can be a problem when trying to train a CNN on a small dataset. Another limitation is that CNNs can be difficult to train. This is because the training process can be very sensitive to the initial conditions. This means that it can be difficult to get a CNN to converge to a good solution.\n",
    "\n",
    "Despite these limitations, CNNs have been shown to be very successful in many tasks. They are a powerful tool for image recognition and classification."
   ]
  },
  {
   "cell_type": "markdown",
   "metadata": {},
   "source": [
    "\n",
    "Convolutional neural networks are a type of neural network that are commonly used in computer vision tasks. They are made up of a series of layers, where each layer is made up of a series of convolutional filters. These filters are used to extract features from the input data, and the output of each layer is fed into the next layer. The final layer is a fully connected layer, which is used to make predictions based on the extracted features.\n",
    "\n",
    "Convolutional neural networks have been shown to be effective at many computer vision tasks, such as object detection and image classification. One reason for their success is that they are able to learn features from data that is spatially arranged in a way that is similar to how the human visual system works. Additionally, convolutional neural networks are able to learn features that are invariant to translation, meaning that they can recognize an object even if it is moved around in the image.\n",
    "\n",
    "There are many different types of convolutional neural networks, and the architecture of each network depends on the task it is being used for. For example, networks that are used for image classification often have a series of convolutional layers followed by a pooling layer, which is used to reduce the dimensionality of the data. Other types of convolutional neural networks may include additional layers, such as recurrent layers or embedding layers.\n",
    "\n",
    "References:\n",
    "\n",
    "Krizhevsky, A., Sutskever, I., & Hinton, G. E. (2012). ImageNet classification with deep convolutional neural networks. In Advances in neural information processing systems (pp. 1097-1105).\n",
    "\n",
    "LeCun, Y., Bengio, Y., & Hinton, G. (2015). Deep learning. Nature, 521(7553), 436-444."
   ]
  },
  {
   "cell_type": "markdown",
   "metadata": {},
   "source": [
    "### Made with Copilot"
   ]
  },
  {
   "cell_type": "markdown",
   "metadata": {},
   "source": [
    "### Explaining convolutional neural networks"
   ]
  },
  {
   "cell_type": "markdown",
   "metadata": {},
   "source": [
    "#### What is a convolutional layer?"
   ]
  },
  {
   "cell_type": "markdown",
   "metadata": {},
   "source": [
    "A convolutional layer is a layer in a neural network that is used to extract features from the input data. The convolutional layer is made up of a series of filters, which are used to extract features from the input data. The output of the convolutional layer is fed into the next layer in the network.\n",
    "Citations:\n",
    "Krizhevsky, A., Sutskever, I., & Hinton, G. E. (2012). ImageNet classification with deep convolutional neural networks. In Advances in neural information processing systems (pp. 1097-1105)."
   ]
  },
  {
   "cell_type": "markdown",
   "metadata": {},
   "source": [
    "#### What is a pooling layer?"
   ]
  },
  {
   "cell_type": "markdown",
   "metadata": {},
   "source": [
    "A pooling layer is a layer in a neural network that is used to reduce the dimensionality of the input data. The pooling layer is used to reduce the dimensionality of the input data, which helps to reduce the computational cost of the network and also helps to prevent overfitting.\n",
    "Citations: LeCun, Y., Bengio, Y., & Hinton, G. (2015). Deep learning. Nature, 521(7553), 436-444."
   ]
  },
  {
   "cell_type": "markdown",
   "metadata": {},
   "source": [
    "#### What is a fully connected layer?"
   ]
  },
  {
   "cell_type": "markdown",
   "metadata": {},
   "source": [
    "A fully connected layer is a layer in a neural network that is used to map the features learned by the convolutional layers to the desired output. The fully connected layer is used to map the features learned by the convolutional layers to the desired output.\n",
    "\n",
    "References: \n",
    "- LeCun, Y., Bengio, Y., & Hinton, G. (2015). Deep learning. Nature, 521(7553), 436-444.\n",
    "- Krizhevsky, A., Sutskever, I., & Hinton, G. E. (2012). ImageNet classification with deep convolutional neural networks. In Advances in neural information processing systems (pp. 1097-1105).\n"
   ]
  },
  {
   "cell_type": "markdown",
   "metadata": {},
   "source": [
    "#### What is non-linearity layer?"
   ]
  },
  {
   "cell_type": "markdown",
   "metadata": {},
   "source": [
    "A non-linearity layer is a layer in a neural network that is used to introduce non-linearity into the network. The non-linearity layer is used to introduce non-linearity into the network, which helps to improve the performance of the network. It improves the performance of the network by allowing the network to learn more complex functions.\n",
    "Citations: LeCun, Y., Bengio, Y., & Hinton, G. (2015). Deep learning. Nature, 521(7553), 436-444."
   ]
  },
  {
   "cell_type": "markdown",
   "metadata": {},
   "source": []
  }
 ],
 "metadata": {
  "kernelspec": {
   "display_name": "Python 3.10.6 ('nlp_masterthesis')",
   "language": "python",
   "name": "python3"
  },
  "language_info": {
   "name": "python",
   "version": "3.10.6"
  },
  "orig_nbformat": 4,
  "vscode": {
   "interpreter": {
    "hash": "40268d9a6ead8a84520c08d0b901e046bd2176336d854cc732bdbdbf7245879e"
   }
  }
 },
 "nbformat": 4,
 "nbformat_minor": 2
}
