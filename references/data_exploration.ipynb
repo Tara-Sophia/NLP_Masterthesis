{
 "cells": [
  {
   "cell_type": "markdown",
   "metadata": {},
   "source": [
    "# Data exploration"
   ]
  },
  {
   "cell_type": "markdown",
   "metadata": {},
   "source": [
    "A good data exploration should contain the following steps:\n",
    "1. Data cleaning\n",
    "2. Data visualization\n",
    "3. Data analysis"
   ]
  },
  {
   "cell_type": "markdown",
   "metadata": {},
   "source": [
    "The Medical Speech, Transcription, and Intent dataset on Kaggle can be explored in the following ways:\n",
    "1. Data cleaning\n",
    "    - Check for missing values\n",
    "    - Check for duplicates\n",
    "    - Check for outliers\n",
    "    - Check for class imbalance\n",
    "2. Data visualization\n",
    "    - Distribution of the data\n",
    "    - Distribution of the classes\n",
    "    - Distribution of the words\n",
    "    - Distribution of the characters\n",
    "    - Distribution of the sentences\n",
    "3. Data analysis\n",
    "    - Distribution of the words\n",
    "    - Distribution of the characters\n",
    "    - Distribution of the sentences"
   ]
  },
  {
   "cell_type": "markdown",
   "metadata": {},
   "source": [
    "Introduction to data anylysis\n",
    "\n",
    "The data analysis is a process of inspecting, cleansing, transforming, and modeling data with the goal of discovering useful information, suggesting conclusions, and supporting decision-making. Data analysis has multiple facets and approaches, encompassing diverse techniques under a variety of names, and is used in different business, science, and social science domains. In today's business world, data analysis plays a role in making decisions more scientific and helping businesses operate more effectively. The analysis of the medical speech, transcription, and intent dataset on Kaggle is split between the analysis of the meta data and the analysis of the audio data. Since the prompt of the competition is to predict the intent of the audio, the analysis of the audio data is more important than the analysis of the meta data. Nonetheless, the analysis of the meta data is still important to understand the data and to get a better understanding of the audio data. In addition to understand how to fine-tune the model and why the model is behaving in a certain way. The prompt feature is the target variable of the dataset containg the transcription of the audio. This feature consists of ...\n"
   ]
  },
  {
   "cell_type": "markdown",
   "metadata": {},
   "source": [
    "# Introduction to methodology of scientific research paper"
   ]
  },
  {
   "cell_type": "markdown",
   "metadata": {},
   "source": [
    "In this section, the methodology of scientific research paper is introduced. The methodology of scientific research paper is the process used to collect information and data for the research paper. The methodology of scientific research paper is divided into the following steps:\n",
    "\n",
    "It is important to understand the methodology of scientific research paper to understand the process of the research paper. The methodology of scientific research paper is the process used to collect information and data for the research paper. The methodology of scientific research paper is divided into the following steps:"
   ]
  }
 ],
 "metadata": {
  "kernelspec": {
   "display_name": "Python 3.10.6 ('nlp_masterthesis')",
   "language": "python",
   "name": "python3"
  },
  "language_info": {
   "name": "python",
   "version": "3.10.6"
  },
  "orig_nbformat": 4,
  "vscode": {
   "interpreter": {
    "hash": "40268d9a6ead8a84520c08d0b901e046bd2176336d854cc732bdbdbf7245879e"
   }
  }
 },
 "nbformat": 4,
 "nbformat_minor": 2
}
